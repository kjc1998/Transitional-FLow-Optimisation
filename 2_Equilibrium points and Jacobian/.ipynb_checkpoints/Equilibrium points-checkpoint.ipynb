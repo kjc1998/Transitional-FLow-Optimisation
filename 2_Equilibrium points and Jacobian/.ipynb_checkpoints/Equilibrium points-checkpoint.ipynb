{
 "cells": [
  {
   "cell_type": "code",
   "execution_count": 1,
   "metadata": {},
   "outputs": [
    {
     "name": "stderr",
     "output_type": "stream",
     "text": [
      "┌ Info: Recompiling stale cache file C:\\Users\\Kaijie\\.julia\\compiled\\v1.2\\ToySystems\\chsON.ji for ToySystems [53c88820-6eff-5a8c-9a74-badd815e7be1]\n",
      "└ @ Base loading.jl:1240\n",
      "┌ Warning: Package ToySystems does not have Flows in its dependencies:\n",
      "│ - If you have ToySystems checked out for development and have\n",
      "│   added Flows as a dependency but haven't updated your primary\n",
      "│   environment's manifest file, try `Pkg.resolve()`.\n",
      "│ - Otherwise you may need to report an issue with ToySystems\n",
      "└ Loading Flows into ToySystems from project dependency, future warnings for ToySystems are suppressed.\n",
      "┌ Info: Recompiling stale cache file C:\\Users\\Kaijie\\.julia\\compiled\\v1.2\\NLsolve\\KFCNP.ji for NLsolve [2774e3e8-f4cf-5e23-947b-6d7e65073b56]\n",
      "└ @ Base loading.jl:1240\n"
     ]
    },
    {
     "data": {
      "text/html": [
       "<script>\n",
       "// Immediately-invoked-function-expression to avoid global variables.\n",
       "(function() {\n",
       "    var warning_div = document.getElementById(\"webio-warning-3697446873955285771\");\n",
       "    var hide = function () {\n",
       "        var script = document.getElementById(\"webio-setup-15805715192909379232\");\n",
       "        var parent = script && script.parentElement;\n",
       "        var grandparent = parent && parent.parentElement;\n",
       "        if (grandparent) {\n",
       "            grandparent.style.display = \"none\";\n",
       "        }\n",
       "        warning_div.style.display = \"none\";\n",
       "    };\n",
       "    if (typeof Jupyter !== \"undefined\") {\n",
       "        console.log(\"WebIO detected Jupyter notebook environment.\");\n",
       "        // Jupyter notebook.\n",
       "        var extensions = (\n",
       "            Jupyter\n",
       "            && Jupyter.notebook.config.data\n",
       "            && Jupyter.notebook.config.data.load_extensions\n",
       "        );\n",
       "        if (extensions && extensions[\"webio-jupyter-notebook\"]) {\n",
       "            // Extension already loaded.\n",
       "            console.log(\"Jupyter WebIO nbextension detected; not loading ad-hoc.\");\n",
       "            hide();\n",
       "            return;\n",
       "        }\n",
       "    } else if (window.location.pathname.includes(\"/lab\")) {\n",
       "        // Guessing JupyterLa\n",
       "        console.log(\"Jupyter Lab detected; make sure the @webio/jupyter-lab-provider labextension is installed.\");\n",
       "        hide();\n",
       "        return;\n",
       "    }\n",
       "})();\n",
       "\n",
       "</script>\n",
       "<p\n",
       "    id=\"webio-warning-3697446873955285771\"\n",
       "    class=\"output_text output_stderr\"\n",
       "    style=\"padding: 1em; font-weight: bold;\"\n",
       ">\n",
       "    Unable to load WebIO. Please make sure WebIO works for your Jupyter client.\n",
       "    For troubleshooting, please see <a href=\"https://juliagizmos.github.io/WebIO.jl/latest/providers/ijulia/\">\n",
       "    the WebIO/IJulia documentation</a>.\n",
       "    <!-- TODO: link to installation docs. -->\n",
       "</p>\n"
      ],
      "text/plain": [
       "HTML{String}(\"<script>\\n// Immediately-invoked-function-expression to avoid global variables.\\n(function() {\\n    var warning_div = document.getElementById(\\\"webio-warning-3697446873955285771\\\");\\n    var hide = function () {\\n        var script = document.getElementById(\\\"webio-setup-15805715192909379232\\\");\\n        var parent = script && script.parentElement;\\n        var grandparent = parent && parent.parentElement;\\n        if (grandparent) {\\n            grandparent.style.display = \\\"none\\\";\\n        }\\n        warning_div.style.display = \\\"none\\\";\\n    };\\n    if (typeof Jupyter !== \\\"undefined\\\") {\\n        console.log(\\\"WebIO detected Jupyter notebook environment.\\\");\\n        // Jupyter notebook.\\n        var extensions = (\\n            Jupyter\\n            && Jupyter.notebook.config.data\\n            && Jupyter.notebook.config.data.load_extensions\\n        );\\n        if (extensions && extensions[\\\"webio-jupyter-notebook\\\"]) {\\n            // Extension already loaded.\\n            console.log(\\\"Jupyter WebIO nbextension detected; not loading ad-hoc.\\\");\\n            hide();\\n            return;\\n        }\\n    } else if (window.location.pathname.includes(\\\"/lab\\\")) {\\n        // Guessing JupyterLa\\n        console.log(\\\"Jupyter Lab detected; make sure the @webio/jupyter-lab-provider labextension is installed.\\\");\\n        hide();\\n        return;\\n    }\\n})();\\n\\n</script>\\n<p\\n    id=\\\"webio-warning-3697446873955285771\\\"\\n    class=\\\"output_text output_stderr\\\"\\n    style=\\\"padding: 1em; font-weight: bold;\\\"\\n>\\n    Unable to load WebIO. Please make sure WebIO works for your Jupyter client.\\n    For troubleshooting, please see <a href=\\\"https://juliagizmos.github.io/WebIO.jl/latest/providers/ijulia/\\\">\\n    the WebIO/IJulia documentation</a>.\\n    <!-- TODO: link to installation docs. -->\\n</p>\\n\")"
      ]
     },
     "metadata": {},
     "output_type": "display_data"
    }
   ],
   "source": [
    "using Flows\n",
    "using ToySystems\n",
    "using ToySystems.NineModeSystemEq\n",
    "using Optim\n",
    "using PyPlot; pygui(true)\n",
    "using NLsolve\n",
    "using LinearAlgebra\n",
    "include(\"9msctrl.jl\")\n",
    "include(\"Initial condition variation.jl\")\n",
    "include(\"Perturbation time.jl\")\n",
    "include(\"Contour Plots.jl\")\n",
    "import LinearAlgebra: norm\n",
    "using Plotly"
   ]
  },
  {
   "cell_type": "code",
   "execution_count": 2,
   "metadata": {},
   "outputs": [
    {
     "data": {
      "text/plain": [
       "1.9280563011157998"
      ]
     },
     "execution_count": 2,
     "metadata": {},
     "output_type": "execute_result"
    }
   ],
   "source": [
    "Re = 100\n",
    "\n",
    "Lx = 4π\n",
    "Lz = 2π\n",
    "\n",
    "cα = 2π/Lx\n",
    "cβ = π/2\n",
    "cγ = 2π/Lz\n",
    "cβcβ = cβ*cβ\n",
    "cβcγ = cβ*cγ\n",
    "cαcα = cα*cα\n",
    "cγcγ = cγ*cγ\n",
    "cαcβcγ = cα*cβcγ\n",
    "sqrt23 = sqrt(2/3)\n",
    "sqrt32 = sqrt(3/2)\n",
    "sqrt6 = sqrt(6)\n",
    "sqrtcβcβpluscγcγ = sqrt(cβcβ + cγcγ)\n",
    "sqrtcαcαpluscγcγ = sqrt(cαcα + cγcγ)\n",
    "sqrtcαcαpluscβcβpluscγcγ = sqrt(cαcα + cβcβ + cγcγ)"
   ]
  },
  {
   "cell_type": "code",
   "execution_count": 3,
   "metadata": {},
   "outputs": [
    {
     "data": {
      "text/plain": [
       "f! (generic function with 1 method)"
      ]
     },
     "execution_count": 3,
     "metadata": {},
     "output_type": "execute_result"
    }
   ],
   "source": [
    "function f!(F, u)\n",
    "    F[1] = cβcβ/Re - (cβcβ*u[1])/Re + (sqrt32*cβcγ*u[2]*u[3])/sqrtcβcβpluscγcγ- (sqrt32*cβcγ*u[6]*u[8])/sqrtcαcαpluscβcβpluscγcγ\n",
    "    F[2] = -((((4*cβcβ)/3 + cγcγ)*u[2])/Re) + (5*sqrt23*cγcγ*u[4]*u[6])/(3*sqrtcαcαpluscγcγ) - (cγcγ*u[5]*u[7])/(sqrt6*sqrtcαcαpluscγcγ) - (cαcβcγ*u[5]*u[8])/(sqrt6*sqrtcαcαpluscγcγ*sqrtcαcαpluscβcβpluscγcγ) - (sqrt32*cβcγ*(u[1]*u[3] + u[3]*u[9]))/sqrtcβcβpluscγcγ\n",
    "    F[3] = -(((cβcβ + cγcγ)*u[3])/Re) + (sqrt23*cαcβcγ*(u[5]*u[6] + u[4]*u[7]))/(sqrtcαcαpluscγcγ*sqrtcβcβpluscγcγ) + ((-3*cγcγ*(cαcα + cγcγ) + cβcβ*(3*cαcα + cγcγ))*u[4]*u[8])/(sqrt6*sqrtcαcαpluscγcγ*sqrtcβcβpluscγcγ*sqrtcαcαpluscβcβpluscγcγ)\n",
    "    F[4] = -((3*cαcα + 4*cβcβ)*u[4])/(3*Re) - (cα*u[1]*u[5])/sqrt6 - (5*sqrt23*cαcα*u[2]*u[6])/(3*sqrtcαcαpluscγcγ) - (sqrt32*cαcβcγ*u[3]*u[7])/(sqrtcαcαpluscγcγ*sqrtcβcβpluscγcγ) - (sqrt32*cαcα*cβcβ*u[3]*u[8])/(sqrtcαcαpluscγcγ*sqrtcβcβpluscγcγ*sqrtcαcαpluscβcβpluscγcγ) - (cα*u[5]*u[9])/sqrt6\n",
    "    F[5] = (cα*u[1]*u[4])/sqrt6 - ((cαcα + cβcβ)*u[5])/Re + (sqrt23*cαcβcγ*u[3]*u[6])/(sqrtcαcαpluscγcγ*sqrtcβcβpluscγcγ) +    (cαcα*u[2]*u[7])/(sqrt6*sqrtcαcαpluscγcγ) - (cαcβcγ*u[2]*u[8])/(sqrt6*sqrtcαcαpluscγcγ*sqrtcαcαpluscβcβpluscγcγ) + (cα*u[4]*u[9])/sqrt6\n",
    "    F[6] = (5*sqrt23*(cαcα - cγcγ)*u[2]*u[4])/(3*sqrtcαcαpluscγcγ) - (2*sqrt23*cαcβcγ*u[3]*u[5])/(sqrtcαcαpluscγcγ*sqrtcβcβpluscγcγ) - ((3*cαcα + 4*cβcβ + 3*cγcγ)*u[6])/(3*Re) + (cα*u[1]*u[7])/sqrt6 + (sqrt32*cβcγ*u[1]*u[8])/sqrtcαcαpluscβcβpluscγcγ + (cα*u[7]*u[9])/sqrt6 + (sqrt32*cβcγ*u[8]*u[9])/sqrtcαcαpluscβcβpluscγcγ\n",
    "    F[7] = (cαcβcγ*u[3]*u[4])/(sqrt6*sqrtcαcαpluscγcγ*sqrtcβcβpluscγcγ) + ((-cαcα + cγcγ)*u[2]*u[5])/(sqrt6*sqrtcαcαpluscγcγ) - (cα*u[1]*u[6])/sqrt6 - ((cαcα + cβcβ + cγcγ)*u[7])/Re - (cα*u[6]*u[9])/sqrt6\n",
    "    F[8] = (cγcγ*(3*cαcα - cβcβ + 3*cγcγ)*u[3]*u[4])/(sqrt6*sqrtcαcαpluscγcγ*sqrtcβcβpluscγcγ*sqrtcαcαpluscβcβpluscγcγ) + (sqrt23*cαcβcγ*u[2]*u[5])/(sqrtcαcαpluscγcγ*sqrtcαcαpluscβcβpluscγcγ) - ((cαcα + cβcβ + cγcγ)*u[8])/Re\n",
    "    F[9] = (sqrt32*cβcγ*u[2]*u[3])/sqrtcβcβpluscγcγ - (sqrt32*cβcγ*u[6]*u[8])/sqrtcαcαpluscβcβpluscγcγ - (9*cβcβ*u[9])/Re\n",
    "end"
   ]
  },
  {
   "cell_type": "code",
   "execution_count": 4,
   "metadata": {},
   "outputs": [
    {
     "data": {
      "text/plain": [
       "findpoints (generic function with 1 method)"
      ]
     },
     "execution_count": 4,
     "metadata": {},
     "output_type": "execute_result"
    }
   ],
   "source": [
    "function findpoints(Re)\n",
    "    Re = Re\n",
    "    z = zeros(9,9)\n",
    "    for i in 1:9\n",
    "        dummy = zeros(9)\n",
    "        dummy[i] = Float64(1)\n",
    "        answer = nlsolve(f!, dummy)\n",
    "        z[:,i] = answer.zero\n",
    "    end\n",
    "    return z\n",
    "end"
   ]
  },
  {
   "cell_type": "code",
   "execution_count": 5,
   "metadata": {},
   "outputs": [
    {
     "data": {
      "text/plain": [
       "Results of Nonlinear Solver Algorithm\n",
       " * Algorithm: Trust-region with dogleg and autoscaling\n",
       " * Starting Point: [1.0, 1.0, 1.0, 1.0, 1.0, 1.0, 1.0, 1.0, 1.0]\n",
       " * Zero: [1.0000001378681795, -2.669681594725821e-7, 9.511695832779333e-9, -4.651207791049009e-9, 4.783219031838007e-9, 4.4448892550006294e-8, -2.000330681405362e-7, 3.770863117434579e-8, 1.5318686712572296e-8]\n",
       " * Inf-norm of residuals: 0.000000\n",
       " * Iterations: 287\n",
       " * Convergence: true\n",
       "   * |x - x'| < 0.0e+00: false\n",
       "   * |f(x)| < 1.0e-08: true\n",
       " * Function Calls (f): 287\n",
       " * Jacobian Calls (df/dx): 213"
      ]
     },
     "execution_count": 5,
     "metadata": {},
     "output_type": "execute_result"
    }
   ],
   "source": [
    "# function f!(F, x)\n",
    "#     F[1] = (x[1]+3)*(x[2]^3-7)+18\n",
    "#     F[2] = sin(x[2]*exp(x[1])-1)\n",
    "# end\n",
    "\n",
    "# function j!(J, x)\n",
    "#     J[1, 1] = x[2]^3-7\n",
    "#     J[1, 2] = 3*x[2]^2*(x[1]+3)\n",
    "#     u = exp(x[1])*cos(x[2]*exp(x[1])-1)\n",
    "#     J[2, 1] = x[2]*u\n",
    "#     J[2, 2] = u\n",
    "# end\n",
    "\n",
    "# z = nlsolve(f!, j!, [ 0.1; 1.2])\n",
    "nlsolve(f!, ones(9)) #equilibrium points always 1.0, remaining 0"
   ]
  },
  {
   "cell_type": "code",
   "execution_count": 9,
   "metadata": {},
   "outputs": [
    {
     "data": {
      "text/plain": [
       "-0.22206609902451058"
      ]
     },
     "execution_count": 9,
     "metadata": {},
     "output_type": "execute_result"
    }
   ],
   "source": [
    "#at equilibrium point (1,0,0,0,0,0,0,0,0), the Jacobian:\n",
    "Jacobian  = zeros(9,9)\n",
    "Jacobian[1,1] = -(cβ)^2/Re\n",
    "Jacobian[2,2] = -(4*cβ^2/3 + cγ^2)/Re\n",
    "Jacobian[2,3] = -sqrt32*cβcγ/sqrtcβcβpluscγcγ\n",
    "Jacobian[3,3] = -(cβ^2 + cγ^2)/Re\n",
    "Jacobian[4,4] = -(3*cα^2 + 4*cβ^2)/(3*Re)\n",
    "Jacobian[4,5] = -cα/sqrt6\n",
    "Jacobian[5,4] = cα/sqrt6\n",
    "Jacobian[5,5] = -(cα^2 + cβ^2)/Re\n",
    "Jacobian[6,7] = cα/sqrt6\n",
    "Jacobian[6,6] = -(3*cα^2 + 4*cβ^2 + 3*cγ^2)/(3*Re)\n",
    "Jacobian[6,8] = sqrt32*cβcγ/sqrtcβcβpluscγcγ\n",
    "Jacobian[7,6] = -cα/sqrt6;\n",
    "Jacobian[7,7] = -(cα^2 + cβ^2 + cγ^2)/Re\n",
    "Jacobian[8,8] = -(cα^2 + cβ^2 + cγ^2)/Re\n",
    "Jacobian[9,9] = (-9*cβ^2)/Re"
   ]
  },
  {
   "cell_type": "code",
   "execution_count": 10,
   "metadata": {},
   "outputs": [
    {
     "data": {
      "text/plain": [
       "9-element Array{Complex{Float64},1}:\n",
       "  -0.22206609902451058 + 0.0im                \n",
       " -0.042898681336964534 + 0.0im                \n",
       "  -0.04128634616984395 - 0.2040827169706929im \n",
       "  -0.04128634616984395 + 0.2040827169706929im \n",
       "   -0.0371740110027234 + 0.0im                \n",
       " -0.034674011002723396 + 0.0im                \n",
       "  -0.03128634616984398 - 0.20408271697069288im\n",
       "  -0.03128634616984398 + 0.20408271697069288im\n",
       " -0.024674011002723394 + 0.0im                "
      ]
     },
     "execution_count": 10,
     "metadata": {},
     "output_type": "execute_result"
    }
   ],
   "source": [
    "eigvals(Jacobian)"
   ]
  },
  {
   "cell_type": "code",
   "execution_count": 11,
   "metadata": {},
   "outputs": [
    {
     "data": {
      "text/plain": [
       "9×9 Array{Complex{Float64},2}:\n",
       " 0.0+0.0im  0.0+0.0im  …        0.0+0.0im       1.0+0.0im\n",
       " 0.0+0.0im  1.0+0.0im           0.0+0.0im       0.0+0.0im\n",
       " 0.0+0.0im  0.0+0.0im           0.0+0.0im       0.0+0.0im\n",
       " 0.0+0.0im  0.0+0.0im     -0.707107+0.0im       0.0+0.0im\n",
       " 0.0+0.0im  0.0+0.0im     0.0142455+0.706963im  0.0+0.0im\n",
       " 0.0+0.0im  0.0+0.0im  …        0.0+0.0im       0.0+0.0im\n",
       " 0.0+0.0im  0.0+0.0im           0.0+0.0im       0.0+0.0im\n",
       " 0.0+0.0im  0.0+0.0im           0.0+0.0im       0.0+0.0im\n",
       " 1.0+0.0im  0.0+0.0im           0.0+0.0im       0.0+0.0im"
      ]
     },
     "execution_count": 11,
     "metadata": {},
     "output_type": "execute_result"
    }
   ],
   "source": [
    "eigvecs(Jacobian)"
   ]
  },
  {
   "cell_type": "code",
   "execution_count": null,
   "metadata": {},
   "outputs": [],
   "source": []
  }
 ],
 "metadata": {
  "kernelspec": {
   "display_name": "Julia 1.2.0",
   "language": "julia",
   "name": "julia-1.2"
  },
  "language_info": {
   "file_extension": ".jl",
   "mimetype": "application/julia",
   "name": "julia",
   "version": "1.2.0"
  }
 },
 "nbformat": 4,
 "nbformat_minor": 4
}
