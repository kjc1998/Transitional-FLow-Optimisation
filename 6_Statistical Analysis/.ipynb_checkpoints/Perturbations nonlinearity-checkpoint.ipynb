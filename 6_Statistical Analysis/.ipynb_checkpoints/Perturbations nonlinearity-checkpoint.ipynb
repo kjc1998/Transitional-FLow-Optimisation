{
 "cells": [
  {
   "cell_type": "code",
   "execution_count": 5,
   "metadata": {},
   "outputs": [
    {
     "data": {
      "text/plain": [
       "Inipointnum (generic function with 4 methods)"
      ]
     },
     "execution_count": 5,
     "metadata": {},
     "output_type": "execute_result"
    }
   ],
   "source": [
    "using Flows\n",
    "import LinearAlgebra: norm\n",
    "using PyPlot; pygui(true)\n",
    "using PyCall\n",
    "np = pyimport(\"numpy\")\n",
    "sc = pyimport(\"scipy\")\n",
    "plt = pyimport(\"matplotlib.pyplot\");\n",
    "using ToySystems\n",
    "using ToySystems.NineModeSystemEq\n",
    "using Optim\n",
    "include(\"9msctrl.jl\")\n",
    "include(\"Initial condition variation.jl\")\n",
    "include(\"Perturbation time.jl\")\n",
    "include(\"Contour Plots.jl\")\n",
    "include(\"Magnitude Rand.jl\")\n",
    "include(\"Objective function Monitor.jl\")\n",
    "include(\"AdjointControl.jl\")\n",
    "include(\"RandomInitial.jl\")"
   ]
  },
  {
   "cell_type": "code",
   "execution_count": 6,
   "metadata": {},
   "outputs": [
    {
     "data": {
      "text/plain": [
       "NineModeSystemJacobian (generic function with 1 method)"
      ]
     },
     "execution_count": 6,
     "metadata": {},
     "output_type": "execute_result"
    }
   ],
   "source": [
    "# Domain size\n",
    "const Lx = 4π\n",
    "const Lz = 2π\n",
    "\n",
    "# Define system constants\n",
    "const cα = 2π/Lx\n",
    "const cβ = π/2\n",
    "const cγ = 2π/Lz\n",
    "const cβcβ = cβ*cβ\n",
    "const cβcγ = cβ*cγ\n",
    "const cαcα = cα*cα\n",
    "const cγcγ = cγ*cγ\n",
    "const cαcβcγ = cα*cβcγ\n",
    "const sqrt23 = sqrt(2/3)\n",
    "const sqrt32 = sqrt(3/2)\n",
    "const sqrt6 = sqrt(6)\n",
    "const sqrtcβcβpluscγcγ = sqrt(cβcβ + cγcγ)\n",
    "const sqrtcαcαpluscγcγ = sqrt(cαcα + cγcγ)\n",
    "const sqrtcαcαpluscβcβpluscγcγ = sqrt(cαcα + cβcβ + cγcγ)\n",
    "\n",
    "function NineModeSystemJacobian(u::AbstractVector, invRe::Real)\n",
    "        u1, u2, u3, u4, u5, u6, u7, u8, u9 = u\n",
    "        J = zeros(9,9)\n",
    "        \n",
    "        J[1,1] = -cβcβ*invRe\n",
    "        J[2,1] = -sqrt32*cβcγ*u3/sqrtcβcβpluscγcγ\n",
    "        J[3,1] = 0\n",
    "        J[4,1] = -sqrt6*cα*u5/6\n",
    "        J[5,1] = sqrt6*cα*u4/6\n",
    "        J[6,1] = sqrt6*cα*u7/6 + sqrt32*cβcγ*u8/sqrtcαcαpluscβcβpluscγcγ\n",
    "        J[7,1] = -sqrt6*cα*u6/6\n",
    "        J[8,1] = 0\n",
    "        J[9,1] = 0\n",
    "\n",
    "        J[1,2] = sqrt32*cβcγ*u3/sqrtcβcβpluscγcγ\n",
    "        J[2,2] = -(4*cβcβ/3 + cγcγ)*invRe\n",
    "        J[3,2] = 0\n",
    "        J[4,2] = -5/3*sqrt23*cαcα*u6/sqrtcαcαpluscγcγ\n",
    "        J[5,2] = sqrt6*cαcα*u7/(6*sqrtcαcαpluscγcγ) - sqrt6*cαcβcγ*u8/(6*sqrtcαcαpluscγcγ*sqrtcαcαpluscβcβpluscγcγ)\n",
    "        J[6,2] = 5/3*sqrt23*(cαcα-cγcγ)*u4/sqrtcαcαpluscγcγ\n",
    "        J[7,2] = sqrt6*u5*(-cαcα + cγcγ)/(6*sqrtcαcαpluscγcγ)\n",
    "        J[8,2] = sqrt23*cαcβcγ*u5/(sqrtcαcαpluscγcγ*sqrtcαcαpluscβcβpluscγcγ)\n",
    "        J[9,2] = sqrt32*cβcγ*u3/sqrtcβcβpluscγcγ\n",
    "\n",
    "        J[1,3] = sqrt32*cβcγ*u2/sqrtcβcβpluscγcγ\n",
    "        J[2,3] = -sqrt32*cβcγ*(u1 + u9)/sqrtcβcβpluscγcγ\n",
    "        J[3,3] = -(cβcβ + cγcγ)*invRe\n",
    "        J[4,3] = -sqrt32*cαcα*cβcβ*u8/(sqrtcαcαpluscγcγ*sqrtcβcβpluscγcγ*sqrtcαcαpluscβcβpluscγcγ) - sqrt32*cαcβcγ*u7/(sqrtcαcαpluscγcγ*sqrtcβcβpluscγcγ)\n",
    "        J[5,3] = sqrt23*cαcβcγ*u6/(sqrtcαcαpluscγcγ*sqrtcβcβpluscγcγ)\n",
    "        J[6,3] = -2*sqrt23*cαcβcγ*u5/(sqrtcαcαpluscγcγ*sqrtcβcβpluscγcγ)\n",
    "        J[7,3] = sqrt6*cαcβcγ*u4/(6*sqrtcαcαpluscγcγ*sqrtcβcβpluscγcγ)\n",
    "        J[8,3] = sqrt6*cγcγ*u4*(3*cαcα - cβcβ + 3*cγcγ)/(6*sqrtcαcαpluscγcγ*sqrtcβcβpluscγcγ*sqrtcαcαpluscβcβpluscγcγ)\n",
    "        J[9,3] = sqrt32*cβcγ*u2/sqrtcβcβpluscγcγ\n",
    "\n",
    "        J[1,4] = 0\n",
    "        J[2,4] = 5/3*sqrt23*cγcγ*u6/sqrtcαcαpluscγcγ\n",
    "        J[3,4] = sqrt23*cαcβcγ*u7/(sqrtcαcαpluscγcγ*sqrtcβcβpluscγcγ) + (cβcβ*(3*cαcα+cγcγ)-3*cγcγ*(cαcα+cγcγ))*u8/(sqrt6*sqrtcαcαpluscγcγ*sqrtcβcβpluscγcγ*sqrtcαcαpluscβcβpluscγcγ)\n",
    "        J[4,4] = -(3*cαcα + 4*cβcβ)/(3/invRe)\n",
    "        J[5,4] = sqrt6*cα*u1/6 + sqrt6*cα*u9/6\n",
    "        J[6,4] = 5/3*sqrt23*u2*(cαcα-cγcγ)/sqrtcαcαpluscγcγ\n",
    "        J[7,4] = sqrt6*cαcβcγ*u3/(6*sqrtcαcαpluscγcγ*sqrtcβcβpluscγcγ)\n",
    "        J[8,4] = sqrt6*cγcγ*u3*(3*cαcα - cβcβ + 3*cγcγ)/(6*sqrtcαcαpluscγcγ*sqrtcβcβpluscγcγ*sqrtcαcαpluscβcβpluscγcγ)\n",
    "        J[9,4] = 0\n",
    "\n",
    "        J[1,5] = 0\n",
    "        J[2,5] = -sqrt6*cαcβcγ*u8/(6*sqrtcαcαpluscγcγ*sqrtcαcαpluscβcβpluscγcγ) - sqrt6*cγcγ*u7/(6*sqrtcαcαpluscγcγ)\n",
    "        J[3,5] = sqrt23*cαcβcγ*u6/(sqrtcαcαpluscγcγ*sqrtcβcβpluscγcγ)\n",
    "        J[4,5] = -sqrt6*cα*u1/6 - sqrt6*cα*u9/6\n",
    "        J[5,5] = -(cαcα + cβcβ)*invRe\n",
    "        J[6,5] = -2*sqrt23*cαcβcγ*u3/(sqrtcαcαpluscγcγ*sqrtcβcβpluscγcγ)\n",
    "        J[7,5] = sqrt6*u2*(-cαcα + cγcγ)/(6*sqrtcαcαpluscγcγ)\n",
    "        J[8,5] = sqrt23*cαcβcγ*u2/(sqrtcαcαpluscγcγ*sqrtcαcαpluscβcβpluscγcγ)\n",
    "        J[9,5] = 0\n",
    "\n",
    "        J[1,6] = -sqrt32*cβcγ*u8/sqrtcαcαpluscβcβpluscγcγ\n",
    "        J[2,6] = 5/3*sqrt23*cγcγ*u4/sqrtcαcαpluscγcγ\n",
    "        J[3,6] = sqrt23*cαcβcγ*u5/(sqrtcαcαpluscγcγ*sqrtcβcβpluscγcγ)\n",
    "        J[4,6] = -5/3*sqrt23*cαcα*u2/sqrtcαcαpluscγcγ\n",
    "        J[5,6] = sqrt23*cαcβcγ*u3/(sqrtcαcαpluscγcγ*sqrtcβcβpluscγcγ)\n",
    "        J[6,6] = -(3*cαcα + 4*cβcβ + 3*cγcγ)/(3/invRe)\n",
    "        J[7,6] = -sqrt6*cα*u1/6 - sqrt6*cα*u9/6\n",
    "        J[8,6] = 0\n",
    "        J[9,6] = -sqrt32*cβcγ*u8/sqrtcαcαpluscβcβpluscγcγ\n",
    "\n",
    "        J[1,7] = 0\n",
    "        J[2,7] = -sqrt6*cγcγ*u5/(6*sqrtcαcαpluscγcγ)\n",
    "        J[3,7] = sqrt23*cαcβcγ*u4/(sqrtcαcαpluscγcγ*sqrtcβcβpluscγcγ)\n",
    "        J[4,7] = -sqrt32*cαcβcγ*u3/(sqrtcαcαpluscγcγ*sqrtcβcβpluscγcγ)\n",
    "        J[5,7] = sqrt6*cαcα*u2/(6*sqrtcαcαpluscγcγ)\n",
    "        J[6,7] = sqrt6*cα*u1/6 + sqrt6*cα*u9/6\n",
    "        J[7,7] = -(cαcα + cβcβ + cγcγ)*invRe\n",
    "        J[8,7] = 0\n",
    "        J[9,7] = 0\n",
    "\n",
    "        J[1,8] = -sqrt32*cβcγ*u6/sqrtcαcαpluscβcβpluscγcγ\n",
    "        J[2,8] = -sqrt6*cαcβcγ*u5/(6*sqrtcαcαpluscγcγ*sqrtcαcαpluscβcβpluscγcγ)\n",
    "        J[3,8] = sqrt6*u4*(cβcβ*(3*cαcα + cγcγ) - 3*cγcγ*(cαcα + cγcγ))/(6*sqrtcαcαpluscγcγ*sqrtcβcβpluscγcγ*sqrtcαcαpluscβcβpluscγcγ)\n",
    "        J[4,8] = -sqrt32*cαcα*cβcβ*u3/(sqrtcαcαpluscγcγ*sqrtcβcβpluscγcγ*sqrtcαcαpluscβcβpluscγcγ)\n",
    "        J[5,8] = -sqrt6*cαcβcγ*u2/(6*sqrtcαcαpluscγcγ*sqrtcαcαpluscβcβpluscγcγ)\n",
    "        J[6,8] = sqrt32*cβcγ*u1/sqrtcαcαpluscβcβpluscγcγ + sqrt32*cβcγ*u9/sqrtcαcαpluscβcβpluscγcγ\n",
    "        J[7,8] = 0\n",
    "        J[8,8] = -(cαcα + cβcβ + cγcγ)*invRe\n",
    "        J[9,8] = -sqrt32*cβcγ*u6/sqrtcαcαpluscβcβpluscγcγ\n",
    "\n",
    "        J[1,9] = 0\n",
    "        J[2,9] = -sqrt32*cβcγ*u3/sqrtcβcβpluscγcγ\n",
    "        J[3,9] = 0\n",
    "        J[4,9] = -sqrt6*cα*u5/6\n",
    "        J[5,9] = sqrt6*cα*u4/6\n",
    "        J[6,9] = sqrt6*cα*u7/6 + sqrt32*cβcγ*u8/sqrtcαcαpluscβcβpluscγcγ\n",
    "        J[7,9] = -sqrt6*cα*u6/6\n",
    "        J[8,9] = 0\n",
    "        J[9,9] = -9*cβcβ*invRe\n",
    "    return J\n",
    "end"
   ]
  },
  {
   "cell_type": "code",
   "execution_count": 17,
   "metadata": {},
   "outputs": [
    {
     "data": {
      "text/plain": [
       "PyObject Text(0.5, 23.302222222222213, '$t$')"
      ]
     },
     "execution_count": 17,
     "metadata": {},
     "output_type": "execute_result"
    }
   ],
   "source": [
    "Re = 1000\n",
    "f = NineModeSystem(Re)\n",
    "u0 = rand(9)\n",
    "y0 = rand(9)\n",
    "y0 ./= norm(y0)\n",
    "y0_local = copy(y0)\n",
    "timestep = 0.1\n",
    "u0_local = copy(u0)\n",
    "timemon = 10\n",
    "timemonlin = timemon*timestep\n",
    "\n",
    "function linearisedJac(t, x, dxdt, y, dydt)\n",
    "    return dydt .= NineModeSystemJacobian(x, 1/Re)*y # Integrating this line with respect to t is equivalent to ynew - yold.\n",
    "end\n",
    "\n",
    "function linearisedJac123(xq::Coupled) #will be called oneevery t step by monitor, automatically put in the state as its function.\n",
    "    x,y = xq\n",
    "    ynorm = norm(y)\n",
    "    λ = (1/timemon*timestep)*log(ynorm)\n",
    "    y ./= ynorm ## WOWOWOWOWOWOW THIS CAN CHANGE GLOBAL VARIABLE\n",
    "    return λ\n",
    "end\n",
    "\n",
    "ϕ = flow(couple(f, linearisedJac), RK4(couple(zeros(9), zeros(9))), TimeStepConstant(timestep))\n",
    "mon = Monitor(couple(zeros(9), zeros(9)), linearisedJac123; oneevery = timemon) # 100*timestep\n",
    "z = ϕ(couple(u0_local, y0_local), (0, 10000), mon)\n",
    "\n",
    "times(mon)\n",
    "fig,ax = plt.subplots()\n",
    "ax.plot(times(mon),samples(mon))\n",
    "ylabel(L\"λ(t)\")\n",
    "xlabel(L\"t\")"
   ]
  },
  {
   "cell_type": "code",
   "execution_count": 19,
   "metadata": {
    "jupyter": {
     "source_hidden": true
    }
   },
   "outputs": [
    {
     "data": {
      "text/plain": [
       "9-element Array{Float64,1}:\n",
       " 0.07322312498825716\n",
       " 0.05817788483554399\n",
       " 0.13936183886494982\n",
       " 0.05638698187275834\n",
       " 0.08232933800574654\n",
       " 0.13697512709768933\n",
       " 0.15130947842365156\n",
       " 0.08499032346164168\n",
       " 0.05471997024517343"
      ]
     },
     "execution_count": 19,
     "metadata": {},
     "output_type": "execute_result"
    }
   ],
   "source": [
    "# Re = 300\n",
    "# f = NineModeSystem(Re)\n",
    "# u0 = rand(9)\n",
    "# timestep = 0.5\n",
    "# u0_local = copy(u0)\n",
    "\n",
    "# function titis(x)\n",
    "#     return x ./= norm(x)\n",
    "# end\n",
    "\n",
    "# ϕ = flow(f, RK4(zeros(9)), TimeStepConstant(timestep))\n",
    "# mon = Monitor(zeros(9), titis; oneevery=10000)\n",
    "# ϕ(u0_local, (0,1000), reset!(mon))\n",
    "\n",
    "# xsamples = []\n",
    "# ysamples = []\n",
    "# for i in 1:length(samples(mon))\n",
    "#     xsamples = push!(xsamples, samples(mon)[i][1])\n",
    "#     ysamples = push!(ysamples, samples(mon)[i][2])\n",
    "# end\n",
    "# plot(times(mon), xsamples)\n",
    "# plot(times(mon), ysamples)"
   ]
  },
  {
   "cell_type": "code",
   "execution_count": 10,
   "metadata": {},
   "outputs": [
    {
     "data": {
      "text/plain": [
       "graph_lyapunov (generic function with 4 methods)"
      ]
     },
     "execution_count": 10,
     "metadata": {},
     "output_type": "execute_result"
    }
   ],
   "source": [
    "function print_factors(x)\n",
    "   factors = []\n",
    "   for i in 1:x\n",
    "        if x % i == 0\n",
    "            factors = push!(factors, i)\n",
    "        else\n",
    "            0 == 0\n",
    "        end\n",
    "    end\n",
    "    return factors\n",
    "end\n",
    "\n",
    "function averageλ(uinitial, Re, timestep, timemon, yinitial, Tstart, Tend, scale = 1)\n",
    "    f = NineModeSystem(Re)\n",
    "    u0 = uinitial\n",
    "    y0 = yinitial\n",
    "    y0 ./= (norm(y0)/scale)\n",
    "    y0_local = copy(y0)\n",
    "    u0_local = copy(u0)\n",
    "    timemonlin = timemon*timestep\n",
    "\n",
    "    function linearisedJac(t, x, dxdt, y, dydt)\n",
    "        return dydt .= NineModeSystemJacobian(x, 1/Re)*y # Integrating this line with respect to t is equivalent to ynew - yold.\n",
    "    end\n",
    "\n",
    "    function linearisedJac123(xq::Coupled) #will be called oneevery t step by monitor, automatically put in the state as its function.\n",
    "        x,y = xq\n",
    "        ynorm = norm(y)/scale\n",
    "        λ = (1/(timemonlin))*log(ynorm)\n",
    "        y ./= (norm(y)/scale) ## WOWOWOWOWOWOW THIS CAN CHANGE GLOBAL VARIABLE\n",
    "        return λ\n",
    "    end\n",
    "\n",
    "    ϕ = flow(couple(f, linearisedJac), RK4(couple(zeros(9), zeros(9))), TimeStepConstant(timestep))\n",
    "    mon = Monitor(couple(zeros(9), zeros(9)), linearisedJac123; oneevery = timemon) # 100*timestep\n",
    "    z = ϕ(couple(u0_local, y0_local), (Tstart, Tend), mon)\n",
    "    return samples(mon), times(mon)\n",
    "end\n",
    "\n",
    "function graph_lyapunov(urandomn::Real, Re, Tstart, Tend, timestep, uscale, ISRANGE  = false, d = [0.0,0.0,0.0,0.0,0.0,0.0,0.0,0.0,0.0], yscale = 1)\n",
    "    FAC = print_factors(Tend)\n",
    "    xini = []\n",
    "    for i in 1:urandomn\n",
    "        xini = push!(xini, mgscale(rand(9),uscale,ISRANGE) + d)\n",
    "    end\n",
    "    \n",
    "    AVERAGE_lambV1 = []\n",
    "    x_array1 = []\n",
    "    for i in 1:length(FAC)\n",
    "        timemon = Int(FAC[i]/timestep)\n",
    "        AVERAGE_lambV2 = []\n",
    "        x_array2 = []\n",
    "        for j in 1:length(xini)\n",
    "            λv = averageλ(xini[j], Re, timestep, timemon, rand(9), Tstart, Tend, yscale)[1]\n",
    "            AVERAGE_lambV2 = push!(AVERAGE_lambV2, sum(λv)/length(λv))\n",
    "            x_array2 = push!(x_array2, FAC[i])\n",
    "        end\n",
    "        x_array1 = push!(x_array1, x_array2)\n",
    "        AVERAGE_lambV1 = push!(AVERAGE_lambV1, AVERAGE_lambV2)\n",
    "    end\n",
    "    \n",
    "    fig,ax = plt.subplots()\n",
    "    yvalue = []\n",
    "    for i in 1:length(AVERAGE_lambV1)\n",
    "        yvalue = push!(yvalue, sum(AVERAGE_lambV1[i])/length(AVERAGE_lambV1[i]))\n",
    "        ax.scatter(x_array1[i], AVERAGE_lambV1[i])\n",
    "    end\n",
    "    ax.plot(FAC, yvalue, label = \"average_line @ Re = $Re, rescale = $uscale\")\n",
    "    ax.legend()\n",
    "end"
   ]
  },
  {
   "cell_type": "code",
   "execution_count": 18,
   "metadata": {},
   "outputs": [],
   "source": [
    "graph_lyapunov(50, 1000, 0, 100000, 0.5, 1, false, [1.0,0.0,0.0,0.0,0.0,0.0,0.0,0.0,0.0], 1);\n",
    "#graph_lyapunov(urandomn, Re, Tstart, Tend, timestep, uscale, ISRANGE  = false, d = [0.0,0.0,0.0,0.0,0.0,0.0,0.0,0.0,0.0], yscale = 1)"
   ]
  },
  {
   "cell_type": "code",
   "execution_count": 166,
   "metadata": {},
   "outputs": [
    {
     "data": {
      "text/plain": [
       "1-element Array{PyObject,1}:\n",
       " PyObject <matplotlib.lines.Line2D object at 0x00000000019BCAC8>"
      ]
     },
     "execution_count": 166,
     "metadata": {},
     "output_type": "execute_result"
    }
   ],
   "source": [
    "x1,y1 = averageλ(rand(9),1000, 0.5,10, rand(9), 0, 1000, 1)\n",
    "plot(y1,x1)"
   ]
  },
  {
   "cell_type": "code",
   "execution_count": 161,
   "metadata": {},
   "outputs": [
    {
     "data": {
      "text/plain": [
       "0.009999999999999998"
      ]
     },
     "execution_count": 161,
     "metadata": {},
     "output_type": "execute_result"
    }
   ],
   "source": [
    "y = rand(9)\n",
    "y ./= (norm(y)/0.01)\n",
    "norm(y)"
   ]
  }
 ],
 "metadata": {
  "kernelspec": {
   "display_name": "Julia 1.2.0",
   "language": "julia",
   "name": "julia-1.2"
  },
  "language_info": {
   "file_extension": ".jl",
   "mimetype": "application/julia",
   "name": "julia",
   "version": "1.2.0"
  }
 },
 "nbformat": 4,
 "nbformat_minor": 4
}
