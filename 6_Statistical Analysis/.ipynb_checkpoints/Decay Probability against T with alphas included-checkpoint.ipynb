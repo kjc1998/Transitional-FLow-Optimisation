{
 "cells": [
  {
   "cell_type": "code",
   "execution_count": 1,
   "metadata": {},
   "outputs": [
    {
     "name": "stderr",
     "output_type": "stream",
     "text": [
      "┌ Info: Recompiling stale cache file C:\\Users\\User\\.julia\\compiled\\v1.2\\ToySystems\\chsON.ji for ToySystems [53c88820-6eff-5a8c-9a74-badd815e7be1]\n",
      "└ @ Base loading.jl:1240\n",
      "┌ Warning: Package ToySystems does not have Flows in its dependencies:\n",
      "│ - If you have ToySystems checked out for development and have\n",
      "│   added Flows as a dependency but haven't updated your primary\n",
      "│   environment's manifest file, try `Pkg.resolve()`.\n",
      "│ - Otherwise you may need to report an issue with ToySystems\n",
      "└ Loading Flows into ToySystems from project dependency, future warnings for ToySystems are suppressed.\n"
     ]
    }
   ],
   "source": [
    "using Flows\n",
    "using ToySystems\n",
    "using ToySystems.NineModeSystemEq\n",
    "using Optim\n",
    "include(\"9msctrl.jl\")\n",
    "include(\"Initial condition variation.jl\")\n",
    "include(\"Perturbation time.jl\")\n",
    "include(\"Contour Plots.jl\")\n",
    "include(\"Magnitude Rand.jl\")\n",
    "include(\"Objective function Monitor.jl\")\n",
    "include(\"AdjointControl.jl\")\n",
    "import LinearAlgebra: norm\n",
    "using PyPlot; pygui(true)\n",
    "using PyCall\n",
    "np = pyimport(\"numpy\")\n",
    "sc = pyimport(\"scipy\")\n",
    "plt = pyimport(\"matplotlib.pyplot\");"
   ]
  },
  {
   "cell_type": "code",
   "execution_count": 2,
   "metadata": {},
   "outputs": [
    {
     "data": {
      "text/plain": [
       "0.01:0.01:0.1"
      ]
     },
     "execution_count": 2,
     "metadata": {},
     "output_type": "execute_result"
    }
   ],
   "source": [
    "Re_range = 100:50:350\n",
    "alpha_range = 0.01:0.01:0.1"
   ]
  },
  {
   "cell_type": "code",
   "execution_count": 3,
   "metadata": {},
   "outputs": [
    {
     "data": {
      "text/plain": [
       "9-element Array{Int64,1}:\n",
       " 0\n",
       " 0\n",
       " 0\n",
       " 0\n",
       " 1\n",
       " 0\n",
       " 0\n",
       " 0\n",
       " 0"
      ]
     },
     "execution_count": 3,
     "metadata": {},
     "output_type": "execute_result"
    }
   ],
   "source": [
    "timestep = 0.1\n",
    "\n",
    "dadt = zeros(9)\n",
    "q    = zeros(9)\n",
    "dqdt = zeros(9)\n",
    "store = RAMStorage(zeros(9))\n",
    "B = [0,0,0,0,1,0,0,0,0]"
   ]
  },
  {
   "cell_type": "code",
   "execution_count": 4,
   "metadata": {},
   "outputs": [
    {
     "data": {
      "text/plain": [
       "laminariseflowtime (generic function with 1 method)"
      ]
     },
     "execution_count": 4,
     "metadata": {},
     "output_type": "execute_result"
    }
   ],
   "source": [
    "function laminariseflowtime(u0 ,α, Re, Tstart, Tlimit, Tsplit, timestep) #Time taken to relaminarise\n",
    "    n = (Tlimit - Tstart)/Tsplit\n",
    "    Tend! = Tstart + Tsplit\n",
    "    Tstart! = Tstart\n",
    "    timearray = Tstart:timestep:Tlimit\n",
    "    u0_local = copy(u0)\n",
    "    Control_Array = []\n",
    "    value = 0\n",
    "    samplemon = []\n",
    "    \n",
    "    for i in 1:n\n",
    "        control = AdjointControl(u0_local, Re, Tstart!, timestep, Tend!, α)\n",
    "        Control_Array = push!(Control_Array, control)\n",
    "        \n",
    "        ts = Tstart!:timestep:Tend!\n",
    "        f = NineModeSystemCTRL(Re, ts, control)\n",
    "        F = flow(couple(f, objfun), RK4(couple(zeros(9), zeros(1))), TimeStepConstant(timestep))\n",
    "        I0 = Float64[0.0]\n",
    "        mon = Monitor(couple(zeros(9), zeros(1)), objfun)\n",
    "        renew = F(couple(u0_local,I0), extrema(ts), reset!(mon))\n",
    "        \n",
    "        for j in 1:length(samples(mon))\n",
    "            if sqrt(samples(mon)[j]) > 0.001\n",
    "                value = Tlimit\n",
    "            else\n",
    "                value = times(mon)[j]\n",
    "                break\n",
    "            end\n",
    "        end\n",
    "        \n",
    "        if value != Tlimit\n",
    "            break\n",
    "        else\n",
    "            value = Tlimit\n",
    "        end\n",
    "#         if i != n\n",
    "#             samplemon = vcat(samplemon, samples(mon)[1:end-1])\n",
    "#         else\n",
    "#             samplemon = vcat(samplemon, samples(mon))\n",
    "#         end\n",
    "        u0_local = renew[1]\n",
    "        Tstart! = Tend! #Don't add shift one timestep to the state.\n",
    "        Tend! = Tend! + Tsplit\n",
    "    end\n",
    "    \n",
    "#     for i in 1:length(samplemon)\n",
    "#         if sqrt(samplemon[i])>0.001 ##if r = 0.001, take the sqrt\n",
    "#             value = length(samplemon)\n",
    "#         else\n",
    "#             value = i\n",
    "#             break\n",
    "#         end\n",
    "#     end\n",
    "    \n",
    "#     time = timearray[value]\n",
    "#     time, Control_Array, samplemon, timearray\n",
    "        \n",
    "    return value\n",
    "end "
   ]
  },
  {
   "cell_type": "code",
   "execution_count": 5,
   "metadata": {},
   "outputs": [
    {
     "data": {
      "text/plain": [
       "relaminariserange (generic function with 1 method)"
      ]
     },
     "execution_count": 5,
     "metadata": {},
     "output_type": "execute_result"
    }
   ],
   "source": [
    "function relaminariserange(Re_range, α_range, Tstart, Tlimit, Tsplit, timestep, number, scale, ISRANGE, tarray::AbstractVector)\n",
    "    \n",
    "    Initial_array = []\n",
    "    for i in 1:number #Setting the Initial conditions\n",
    "        u = rand(9)\n",
    "        Initial_array = push!(Initial_array, mgscale(u,scale,ISRANGE))\n",
    "    end\n",
    "    \n",
    "    Output = []\n",
    "    for i in 1:length(Re_range) \n",
    "        Reynolds = Re_range[i] #fixed Re\n",
    "        PROB = []\n",
    "        for k in 1:length(α_range)\n",
    "            α = α_range[k] #fixed alpha\n",
    "            result = zeros(number) #time for all initial condition\n",
    "        \n",
    "            for j in 1:number # running all initial conditions at certain alpha and Re\n",
    "                u0_local = Initial_array[j]\n",
    "                result[j] = laminariseflowtime(u0_local, α, Reynolds, Tstart, Tlimit, Tsplit, timestep) #time for each initial condition\n",
    "            end\n",
    "        \n",
    "            proba = zeros(length(tarray))\n",
    "            for m in 1:length(tarray)\n",
    "                condition = tarray[m]\n",
    "                dummy = 0\n",
    "                for o in 1:number\n",
    "                    if result[o] >= condition\n",
    "                        dummy += 1\n",
    "                    else\n",
    "                        dummy = dummy\n",
    "                    end\n",
    "                end\n",
    "                dummy = dummy/number\n",
    "                proba[m] = dummy\n",
    "            end\n",
    "            PROB = push!(PROB, proba)\n",
    "            println(\"done for one alpha\")\n",
    "        end\n",
    "        fig,ax = plt.subplots()\n",
    "        \n",
    "        for l in 1:length(PROB)\n",
    "            alpha = α_range[l]\n",
    "            ax.plot(tarray, PROB[l],label = \"$alpha at $Reynolds\")\n",
    "        end\n",
    "        fig.legend()\n",
    "        xlabel(L\"t\")\n",
    "        ylabel(L\"P(t)\")\n",
    "        Output = push!(Output, PROB)\n",
    "    end\n",
    "    return Output, Initial_array #fixed Re, then fixed alpha\n",
    "end"
   ]
  },
  {
   "cell_type": "code",
   "execution_count": 7,
   "metadata": {},
   "outputs": [
    {
     "name": "stdout",
     "output_type": "stream",
     "text": [
      "done for one alpha\n"
     ]
    },
    {
     "ename": "InterruptException",
     "evalue": "InterruptException:",
     "output_type": "error",
     "traceback": [
      "InterruptException:",
      "",
      "Stacktrace:",
      " [1] try_yieldto(::typeof(Base.ensure_rescheduled), ::Base.RefValue{Task}) at .\\task.jl:517",
      " [2] wait() at .\\task.jl:592",
      " [3] uv_write(::Base.PipeEndpoint, ::Ptr{UInt8}, ::UInt64) at .\\stream.jl:883",
      " [4] unsafe_write(::Base.PipeEndpoint, ::Ptr{UInt8}, ::UInt64) at .\\stream.jl:931",
      " [5] unsafe_write at .\\io.jl:522 [inlined]",
      " [6] unsafe_write(::Base.PipeEndpoint, ::Base.RefValue{UInt8}, ::Int64) at .\\io.jl:520",
      " [7] write at .\\io.jl:523 [inlined]",
      " [8] write(::Base.PipeEndpoint, ::UInt8) at .\\stream.jl:973",
      " [9] write at .\\io.jl:237 [inlined]",
      " [10] write at .\\io.jl:576 [inlined]",
      " [11] print at .\\char.jl:229 [inlined]",
      " [12] print(::IJulia.IJuliaStdio{Base.PipeEndpoint}, ::String, ::Char) at .\\strings\\io.jl:48",
      " [13] println(::IJulia.IJuliaStdio{Base.PipeEndpoint}, ::String) at .\\strings\\io.jl:75",
      " [14] println(::String) at .\\coreio.jl:4",
      " [15] relaminariserange(::StepRange{Int64,Int64}, ::StepRangeLen{Float64,Base.TwicePrecision{Float64},Base.TwicePrecision{Float64}}, ::Int64, ::Int64, ::Int64, ::Float64, ::Int64, ::Float64, ::Bool, ::StepRange{Int64,Int64}) at .\\In[5]:37",
      " [16] top-level scope at In[7]:1"
     ]
    }
   ],
   "source": [
    "# out1, out2 = relaminariserange(460:10:600, 2.5:0.25:6.0, 0, 20000, 10, 0.5, 500, sqrt(0.5), false, 0:100:20000); #Energy_shell sum(ai^2) = 0.3"
   ]
  },
  {
   "cell_type": "code",
   "execution_count": 21,
   "metadata": {},
   "outputs": [
    {
     "data": {
      "text/plain": [
       "PyObject <matplotlib.legend.Legend object at 0x0000000001C81C18>"
      ]
     },
     "execution_count": 21,
     "metadata": {},
     "output_type": "execute_result"
    }
   ],
   "source": [
    "z = norm(u0)\n",
    "zz =  200:200:3000\n",
    "fig,ax = plt.subplots()\n",
    "ax.plot(d[4], d[3], label = \"norm(u0) = $z\")\n",
    "for i in 1:length(zz)-1\n",
    "    ax.plot([zz[i],zz[i]],[0,5], color = \"grey\", linestyle = \"dotted\")\n",
    "end\n",
    "xlabel(L\"t\")\n",
    "ylabel(L\"J(t)\")\n",
    "ax.legend()"
   ]
  },
  {
   "cell_type": "code",
   "execution_count": 44,
   "metadata": {},
   "outputs": [
    {
     "name": "stdout",
     "output_type": "stream",
     "text": [
      "[0.16355781515826356, -0.048714146562422, 0.09228112177010864, 0.2572118739735739, 0.30252033313507426, 0.5984462760789941, 0.042363052689164224, 0.17832809097450572, -0.04493498217483699]\n",
      "[0.22756621205933142, 0.1241228089726942, 0.09604364094338119, -0.21635899718622903, -0.004904601549191099, -0.12197286663151304, -0.07536657345449091, 0.044020494451041225, -0.01412602579379809]\n",
      "[0.06762518242219025, 0.006027264124524838, 0.11315935322737831, -0.07500773700799145, -0.07259308527671887, -0.002561987294164351, -0.007192626287200585, 0.0714968371586094, -0.13912998105244057]\n",
      "[0.12952364753965742, -0.08168129672491783, 0.05427914239529417, -0.02138995275854978, -0.0022688551273705366, -0.00014375020900287154, -0.011535034487718485, 0.03882484138381652, -0.07960977069307636]\n",
      "[0.18631132629021085, -0.1717620218074098, 0.032211376033756456, -0.009821828935903021, 0.015830705830956658, -0.011821906036412632, -0.024618555672159554, 0.003261890273747053, -0.07964580583280301]\n",
      "[0.1788996741078843, 0.049076798564884484, -0.008139547359050276, 0.07988830376985338, -0.11704654538371201, -0.07109155992578775, 0.003283419659190452, 0.01642119786120547, -0.052672429238863595]\n",
      "[0.43487721671763724, 0.1216242206074274, -0.025187681068249923, 0.08028003221862093, 0.026634079585984585, -0.05034500275235094, -0.04271269989101124, 0.0033355784437848622, -0.01804864383416036]\n",
      "[0.07251330606007614, -0.005692485860326958, 0.07569088338794651, 0.04097586213185847, 0.09567851797689897, 0.008044617448613662, 0.03532019418447288, 0.019896756922128684, -0.15825208234544183]\n",
      "[0.22512349981210672, 0.06185109167279227, 0.010112254514316956, -0.07038902868062222, -0.013398272663171245, -0.14355511716409466, 0.0627188724070737, -0.025741122982539826, -0.06276698721342652]\n",
      "[0.40175461069144974, -0.083760558078582, 0.009020475628911936, -0.013490515838609638, -0.01750439222849255, 0.005649385678877234, 0.18083354832140153, -0.019923137705560395, -0.024360607236345647]\n",
      "[0.5979773054764304, 0.012747946105478882, -0.0011497063114771866, -0.04454342288804059, -0.010314587640083273, -0.11179353653522174, 0.07008358176158917, -0.009513210675357967, -0.008484132498047449]\n",
      "[0.734347987281957, -0.03351760371382529, 0.004023268648571699, -0.0019483403356328013, -0.0170530379424138, -0.02233387745790034, 0.04704718824191272, -0.007475248536335478, -0.0007052570122108769]\n",
      "[0.7985888916474614, -0.08145203792202833, 0.0020753336400859733, 0.05265081986509593, -0.017459311636181633, 0.1344865400258868, 0.03519646860149215, 0.007208955626043948, -0.009528671725922425]\n",
      "[0.8689651283149339, 0.016142030346102742, 0.0012237844154984073, -0.002641939275591998, 0.02106610784728294, -0.007035822750819272, -0.04924064449293039, 0.003925228381598091, 0.0007885261103420024]\n",
      "[0.9135914581141489, -0.01633984128955389, 0.000782018753780475, -0.002356468684498917, -0.013245269600944394, -0.001578184246967992, 0.00950516001415189, 0.002152734565511422, 9.438594980765891e-5]\n",
      "[0.9414902553688648, 0.04020301726817501, -0.002332280710051465, 0.013145289452280813, -0.0009230422676160001, -0.005589462238313518, -0.01502909972911246, 0.0003151931534295608, -0.0006763683485522013]\n",
      "[0.9606984983239394, -0.014292860436462423, 0.001692788801960377, -0.004762386560156084, -0.016140999222930733, -0.0028707892923724846, 0.020672797337449346, 0.0006810380752742115, -2.8396894028917846e-6]\n",
      "[0.9732151490103139, 0.027752728245558883, -0.0021168929240952803, 0.008963628772598901, 0.010897109958589338, -0.003173301689924017, -0.017131164020937787, 3.890066472958617e-5, -0.0002974652241629797]\n",
      "[0.9811584069627742, -0.03483619353500279, -8.18690778422051e-5, 0.006759967395543104, 0.044568306956578305, -0.0016336491267587645, -0.003413076550347499, 0.0014796954563969956, -2.04945832650979e-5]\n",
      "[0.9875438500354085, -0.0011338048056244183, -0.00011629493769127832, 0.006411384679884717, -0.008594455042551123, 0.008307013646357279, 0.011357369779120597, 0.00047470245296543504, 2.94553196458152e-5]\n",
      "[0.9917150435540475, 0.001758352174344206, -4.953784098220615e-5, 0.002266878446820643, -7.878074572611736e-5, -0.007557651390722485, -0.004039930472188901, 0.0002572783847413717, -2.0134533189442805e-6]\n",
      "[0.9945089445848077, -0.001887392661807724, 0.00016946318920834388, 0.0012961545587906079, 0.004086033111500864, 0.0037981667033121828, -0.0020701081727774765, 0.00014200924876818895, -2.96928837346139e-6]\n",
      "[0.996348876746123, -0.0040519068816477575, 5.497956699163796e-5, -0.00045291275819793757, -5.2561845389005524e-5, -0.0010626736745632482, 0.001371796902335256, 6.972144508236695e-5, -2.9542772103290214e-6]\n",
      "[0.9975740170109024, -0.0031862962685632453, 2.222088567516811e-5, -3.6869236763184384e-5, 2.6215829983233534e-5, -0.00012152094619185386, -0.0012007630244507267, 3.8856894452545534e-5, -1.5459578904003794e-6]\n",
      "[0.9983902549132649, -0.002165032820905483, 1.269451567591164e-5, 3.7785957533106975e-5, -5.2727341404193754e-6, 0.00039942485454570455, 0.0002250519801299415, 2.113606838973381e-5, -4.967794627518112e-7]\n",
      "[0.9989322958147959, -0.0013921236223918992, 6.8407370717510395e-6, 6.306355392368199e-7, 6.296503942391475e-7, -0.00025877695427304514, -3.984226110871091e-5, 1.133736130612367e-5, -1.807682910016637e-7]\n",
      "[0.9992920477398581, -0.0008661180529278339, 3.837035237080107e-6, 1.0653012739966887e-6, 5.903905664170078e-7, 8.711997881900074e-5, -0.00012621250851594206, 6.102042791713663e-6, -6.823476808222971e-8]\n"
     ]
    },
    {
     "data": {
      "text/plain": [
       "1363.0"
      ]
     },
     "execution_count": 44,
     "metadata": {},
     "output_type": "execute_result"
    }
   ],
   "source": [
    "laminariseflowtime(rand(9),1,300,0,10000,50,0.5)"
   ]
  },
  {
   "cell_type": "code",
   "execution_count": null,
   "metadata": {},
   "outputs": [],
   "source": [
    "using DelimitedFiles"
   ]
  },
  {
   "cell_type": "code",
   "execution_count": null,
   "metadata": {},
   "outputs": [],
   "source": [
    "f = open(\"DecayProb_Corrected_part2.txt\",\"w\")"
   ]
  },
  {
   "cell_type": "code",
   "execution_count": 18,
   "metadata": {},
   "outputs": [],
   "source": [
    "rerange = 350:10:450\n",
    "for i in 1:length(rerange)\n",
    "    for j in 1:2\n",
    "        writedlm(f, out1[i][j]);\n",
    "    end\n",
    "end\n",
    "close(f)"
   ]
  },
  {
   "cell_type": "code",
   "execution_count": 19,
   "metadata": {},
   "outputs": [
    {
     "data": {
      "text/plain": [
       "4422×1 Array{Float64,2}:\n",
       " 1.0  \n",
       " 1.0  \n",
       " 1.0  \n",
       " 1.0  \n",
       " 1.0  \n",
       " 1.0  \n",
       " 1.0  \n",
       " 1.0  \n",
       " 1.0  \n",
       " 1.0  \n",
       " 0.998\n",
       " 0.994\n",
       " 0.982\n",
       " ⋮    \n",
       " 0.302\n",
       " 0.298\n",
       " 0.294\n",
       " 0.292\n",
       " 0.29 \n",
       " 0.288\n",
       " 0.286\n",
       " 0.286\n",
       " 0.284\n",
       " 0.282\n",
       " 0.282\n",
       " 0.282"
      ]
     },
     "execution_count": 19,
     "metadata": {},
     "output_type": "execute_result"
    }
   ],
   "source": [
    "readdlm(\"DecayProb_Corrected_525575.txt\")"
   ]
  },
  {
   "cell_type": "code",
   "execution_count": 12,
   "metadata": {},
   "outputs": [
    {
     "data": {
      "text/plain": [
       "3-element Array{Any,1}:\n",
       " Any[[1.0, 1.0, 1.0, 1.0, 1.0, 1.0, 1.0, 1.0, 1.0, 1.0  …  0.0, 0.0, 0.0, 0.0, 0.0, 0.0, 0.0, 0.0, 0.0, 0.0], [1.0, 1.0, 1.0, 1.0, 1.0, 1.0, 1.0, 1.0, 1.0, 1.0  …  0.0, 0.0, 0.0, 0.0, 0.0, 0.0, 0.0, 0.0, 0.0, 0.0], [1.0, 1.0, 1.0, 1.0, 1.0, 1.0, 1.0, 1.0, 1.0, 1.0  …  0.0, 0.0, 0.0, 0.0, 0.0, 0.0, 0.0, 0.0, 0.0, 0.0], [1.0, 1.0, 1.0, 1.0, 1.0, 1.0, 1.0, 1.0, 1.0, 1.0  …  0.0, 0.0, 0.0, 0.0, 0.0, 0.0, 0.0, 0.0, 0.0, 0.0], [1.0, 1.0, 1.0, 1.0, 1.0, 1.0, 1.0, 1.0, 1.0, 1.0  …  0.0, 0.0, 0.0, 0.0, 0.0, 0.0, 0.0, 0.0, 0.0, 0.0], [1.0, 1.0, 1.0, 1.0, 1.0, 1.0, 1.0, 1.0, 1.0, 1.0  …  0.0, 0.0, 0.0, 0.0, 0.0, 0.0, 0.0, 0.0, 0.0, 0.0], [1.0, 1.0, 1.0, 1.0, 1.0, 1.0, 1.0, 1.0, 1.0, 1.0  …  0.014, 0.014, 0.014, 0.014, 0.014, 0.014, 0.014, 0.012, 0.012, 0.012], [1.0, 1.0, 1.0, 1.0, 1.0, 1.0, 1.0, 1.0, 1.0, 1.0  …  0.034, 0.034, 0.034, 0.034, 0.034, 0.034, 0.032, 0.032, 0.03, 0.03]]                 \n",
       " Any[[1.0, 1.0, 1.0, 1.0, 1.0, 1.0, 1.0, 1.0, 1.0, 1.0  …  0.0, 0.0, 0.0, 0.0, 0.0, 0.0, 0.0, 0.0, 0.0, 0.0], [1.0, 1.0, 1.0, 1.0, 1.0, 1.0, 1.0, 1.0, 1.0, 1.0  …  0.0, 0.0, 0.0, 0.0, 0.0, 0.0, 0.0, 0.0, 0.0, 0.0], [1.0, 1.0, 1.0, 1.0, 1.0, 1.0, 1.0, 1.0, 1.0, 1.0  …  0.0, 0.0, 0.0, 0.0, 0.0, 0.0, 0.0, 0.0, 0.0, 0.0], [1.0, 1.0, 1.0, 1.0, 1.0, 1.0, 1.0, 1.0, 1.0, 1.0  …  0.0, 0.0, 0.0, 0.0, 0.0, 0.0, 0.0, 0.0, 0.0, 0.0], [1.0, 1.0, 1.0, 1.0, 1.0, 1.0, 1.0, 1.0, 1.0, 1.0  …  0.0, 0.0, 0.0, 0.0, 0.0, 0.0, 0.0, 0.0, 0.0, 0.0], [1.0, 1.0, 1.0, 1.0, 1.0, 1.0, 1.0, 1.0, 1.0, 1.0  …  0.002, 0.002, 0.002, 0.002, 0.002, 0.002, 0.002, 0.002, 0.002, 0.002], [1.0, 1.0, 1.0, 1.0, 1.0, 1.0, 1.0, 1.0, 1.0, 1.0  …  0.166, 0.164, 0.16, 0.16, 0.158, 0.154, 0.154, 0.154, 0.15, 0.15], [1.0, 1.0, 1.0, 1.0, 1.0, 1.0, 1.0, 1.0, 1.0, 1.0  …  0.156, 0.156, 0.154, 0.152, 0.15, 0.148, 0.144, 0.144, 0.144, 0.142]]\n",
       " Any[[1.0, 1.0, 1.0, 1.0, 1.0, 1.0, 1.0, 1.0, 1.0, 1.0  …  0.0, 0.0, 0.0, 0.0, 0.0, 0.0, 0.0, 0.0, 0.0, 0.0], [1.0, 1.0, 1.0, 1.0, 1.0, 1.0, 1.0, 1.0, 1.0, 1.0  …  0.0, 0.0, 0.0, 0.0, 0.0, 0.0, 0.0, 0.0, 0.0, 0.0], [1.0, 1.0, 1.0, 1.0, 1.0, 1.0, 1.0, 1.0, 1.0, 1.0  …  0.0, 0.0, 0.0, 0.0, 0.0, 0.0, 0.0, 0.0, 0.0, 0.0], [1.0, 1.0, 1.0, 1.0, 1.0, 1.0, 1.0, 1.0, 1.0, 1.0  …  0.0, 0.0, 0.0, 0.0, 0.0, 0.0, 0.0, 0.0, 0.0, 0.0], [1.0, 1.0, 1.0, 1.0, 1.0, 1.0, 1.0, 1.0, 1.0, 1.0  …  0.0, 0.0, 0.0, 0.0, 0.0, 0.0, 0.0, 0.0, 0.0, 0.0], [1.0, 1.0, 1.0, 1.0, 1.0, 1.0, 1.0, 1.0, 1.0, 1.0  …  0.036, 0.032, 0.032, 0.03, 0.026, 0.026, 0.026, 0.026, 0.024, 0.024], [1.0, 1.0, 1.0, 1.0, 1.0, 1.0, 1.0, 1.0, 1.0, 1.0  …  0.33, 0.324, 0.324, 0.32, 0.318, 0.316, 0.316, 0.316, 0.314, 0.31], [1.0, 1.0, 1.0, 1.0, 1.0, 1.0, 1.0, 1.0, 1.0, 1.0  …  0.362, 0.36, 0.358, 0.354, 0.354, 0.352, 0.344, 0.344, 0.344, 0.342]]"
      ]
     },
     "execution_count": 12,
     "metadata": {},
     "output_type": "execute_result"
    }
   ],
   "source": [
    "out1"
   ]
  },
  {
   "cell_type": "code",
   "execution_count": 2,
   "metadata": {},
   "outputs": [
    {
     "name": "stdout",
     "output_type": "stream",
     "text": [
      "0.1\n",
      "0.2\n",
      "0.3\n",
      "0.4\n",
      "0.5\n",
      "0.6\n",
      "0.7\n",
      "0.8\n",
      "0.9\n",
      "1.0\n"
     ]
    }
   ],
   "source": [
    "for i in 0.1:0.1:1\n",
    "    println(i)\n",
    "end"
   ]
  },
  {
   "cell_type": "code",
   "execution_count": null,
   "metadata": {},
   "outputs": [],
   "source": []
  }
 ],
 "metadata": {
  "kernelspec": {
   "display_name": "Julia 1.2.0",
   "language": "julia",
   "name": "julia-1.2"
  },
  "language_info": {
   "file_extension": ".jl",
   "mimetype": "application/julia",
   "name": "julia",
   "version": "1.2.0"
  }
 },
 "nbformat": 4,
 "nbformat_minor": 4
}
