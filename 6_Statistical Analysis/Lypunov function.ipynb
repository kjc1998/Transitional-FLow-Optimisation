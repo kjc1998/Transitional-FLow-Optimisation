{
 "cells": [
  {
   "cell_type": "code",
   "execution_count": 1,
   "metadata": {},
   "outputs": [
    {
     "name": "stderr",
     "output_type": "stream",
     "text": [
      "┌ Info: Recompiling stale cache file C:\\Users\\Kaijie\\.julia\\compiled\\v1.2\\ToySystems\\chsON.ji for ToySystems [53c88820-6eff-5a8c-9a74-badd815e7be1]\n",
      "└ @ Base loading.jl:1240\n",
      "┌ Warning: Package ToySystems does not have Flows in its dependencies:\n",
      "│ - If you have ToySystems checked out for development and have\n",
      "│   added Flows as a dependency but haven't updated your primary\n",
      "│   environment's manifest file, try `Pkg.resolve()`.\n",
      "│ - Otherwise you may need to report an issue with ToySystems\n",
      "└ Loading Flows into ToySystems from project dependency, future warnings for ToySystems are suppressed.\n"
     ]
    }
   ],
   "source": [
    "using Flows\n",
    "using ToySystems\n",
    "using ToySystems.NineModeSystemEq\n",
    "using Optim\n",
    "include(\"9msctrl.jl\")\n",
    "include(\"Initial condition variation.jl\")\n",
    "include(\"Perturbation time.jl\")\n",
    "include(\"Contour Plots.jl\")\n",
    "include(\"Magnitude Rand.jl\")\n",
    "include(\"Objective function Monitor.jl\")\n",
    "include(\"AdjointControl.jl\")\n",
    "include(\"RandomInitial.jl\")\n",
    "import LinearAlgebra: norm\n",
    "using PyPlot; pygui(true)\n",
    "using PyCall\n",
    "np = pyimport(\"numpy\")\n",
    "sc = pyimport(\"scipy\")\n",
    "plt = pyimport(\"matplotlib.pyplot\");"
   ]
  },
  {
   "cell_type": "code",
   "execution_count": 2,
   "metadata": {},
   "outputs": [],
   "source": [
    "## Lyapunov exponent analysis without control\n",
    "# Re = 350 #`transition Reynold number\n",
    "# Initial = rand(9)\n",
    "# Initialdel = Initial+mgscale(rand(9),1); # Difference in length of 0.01\n",
    "# norm(Initialdel - Initial)"
   ]
  },
  {
   "cell_type": "code",
   "execution_count": 3,
   "metadata": {},
   "outputs": [
    {
     "data": {
      "text/plain": [
       "plotlyapunov (generic function with 4 methods)"
      ]
     },
     "execution_count": 3,
     "metadata": {},
     "output_type": "execute_result"
    }
   ],
   "source": [
    "function rescaleinitial(u, delu, scale)\n",
    "    vector = delu-u\n",
    "    delu = u + [scale/norm(vector)] .*vector\n",
    "    return delu\n",
    "end\n",
    "\n",
    "function print_factors(x)\n",
    "   factors = []\n",
    "   for i in 1:x\n",
    "        if x % i == 0\n",
    "            factors = push!(factors, i)\n",
    "        else\n",
    "            0 == 0\n",
    "        end\n",
    "    end\n",
    "    return factors\n",
    "end\n",
    "\n",
    "function twooutput(u0, delu0, scale, Re, tstart, timestep, tend, tsplit)\n",
    "    f = NineModeSystem(Re)\n",
    "    tstart! = tstart\n",
    "    tend! = tstart + tsplit\n",
    "    n = (tend-tstart)/tsplit\n",
    "#     outputu0 = [u0]\n",
    "    outputd = []\n",
    "#     outputdelu0 = [delu0]\n",
    "    outputd1 = []\n",
    "    u0 = copy(u0)\n",
    "    delu0 = copy(delu0)\n",
    "    for i in 1:n\n",
    "        outputd1 = push!(outputd1, norm(delu0 - u0))\n",
    "        ϕ = flow(f, RK4(zeros(9)), TimeStepConstant(timestep))\n",
    "        u0plus = ϕ(u0,(tstart!,tend!))\n",
    "        delu0PLUS = ϕ(delu0,(tstart!,tend!))\n",
    "        outputd = push!(outputd, norm(delu0PLUS-u0plus))\n",
    "        delu0plus = rescaleinitial(u0plus, delu0PLUS, scale)\n",
    "#         outputu0 = push!(outputu0, u0plus)\n",
    "#         outputdelu0 = push!(outputdelu0, delu0plus)\n",
    "        u0 = u0plus\n",
    "        delu0 = delu0plus\n",
    "        tend! = tend! + tsplit\n",
    "        tstart! = tend! - tsplit\n",
    "    end\n",
    "    λ = (1/tsplit) .* log.(outputd ./ outputd1)\n",
    "    return sum(λ)/length(λ)\n",
    "end\n",
    "\n",
    "function plotlyapunov(number, Re::AbstractVector, Inidiff, Itediff, tstart, timestep, tend, energyradius = false, ISRANGE = false, d = zeros(9))\n",
    "    u0_array = Inipointnum(number, energyradius, ISRANGE, d)\n",
    "    delu0_array = []\n",
    "    \n",
    "    for i in 1:length(u0_array)\n",
    "        delu0_array = push!(delu0_array,mgscale(rand(9),Inidiff) + u0_array[i])\n",
    "    end\n",
    "    checkpoint1 = norm.(delu0_array - u0_array)\n",
    "    \n",
    "    tgap = tend - tstart\n",
    "    avaitsplit = print_factors(tgap)\n",
    "    Y_ARRAY = []\n",
    "    \n",
    "    for i in 1:length(Re)\n",
    "        Rey = Re[i]\n",
    "        y_array = zeros(length(avaitsplit))\n",
    "        for j in 1:length(avaitsplit)\n",
    "            tsplit = avaitsplit[j]\n",
    "            λaverage = 0\n",
    "            for k in 1:number\n",
    "                λaverage += twooutput(u0_array[k], delu0_array[k], Itediff, Rey, tstart, timestep, tend, tsplit)\n",
    "            end\n",
    "            y_array[j] = λaverage/number\n",
    "        end\n",
    "        Y_ARRAY = push!(Y_ARRAY, y_array)\n",
    "    end\n",
    "    return avaitsplit, Y_ARRAY\n",
    "end"
   ]
  },
  {
   "cell_type": "code",
   "execution_count": 4,
   "metadata": {},
   "outputs": [
    {
     "name": "stdout",
     "output_type": "stream",
     "text": [
      "done\n",
      "done\n",
      "done\n",
      "done\n",
      "done\n",
      "done\n",
      "done\n",
      "done\n",
      "done\n",
      "done\n"
     ]
    }
   ],
   "source": [
    "tgroup = []\n",
    "z = 0.1:0.1:1.0\n",
    "for i in 1:length(0.1:0.1:1.0)\n",
    "    tgroup = push!(tgroup, plotlyapunov(1000, 300:50:500, z[i], z[i], 0, 0.5, 10000, 0.3, true, [1.0, 0.0, 0.0, 0.0, 0.0, 0.0, 0.0, 0.0, 0.0]))\n",
    "    println(\"done\")\n",
    "end"
   ]
  },
  {
   "cell_type": "code",
   "execution_count": 5,
   "metadata": {},
   "outputs": [
    {
     "data": {
      "text/plain": [
       "PyObject Text(4.847222222222216, 0.5, '$average  λ$')"
      ]
     },
     "execution_count": 5,
     "metadata": {},
     "output_type": "execute_result"
    }
   ],
   "source": [
    "fig, ax = plt.subplots()\n",
    "t = 1\n",
    "for i in 1:length(t2)\n",
    "    ax.plot(t1, t2[i], label = \"$t\")\n",
    "    t+=1\n",
    "end\n",
    "\n",
    "ax.legend()\n",
    "xlabel(L\"timeplit\")\n",
    "ylabel(L\"average  λ\")"
   ]
  },
  {
   "cell_type": "code",
   "execution_count": 199,
   "metadata": {},
   "outputs": [
    {
     "data": {
      "text/plain": [
       "10-element Array{Any,1}:\n",
       " [1.129163261832137, 0.05272474494245278, 0.06454826837452458, 0.1093113908748335, 0.07366004668106209, 0.0913378637284798, 0.041488269372518906, 0.14041813232540176, 0.13861658533406637]    \n",
       " [1.115455498332982, 0.11950398533759235, 0.03485068288013253, 0.10102653241133892, 0.146555272444867, 0.10290531922987346, 0.013189303704446527, 0.05123005041255408, 0.12689155464479154]    \n",
       " [1.1154545284899855, 0.0641064747069359, 0.12685508873076196, 0.0326533922442464, 0.006592277705277569, 0.14249179597663744, 0.09976664803913822, 0.14181545300012677, 0.0706383562469458]    \n",
       " [1.1286490332475112, 0.12782139462106018, 0.1372108254749962, 0.109917644216865, 0.05390755413708694, 0.06751060755403648, 0.0815076354724247, 0.047760952859374046, 0.09906618191993528]     \n",
       " [1.143206654033543, 0.07803699061990163, 0.09568792229132819, 0.18225269137262864, 0.00899893243447417, 0.014749588453081015, 0.0879192606939057, 0.05369526074068288, 0.10059001828730446]   \n",
       " [1.0143692563917739, 0.028216191242150274, 0.09212427305586883, 0.03341770906476398, 0.1167891899640655, 0.14366399935519936, 0.08886722593793864, 0.12646337134826538, 0.14568568328925527]  \n",
       " [1.0686006192610376, 0.08282232431957756, 0.13621180139762437, 0.09872370397081884, 0.013008045708161026, 0.14807870786432387, 0.08914730946202695, 0.03437583480529002, 0.13750977887702662] \n",
       " [1.1121402384630377, 0.13090191416669356, 0.13436416596389628, 0.03794721981714419, 0.09290080495022725, 0.039654078681428284, 0.08992108860208257, 0.10720939876925448, 0.10494223326003126] \n",
       " [1.1489649627255059, 0.06907245125282915, 0.04896394997884335, 0.14044970108067797, 0.04215540838035912, 0.08265783417107078, 0.005526217819080621, 0.14731046591654462, 0.10283258709879516] \n",
       " [1.0865972075179602, 0.1704893382037049, 0.026810444838058018, 0.15513478165914454, 0.031802016729514715, 0.1265558129256856, 0.018658231226448902, 0.016310064481090843, 0.10491338773906139]"
      ]
     },
     "execution_count": 199,
     "metadata": {},
     "output_type": "execute_result"
    }
   ],
   "source": [
    "u_a = Inipointnum(10, 0.3, false, [1.0,0.0,0.0,0.0,0.0,0.0,0.0,0.0,0.0])"
   ]
  },
  {
   "cell_type": "code",
   "execution_count": 205,
   "metadata": {},
   "outputs": [
    {
     "data": {
      "text/plain": [
       "0.30000000000000004"
      ]
     },
     "execution_count": 205,
     "metadata": {},
     "output_type": "execute_result"
    }
   ],
   "source": [
    "norm(u_a[10] - [1.0,0.0,0.0,0.0,0.0,0.0,0.0,0.0,0.0])"
   ]
  },
  {
   "cell_type": "code",
   "execution_count": 208,
   "metadata": {},
   "outputs": [
    {
     "data": {
      "text/plain": [
       "1.0"
      ]
     },
     "execution_count": 208,
     "metadata": {},
     "output_type": "execute_result"
    }
   ],
   "source": [
    "norm([1,0,1]-[0,0,1])"
   ]
  },
  {
   "cell_type": "code",
   "execution_count": 17,
   "metadata": {},
   "outputs": [],
   "source": [
    "radius = 0.1:0.1:1.0\n",
    "Reynolds = 300:50:500\n",
    "\n",
    "for i in 1:length(tgroup)\n",
    "    x_array,y_array_num = tgroup[i]\n",
    "    fig,ax = plt.subplots()\n",
    "    for j in 1:length(y_array_num)\n",
    "        R = radius[i]\n",
    "        Rey = Reynolds[j]\n",
    "        y_array = y_array_num[j]\n",
    "        ax.plot(x_array, y_array, label = \"Radius@ $R , Re = $Rey\")\n",
    "    end\n",
    "    ax.legend()\n",
    "    xlabel(L\"timesplit\")\n",
    "    ylabel(L\"average lambda\")\n",
    "end"
   ]
  },
  {
   "cell_type": "code",
   "execution_count": 15,
   "metadata": {},
   "outputs": [
    {
     "data": {
      "text/plain": [
       "(Any[1, 2, 4, 5, 8, 10, 16, 20, 25, 40  …  250, 400, 500, 625, 1000, 1250, 2000, 2500, 5000, 10000], Any[[0.0016096154378397534, 0.0016081976291459608, 0.001585757328704263, 0.0015717913378141288, 0.0014957435873040853, 0.0014189618606106314, 0.0012309378747776612, 0.0011656136399248289, 0.0010259055574474674, 0.0006103037496581332  …  -0.0029003533957697755, -0.003936718658149236, -0.0041706583250232495, -0.004609358255978189, -0.00481638899062621, -0.004801910184676438, -0.004860815468560919, -0.004812588339678061, -0.00524589582178858, -0.006063078915245622], [0.006410399525817924, 0.006404030133404985, 0.006381489993428582, 0.006357090380135984, 0.006284749155123037, 0.00622525098181294, 0.006036863920584003, 0.005960555982586826, 0.0058080642143103715, 0.005325250281328128  …  0.00032208046123531717, -0.0007675653468105936, -0.001205961763158909, -0.001614444235224495, -0.0022039328128850544, -0.002256302183228986, -0.00225736930260934, -0.002228771492010299, -0.0024316689320566694, -0.002605327309212621], [0.009548893919418426, 0.009537458499091203, 0.009513584695347861, 0.00952490888122729, 0.00949276870472646, 0.009440237426910025, 0.009287093679984523, 0.009210516221892907, 0.009098564014418938, 0.008508334348965856  …  0.0023223070690307325, 0.0009542166456572622, 0.0005419961443657806, 0.00012444785916553868, -0.0003926688273919973, -0.0006489348407069797, -0.0007419537441412274, -0.0007267069760198513, -0.0008845527088829348, -0.0008870854054917127], [0.010845478840627063, 0.010826559573834845, 0.010852347929181768, 0.010828540674770236, 0.010821227348612876, 0.010782980018084056, 0.010731858763745031, 0.010634804292742953, 0.010522862271086767, 0.009879879183174792  …  0.0031105180094869534, 0.0017067532502379212, 0.0012364771615470517, 0.0008371885544689878, 0.00035426145636309936, 0.0001725138144425195, -0.00011118001574762075, -0.00014359626239441862, -0.0001573448948639885, -0.0002116880184554017], [0.011748876300801, 0.011737256017084124, 0.011724559895464361, 0.011711503697641542, 0.011696734815860855, 0.011695271295271788, 0.011631287515318422, 0.011592221577824517, 0.011481024714597176, 0.01080798874291516  …  0.00354154832111804, 0.0020979366662104084, 0.0016248017025327153, 0.001318545591424963, 0.0007658874269785137, 0.0005649125476857228, 0.00023870562572747073, 0.0001639424484802055, 5.565981764926459e-5, 1.5553250593103687e-5]])"
      ]
     },
     "execution_count": 15,
     "metadata": {},
     "output_type": "execute_result"
    }
   ],
   "source": [
    "tgroup[1]"
   ]
  },
  {
   "cell_type": "code",
   "execution_count": null,
   "metadata": {},
   "outputs": [],
   "source": []
  }
 ],
 "metadata": {
  "kernelspec": {
   "display_name": "Julia 1.2.0",
   "language": "julia",
   "name": "julia-1.2"
  },
  "language_info": {
   "file_extension": ".jl",
   "mimetype": "application/julia",
   "name": "julia",
   "version": "1.2.0"
  }
 },
 "nbformat": 4,
 "nbformat_minor": 4
}
