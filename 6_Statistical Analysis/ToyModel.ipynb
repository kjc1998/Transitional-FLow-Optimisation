{
 "cells": [
  {
   "cell_type": "code",
   "execution_count": 1,
   "metadata": {},
   "outputs": [
    {
     "name": "stderr",
     "output_type": "stream",
     "text": [
      "┌ Info: Recompiling stale cache file C:\\Users\\Kaijie\\.julia\\compiled\\v1.2\\ToySystems\\chsON.ji for ToySystems [53c88820-6eff-5a8c-9a74-badd815e7be1]\n",
      "└ @ Base loading.jl:1240\n",
      "┌ Warning: Package ToySystems does not have Flows in its dependencies:\n",
      "│ - If you have ToySystems checked out for development and have\n",
      "│   added Flows as a dependency but haven't updated your primary\n",
      "│   environment's manifest file, try `Pkg.resolve()`.\n",
      "│ - Otherwise you may need to report an issue with ToySystems\n",
      "└ Loading Flows into ToySystems from project dependency, future warnings for ToySystems are suppressed.\n"
     ]
    }
   ],
   "source": [
    "using Flows\n",
    "using ToySystems\n",
    "using ToySystems.NineModeSystemEq\n",
    "using Optim\n",
    "include(\"9msctrl.jl\")\n",
    "include(\"Initial condition variation.jl\")\n",
    "include(\"Perturbation time.jl\")\n",
    "include(\"Contour Plots.jl\")\n",
    "include(\"Magnitude Rand.jl\")\n",
    "include(\"Objective function Monitor.jl\")\n",
    "import LinearAlgebra: norm\n",
    "using PyPlot; pygui(true)\n",
    "using PyCall\n",
    "np = pyimport(\"numpy\")\n",
    "sc = pyimport(\"scipy\")\n",
    "plt = pyimport(\"matplotlib.pyplot\");"
   ]
  },
  {
   "cell_type": "code",
   "execution_count": 2,
   "metadata": {},
   "outputs": [],
   "source": [
    "Re_range = 50:10:500\n",
    "alpha_range = 0.01:0.01:0.2\n",
    "xx,yy = np.meshgrid(Re_range,alpha_range)\n",
    "mesh = []\n",
    "for i in 1:length(xx)\n",
    "    push!(mesh, [xx[i],yy[i]])\n",
    "end\n",
    "\n",
    "Realphapush = []\n",
    "\n",
    "for i in 1:length(xx)\n",
    "    push!(Realphapush, [xx[i],yy[i]])\n",
    "end\n",
    "\n",
    "for i in 1:length(Realphapush)\n",
    "    Re,α = Realphapush[i]\n",
    "end"
   ]
  },
  {
   "cell_type": "code",
   "execution_count": 3,
   "metadata": {},
   "outputs": [
    {
     "data": {
      "text/plain": [
       "9-element Array{Int64,1}:\n",
       " 0\n",
       " 0\n",
       " 0\n",
       " 0\n",
       " 1\n",
       " 0\n",
       " 0\n",
       " 0\n",
       " 0"
      ]
     },
     "execution_count": 3,
     "metadata": {},
     "output_type": "execute_result"
    }
   ],
   "source": [
    "##Parameters\n",
    "timestep = 0.5\n",
    "\n",
    "dadt = zeros(9)\n",
    "q    = zeros(9)\n",
    "dqdt = zeros(9)\n",
    "store = RAMStorage(zeros(9))\n",
    "B = [0,0,0,0,1,0,0,0,0]"
   ]
  },
  {
   "cell_type": "code",
   "execution_count": 9,
   "metadata": {},
   "outputs": [
    {
     "data": {
      "text/plain": [
       "Inipointnum (generic function with 3 methods)"
      ]
     },
     "execution_count": 9,
     "metadata": {},
     "output_type": "execute_result"
    }
   ],
   "source": []
  },
  {
   "cell_type": "code",
   "execution_count": 23,
   "metadata": {},
   "outputs": [
    {
     "data": {
      "text/plain": [
       "10-element Array{Any,1}:\n",
       " [0.03011915571194885, 0.01742622030540807, 0.017532821341338777, 0.034286382937341646, 0.01191290135908247, 0.02591103681964841, 0.05715629147165581, 0.036533359250395324, 0.04349000327870418]      \n",
       " [0.01151700470985547, 0.019825733676990292, 0.007403197702701536, 0.012310751636380391, 0.0465391755708242, 0.039051862463780174, 0.007304890075459436, 0.0633733565478036, 0.03882589832512192]      \n",
       " [0.02962502374791977, 0.04915539569443436, 0.008347900983722205, 0.0539402123321051, 0.024643165990928695, 0.04706886605007145, 0.021440197959333246, 0.011768760000016735, 0.01749061185387006]      \n",
       " [0.05555176690340026, 0.016901035400253638, 0.03167048094402416, 0.05094913623467087, 0.005514229845549092, 0.00040067906881615387, 0.052690799831734414, 0.014587415269403723, 0.0031371968967756516]\n",
       " [0.02549123073132747, 0.019235171062515755, 0.0194569514369063, 0.005680871693546889, 0.08687992683378731, 0.017484846781281437, 0.025669180603796127, 0.0027069009633260447, 0.007020284059539539]   \n",
       " [0.0211509395801047, 0.0017061901726143757, 0.03482195474427013, 0.0351299400864371, 0.019786385985387372, 0.03640651970103489, 0.03606931472026808, 0.04192278694622542, 0.04824514659996432]        \n",
       " [0.013819433287593542, 0.017635877686652552, 0.051393519749198896, 0.036062145828107406, 0.01597996844777447, 0.037256936279603727, 0.012944114805907915, 0.061048548197521396, 0.004279346938992341] \n",
       " [0.07678990817960049, 0.0004360338106356288, 0.0041637594419623595, 0.008821362811289988, 0.03628572629209201, 0.006285075675155622, 0.04490443772274498, 0.01456656702292428, 0.020572239327046812]  \n",
       " [0.015051395845325383, 0.00699833095936817, 0.01719776377692339, 0.05418938553053836, 0.07140819593791545, 0.03577868857254465, 0.00633784655770622, 0.003239406725403811, 0.007894251439231864]      \n",
       " [0.04937780024820243, 0.05153131364236289, 0.02549673628502562, 0.01631956458918848, 0.00911125461509472, 0.03326144511244518, 0.049905766564061066, 0.0016456085695154667, 0.017530332336618753]     "
      ]
     },
     "execution_count": 23,
     "metadata": {},
     "output_type": "execute_result"
    }
   ],
   "source": [
    "d = Inipointnum(10, 0.1, false)"
   ]
  },
  {
   "cell_type": "code",
   "execution_count": 24,
   "metadata": {},
   "outputs": [
    {
     "data": {
      "text/plain": [
       "0.1"
      ]
     },
     "execution_count": 24,
     "metadata": {},
     "output_type": "execute_result"
    }
   ],
   "source": [
    "norm(d[7])"
   ]
  },
  {
   "cell_type": "code",
   "execution_count": 3,
   "metadata": {},
   "outputs": [
    {
     "data": {
      "text/plain": [
       "([1, 2, 3], Array{Int64,1}[[1, 2, 3], [3, 4, 5]])"
      ]
     },
     "execution_count": 3,
     "metadata": {},
     "output_type": "execute_result"
    }
   ],
   "source": [
    "x1,x2 = [1,2,3],[[1,2,3],[3,4,5]]\n",
    "x3,x4 = [1,2,3],[[1,2,3],[3,4,5]]"
   ]
  },
  {
   "cell_type": "code",
   "execution_count": 4,
   "metadata": {},
   "outputs": [
    {
     "data": {
      "text/plain": [
       "2-element Array{Any,1}:\n",
       " [1, 2, 3]                           \n",
       " Array{Int64,1}[[1, 2, 3], [3, 4, 5]]"
      ]
     },
     "execution_count": 4,
     "metadata": {},
     "output_type": "execute_result"
    }
   ],
   "source": [
    "a = []\n",
    "a = push!(a, x1,x2)"
   ]
  },
  {
   "cell_type": "code",
   "execution_count": 6,
   "metadata": {},
   "outputs": [
    {
     "data": {
      "text/plain": [
       "4-element Array{Any,1}:\n",
       " [1, 2, 3]                           \n",
       " Array{Int64,1}[[1, 2, 3], [3, 4, 5]]\n",
       " [1, 2, 3]                           \n",
       " Array{Int64,1}[[1, 2, 3], [3, 4, 5]]"
      ]
     },
     "execution_count": 6,
     "metadata": {},
     "output_type": "execute_result"
    }
   ],
   "source": [
    "a = push!(a, x3,x4)"
   ]
  },
  {
   "cell_type": "code",
   "execution_count": 9,
   "metadata": {},
   "outputs": [
    {
     "data": {
      "text/plain": [
       "3-element Array{Int64,1}:\n",
       " 1\n",
       " 2\n",
       " 3"
      ]
     },
     "execution_count": 9,
     "metadata": {},
     "output_type": "execute_result"
    }
   ],
   "source": [
    "a[3]"
   ]
  },
  {
   "cell_type": "code",
   "execution_count": 6,
   "metadata": {},
   "outputs": [
    {
     "data": {
      "text/plain": [
       "1-element Array{PyObject,1}:\n",
       " PyObject <mpl_toolkits.mplot3d.art3d.Line3D object at 0x0000000000E6DD68>"
      ]
     },
     "execution_count": 6,
     "metadata": {},
     "output_type": "execute_result"
    }
   ],
   "source": [
    "function lorenz(x, y, z, s=10, r=28, b=2.667)\n",
    "    x_dot = s*(y - x)\n",
    "    y_dot = r*x - y - x*z\n",
    "    z_dot = x*y - b*z\n",
    "    return x_dot, y_dot, z_dot\n",
    "end\n",
    "\n",
    "\n",
    "dt = 0.01\n",
    "num_steps = 10000\n",
    "\n",
    "# Need one more for the initial values\n",
    "xs = np.empty(num_steps + 1)\n",
    "ys = np.empty(num_steps + 1)\n",
    "zs = np.empty(num_steps + 1)\n",
    "\n",
    "# Set initial values\n",
    "xs[1], ys[1], zs[1] = (0.0, 1.0, 1.05)\n",
    "\n",
    "# Step through \"time\", calculating the partial derivatives at the current point\n",
    "# and using them to estimate the next point\n",
    "for i in 1:num_steps\n",
    "    x_dot, y_dot, z_dot = lorenz(xs[i], ys[i], zs[i])\n",
    "    xs[i + 1] = xs[i] + (x_dot * dt)\n",
    "    ys[i + 1] = ys[i] + (y_dot * dt)\n",
    "    zs[i + 1] = zs[i] + (z_dot * dt)\n",
    "end\n",
    "\n"
   ]
  },
  {
   "cell_type": "code",
   "execution_count": 11,
   "metadata": {},
   "outputs": [
    {
     "data": {
      "text/plain": [
       "PyObject Text(0.09113564449804981, 0.01220986117247108, 'Z')"
      ]
     },
     "execution_count": 11,
     "metadata": {},
     "output_type": "execute_result"
    }
   ],
   "source": [
    "asd = pyimport(\"mpl_toolkits.mplot3d\")\n",
    "fig = plt.figure()\n",
    "ax = plt.axes(projection=\"3d\")\n",
    "ax.plot3D(xs, ys, zs, \"gray\", linewidth = 0.5)\n",
    "\n",
    "ax.set_xlabel(\"X\")\n",
    "ax.set_ylabel(\"Y\")\n",
    "ax.set_zlabel(\"Z\")"
   ]
  },
  {
   "cell_type": "code",
   "execution_count": 1,
   "metadata": {},
   "outputs": [
    {
     "data": {
      "text/plain": [
       "IOStream(<file try.txt>)"
      ]
     },
     "execution_count": 1,
     "metadata": {},
     "output_type": "execute_result"
    }
   ],
   "source": [
    "using DelimitedFiles\n",
    "f = open(\"try.txt\",\"w\")"
   ]
  },
  {
   "cell_type": "code",
   "execution_count": 3,
   "metadata": {},
   "outputs": [
    {
     "name": "stdout",
     "output_type": "stream",
     "text": [
      "done for one iteration\n",
      "done for one iteration\n",
      "done for one iteration\n",
      "done for one iteration\n",
      "done for one iteration\n"
     ]
    }
   ],
   "source": [
    "fv = open(\"try.txt\",\"a\")\n",
    "tarray = 1:1:10\n",
    "number = 10\n",
    "result = 1:0.5:5.5\n",
    "proba = zeros(10)\n",
    "for m in 1:length(tarray)\n",
    "    condition = tarray[m]\n",
    "    dummy = 0\n",
    "    for o in 1:number\n",
    "        if result[o] >= condition\n",
    "            dummy += 1\n",
    "        else\n",
    "            dummy = dummy\n",
    "        end\n",
    "    end\n",
    "    dummy = dummy/number\n",
    "    if dummy == 0.0\n",
    "        break\n",
    "    else\n",
    "        proba[m] = dummy\n",
    "    end\n",
    "    println(\"done for one iteration\")\n",
    "end\n",
    "writedlm(fv, proba)\n",
    "close(fv)"
   ]
  },
  {
   "cell_type": "code",
   "execution_count": null,
   "metadata": {},
   "outputs": [],
   "source": []
  }
 ],
 "metadata": {
  "kernelspec": {
   "display_name": "Julia 1.2.0",
   "language": "julia",
   "name": "julia-1.2"
  },
  "language_info": {
   "file_extension": ".jl",
   "mimetype": "application/julia",
   "name": "julia",
   "version": "1.2.0"
  }
 },
 "nbformat": 4,
 "nbformat_minor": 4
}
