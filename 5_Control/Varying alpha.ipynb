{
 "cells": [
  {
   "cell_type": "code",
   "execution_count": 1,
   "metadata": {},
   "outputs": [
    {
     "name": "stderr",
     "output_type": "stream",
     "text": [
      "┌ Info: Recompiling stale cache file C:\\Users\\User\\.julia\\compiled\\v1.2\\ToySystems\\chsON.ji for ToySystems [53c88820-6eff-5a8c-9a74-badd815e7be1]\n",
      "└ @ Base loading.jl:1240\n",
      "┌ Warning: Package ToySystems does not have Flows in its dependencies:\n",
      "│ - If you have ToySystems checked out for development and have\n",
      "│   added Flows as a dependency but haven't updated your primary\n",
      "│   environment's manifest file, try `Pkg.resolve()`.\n",
      "│ - Otherwise you may need to report an issue with ToySystems\n",
      "└ Loading Flows into ToySystems from project dependency, future warnings for ToySystems are suppressed.\n"
     ]
    }
   ],
   "source": [
    "using Flows\n",
    "using ToySystems\n",
    "using ToySystems.NineModeSystemEq\n",
    "using Optim\n",
    "using PyPlot; pygui(true)\n",
    "include(\"9msctrl.jl\")\n",
    "using PyCall\n",
    "include(\"Magnitude Rand.jl\")\n",
    "include(\"Objective function Monitor.jl\")\n",
    "include(\"AdjointControl.jl\")\n",
    "plt = pyimport(\"matplotlib.pyplot\");"
   ]
  },
  {
   "cell_type": "code",
   "execution_count": 8,
   "metadata": {
    "collapsed": true,
    "jupyter": {
     "outputs_hidden": true,
     "source_hidden": true
    }
   },
   "outputs": [
    {
     "data": {
      "text/plain": [
       "minus_energy_grad (generic function with 1 method)"
      ]
     },
     "execution_count": 8,
     "metadata": {},
     "output_type": "execute_result"
    }
   ],
   "source": [
    "# function Continuous_CTRL_Objfun(Reynolds,Initial_Time, Final_Time,uinitial,n,αv)\n",
    "#     u0 = uinitial\n",
    "#     Re = Reynolds\n",
    "#     Tf = Final_Time\n",
    "#     T = Tf/n\n",
    "#     Tfn = T\n",
    "#     Ti = Initial_Time\n",
    "#     ts = Ti:timestep:Tfn\n",
    "#     output_CTRL = zeros(1)\n",
    "#     α = αv\n",
    "    \n",
    "#     for i in 1:n\n",
    "        \n",
    "        \n",
    "        \n",
    "#         function Objective_fun_CTRL(η::AbstractVector) ##Take note on Re, T, and u0\n",
    "#             f = NineModeSystemCTRL(Re, ts, η)\n",
    "#             ϕ = flow(couple(f,objfun),RK4(couple(zeros(9),zeros(1))), TimeStepConstant(timestep))\n",
    "#             I0 = Float64[0.0]\n",
    "#             u0_local = copy(u0)\n",
    "#             ϕ(couple(u0_local, I0), extrema(ts))\n",
    "#             return I0[1]/T + α.*η2int(η, timestep) ## T is a constant\n",
    "#         end\n",
    "#         function Objective_fun_Gradient!(G::AbstractVector,η::AbstractVector)\n",
    "#             f = NineModeSystemCTRL(Re, ts, η)\n",
    "#             ϕ = flow(f,RK4(zeros(9)), TimeStepConstant(timestep))\n",
    "#             u0_local = copy(u0)\n",
    "#             ϕ(u0_local, (Ti, Tfn), reset!(store))\n",
    "\n",
    "#             h = NineModeSystemLin(Re, true, minus_energy_grad)\n",
    "#             ψ_adj = flow(h, RK4(zeros(9), ContinuousMode(true)), TimeStepFromStorage(timestep))\n",
    "#             mon = Monitor(zeros(9), q -> -B[5]*q[5])\n",
    "#             ψ_adj(zeros(9), store, (Tfn, Ti), reset!(mon))\n",
    "#             G .= samples(mon)[end:-1:1] .+ 2.0.*α.*η\n",
    "#         end\n",
    "#         function finalpoint(η)\n",
    "#             u0_local = copy(u0)\n",
    "#             f = NineModeSystemCTRL(Re, ts, η)\n",
    "#             F = flow(f, RK4(zeros(9)), TimeStepConstant(timestep))\n",
    "#             return F(u0_local, extrema(ts))\n",
    "#             end #functions which will be reiterated\n",
    "        \n",
    "        \n",
    "        \n",
    "        \n",
    "#         result = optimize(Objective_fun_CTRL, Objective_fun_Gradient!, zeros(length(ts)),LBFGS(),Optim.Options(f_tol = 1e-6,\n",
    "#                              store_trace = false,\n",
    "#                              show_trace = false))\n",
    "#         η = result.minimizer\n",
    "#         output_CTRL = vcat(output_CTRL, result.minimizer)\n",
    "#         u0 = finalpoint(η)\n",
    "        \n",
    "#         Ti = Tfn + timestep\n",
    "#         Tfn = Tfn + T\n",
    "#         ts = Ti:timestep: Tfn\n",
    "#     end\n",
    "#     return output_CTRL[2:end]\n",
    "# end"
   ]
  },
  {
   "cell_type": "code",
   "execution_count": 3,
   "metadata": {
    "jupyter": {
     "source_hidden": true
    }
   },
   "outputs": [],
   "source": [
    "# u0 = rand(9)"
   ]
  },
  {
   "cell_type": "code",
   "execution_count": 4,
   "metadata": {
    "collapsed": true,
    "jupyter": {
     "outputs_hidden": true,
     "source_hidden": true
    }
   },
   "outputs": [
    {
     "data": {
      "text/plain": [
       "PyObject <matplotlib.legend.Legend object at 0x00000000167AC668>"
      ]
     },
     "execution_count": 4,
     "metadata": {},
     "output_type": "execute_result"
    }
   ],
   "source": [
    "# Tfg = 1000\n",
    "# Reg = 400\n",
    "# timestep = 0.5\n",
    "# tsg = 0:0.5:1000\n",
    "# α_range = 0.1:0.1:0.5\n",
    "# n = 5\n",
    "\n",
    "# x_array = ts = tsg\n",
    "# y_array = zeros(length(ts), length(α_range))\n",
    "\n",
    "\n",
    "# for i in 1:length(α_range)\n",
    "#     α = α_range[i]\n",
    "#     final = Continuous_CTRL_Objfun(Reg, 0,Tfg, u0, n, α)\n",
    "# #     final2 = Continuous_CTRL_Objfun(Reg, Tfg, u0, 1, α)\n",
    "    \n",
    "#     ff = NineModeSystemCTRL(Reg, tsg, final)\n",
    "#     F = flow(couple(ff, objfun), RK4(couple(zeros(9), zeros(1))), TimeStepConstant(timestep))\n",
    "#     I0 = Float64[0.0]\n",
    "#     u0_local = copy(u0)\n",
    "#     mon = Monitor(couple(zeros(9), zeros(1)), objfun)\n",
    "#     F(couple(u0_local,I0), extrema(ts), reset!(mon))\n",
    "#     y_array[:,i] = samples(mon)\n",
    "    \n",
    "# #     ff = NineModeSystemCTRL(Reg, tsg, final2)\n",
    "# #     F = flow(couple(ff, objfun), RK4(couple(zeros(9), zeros(1))), TimeStepConstant(timestep))\n",
    "# #     I0 = Float64[0.0]\n",
    "# #     u0_local = copy(u0)\n",
    "# #     mon = Monitor(couple(zeros(9), zeros(1)), objfun)\n",
    "# #     F(couple(u0_local,I0), extrema(ts), reset!(mon))\n",
    "# #     y_array[length(ts)+1:end, i] = samples(mon)\n",
    "# end\n",
    "\n",
    "# fig,ax = plt.subplots()\n",
    "# for i in 1:length(α_range)\n",
    "#     z = α_range[i]\n",
    "#     ax.plot(x_array,y_array[:,i], label = \"α_$z split_$n\")\n",
    "# end\n",
    "# ax.legend()\n",
    "# # ax.plot(x_array,y_array[:,1], label = \"α_0.1\")\n",
    "# # ax.plot(x_array,y_array[:,2], label = \"α_0.2\")\n",
    "# # ax.plot(x_array,y_array[:,3], label = \"α_0.3\")\n",
    "# # ax.plot(x_array,y_array[:,4], label = \"α_0.4\")\n",
    "# # ax.plot(x_array,y_array[:,5], label = \"α_0.5\")\n",
    "# # ax.legend()"
   ]
  },
  {
   "cell_type": "code",
   "execution_count": 148,
   "metadata": {
    "jupyter": {
     "source_hidden": true
    }
   },
   "outputs": [],
   "source": [
    "# n = 25\n",
    "# timestep = 0.5\n",
    "# T1 = 200\n",
    "# Reynold_Number = 300;"
   ]
  },
  {
   "cell_type": "code",
   "execution_count": 149,
   "metadata": {
    "collapsed": true,
    "jupyter": {
     "outputs_hidden": true,
     "source_hidden": true
    }
   },
   "outputs": [
    {
     "data": {
      "text/plain": [
       "PyObject <matplotlib.legend.Legend object at 0x000000003E5FAB00>"
      ]
     },
     "execution_count": 149,
     "metadata": {},
     "output_type": "execute_result"
    }
   ],
   "source": [
    "# Ini_rand = []\n",
    "\n",
    "# for i in 1:n\n",
    "#     Ini_rand = push!(Ini_rand, mgscale(rand(9),0.3) + [1.0,0.0,0.0,0.0,0.0,0.0,0.0,0.0,0.0]) # Radius = 0.3\n",
    "# end\n",
    "\n",
    "# f = NineModeSystem(Reynold_Number)\n",
    "# ϕ = flow(couple(f, objfun), RK4(couple(zeros(9), zeros(1))), TimeStepConstant(timestep))\n",
    "# Uncontrolled_State = []\n",
    "# x = []\n",
    "# Second_Point = []\n",
    "\n",
    "# for i in 1:length(Ini_rand)\n",
    "#     I0 = Float64[0.0]\n",
    "#     u0_local = copy(Ini_rand[i])\n",
    "#     mon = Monitor(couple(zeros(9), zeros(1)), objfun)\n",
    "#     a,b = ϕ(couple(u0_local, I0), (0, T1), reset!(mon))\n",
    "#     Uncontrolled_State = push!(Uncontrolled_State, samples(mon))\n",
    "#     x = times(mon)\n",
    "#     Second_Point = push!(Second_Point, a)\n",
    "# end\n",
    "\n",
    "# # fig,ax = plt.subplots()\n",
    "# # ran = 1\n",
    "# # for i in 1:length(Ini_rand)    \n",
    "# #     ax.plot(x,Uncontrolled_State[i],color=\"grey\", linestyle=\"dashed\",label = \"$ran\",linewidth = 0.1)\n",
    "# #     ran += 1\n",
    "# # end\n",
    "# α = 0.2\n",
    "# m = 5\n",
    "# T2 = T1+1000\n",
    "# ts = T1+timestep:timestep:T2\n",
    "# x2_controlled = 0\n",
    "\n",
    "# for i in 1:length(Second_Point)\n",
    "#     u0 = copy(Second_Point[i])\n",
    "#     final = Continuous_CTRL_Objfun(Reynold_Number, T1+timestep, T2, u0, m, α)\n",
    "#     ff = NineModeSystemCTRL(Reynold_Number, ts, final)\n",
    "#     F = flow(couple(ff, objfun), RK4(couple(zeros(9), zeros(1))), TimeStepConstant(timestep))\n",
    "#     I0 = Float64[0.0]\n",
    "#     u0_local = copy(u0)\n",
    "#     mon = Monitor(couple(zeros(9), zeros(1)), objfun)\n",
    "#     F(couple(u0_local,I0), extrema(ts), reset!(mon))\n",
    "#     Uncontrolled_State[i] = vcat(Uncontrolled_State[i],samples(mon))\n",
    "#     x2_controlled = times(mon)\n",
    "# end\n",
    "# x = vcat(x,x2_controlled)\n",
    "\n",
    "# fig,ax = plt.subplots()\n",
    "# for i in 1:length(Ini_rand)    \n",
    "#     ax.plot(x,Uncontrolled_State[i],color=\"grey\", linestyle=\"dashed\",linewidth = 0.1)\n",
    "#     ran += 1\n",
    "# end\n",
    "\n",
    "# Main_line = (1/n).*sum(Uncontrolled_State)\n",
    "# ax.plot(x,Main_line,color=\"black\",linewidth = 0.5,label = \"α = $α\")\n",
    "# ax.legend()"
   ]
  },
  {
   "cell_type": "code",
   "execution_count": 155,
   "metadata": {
    "collapsed": true,
    "jupyter": {
     "outputs_hidden": true,
     "source_hidden": true
    }
   },
   "outputs": [
    {
     "data": {
      "text/plain": [
       "21-element Array{Float64,1}:\n",
       " 199.5\n",
       " 200.0\n",
       " 200.5\n",
       " 201.0\n",
       " 201.5\n",
       " 202.0\n",
       " 202.5\n",
       " 203.0\n",
       " 203.5\n",
       " 204.0\n",
       " 204.5\n",
       " 205.0\n",
       " 205.5\n",
       " 206.0\n",
       " 206.5\n",
       " 207.0\n",
       " 207.5\n",
       " 208.0\n",
       " 208.5\n",
       " 209.0\n",
       " 209.5"
      ]
     },
     "execution_count": 155,
     "metadata": {},
     "output_type": "execute_result"
    }
   ],
   "source": [
    "# x[400:420]"
   ]
  },
  {
   "cell_type": "code",
   "execution_count": 25,
   "metadata": {
    "jupyter": {
     "source_hidden": true
    }
   },
   "outputs": [],
   "source": [
    "# n = 25\n",
    "# timestep = 0.5\n",
    "# T1 = 200\n",
    "# Reynold_Number = 300;\n",
    "\n",
    "# Ini_rand = []\n",
    "\n",
    "# for i in 1:n\n",
    "#     Ini_rand = push!(Ini_rand, mgscale(rand(9),0.3) + [1.0,0.0,0.0,0.0,0.0,0.0,0.0,0.0,0.0]) # Radius = 0.3\n",
    "# end\n",
    "\n",
    "# f = NineModeSystem(Reynold_Number)\n",
    "# ϕ = flow(couple(f, objfun), RK4(couple(zeros(9), zeros(1))), TimeStepConstant(timestep))\n",
    "# Uncontrolled_State = []\n",
    "# x = []\n",
    "# Second_Point = []\n",
    "\n",
    "# for i in 1:length(Ini_rand)\n",
    "#     I0 = Float64[0.0]\n",
    "#     u0_local = copy(Ini_rand[i])\n",
    "#     mon = Monitor(couple(zeros(9), zeros(1)), objfun)\n",
    "#     a,b = ϕ(couple(u0_local, I0), (0, T1), reset!(mon))\n",
    "#     Uncontrolled_State = push!(Uncontrolled_State, samples(mon))\n",
    "#     x = times(mon)\n",
    "#     Second_Point = push!(Second_Point, a)\n",
    "# end"
   ]
  },
  {
   "cell_type": "code",
   "execution_count": 2,
   "metadata": {},
   "outputs": [
    {
     "data": {
      "text/plain": [
       "CTRL_split_graph (generic function with 2 methods)"
      ]
     },
     "execution_count": 2,
     "metadata": {},
     "output_type": "execute_result"
    }
   ],
   "source": [
    "store = RAMStorage(zeros(9))\n",
    "B = [0,0,0,0,1,0,0,0,0]\n",
    "function Continuous_CTRL_Objfun_V2(Reynolds,Initial_Time, Final_Time,timestep, uinitial,n,αv)\n",
    "    u0 = uinitial\n",
    "    Re = Reynolds\n",
    "    Tf = Final_Time\n",
    "    Ti = Initial_Time\n",
    "    T = (Tf-Ti)/n\n",
    "    Tfn = Ti + T\n",
    "    ts = Ti:timestep:Tfn\n",
    "    output_samples = zeros(1)\n",
    "    α = αv\n",
    "    \n",
    "    for i in 1:n\n",
    "        function finalpoint(η)\n",
    "            u0_local = copy(u0)\n",
    "            f = NineModeSystemCTRL(Re, ts, η)\n",
    "            F = flow(f, RK4(zeros(9)), TimeStepConstant(timestep))\n",
    "            mon1 = Monitor(zeros(9), objfun)\n",
    "            ϕ = F(u0_local, extrema(ts),reset!(mon1))\n",
    "            return ϕ,samples(mon1)\n",
    "        end\n",
    "        \n",
    "        η = AdjointControl(u0, Re, Ti, timestep, Tfn, α)\n",
    "        output_samples = output_samples[1:end-1]\n",
    "        output_samples = vcat(output_samples, finalpoint(η)[2])\n",
    "        u0 = finalpoint(η)[1]\n",
    "        \n",
    "        Ti = Tfn\n",
    "        Tfn = Tfn + T\n",
    "        ts = Ti:timestep: Tfn\n",
    "    end\n",
    "    return output_samples\n",
    "end\n",
    "\n",
    "\n",
    "\n",
    "function CTRL_split_graph(Re, α_range, Tiu, Tfu, Tfc, timesplit, timestep, initial_n, scale, d = [0.0,0.0,0.0,0.0,0.0,0.0,0.0,0.0,0.0])\n",
    "    Ini_rand = []\n",
    "    for i in 1:initial_n\n",
    "        Ini_rand = push!(Ini_rand, mgscale(rand(9), scale) + d)\n",
    "    end\n",
    "    \n",
    "    f = NineModeSystem(Re)\n",
    "    ϕ = flow(couple(f, objfun), RK4(couple(zeros(9), zeros(1))), TimeStepConstant(timestep))\n",
    "    x1 = Tiu:timestep:Tfu\n",
    "    x2 = Tfu:timestep:Tfc\n",
    "    Uncontrolled_State = []\n",
    "    Second_Point = []\n",
    "\n",
    "    for i in 1:length(Ini_rand)\n",
    "        I0 = Float64[0.0]\n",
    "        u0_local = copy(Ini_rand[i])\n",
    "        mon = Monitor(couple(zeros(9), zeros(1)), objfun)\n",
    "        a,b = ϕ(couple(u0_local, I0), (Tiu, Tfu), reset!(mon))\n",
    "        Uncontrolled_State = push!(Uncontrolled_State, samples(mon))\n",
    "        Second_Point = push!(Second_Point, a)\n",
    "    end\n",
    "    \n",
    "    ne = (Tfc - Tfu)/timesplit\n",
    "    Controlled_State_1 = []\n",
    "    for i in 1:length(α_range)\n",
    "        α = α_range[i]\n",
    "        Controlled_State_2 = []\n",
    "        for j in 1:length(Second_Point)\n",
    "            uinitial = Second_Point[j]\n",
    "            input123 = Continuous_CTRL_Objfun_V2(Re,Tfu, Tfc, timestep, uinitial, ne, α)\n",
    "            Controlled_State_2 = push!(Controlled_State_2, input123)\n",
    "        end\n",
    "        Sum_Controlled = sum(Controlled_State_2)./length(Controlled_State_2)\n",
    "        Controlled_State_1 = push!(Controlled_State_1, Sum_Controlled)\n",
    "    end\n",
    "    \n",
    "    fig,ax = plt.subplots()\n",
    "    for i in 1:length(Uncontrolled_State)    \n",
    "        ax.plot(x1,Uncontrolled_State[i],color=\"grey\", linestyle=\"dashed\",linewidth = 0.1)\n",
    "    end\n",
    "    ax.plot(x1, sum(Uncontrolled_State)./initial_n, color = \"black\", linewidth = 0.5)\n",
    "    \n",
    "    for i in 1:length(Controlled_State_1)\n",
    "        α_value = α_range[i]\n",
    "        ax.plot(x2, Controlled_State_1[i], label = \"α = $α_value @ Re = $Re\")\n",
    "    end\n",
    "    ax.legend()\n",
    "    \n",
    "    return x1, Uncontrolled_State, x2, Controlled_State_1\n",
    "end"
   ]
  },
  {
   "cell_type": "code",
   "execution_count": 4,
   "metadata": {},
   "outputs": [],
   "source": [
    "α_range = 4.0:4.0:40.0\n",
    "# function CTRL_split_graph(Re, α_range, Tiu, Tfu, Tfc, timesplit, timestep, initial_n, scale, d = [0.0,0.0,0.0,0.0,0.0,0.0,0.0,0.0,0.0])\n",
    "out1,out2,out3,out4 = CTRL_split_graph(450, α_range, 0, 200, 1200, 20, 0.5, 100, 0.3, [1.0,0.0,0.0,0.0,0.0,0.0,0.0,0.0,0.0]);"
   ]
  },
  {
   "cell_type": "code",
   "execution_count": 11,
   "metadata": {
    "collapsed": true,
    "jupyter": {
     "outputs_hidden": true,
     "source_hidden": true
    }
   },
   "outputs": [
    {
     "data": {
      "text/plain": [
       "3-element Array{Float64,1}:\n",
       "   10.0\n",
       "  100.0\n",
       " 1000.0"
      ]
     },
     "execution_count": 11,
     "metadata": {},
     "output_type": "execute_result"
    }
   ],
   "source": []
  },
  {
   "cell_type": "code",
   "execution_count": 25,
   "metadata": {
    "collapsed": true,
    "jupyter": {
     "outputs_hidden": true,
     "source_hidden": true
    }
   },
   "outputs": [
    {
     "data": {
      "text/plain": [
       "2001-element Array{Float64,1}:\n",
       " 0.7630953370059997\n",
       " 0.7624789421144953\n",
       " 0.7617557236928277\n",
       " 0.7609282605283219\n",
       " 0.7600007310365048\n",
       " 0.7589788194371418\n",
       " 0.7578695913945659\n",
       " 0.756681344525452 \n",
       " 0.755423439162835 \n",
       " 0.7541061145185088\n",
       " 0.752740294984091 \n",
       " 0.7513373908259473\n",
       " 0.7499090970229306\n",
       " ⋮                 \n",
       " 0.6263759682502972\n",
       " 0.6251742320506752\n",
       " 0.6239893470292298\n",
       " 0.6228240848616651\n",
       " 0.6216798902948873\n",
       " 0.6205571803816813\n",
       " 0.6194556111140208\n",
       " 0.618374300455339 \n",
       " 0.6173120038770985\n",
       " 0.6162672434235547\n",
       " 0.6152383945165414\n",
       " 0.6142237366188327"
      ]
     },
     "execution_count": 25,
     "metadata": {},
     "output_type": "execute_result"
    }
   ],
   "source": [
    "out4[3]"
   ]
  },
  {
   "cell_type": "code",
   "execution_count": 3,
   "metadata": {},
   "outputs": [
    {
     "data": {
      "text/plain": [
       "4-element Array{Any,1}:\n",
       " 1      \n",
       " 2      \n",
       " 3      \n",
       "  4:4:20"
      ]
     },
     "execution_count": 3,
     "metadata": {},
     "output_type": "execute_result"
    }
   ],
   "source": [
    "# Continuous_CTRL_Objfun_V2(300,200, 1200,0.5, rand(9),5,0.4)"
   ]
  },
  {
   "cell_type": "code",
   "execution_count": null,
   "metadata": {},
   "outputs": [],
   "source": []
  }
 ],
 "metadata": {
  "kernelspec": {
   "display_name": "Julia 1.2.0",
   "language": "julia",
   "name": "julia-1.2"
  },
  "language_info": {
   "file_extension": ".jl",
   "mimetype": "application/julia",
   "name": "julia",
   "version": "1.2.0"
  }
 },
 "nbformat": 4,
 "nbformat_minor": 4
}
