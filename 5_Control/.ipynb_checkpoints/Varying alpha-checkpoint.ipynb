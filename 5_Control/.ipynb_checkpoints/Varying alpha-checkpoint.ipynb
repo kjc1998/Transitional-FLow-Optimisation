{
 "cells": [
  {
   "cell_type": "code",
   "execution_count": 1,
   "metadata": {},
   "outputs": [
    {
     "name": "stderr",
     "output_type": "stream",
     "text": [
      "┌ Info: Recompiling stale cache file C:\\Users\\Kaijie\\.julia\\compiled\\v1.2\\ToySystems\\chsON.ji for ToySystems [53c88820-6eff-5a8c-9a74-badd815e7be1]\n",
      "└ @ Base loading.jl:1240\n",
      "┌ Warning: Package ToySystems does not have Flows in its dependencies:\n",
      "│ - If you have ToySystems checked out for development and have\n",
      "│   added Flows as a dependency but haven't updated your primary\n",
      "│   environment's manifest file, try `Pkg.resolve()`.\n",
      "│ - Otherwise you may need to report an issue with ToySystems\n",
      "└ Loading Flows into ToySystems from project dependency, future warnings for ToySystems are suppressed.\n"
     ]
    },
    {
     "data": {
      "text/plain": [
       "PyObject <module 'matplotlib.pyplot' from 'C:\\\\Users\\\\Kaijie\\\\.julia\\\\conda\\\\3\\\\lib\\\\site-packages\\\\matplotlib\\\\pyplot.py'>"
      ]
     },
     "execution_count": 1,
     "metadata": {},
     "output_type": "execute_result"
    }
   ],
   "source": [
    "using Flows\n",
    "using ToySystems\n",
    "using ToySystems.NineModeSystemEq\n",
    "using Optim\n",
    "using PyPlot; pygui(true)\n",
    "include(\"9msctrl.jl\")\n",
    "using PyCall\n",
    "plt = pyimport(\"matplotlib.pyplot\")"
   ]
  },
  {
   "cell_type": "code",
   "execution_count": 2,
   "metadata": {},
   "outputs": [
    {
     "data": {
      "text/plain": [
       "Continuous_CTRL_Objfun (generic function with 1 method)"
      ]
     },
     "execution_count": 2,
     "metadata": {},
     "output_type": "execute_result"
    }
   ],
   "source": [
    "dadt = zeros(9)\n",
    "q    = zeros(9)\n",
    "dqdt = zeros(9)\n",
    "store = RAMStorage(zeros(9))\n",
    "B = [0,0,0,0,1,0,0,0,0]\n",
    "\n",
    "\n",
    "objfun(u::AbstractVector) = (u[1] - 1)^2 + sum(u[i]^2 for i = 2:9)\n",
    "function objfun(t, u, dudt, I, dIdt)\n",
    "    return dIdt[1] = (u[1] - 1)^2 + sum(u[i]^2 for i = 2:9)\n",
    "end\n",
    "function objfun(xq::Coupled)\n",
    "    return objfun(xq[1])\n",
    "end\n",
    "\n",
    "\n",
    "function minus_energy_grad(t, a, dadt, v, dvdt)\n",
    "    dvdt[1] += -2*(a[1] - 1)\n",
    "    for i = 2:9\n",
    "        dvdt[i] += -2*a[i]\n",
    "    end\n",
    "    return dvdt\n",
    "end\n",
    "\n",
    "function Continuous_CTRL_Objfun(Reynolds,Final_Time,uinitial,n,αv)\n",
    "    u0 = uinitial\n",
    "    Re = Reynolds\n",
    "    Tf = Final_Time\n",
    "    T = Tf/n\n",
    "    Tfn = T\n",
    "    Ti = 0\n",
    "    ts = Ti:timestep:Tfn\n",
    "    output_CTRL = zeros(1)\n",
    "    α = αv\n",
    "    \n",
    "    for i in 1:n\n",
    "        \n",
    "        \n",
    "        \n",
    "        function Objective_fun_CTRL(η::AbstractVector) ##Take note on Re, T, and u0\n",
    "            f = NineModeSystemCTRL(Re, ts, η)\n",
    "            ϕ = flow(couple(f,objfun),RK4(couple(zeros(9),zeros(1))), TimeStepConstant(timestep))\n",
    "            I0 = Float64[0.0]\n",
    "            u0_local = copy(u0)\n",
    "            ϕ(couple(u0_local, I0), extrema(ts))\n",
    "            return I0[1]/T + α.*η2int(η, timestep) ## T is a constant\n",
    "        end\n",
    "        function Objective_fun_Gradient!(G::AbstractVector,η::AbstractVector)\n",
    "            f = NineModeSystemCTRL(Re, ts, η)\n",
    "            ϕ = flow(f,RK4(zeros(9)), TimeStepConstant(timestep))\n",
    "            u0_local = copy(u0)\n",
    "            ϕ(u0_local, (Ti, Tfn), reset!(store))\n",
    "\n",
    "            h = NineModeSystemLin(Re, true, minus_energy_grad)\n",
    "            ψ_adj = flow(h, RK4(zeros(9), ContinuousMode(true)), TimeStepFromStorage(timestep))\n",
    "            mon = Monitor(zeros(9), q -> -B[5]*q[5])\n",
    "            ψ_adj(zeros(9), store, (Tfn, Ti), reset!(mon))\n",
    "            G .= samples(mon)[end:-1:1] .+ 2.0.*α.*η\n",
    "        end\n",
    "        function finalpoint(η)\n",
    "            u0_local = copy(u0)\n",
    "            f = NineModeSystemCTRL(Re, ts, η)\n",
    "            F = flow(f, RK4(zeros(9)), TimeStepConstant(timestep))\n",
    "            return F(u0_local, extrema(ts))\n",
    "            end #functions which will be reiterated\n",
    "        \n",
    "        \n",
    "        \n",
    "        \n",
    "        result = optimize(Objective_fun_CTRL, Objective_fun_Gradient!, zeros(length(ts)),LBFGS(),Optim.Options(f_tol = 1e-6,\n",
    "                             store_trace = false,\n",
    "                             show_trace = false))\n",
    "        η = result.minimizer\n",
    "        output_CTRL = vcat(output_CTRL, result.minimizer)\n",
    "        u0 = finalpoint(η)\n",
    "        \n",
    "        Ti = Tfn + timestep\n",
    "        Tfn = Tfn + T\n",
    "        ts = Ti:timestep: Tfn\n",
    "    end\n",
    "    return output_CTRL[2:end]\n",
    "end"
   ]
  },
  {
   "cell_type": "code",
   "execution_count": 5,
   "metadata": {},
   "outputs": [
    {
     "data": {
      "text/plain": [
       "9-element Array{Float64,1}:\n",
       " 0.3410099364731807 \n",
       " 0.9029547571004344 \n",
       " 0.49546897498734643\n",
       " 0.7501270531596762 \n",
       " 0.29631286046944605\n",
       " 0.4290680204819939 \n",
       " 0.3140000347208589 \n",
       " 0.16139513418066076\n",
       " 0.06883622182117266"
      ]
     },
     "execution_count": 5,
     "metadata": {},
     "output_type": "execute_result"
    }
   ],
   "source": [
    "u0 = rand(9)"
   ]
  },
  {
   "cell_type": "code",
   "execution_count": 6,
   "metadata": {},
   "outputs": [
    {
     "data": {
      "text/plain": [
       "PyObject <matplotlib.legend.Legend object at 0x0000000002104208>"
      ]
     },
     "execution_count": 6,
     "metadata": {},
     "output_type": "execute_result"
    }
   ],
   "source": [
    "Tfg = 1000\n",
    "Reg = 400\n",
    "timestep = 0.5\n",
    "tsg = 0:0.5:1000\n",
    "α_range = 0.1:0.1:0.5\n",
    "n = 5\n",
    "\n",
    "x_array = ts = tsg\n",
    "y_array = zeros(length(ts), length(α_range))\n",
    "\n",
    "\n",
    "for i in 1:length(α_range)\n",
    "    α = α_range[i]\n",
    "    final = Continuous_CTRL_Objfun(Reg, Tfg, u0, n, α)\n",
    "#     final2 = Continuous_CTRL_Objfun(Reg, Tfg, u0, 1, α)\n",
    "    \n",
    "    ff = NineModeSystemCTRL(Reg, tsg, final)\n",
    "    F = flow(couple(ff, objfun), RK4(couple(zeros(9), zeros(1))), TimeStepConstant(timestep))\n",
    "    I0 = Float64[0.0]\n",
    "    u0_local = copy(u0)\n",
    "    mon = Monitor(couple(zeros(9), zeros(1)), objfun)\n",
    "    F(couple(u0_local,I0), extrema(ts), reset!(mon))\n",
    "    y_array[:,i] = samples(mon)\n",
    "    \n",
    "#     ff = NineModeSystemCTRL(Reg, tsg, final2)\n",
    "#     F = flow(couple(ff, objfun), RK4(couple(zeros(9), zeros(1))), TimeStepConstant(timestep))\n",
    "#     I0 = Float64[0.0]\n",
    "#     u0_local = copy(u0)\n",
    "#     mon = Monitor(couple(zeros(9), zeros(1)), objfun)\n",
    "#     F(couple(u0_local,I0), extrema(ts), reset!(mon))\n",
    "#     y_array[length(ts)+1:end, i] = samples(mon)\n",
    "end\n",
    "\n",
    "fig,ax = plt.subplots()\n",
    "for i in 1:length(α_range)\n",
    "    z = α_range[i]\n",
    "    ax.plot(x_array,y_array[:,i], label = \"α_$z split_$n\")\n",
    "end\n",
    "ax.legend()\n",
    "# ax.plot(x_array,y_array[:,1], label = \"α_0.1\")\n",
    "# ax.plot(x_array,y_array[:,2], label = \"α_0.2\")\n",
    "# ax.plot(x_array,y_array[:,3], label = \"α_0.3\")\n",
    "# ax.plot(x_array,y_array[:,4], label = \"α_0.4\")\n",
    "# ax.plot(x_array,y_array[:,5], label = \"α_0.5\")\n",
    "# ax.legend()"
   ]
  },
  {
   "cell_type": "code",
   "execution_count": 128,
   "metadata": {},
   "outputs": [],
   "source": [
    "include(\"Magnitude Rand.jl\")\n",
    "include(\"Objective function Monitor.jl\")\n",
    "\n",
    "n = 25\n",
    "timestep = 0.5\n",
    "T1 = 200\n",
    "Reynold_Number = 300;"
   ]
  },
  {
   "cell_type": "code",
   "execution_count": 129,
   "metadata": {},
   "outputs": [
    {
     "data": {
      "text/plain": [
       "1-element Array{PyObject,1}:\n",
       " PyObject <matplotlib.lines.Line2D object at 0x000000003DE52940>"
      ]
     },
     "execution_count": 129,
     "metadata": {},
     "output_type": "execute_result"
    }
   ],
   "source": [
    "Ini_rand = []\n",
    "\n",
    "for i in 1:n\n",
    "    Ini_rand = push!(Ini_rand, mgscale(rand(9),0.3) + [1.0,0.0,0.0,0.0,0.0,0.0,0.0,0.0,0.0]) # Radius = 0.3\n",
    "end\n",
    "\n",
    "f = NineModeSystem(Reynold_Number)\n",
    "ϕ = flow(couple(f, objfun), RK4(couple(zeros(9), zeros(1))), TimeStepConstant(timestep))\n",
    "Uncontrolled_State = []\n",
    "x = []\n",
    "\n",
    "for i in 1:length(Ini_rand)\n",
    "    I0 = Float64[0.0]\n",
    "    u0_local = copy(Ini_rand[i])\n",
    "    mon = Monitor(couple(zeros(9), zeros(1)), objfun)\n",
    "    a,b = ϕ(couple(u0_local, I0), (0, T1), reset!(mon))\n",
    "    Uncontrolled_State = push!(Uncontrolled_State, samples(mon))\n",
    "    x = times(mon)\n",
    "end\n",
    "\n",
    "fig,ax = plt.subplots()\n",
    "ran = 1\n",
    "for i in 1:length(Ini_rand)    \n",
    "    ax.plot(x,Uncontrolled_State[i],color=\"grey\", linestyle=\"dashed\",label = \"$ran\",linewidth = 0.1)\n",
    "    ran += 1\n",
    "end\n",
    "\n",
    "Main_line = (1/n).*sum(Uncontrolled_State)\n",
    "ax.plot(x,Main_line,color=\"black\",linewidth = 0.5)"
   ]
  },
  {
   "cell_type": "code",
   "execution_count": 72,
   "metadata": {},
   "outputs": [
    {
     "data": {
      "text/plain": [
       "3.4283279349247215"
      ]
     },
     "execution_count": 72,
     "metadata": {},
     "output_type": "execute_result"
    }
   ],
   "source": []
  },
  {
   "cell_type": "code",
   "execution_count": null,
   "metadata": {},
   "outputs": [],
   "source": []
  }
 ],
 "metadata": {
  "kernelspec": {
   "display_name": "Julia 1.2.0",
   "language": "julia",
   "name": "julia-1.2"
  },
  "language_info": {
   "file_extension": ".jl",
   "mimetype": "application/julia",
   "name": "julia",
   "version": "1.2.0"
  }
 },
 "nbformat": 4,
 "nbformat_minor": 4
}
