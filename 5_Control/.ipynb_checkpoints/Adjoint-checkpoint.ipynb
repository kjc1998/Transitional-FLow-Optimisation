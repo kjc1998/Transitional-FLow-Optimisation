{
 "cells": [
  {
   "cell_type": "code",
   "execution_count": 1,
   "metadata": {},
   "outputs": [
    {
     "name": "stderr",
     "output_type": "stream",
     "text": [
      "┌ Info: Recompiling stale cache file C:\\Users\\Kaijie\\.julia\\compiled\\v1.2\\ToySystems\\chsON.ji for ToySystems [53c88820-6eff-5a8c-9a74-badd815e7be1]\n",
      "└ @ Base loading.jl:1240\n",
      "┌ Warning: Package ToySystems does not have Flows in its dependencies:\n",
      "│ - If you have ToySystems checked out for development and have\n",
      "│   added Flows as a dependency but haven't updated your primary\n",
      "│   environment's manifest file, try `Pkg.resolve()`.\n",
      "│ - Otherwise you may need to report an issue with ToySystems\n",
      "└ Loading Flows into ToySystems from project dependency, future warnings for ToySystems are suppressed.\n"
     ]
    },
    {
     "ename": "ErrorException",
     "evalue": "could not open file C:\\Users\\Kaijie\\1_9 Mode system\\9msctrl.jl",
     "output_type": "error",
     "traceback": [
      "could not open file C:\\Users\\Kaijie\\1_9 Mode system\\9msctrl.jl",
      "",
      "Stacktrace:",
      " [1] include at .\\boot.jl:328 [inlined]",
      " [2] include_relative(::Module, ::String) at .\\loading.jl:1094",
      " [3] include(::Module, ::String) at .\\Base.jl:31",
      " [4] include(::String) at .\\client.jl:431",
      " [5] top-level scope at In[1]:6"
     ]
    }
   ],
   "source": [
    "using Flows\n",
    "using ToySystems\n",
    "using ToySystems.NineModeSystemEq\n",
    "using Optim\n",
    "using PyPlot; pygui(true)\n",
    "include(\"9msctrl.jl\")"
   ]
  },
  {
   "cell_type": "code",
   "execution_count": 17,
   "metadata": {},
   "outputs": [
    {
     "data": {
      "text/plain": [
       "Objective_fun_Gradient! (generic function with 1 method)"
      ]
     },
     "execution_count": 17,
     "metadata": {},
     "output_type": "execute_result"
    }
   ],
   "source": [
    "Re = 500\n",
    "u0 = rand(9)\n",
    "dadt = zeros(9)\n",
    "q    = zeros(9)\n",
    "dqdt = zeros(9)\n",
    "T     = 1000\n",
    "timestep = 2\n",
    "ts = 0:timestep:T\n",
    "store = RAMStorage(zeros(9))\n",
    "B = [0,0,0,0,1,0,0,0,0]\n",
    "α = 0.2\n",
    "\n",
    "\n",
    "\n",
    "function minus_energy_grad(t, a, dadt, v, dvdt)\n",
    "    dvdt[1] += -2*(a[1] - 1)\n",
    "    for i = 2:9\n",
    "        dvdt[i] += -2*a[i]\n",
    "    end\n",
    "    return dvdt\n",
    "end\n",
    "\n",
    "\n",
    "objfun(u::AbstractVector) = (u[1] - 1)^2 + sum(u[i]^2 for i = 2:9)\n",
    "function objfun(t, u, dudt, I, dIdt)\n",
    "    return dIdt[1] = (u[1] - 1)^2 + sum(u[i]^2 for i = 2:9)\n",
    "end\n",
    "function objfun(xq::Coupled)\n",
    "    return objfun(xq[1])\n",
    "end\n",
    "\n",
    "\n",
    "function Objective_fun_CTRL(η::AbstractVector)\n",
    "    f = NineModeSystemCTRL(Re, ts, η)\n",
    "    ϕ = flow(couple(f,objfun),RK4(couple(zeros(9),zeros(1))), TimeStepConstant(timestep))\n",
    "    I0 = Float64[0.0]\n",
    "    u0_local = copy(u0)\n",
    "    ϕ(couple(u0_local, I0), extrema(ts))\n",
    "    return I0[1]/T + α.*η2int(η, timestep)\n",
    "end\n",
    "\n",
    "function Objective_fun_CTRL1(η::AbstractVector)\n",
    "    \n",
    "#     function firstel(u::AbstractVector)\n",
    "#         return u[1]\n",
    "#     end\n",
    "#     function firstel(t, u, dudt, I, dIdt)\n",
    "#         return dIdt[1] = firstel(u)\n",
    "#     end\n",
    "#     function firstel(xq::Coupled)\n",
    "#         return firstel(xq[1])\n",
    "#     end\n",
    "    \n",
    "    f = NineModeSystemCTRL(Re, ts, η)\n",
    "    F = flow(couple(f, objfun), RK4(couple(zeros(9), zeros(1))), TimeStepConstant(timestep))\n",
    "    I0 = Float64[0.0]\n",
    "    u0_local = copy(u0)\n",
    "    mon = Monitor(couple(zeros(9), zeros(1)), objfun)\n",
    "    F(couple(u0_local,I0), extrema(ts), reset!(mon))\n",
    "    times(mon)\n",
    "    samples(mon)\n",
    "    plot(times(mon), samples(mon))\n",
    "    xlabel(L\"t\")\n",
    "    ylabel(L\"objfun(t)\")\n",
    "end\n",
    "\n",
    "function Objective_fun_Gradient!(G::AbstractVector,η::AbstractVector)\n",
    "    f = NineModeSystemCTRL(Re, ts, η)\n",
    "    ϕ = flow(f,RK4(zeros(9)), TimeStepConstant(timestep))\n",
    "    u0_local = copy(u0)\n",
    "    ϕ(u0_local, (0, T), reset!(store))\n",
    "    \n",
    "    h = NineModeSystemLin(Re, true, minus_energy_grad)\n",
    "    ψ_adj = flow(h, RK4(zeros(9), ContinuousMode(true)), TimeStepFromStorage(timestep))\n",
    "    mon = Monitor(zeros(9), q -> -B[5]*q[5])\n",
    "    ψ_adj(zeros(9), store, (T, 0), reset!(mon))\n",
    "    G .= samples(mon)[end:-1:1] .+ 2.0.*α.*η\n",
    "end\n",
    "\n",
    "\n",
    "# result = optimize(Objective_fun_CTRL, Objective_fun_Gradient!, zeros(length(ts)),LBFGS(),Optim.Options(f_tol = 1e-6,\n",
    "#                              store_trace = true,\n",
    "#                              show_trace = true))\n",
    "\n",
    "# η = zeros(length(ts))\n",
    "# f = NineModeSystemCTRL(Re, ts, η)\n",
    "# ϕ = flow(f,RK4(zeros(9)), TimeStepConstant(timestep))\n",
    "# u0_local = copy(u0)\n",
    "# ϕ(u0_local, (0, T), reset!(store))\n",
    "    \n",
    "# h = NineModeSystemLin(Re, true, minus_energy_grad)\n",
    "# ψ_adj = flow(h, RK4(zeros(9), ContinuousMode(true)), TimeStepFromStorage(timestep))\n",
    "# mon = Monitor(zeros(9), q -> -B[5]*q[5])\n",
    "# ψ_adj(zeros(9), store, (T, 0), reset!(mon))\n",
    "# G = samples(mon)\n",
    "# times(mon)\n",
    "# samples(mon)\n",
    "\n",
    "\n",
    "# h(0.0, a, dadt, q, dqdt)\n",
    "# f = NineModeSystem(Re)\n",
    "# ϕ = flow(f, RK4(zeros(9)), TimeStepConstant(1))\n",
    "# ϕ(a, (0, T), reset!(store))\n",
    "# ψ_adj = flow(h, RK4(zeros(9), ContinuousMode(true)), TimeStepFromStorage(1))\n",
    "# mon = Monitor(zeros(9), q -> q[5])\n",
    "# ψ_adj(q, store, (T, 0), reset!(mon))\n",
    "# samples(mon)\n",
    "# times(mon)\n",
    "\n",
    "# u0 = rand(9)\n",
    "# f  = NineModeSystem(1000)\n",
    "\n",
    "# objfun(u::AbstractVector) = (u[1] - 1)^2 + sum(u[i]^2 for i = 2:9)\n",
    "\n",
    "# function objfun(t, u, dudt, I, dIdt)\n",
    "#     return dIdt[1] = (u[1] - 1)^2 + sum(u[i]^2 for i = 2:9)\n",
    "# end\n",
    "\n",
    "# function objfun(xq::Coupled)\n",
    "#     return objfun(xq[1])\n",
    "# end\n",
    "\n",
    "# ϕ = flow(couple(f, objfun), RK4(couple(zeros(9), zeros(1))), TimeStepConstant(1))\n",
    "# I0 = Float64[0.0]\n",
    "# ϕ(couple(u0, I0), (0, 10000))\n",
    "# #I0/10000\n",
    "# mon = Monitor(couple(zeros(9), zeros(1)), objfun)\n",
    "\n",
    "# I1 = Float64[0]\n",
    "# @time ϕ(couple(u0, I1), (0, 10000), reset!(mon))\n",
    "\n",
    "# times(mon)\n",
    "# samples(mon)\n",
    "\n",
    "# figure(1)\n",
    "# clf()\n",
    "\n",
    "# plot(times(mon), samples(mon))\n",
    "# xlabel(L\"t\")\n",
    "# ylabel(L\"cost a_1(t)\")"
   ]
  },
  {
   "cell_type": "code",
   "execution_count": 17,
   "metadata": {},
   "outputs": [
    {
     "data": {
      "text/plain": [
       "PyObject Text(55.847222222222214, 0.5, '$objfun(t)$')"
      ]
     },
     "execution_count": 17,
     "metadata": {},
     "output_type": "execute_result"
    }
   ],
   "source": [
    "η = result.minimizer\n",
    "Objective_fun_CTRL1(η)\n",
    "# η = sin.(ts)\n",
    "# f = NineModeSystemCTRL(Re, ts, η)\n",
    "# ϕ = flow(f,RK4(zeros(9)), TimeStepConstant(timestep))\n",
    "# u0_local = copy(u0)\n",
    "# ϕ(u0_local, (0, T), reset!(store))\n",
    "    \n",
    "# h = NineModeSystemLin(Re, true, minus_energy_grad)\n",
    "# ψ_adj = flow(h, RK4(zeros(9), ContinuousMode(true)), TimeStepFromStorage(timestep))\n",
    "# mon = Monitor(zeros(9), q -> -B[5]*q[5])\n",
    "# ψ_adj(zeros(9), store, (T, 0), mon)\n",
    "# η = samples(mon)"
   ]
  },
  {
   "cell_type": "code",
   "execution_count": 18,
   "metadata": {},
   "outputs": [
    {
     "data": {
      "text/plain": [
       "NaN"
      ]
     },
     "execution_count": 18,
     "metadata": {},
     "output_type": "execute_result"
    }
   ],
   "source": [
    "Objective_fun_CTRL(zeros(length(ts)))"
   ]
  },
  {
   "cell_type": "code",
   "execution_count": null,
   "metadata": {},
   "outputs": [],
   "source": []
  }
 ],
 "metadata": {
  "kernelspec": {
   "display_name": "Julia 1.2.0",
   "language": "julia",
   "name": "julia-1.2"
  },
  "language_info": {
   "file_extension": ".jl",
   "mimetype": "application/julia",
   "name": "julia",
   "version": "1.2.0"
  }
 },
 "nbformat": 4,
 "nbformat_minor": 4
}
