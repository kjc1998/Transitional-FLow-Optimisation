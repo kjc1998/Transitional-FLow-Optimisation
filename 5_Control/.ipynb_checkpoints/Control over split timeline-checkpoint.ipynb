{
 "cells": [
  {
   "cell_type": "code",
   "execution_count": 1,
   "metadata": {},
   "outputs": [
    {
     "name": "stderr",
     "output_type": "stream",
     "text": [
      "┌ Info: Recompiling stale cache file C:\\Users\\Kaijie\\.julia\\compiled\\v1.2\\ToySystems\\chsON.ji for ToySystems [53c88820-6eff-5a8c-9a74-badd815e7be1]\n",
      "└ @ Base loading.jl:1240\n",
      "┌ Warning: Package ToySystems does not have Flows in its dependencies:\n",
      "│ - If you have ToySystems checked out for development and have\n",
      "│   added Flows as a dependency but haven't updated your primary\n",
      "│   environment's manifest file, try `Pkg.resolve()`.\n",
      "│ - Otherwise you may need to report an issue with ToySystems\n",
      "└ Loading Flows into ToySystems from project dependency, future warnings for ToySystems are suppressed.\n"
     ]
    },
    {
     "data": {
      "text/plain": [
       "η2int (generic function with 1 method)"
      ]
     },
     "execution_count": 1,
     "metadata": {},
     "output_type": "execute_result"
    }
   ],
   "source": [
    "using Flows\n",
    "using ToySystems\n",
    "using ToySystems.NineModeSystemEq\n",
    "using Optim\n",
    "using PyPlot; pygui(true)\n",
    "include(\"9msctrl.jl\")"
   ]
  },
  {
   "cell_type": "code",
   "execution_count": 2,
   "metadata": {},
   "outputs": [
    {
     "data": {
      "text/plain": [
       "Continuous_CTRL_Objfun (generic function with 1 method)"
      ]
     },
     "execution_count": 2,
     "metadata": {},
     "output_type": "execute_result"
    }
   ],
   "source": [
    "# Re = 500\n",
    "# u0 = rand(9)\n",
    "# T     = 1000\n",
    "# ts = 0:timestep:T\n",
    "\n",
    "timestep = 0.5\n",
    "α = 0.2\n",
    "\n",
    "dadt = zeros(9)\n",
    "q    = zeros(9)\n",
    "dqdt = zeros(9)\n",
    "store = RAMStorage(zeros(9))\n",
    "B = [0,0,0,0,1,0,0,0,0]\n",
    "\n",
    "\n",
    "objfun(u::AbstractVector) = (u[1] - 1)^2 + sum(u[i]^2 for i = 2:9)\n",
    "function objfun(t, u, dudt, I, dIdt)\n",
    "    return dIdt[1] = (u[1] - 1)^2 + sum(u[i]^2 for i = 2:9)\n",
    "end\n",
    "function objfun(xq::Coupled)\n",
    "    return objfun(xq[1])\n",
    "end\n",
    "\n",
    "\n",
    "function minus_energy_grad(t, a, dadt, v, dvdt)\n",
    "    dvdt[1] += -2*(a[1] - 1)\n",
    "    for i = 2:9\n",
    "        dvdt[i] += -2*a[i]\n",
    "    end\n",
    "    return dvdt\n",
    "end\n",
    "\n",
    "\n",
    "\n",
    "\n",
    "# function Objective_fun_CTRL1(η::AbstractVector)\n",
    "#     f = NineModeSystemCTRL(Re, ts, η)\n",
    "#     F = flow(couple(f, objfun), RK4(couple(zeros(9), zeros(1))), TimeStepConstant(timestep))\n",
    "#     I0 = Float64[0.0]\n",
    "#     u0_local = copy(u0)\n",
    "#     mon = Monitor(couple(zeros(9), zeros(1)), objfun)\n",
    "#     F(couple(u0_local,I0), extrema(ts), reset!(mon))\n",
    "#     times(mon)\n",
    "#     samples(mon)\n",
    "#     plot(times(mon), samples(mon))\n",
    "#     xlabel(L\"t\")\n",
    "#     ylabel(L\"objfun(t)\")\n",
    "# end\n",
    "    \n",
    "\n",
    "function Continuous_CTRL_Objfun(Reynolds,Final_Time,uinitial,n)\n",
    "    u0 = uinitial\n",
    "    Re = Reynolds\n",
    "    Tf = Final_Time\n",
    "    T = Tf/n\n",
    "    Tfn = T\n",
    "    Ti = 0\n",
    "    ts = Ti:timestep:Tfn\n",
    "    output_CTRL = zeros(1)\n",
    "    \n",
    "    for i in 1:n\n",
    "        \n",
    "        \n",
    "        function Objective_fun_CTRL(η::AbstractVector) ##Take note on Re, T, and u0\n",
    "            f = NineModeSystemCTRL(Re, ts, η)\n",
    "            ϕ = flow(couple(f,objfun),RK4(couple(zeros(9),zeros(1))), TimeStepConstant(timestep))\n",
    "            I0 = Float64[0.0]\n",
    "            u0_local = copy(u0)\n",
    "            ϕ(couple(u0_local, I0), extrema(ts))\n",
    "            return I0[1]/T + α.*η2int(η, timestep) ## T is a constant\n",
    "        end\n",
    "        function Objective_fun_Gradient!(G::AbstractVector,η::AbstractVector)\n",
    "            f = NineModeSystemCTRL(Re, ts, η)\n",
    "            ϕ = flow(f,RK4(zeros(9)), TimeStepConstant(timestep))\n",
    "            u0_local = copy(u0)\n",
    "            ϕ(u0_local, (Ti, Tfn), reset!(store))\n",
    "\n",
    "            h = NineModeSystemLin(Re, true, minus_energy_grad)\n",
    "            ψ_adj = flow(h, RK4(zeros(9), ContinuousMode(true)), TimeStepFromStorage(timestep))\n",
    "            mon = Monitor(zeros(9), q -> -B[5]*q[5])\n",
    "            ψ_adj(zeros(9), store, (Tfn, Ti), reset!(mon))\n",
    "            G .= samples(mon)[end:-1:1] .+ 2.0.*α.*η\n",
    "        end\n",
    "        function finalpoint(η)\n",
    "            u0_local = copy(u0)\n",
    "            f = NineModeSystemCTRL(Re, ts, η)\n",
    "            F = flow(f, RK4(zeros(9)), TimeStepConstant(timestep))\n",
    "            return F(u0_local, extrema(ts))\n",
    "        end\n",
    "        \n",
    "        \n",
    "        result = optimize(Objective_fun_CTRL, Objective_fun_Gradient!, zeros(length(ts)),LBFGS(),Optim.Options(f_tol = 1e-6,\n",
    "                             store_trace = false,\n",
    "                             show_trace = false))\n",
    "        η = result.minimizer\n",
    "        output_CTRL = vcat(output_CTRL, result.minimizer)\n",
    "        u0 = finalpoint(η)\n",
    "        \n",
    "        Ti = Tfn + timestep\n",
    "        Tfn = Tfn + T\n",
    "        ts = Ti:timestep: Tfn\n",
    "    end\n",
    "    return output_CTRL[2:end]\n",
    "end\n",
    "# result = optimize(Objective_fun_CTRL, Objective_fun_Gradient!, zeros(length(ts)),LBFGS(),Optim.Options(f_tol = 1e-6,\n",
    "#                              store_trace = true,\n",
    "#                              show_trace = true))"
   ]
  },
  {
   "cell_type": "code",
   "execution_count": null,
   "metadata": {},
   "outputs": [],
   "source": []
  },
  {
   "cell_type": "code",
   "execution_count": 47,
   "metadata": {},
   "outputs": [
    {
     "data": {
      "text/plain": [
       "Objective_fun_CTRL1 (generic function with 3 methods)"
      ]
     },
     "execution_count": 47,
     "metadata": {},
     "output_type": "execute_result"
    }
   ],
   "source": [
    "using PyCall\n",
    "plt = pyimport(\"matplotlib.pyplot\")\n",
    "\n",
    "function Objective_fun_CTRL1(η::AbstractVector, uinitial, ts, Re, title)\n",
    "    \n",
    "#     function firstel(u::AbstractVector)\n",
    "#         return u[1]\n",
    "#     end\n",
    "#     function firstel(t, u, dudt, I, dIdt)\n",
    "#         return dIdt[1] = firstel(u)\n",
    "#     end\n",
    "#     function firstel(xq::Coupled)\n",
    "#         return firstel(xq[1])\n",
    "#     end\n",
    "    \n",
    "    f = NineModeSystemCTRL(Re, ts, η)\n",
    "    F = flow(couple(f, objfun), RK4(couple(zeros(9), zeros(1))), TimeStepConstant(timestep))\n",
    "    I0 = Float64[0.0]\n",
    "    u0_local = copy(uinitial)\n",
    "    mon = Monitor(couple(zeros(9), zeros(1)), objfun)\n",
    "    out = F(couple(u0_local,I0), extrema(ts), reset!(mon))\n",
    "    times(mon)\n",
    "    samples(mon)\n",
    "    \n",
    "    fig = plt.figure()\n",
    "    ax = plt.subplot(111)\n",
    "    ax.plot(times(mon), samples(mon), label=\"$title\")\n",
    "#     ax.xlabel(L\"t\")\n",
    "#     ax.ylabel(L\"objfun(t)\")\n",
    "    ax.legend()\n",
    "    plt.show()\n",
    "#     plot(times(mon), samples(mon))\n",
    "#     legend(\"$title\")\n",
    "    return out\n",
    "end"
   ]
  },
  {
   "cell_type": "code",
   "execution_count": 49,
   "metadata": {},
   "outputs": [
    {
     "data": {
      "text/plain": [
       "2-element Coupled{2,Tuple{Array{Float64,1},Array{Float64,1}}}:\n",
       " [0.9999999999999865, 1.3314039651791603e-23, -3.5330073019574793e-26, 2.9203619301242065e-21, 9.796330018968928e-22, -3.4022855781363024e-28, 3.3354345943965043e-26, -6.866324627403244e-27, -9.546593228810603e-48]\n",
       " [615.943074964717]                                                                                                                                                                                                   "
      ]
     },
     "execution_count": 49,
     "metadata": {},
     "output_type": "execute_result"
    }
   ],
   "source": [
    "uinitial = rand(9)\n",
    "final = Continuous_CTRL_Objfun(300, 5000, uinitial, 5)\n",
    "Objective_fun_CTRL1(final, uinitial, 0:0.5:5000, 300, \"qwer\")"
   ]
  },
  {
   "cell_type": "code",
   "execution_count": 42,
   "metadata": {},
   "outputs": [
    {
     "data": {
      "text/plain": [
       "2-element Coupled{2,Tuple{Array{Float64,1},Array{Float64,1}}}:\n",
       " [0.9999999999999865, -1.4509565810963313e-19, 3.850530465169097e-22, 2.102610032894204e-19, 1.252335269942998e-18, 6.5291729586637175e-24, -3.908921191682189e-23, 3.355248388145858e-25, -1.1338808875219989e-39]\n",
       " [892.178782792496]                                                                                                                                                                                                "
      ]
     },
     "execution_count": 42,
     "metadata": {},
     "output_type": "execute_result"
    }
   ],
   "source": [
    "final2 = Continuous_CTRL_Objfun(300, 5000, uinitial, 1)\n",
    "Objective_fun_CTRL1(final2, uinitial, 0:0.5:5000, 300, 2)"
   ]
  },
  {
   "cell_type": "code",
   "execution_count": 57,
   "metadata": {},
   "outputs": [
    {
     "data": {
      "text/plain": [
       "0.1:0.1:0.5"
      ]
     },
     "execution_count": 57,
     "metadata": {},
     "output_type": "execute_result"
    }
   ],
   "source": [
    "Tfg = 1000\n",
    "Reg = 400\n",
    "timestep = 0.5\n",
    "tsg = 0:0.5:1000\n",
    "\n",
    "α_range = 0.1:0.1:0.5"
   ]
  },
  {
   "cell_type": "code",
   "execution_count": 58,
   "metadata": {},
   "outputs": [],
   "source": [
    "u0 = rand(9)\n",
    "n1 = 0\n",
    "n2 = 1\n",
    "x_array = ts\n",
    "y_array = zeros(2*length(ts), length(α_range))\n",
    "for i in 1:length(α_range)\n",
    "    α = α_range[i]\n",
    "    final = Continuous_CTRL_Objfun(Reg, Tfg, u0, 5)\n",
    "    final2 = Continuous_CTRL_Objfun(Reg, Tfg, u0, 1)\n",
    "    \n",
    "    ff = NineModeSystemCTRL(Reg, tsg, final)\n",
    "    F = flow(couple(ff, objfun), RK4(couple(zeros(9), zeros(1))), TimeStepConstant(timestep))\n",
    "    I0 = Float64[0.0]\n",
    "    u0_local = copy(u0)\n",
    "    mon = Monitor(couple(zeros(9), zeros(1)), objfun)\n",
    "    F(couple(u0_local,I0), extrema(ts), reset!(mon))\n",
    "    y_array[1:length(ts),i] = samples(mon)\n",
    "    \n",
    "    ff = NineModeSystemCTRL(Reg, tsg, final2)\n",
    "    F = flow(couple(ff, objfun), RK4(couple(zeros(9), zeros(1))), TimeStepConstant(timestep))\n",
    "    I0 = Float64[0.0]\n",
    "    u0_local = copy(u0)\n",
    "    mon = Monitor(couple(zeros(9), zeros(1)), objfun)\n",
    "    F(couple(u0_local,I0), extrema(ts), reset!(mon))\n",
    "    y_array[length(ts)+1:end, i] = samples(mon)\n",
    "end"
   ]
  },
  {
   "cell_type": "code",
   "execution_count": 68,
   "metadata": {},
   "outputs": [
    {
     "data": {
      "text/plain": [
       "PyObject <matplotlib.legend.Legend object at 0x0000000001499B38>"
      ]
     },
     "execution_count": 68,
     "metadata": {},
     "output_type": "execute_result"
    }
   ],
   "source": [
    "fig,(ax1,ax2,ax3,ax4,ax5) = plt.subplots(5)\n",
    "ax1.plot(x_array,y_array[1:length(ts),1], label = \"5split_0.1\")\n",
    "ax1.plot(x_array,y_array[length(ts)+1:end,1], label = \"one_0.1\")\n",
    "ax1.legend()\n",
    "ax2.plot(x_array,y_array[1:length(ts),2], label = \"5split_0.2\")\n",
    "ax2.plot(x_array,y_array[length(ts)+1:end,2], label = \"one_0.2\")\n",
    "ax2.legend()\n",
    "ax3.plot(x_array,y_array[1:length(ts),3], label = \"5split_0.3\")\n",
    "ax3.plot(x_array,y_array[length(ts)+1:end,3], label = \"one_0.3\")\n",
    "ax3.legend()\n",
    "ax4.plot(x_array,y_array[1:length(ts),4], label = \"5split_0.4\")\n",
    "ax4.plot(x_array,y_array[length(ts)+1:end,4], label = \"one_0.4\")\n",
    "ax4.legend()\n",
    "ax5.plot(x_array,y_array[1:length(ts),5], label = \"5split_0.5\")\n",
    "ax5.plot(x_array,y_array[length(ts)+1:end,5], label = \"one_0.5\")\n",
    "ax5.legend()"
   ]
  },
  {
   "cell_type": "code",
   "execution_count": 60,
   "metadata": {},
   "outputs": [
    {
     "data": {
      "text/plain": [
       "4002×5 Array{Float64,2}:\n",
       " 3.2937       3.2937    3.2937    3.2937    3.2937    \n",
       " 2.90981      2.9316    2.9355    2.94155   2.93291   \n",
       " 3.01732      3.0441    3.05023   3.05795   3.04487   \n",
       " 3.38865      3.4107    3.41683   3.42376   3.41129   \n",
       " 3.65905      3.67128   3.67564   3.68051   3.67225   \n",
       " 3.5613       3.56128   3.56297   3.5651    3.56264   \n",
       " 3.09066      3.07773   3.0764    3.07546   3.07889   \n",
       " 2.49437      2.46981   2.46552   2.46147   2.46979   \n",
       " 2.10239      2.07001   2.06333   2.05645   2.06765   \n",
       " 2.12003      2.08488   2.07681   2.06755   2.07904   \n",
       " 2.51417      2.47892   2.47011   2.45854   2.46867   \n",
       " 3.05316      3.01449   3.00421   2.98934   2.99893   \n",
       " 3.45108      3.40053   3.38683   3.36669   3.37811   \n",
       " ⋮                                                    \n",
       " 0.000151904  0.644475  0.183542  0.295321  0.00922411\n",
       " 0.000150962  0.641703  0.186125  0.292182  0.00916334\n",
       " 0.000150024  0.63894   0.188979  0.289066  0.00910287\n",
       " 0.000149093  0.636187  0.192139  0.285977  0.00904274\n",
       " 0.000148168  0.633441  0.195638  0.28292   0.00898298\n",
       " 0.000147248  0.630702  0.199512  0.279899  0.00892361\n",
       " 0.000146335  0.627968  0.203795  0.276919  0.00886468\n",
       " 0.000145427  0.625238  0.208518  0.273985  0.00880621\n",
       " 0.000144525  0.622512  0.213709  0.271101  0.00874822\n",
       " 0.000143629  0.619788  0.219393  0.268271  0.00869075\n",
       " 0.000142738  0.617065  0.225585  0.265498  0.00863382\n",
       " 0.000141853  0.614342  0.232292  0.262784  0.00857745"
      ]
     },
     "execution_count": 60,
     "metadata": {},
     "output_type": "execute_result"
    }
   ],
   "source": []
  },
  {
   "cell_type": "code",
   "execution_count": null,
   "metadata": {},
   "outputs": [],
   "source": []
  }
 ],
 "metadata": {
  "kernelspec": {
   "display_name": "Julia 1.2.0",
   "language": "julia",
   "name": "julia-1.2"
  },
  "language_info": {
   "file_extension": ".jl",
   "mimetype": "application/julia",
   "name": "julia",
   "version": "1.2.0"
  }
 },
 "nbformat": 4,
 "nbformat_minor": 4
}
