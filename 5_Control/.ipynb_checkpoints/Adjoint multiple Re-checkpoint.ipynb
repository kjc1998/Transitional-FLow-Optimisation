{
 "cells": [
  {
   "cell_type": "code",
   "execution_count": 1,
   "metadata": {},
   "outputs": [
    {
     "name": "stderr",
     "output_type": "stream",
     "text": [
      "┌ Info: Recompiling stale cache file C:\\Users\\Kaijie\\.julia\\compiled\\v1.2\\ToySystems\\chsON.ji for ToySystems [53c88820-6eff-5a8c-9a74-badd815e7be1]\n",
      "└ @ Base loading.jl:1240\n",
      "┌ Warning: Package ToySystems does not have Flows in its dependencies:\n",
      "│ - If you have ToySystems checked out for development and have\n",
      "│   added Flows as a dependency but haven't updated your primary\n",
      "│   environment's manifest file, try `Pkg.resolve()`.\n",
      "│ - Otherwise you may need to report an issue with ToySystems\n",
      "└ Loading Flows into ToySystems from project dependency, future warnings for ToySystems are suppressed.\n"
     ]
    }
   ],
   "source": [
    "using Flows\n",
    "using ToySystems\n",
    "using ToySystems.NineModeSystemEq\n",
    "using Optim\n",
    "using PyPlot; pygui(true)\n",
    "include(\"9msctrl.jl\")"
   ]
  },
  {
   "cell_type": "code",
   "execution_count": 21,
   "metadata": {},
   "outputs": [],
   "source": [
    "Re_step = 10\n",
    "Re_max = 500\n",
    "Re = 1:Re_step:Re_max\n",
    "u0 = rand(9)\n",
    "dadt = zeros(9)\n",
    "q    = zeros(9)\n",
    "dqdt = zeros(9)\n",
    "T     = 100\n",
    "timestep = 0.01\n",
    "ts = 0:timestep:T\n",
    "store = RAMStorage(zeros(9))\n",
    "B = [0,0,0,0,1,0,0,0,0];"
   ]
  },
  {
   "cell_type": "code",
   "execution_count": 22,
   "metadata": {},
   "outputs": [
    {
     "data": {
      "text/plain": [
       "Multiple_Re (generic function with 2 methods)"
      ]
     },
     "execution_count": 22,
     "metadata": {},
     "output_type": "execute_result"
    }
   ],
   "source": [
    "function minus_energy_grad(t, a, dadt, v, dvdt)\n",
    "    dvdt[1] += -2*(a[1] - 1)\n",
    "    for i = 2:9\n",
    "        dvdt[i] += -2*a[i]\n",
    "    end\n",
    "    return dvdt\n",
    "end\n",
    "\n",
    "\n",
    "objfun(u::AbstractVector) = (u[1] - 1)^2 + sum(u[i]^2 for i = 2:9)\n",
    "function objfun(t, u, dudt, I, dIdt)\n",
    "    return dIdt[1] = (u[1] - 1)^2 + sum(u[i]^2 for i = 2:9)\n",
    "end\n",
    "function objfun(xq::Coupled)\n",
    "    return objfun(xq[1])\n",
    "end\n",
    "\n",
    "function Multiple_Re(Re::Real)\n",
    "    \n",
    "    function Objective_fun_CTRL(η::AbstractVector)\n",
    "        f = NineModeSystemCTRL(Re, ts, η)\n",
    "        ϕ = flow(couple(f,objfun),RK4(couple(zeros(9),zeros(1))), TimeStepConstant(timestep))\n",
    "        I0 = Float64[0.0]\n",
    "        u0_local = copy(u0)\n",
    "        ϕ(couple(u0_local, I0), extrema(ts))\n",
    "        return I0[1]/T\n",
    "    end\n",
    "\n",
    "    function Objective_fun_Gradient!(G::AbstractVector,η::AbstractVector)\n",
    "        f = NineModeSystemCTRL(Re, ts, η)\n",
    "        ϕ = flow(f,RK4(zeros(9)), TimeStepConstant(timestep))\n",
    "        u0_local = copy(u0)\n",
    "        ϕ(u0_local, (0, T), reset!(store))\n",
    "\n",
    "        h = NineModeSystemLin(Re, true, minus_energy_grad)\n",
    "        ψ_adj = flow(h, RK4(zeros(9), ContinuousMode(true)), TimeStepFromStorage(timestep))\n",
    "        mon = Monitor(zeros(9), q -> -B[5]*q[5])\n",
    "        ψ_adj(zeros(9), store, (T, 0), reset!(mon))\n",
    "        G .= samples(mon)[end:-1:1]\n",
    "    end\n",
    "\n",
    "    return optimize(Objective_fun_CTRL, Objective_fun_Gradient!, zeros(length(ts)),LBFGS(),Optim.Options(f_tol = 1e-6,\n",
    "                                 store_trace = true,\n",
    "                                 show_trace = false))\n",
    "end\n",
    "\n",
    "\n",
    "function Multiple_Re(Re::AbstractVector)\n",
    "    array = zeros(length(ts))\n",
    "    for i in 1:length(Re)\n",
    "        Re1 = Re[i]\n",
    "        function Objective_fun_CTRL(η::AbstractVector)\n",
    "            f = NineModeSystemCTRL(Re1, ts, η)\n",
    "            ϕ = flow(couple(f,objfun),RK4(couple(zeros(9),zeros(1))), TimeStepConstant(timestep))\n",
    "            I0 = Float64[0.0]\n",
    "            u0_local = copy(u0)\n",
    "            ϕ(couple(u0_local, I0), extrema(ts))\n",
    "            return I0[1]/T\n",
    "        end\n",
    "\n",
    "        function Objective_fun_Gradient!(G::AbstractVector,η::AbstractVector)\n",
    "            f = NineModeSystemCTRL(Re1, ts, η)\n",
    "            ϕ = flow(f,RK4(zeros(9)), TimeStepConstant(timestep))\n",
    "            u0_local = copy(u0)\n",
    "            ϕ(u0_local, (0, T), reset!(store))\n",
    "\n",
    "            h = NineModeSystemLin(Re1, true, minus_energy_grad)\n",
    "            ψ_adj = flow(h, RK4(zeros(9), ContinuousMode(true)), TimeStepFromStorage(timestep))\n",
    "            mon = Monitor(zeros(9), q -> -B[5]*q[5])\n",
    "            ψ_adj(zeros(9), store, (T, 0), reset!(mon))\n",
    "            G .= samples(mon)[end:-1:1]\n",
    "        end\n",
    "\n",
    "        output = optimize(Objective_fun_CTRL, Objective_fun_Gradient!, zeros(length(ts)),LBFGS(),Optim.Options(f_tol = 1e-6,\n",
    "                                     store_trace = true,\n",
    "                                     show_trace = false))\n",
    "        array = hcat(array,output.minimizer)\n",
    "    end\n",
    "    array = array[:,2:end]\n",
    "    return array\n",
    "end"
   ]
  },
  {
   "cell_type": "code",
   "execution_count": 27,
   "metadata": {},
   "outputs": [
    {
     "data": {
      "text/plain": [
       "Multiple_timestep (generic function with 1 method)"
      ]
     },
     "execution_count": 27,
     "metadata": {},
     "output_type": "execute_result"
    }
   ],
   "source": [
    "function minus_energy_grad(t, a, dadt, v, dvdt)\n",
    "    dvdt[1] += -2*(a[1] - 1)\n",
    "    for i = 2:9\n",
    "        dvdt[i] += -2*a[i]\n",
    "    end\n",
    "    return dvdt\n",
    "end\n",
    "\n",
    "\n",
    "objfun(u::AbstractVector) = (u[1] - 1)^2 + sum(u[i]^2 for i = 2:9) #η?\n",
    "function objfun(t, u, dudt, I, dIdt)\n",
    "    return dIdt[1] = (u[1] - 1)^2 + sum(u[i]^2 for i = 2:9)\n",
    "end\n",
    "function objfun(xq::Coupled)\n",
    "    return objfun(xq[1])\n",
    "end\n",
    "\n",
    "function Multiple_timestep(δts::AbstractVector, Re::Real)\n",
    "    array = zeros(length(δts))\n",
    "    for i in 1:length(δts)\n",
    "        store = RAMStorage(zeros(9))\n",
    "        timestep1 = δts[i]\n",
    "#         if T != round(T/timestep1)*δts[i]\n",
    "#             T1 = (round(T/timestep1)+2)*δts[i]\n",
    "#         else \n",
    "#             T1 = round(T/timestep1)*δts[i]\n",
    "#         end\n",
    "        ts1 = 0:timestep1:T1\n",
    "        function Objective_fun_CTRL(η::AbstractVector)\n",
    "            f = NineModeSystemCTRL(Re, ts1, η)\n",
    "            ϕ = flow(couple(f,objfun),RK4(couple(zeros(9),zeros(1))), TimeStepConstant(timestep1))\n",
    "            I0 = Float64[0.0]\n",
    "            u0_local = copy(u0)\n",
    "            ϕ(couple(u0_local, I0), extrema(ts1))\n",
    "            return I0[1]/T1\n",
    "        end\n",
    "\n",
    "        function Objective_fun_Gradient!(G::AbstractVector,η::AbstractVector)\n",
    "            f = NineModeSystemCTRL(Re, ts1, η)\n",
    "            ϕ = flow(f,RK4(zeros(9)), TimeStepConstant(timestep1))\n",
    "            u0_local = copy(u0)\n",
    "            ϕ(u0_local, (0, T1), reset!(store))\n",
    "\n",
    "            h = NineModeSystemLin(Re, true, minus_energy_grad)\n",
    "            ψ_adj = flow(h, RK4(zeros(9), ContinuousMode(true)), TimeStepFromStorage(timestep1))\n",
    "            mon = Monitor(zeros(9), q -> -B[5]*q[5])\n",
    "            ψ_adj(zeros(9), store, (T1, 0), reset!(mon))\n",
    "            G .= samples(mon)[end:-1:1]\n",
    "        end\n",
    "\n",
    "        output = optimize(Objective_fun_CTRL, Objective_fun_Gradient!, zeros(length(ts1)),LBFGS(),Optim.Options(f_tol = 1e-6,\n",
    "                                     store_trace = true,\n",
    "                                     show_trace = false))\n",
    "        array[i] = output.minimum\n",
    "    end\n",
    "    return array\n",
    "end"
   ]
  },
  {
   "cell_type": "code",
   "execution_count": 7,
   "metadata": {},
   "outputs": [
    {
     "data": {
      "text/plain": [
       "1001×50 Array{Float64,2}:\n",
       " -108.953        -30.2375       …  -0.187991    -0.307977   -0.311423 \n",
       "  -47.3085       -26.4759          -0.166087    -0.275861   -0.279436 \n",
       "  -13.9351       -23.0678          -0.145091    -0.245244   -0.248929 \n",
       "    2.01104      -19.9863          -0.124973    -0.216071   -0.219846 \n",
       "    7.78818      -17.2065          -0.105704    -0.18829    -0.192136 \n",
       "    8.1372       -14.705        …  -0.0872569   -0.161848   -0.165747 \n",
       "    6.03006      -12.4597          -0.0696037   -0.136694   -0.140631 \n",
       "    3.22344      -10.4501          -0.052718    -0.112779   -0.116738 \n",
       "    0.662609      -8.6572          -0.0365739   -0.0900559  -0.0940236\n",
       "   -1.22862       -7.06297         -0.0211464   -0.0684784  -0.0724416\n",
       "   -2.3439        -5.65076      …  -0.00641082  -0.0480017  -0.0519484\n",
       "   -2.75432       -4.40501          0.00765659  -0.0285824  -0.0325016\n",
       "   -2.61537       -3.31124          0.021079    -0.0101786  -0.0140602\n",
       "    ⋮                           ⋱                                     \n",
       "   -0.0028163     -0.00306576       0.143947     0.171331    0.172079 \n",
       "   -0.00258804    -0.00297348   …   0.133615     0.159713    0.160374 \n",
       "   -0.00235192    -0.00285538       0.122779     0.14739     0.147968 \n",
       "   -0.00210871    -0.00270825       0.111425     0.134336    0.134832 \n",
       "   -0.00185914    -0.0025286        0.0995379    0.120522    0.120939 \n",
       "   -0.00160398    -0.00231264       0.0871011    0.105919    0.106262 \n",
       "   -0.00134402    -0.00205628   …   0.0740985    0.0904984   0.0907699\n",
       "   -0.00108004    -0.00175507       0.0605135    0.0742281   0.0744334\n",
       "   -0.00081285    -0.00140422       0.046329     0.0570765   0.0572209\n",
       "   -0.000543238   -0.000998552      0.0315274    0.0390108   0.0391002\n",
       "   -0.000272018   -0.000532485      0.0160906    0.0199969   0.020038 \n",
       "    0.0            0.0          …   0.0          0.0         0.0      "
      ]
     },
     "execution_count": 7,
     "metadata": {},
     "output_type": "execute_result"
    }
   ],
   "source": [
    "x = Multiple_Re(Re)"
   ]
  },
  {
   "cell_type": "code",
   "execution_count": 36,
   "metadata": {},
   "outputs": [
    {
     "ename": "ArgumentError",
     "evalue": "ArgumentError: time 21.6 is out of range timespan(store)",
     "output_type": "error",
     "traceback": [
      "ArgumentError: time 21.6 is out of range timespan(store)",
      "",
      "Stacktrace:",
      " [1] (::RAMStorage{Float64,Array{Float64,1},3,Array{Float64,1},Array{Array{Float64,1},1}})(::Array{Float64,1}, ::Float64, ::Val{0}) at C:\\Users\\Kaijie\\.julia\\packages\\Flows\\brO3V\\src\\storage.jl:267",
      " [2] RAMStorage at C:\\Users\\Kaijie\\.julia\\packages\\Flows\\brO3V\\src\\storage.jl:259 [inlined]",
      " [3] step!(::RK4{Array{Float64,1},ContinuousMode{true},NTuple{6,Array{Float64,1}}}, ::Flows.System{1,CallDependency{1,((1,),)}(),NineModeSystemLin{true,1,Tuple{typeof(minus_energy_grad)}},Nothing}, ::Float64, ::Float64, ::Array{Float64,1}, ::RAMStorage{Float64,Array{Float64,1},3,Array{Float64,1},Array{Array{Float64,1},1}}) at C:\\Users\\Kaijie\\.julia\\packages\\Flows\\brO3V\\src\\steps\\rk4.jl:64",
      " [4] _propagate!(::RK4{Array{Float64,1},ContinuousMode{true},NTuple{6,Array{Float64,1}}}, ::TimeStepFromStorage, ::Flows.System{1,CallDependency{1,((1,),)}(),NineModeSystemLin{true,1,Tuple{typeof(minus_energy_grad)}},Nothing}, ::Tuple{Float64,Float64}, ::Array{Float64,1}, ::RAMStorage{Float64,Array{Float64,1},3,Array{Float64,1},Array{Array{Float64,1},1}}, ::Monitor{Float64,Float64,RAMStorage{Float64,Float64,3,Array{Float64,1},Array{Float64,1}},getfield(Main, Symbol(\"##51#54\"))}) at C:\\Users\\Kaijie\\.julia\\packages\\Flows\\brO3V\\src\\integrator.jl:365",
      " [5] (::Flows.Flow{TimeStepFromStorage,RK4{Array{Float64,1},ContinuousMode{true},NTuple{6,Array{Float64,1}}},Flows.System{1,CallDependency{1,((1,),)}(),NineModeSystemLin{true,1,Tuple{typeof(minus_energy_grad)}},Nothing}})(::Array{Float64,1}, ::RAMStorage{Float64,Array{Float64,1},3,Array{Float64,1},Array{Array{Float64,1},1}}, ::Tuple{Float64,Int64}, ::Monitor{Float64,Float64,RAMStorage{Float64,Float64,3,Array{Float64,1},Array{Float64,1}},getfield(Main, Symbol(\"##51#54\"))}) at C:\\Users\\Kaijie\\.julia\\packages\\Flows\\brO3V\\src\\integrator.jl:152",
      " [6] (::getfield(Main, Symbol(\"#Objective_fun_Gradient!#53\")){Int64,RAMStorage{Float64,Array{Float64,1},3,Array{Float64,1},Array{Array{Float64,1},1}},Float64,StepRangeLen{Float64,Base.TwicePrecision{Float64},Base.TwicePrecision{Float64}}})(::Array{Float64,1}, ::Array{Float64,1}) at .\\In[27]:47",
      " [7] (::getfield(NLSolversBase, Symbol(\"#fg!#8\")){getfield(Main, Symbol(\"#Objective_fun_CTRL#52\")){Int64,Float64,StepRangeLen{Float64,Base.TwicePrecision{Float64},Base.TwicePrecision{Float64}}},getfield(Main, Symbol(\"#Objective_fun_Gradient!#53\")){Int64,RAMStorage{Float64,Array{Float64,1},3,Array{Float64,1},Array{Array{Float64,1},1}},Float64,StepRangeLen{Float64,Base.TwicePrecision{Float64},Base.TwicePrecision{Float64}}}})(::Array{Float64,1}, ::Array{Float64,1}) at C:\\Users\\Kaijie\\.julia\\packages\\NLSolversBase\\NsXIC\\src\\objective_types\\abstract.jl:13",
      " [8] value_gradient!!(::OnceDifferentiable{Float64,Array{Float64,1},Array{Float64,1}}, ::Array{Float64,1}) at C:\\Users\\Kaijie\\.julia\\packages\\NLSolversBase\\NsXIC\\src\\interface.jl:82",
      " [9] initial_state(::LBFGS{Nothing,LineSearches.InitialStatic{Float64},LineSearches.HagerZhang{Float64,Base.RefValue{Bool}},getfield(Optim, Symbol(\"##19#21\"))}, ::Optim.Options{Float64,Nothing}, ::OnceDifferentiable{Float64,Array{Float64,1},Array{Float64,1}}, ::Array{Float64,1}) at C:\\Users\\Kaijie\\.julia\\packages\\Optim\\EhyUl\\src\\multivariate\\solvers\\first_order\\l_bfgs.jl:158",
      " [10] optimize(::OnceDifferentiable{Float64,Array{Float64,1},Array{Float64,1}}, ::Array{Float64,1}, ::LBFGS{Nothing,LineSearches.InitialStatic{Float64},LineSearches.HagerZhang{Float64,Base.RefValue{Bool}},getfield(Optim, Symbol(\"##19#21\"))}, ::Optim.Options{Float64,Nothing}) at C:\\Users\\Kaijie\\.julia\\packages\\Optim\\EhyUl\\src\\multivariate\\optimize\\optimize.jl:33",
      " [11] #optimize#94(::Bool, ::Symbol, ::typeof(optimize), ::Function, ::Function, ::Array{Float64,1}, ::LBFGS{Nothing,LineSearches.InitialStatic{Float64},LineSearches.HagerZhang{Float64,Base.RefValue{Bool}},getfield(Optim, Symbol(\"##19#21\"))}, ::Optim.Options{Float64,Nothing}) at C:\\Users\\Kaijie\\.julia\\packages\\Optim\\EhyUl\\src\\multivariate\\optimize\\interface.jl:123",
      " [12] optimize(::Function, ::Function, ::Array{Float64,1}, ::LBFGS{Nothing,LineSearches.InitialStatic{Float64},LineSearches.HagerZhang{Float64,Base.RefValue{Bool}},getfield(Optim, Symbol(\"##19#21\"))}, ::Optim.Options{Float64,Nothing}) at C:\\Users\\Kaijie\\.julia\\packages\\Optim\\EhyUl\\src\\multivariate\\optimize\\interface.jl:121",
      " [13] Multiple_timestep(::StepRangeLen{Float64,Base.TwicePrecision{Float64},Base.TwicePrecision{Float64}}, ::Int64) at .\\In[27]:51",
      " [14] top-level scope at .\\In[36]:5"
     ]
    }
   ],
   "source": [
    "T = 20\n",
    "δts = 0.1:0.1:1\n",
    "Re = 100:100:500\n",
    "for i in 1:length(Re)\n",
    "    y_array = Multiple_timestep(δts, Re[i])\n",
    "    plot(δts, y_array)\n",
    "end"
   ]
  },
  {
   "cell_type": "code",
   "execution_count": null,
   "metadata": {},
   "outputs": [],
   "source": []
  }
 ],
 "metadata": {
  "kernelspec": {
   "display_name": "Julia 1.2.0",
   "language": "julia",
   "name": "julia-1.2"
  },
  "language_info": {
   "file_extension": ".jl",
   "mimetype": "application/julia",
   "name": "julia",
   "version": "1.2.0"
  }
 },
 "nbformat": 4,
 "nbformat_minor": 4
}
