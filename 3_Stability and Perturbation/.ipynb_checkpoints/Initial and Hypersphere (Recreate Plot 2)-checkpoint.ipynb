{
 "cells": [
  {
   "cell_type": "code",
   "execution_count": 12,
   "metadata": {},
   "outputs": [
    {
     "ename": "ErrorException",
     "evalue": "could not open file C:\\Users\\Kaijie\\Mahnitude Rand.jl",
     "output_type": "error",
     "traceback": [
      "could not open file C:\\Users\\Kaijie\\Mahnitude Rand.jl",
      "",
      "Stacktrace:",
      " [1] include at .\\boot.jl:328 [inlined]",
      " [2] include_relative(::Module, ::String) at .\\loading.jl:1094",
      " [3] include(::Module, ::String) at .\\Base.jl:31",
      " [4] include(::String) at .\\client.jl:431",
      " [5] top-level scope at In[12]:10"
     ]
    }
   ],
   "source": [
    "using Flows\n",
    "using ToySystems\n",
    "using ToySystems.NineModeSystemEq\n",
    "using Optim\n",
    "using PyPlot; pygui(true)\n",
    "include(\"9msctrl.jl\")\n",
    "include(\"Initial condition variation.jl\")\n",
    "include(\"Perturbation time.jl\")\n",
    "include(\"Contour Plots.jl\")\n",
    "include(\"Mahnitude Rand.jl\")\n",
    "import LinearAlgebra: norm"
   ]
  },
  {
   "cell_type": "code",
   "execution_count": 14,
   "metadata": {},
   "outputs": [
    {
     "data": {
      "text/plain": [
       "objfun (generic function with 3 methods)"
      ]
     },
     "execution_count": 14,
     "metadata": {},
     "output_type": "execute_result"
    }
   ],
   "source": [
    "include(\"Objective function Monitor.jl\")"
   ]
  },
  {
   "cell_type": "code",
   "execution_count": 40,
   "metadata": {},
   "outputs": [
    {
     "data": {
      "text/plain": [
       "AvObjInifr1 (generic function with 1 method)"
      ]
     },
     "execution_count": 40,
     "metadata": {},
     "output_type": "execute_result"
    }
   ],
   "source": [
    "timestepdifference = 0.5\n",
    "T = 10000\n",
    "\n",
    "\n",
    "function AvObjInifrd(n, scale, Re, d::Float64)\n",
    "    f  = NineModeSystem(Re)\n",
    "    ϕ = flow(couple(f, objfun), RK4(couple(zeros(9), zeros(1))), TimeStepConstant(timestepdifference))\n",
    "    output = zeros(n)\n",
    "    for i in 1:n\n",
    "        u0 = rand(9)\n",
    "        u0_local = mgscale(u0, scale) + [d,0.0,0.0,0.0,0.0,0.0,0.0,0.0,0.0]\n",
    "        I0 = Float64[0.0]\n",
    "        \n",
    "        mon = Monitor(couple(zeros(9), zeros(1)), objfun)\n",
    "        ϕ(couple(u0_local, I0), (0, T), reset!(mon))\n",
    "        output[i] = I0[1]/T\n",
    "    end\n",
    "    PyPlot.plot(1:n,output)\n",
    "    xlabel(L\"n\")\n",
    "    ylabel(L\"ObjectiveAverage\")\n",
    "end"
   ]
  },
  {
   "cell_type": "code",
   "execution_count": 45,
   "metadata": {},
   "outputs": [
    {
     "data": {
      "text/plain": [
       "PyObject Text(33.972222222222214, 0.5, '$ObjectiveAverage$')"
      ]
     },
     "execution_count": 45,
     "metadata": {},
     "output_type": "execute_result"
    }
   ],
   "source": [
    "AvObjInifrd(100, 0.1, 1000, 1.0) # 400 is the transition Re"
   ]
  },
  {
   "cell_type": "code",
   "execution_count": null,
   "metadata": {},
   "outputs": [],
   "source": []
  }
 ],
 "metadata": {
  "kernelspec": {
   "display_name": "Julia 1.2.0",
   "language": "julia",
   "name": "julia-1.2"
  },
  "language_info": {
   "file_extension": ".jl",
   "mimetype": "application/julia",
   "name": "julia",
   "version": "1.2.0"
  }
 },
 "nbformat": 4,
 "nbformat_minor": 4
}
