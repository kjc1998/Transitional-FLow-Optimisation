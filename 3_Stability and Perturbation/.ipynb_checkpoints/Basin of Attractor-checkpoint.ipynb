{
 "cells": [
  {
   "cell_type": "code",
   "execution_count": 1,
   "metadata": {},
   "outputs": [
    {
     "name": "stderr",
     "output_type": "stream",
     "text": [
      "┌ Info: Recompiling stale cache file C:\\Users\\Kaijie\\.julia\\compiled\\v1.2\\ToySystems\\chsON.ji for ToySystems [53c88820-6eff-5a8c-9a74-badd815e7be1]\n",
      "└ @ Base loading.jl:1240\n",
      "┌ Warning: Package ToySystems does not have Flows in its dependencies:\n",
      "│ - If you have ToySystems checked out for development and have\n",
      "│   added Flows as a dependency but haven't updated your primary\n",
      "│   environment's manifest file, try `Pkg.resolve()`.\n",
      "│ - Otherwise you may need to report an issue with ToySystems\n",
      "└ Loading Flows into ToySystems from project dependency, future warnings for ToySystems are suppressed.\n"
     ]
    }
   ],
   "source": [
    "using Flows\n",
    "using ToySystems\n",
    "using ToySystems.NineModeSystemEq\n",
    "using Optim\n",
    "using PyPlot; pygui(true)\n",
    "include(\"9msctrl.jl\")\n",
    "include(\"Initial condition variation.jl\")\n",
    "include(\"Perturbation time.jl\")\n",
    "include(\"Contour Plots.jl\")\n",
    "include(\"Magnitude Rand.jl\")\n",
    "include(\"Objective function Monitor.jl\")\n",
    "import LinearAlgebra: norm"
   ]
  },
  {
   "cell_type": "code",
   "execution_count": 2,
   "metadata": {},
   "outputs": [],
   "source": [
    "timestepdifference = 0.5\n",
    "T = 20000;"
   ]
  },
  {
   "cell_type": "code",
   "execution_count": 3,
   "metadata": {},
   "outputs": [],
   "source": [
    "# Rstepdifference = 0.02\n",
    "# Rstep = 0.05:Rstepdifference:0.5\n",
    "a = [i*10^-5 for i in 1:9]\n",
    "b = [i*10^-4 for i in 1:9]\n",
    "c = [i*10^-3 for i in 1:9]\n",
    "d = [i*10^-2 for i in 1:9]\n",
    "e = [i*10^-1 for i in 1:9]\n",
    "Rstep = vcat(a,b,c,d,e)\n",
    "\n",
    "using PyPlot; pygui(true)\n",
    "using PyCall\n",
    "np = pyimport(\"numpy\")\n",
    "sc = pyimport(\"scipy\")\n",
    "plt = pyimport(\"matplotlib.pyplot\");"
   ]
  },
  {
   "cell_type": "code",
   "execution_count": 11,
   "metadata": {},
   "outputs": [
    {
     "data": {
      "text/plain": [
       "stepvariation (generic function with 1 method)"
      ]
     },
     "execution_count": 11,
     "metadata": {},
     "output_type": "execute_result"
    }
   ],
   "source": [
    "function stepvariation(n, Rstep, Re)\n",
    "    Mean = zeros(length(Rstep))\n",
    "    Extreme = zeros(length(Rstep),2)\n",
    "    for i in 1:length(Rstep)\n",
    "        scale = Rstep[i]\n",
    "        extreme = zeros(length(n[1,:]))\n",
    "        mean = 0\n",
    "        for j in 1:length(n[1,:])\n",
    "            u0 = n[:,j]\n",
    "            u0_local = mgscale(u0, scale) + [1.0,0.0,0.0,0.0,0.0,0.0,0.0,0.0,0.0]\n",
    "            extreme[j] = P(u0_local, Re, T, timestepdifference)\n",
    "            mean = mean + extreme[j]\n",
    "        end\n",
    "        Mean[i] = mean/length(n[1,:])\n",
    "        Extreme[i,1],Extreme[i,2] = extrema(extreme)\n",
    "    end\n",
    "#     scatter(Rstep, Extreme[:,1])\n",
    "#     scatter(Rstep, Mean)\n",
    "#     plt.plot(np.unique(Rstep), np.poly1d(np.polyfit(Rstep, Mean, 2))(np.unique(Rstep)))\n",
    "    return Mean\n",
    "end"
   ]
  },
  {
   "cell_type": "code",
   "execution_count": 5,
   "metadata": {},
   "outputs": [],
   "source": [
    "n = 25\n",
    "\n",
    "Initial = zeros(9,n)\n",
    "\n",
    "for k in 1:n\n",
    "        Initial[:,k] = rand(9)    \n",
    "end\n",
    "\n",
    "Re_range = 50:50:500\n",
    "Mean_Array = []\n",
    "for i in 1:length(Re_range)\n",
    "    Re = Re_range[i]\n",
    "    out = stepvariation(Initial, Rstep, Re)\n",
    "    push!(Mean_Array,out)\n",
    "end"
   ]
  },
  {
   "cell_type": "code",
   "execution_count": 10,
   "metadata": {},
   "outputs": [
    {
     "data": {
      "text/plain": [
       "PyObject <matplotlib.legend.Legend object at 0x0000000001464630>"
      ]
     },
     "execution_count": 10,
     "metadata": {},
     "output_type": "execute_result"
    }
   ],
   "source": [
    "# a = [i*10^-5 for i in 1:9]\n",
    "# b = [i*10^-4 for i in 1:9]\n",
    "# c = [i*10^-3 for i in 1:9]\n",
    "# d = [i*10^-2 for i in 1:9]\n",
    "# e = [i*10^-1 for i in 1:9]\n",
    "# Rstep = vcat(a,b,c,d,e)\n",
    "fig,ax = plt.subplots()\n",
    "for i in 1:length(Re_range)\n",
    "    Re = Re_range[i]\n",
    "    ax.scatter(Rstep, Mean_Array[i])\n",
    "    ax.plot(np.unique(Rstep), np.poly1d(np.polyfit(Rstep, Mean_Array[i], 2))(np.unique(Rstep)),label = \"$Re\")\n",
    "end\n",
    "fig.legend()"
   ]
  },
  {
   "cell_type": "code",
   "execution_count": 7,
   "metadata": {},
   "outputs": [
    {
     "data": {
      "text/plain": [
       "10-element Array{Any,1}:\n",
       " [69.96, 80.78, 86.94, 91.34, 94.76, 98.16, 100.44, 102.48, 104.26, 105.84  …  243.7, 248.7, 285.46, 307.64, 314.34, 317.12, 314.64, 309.7, 306.98, 306.2]                                    \n",
       " [159.86, 181.78, 193.88, 203.2, 209.94, 215.4, 219.94, 223.94, 227.46, 231.1  …  631.88, 642.08, 655.6, 683.98, 669.38, 676.32, 688.98, 673.6, 692.42, 682.62]                               \n",
       " [258.26, 290.48, 309.44, 322.18, 332.84, 340.98, 347.78, 353.72, 359.04, 364.22  …  1072.1, 1247.22, 1146.92, 1259.82, 1201.46, 1154.56, 1180.88, 1281.18, 1152.84, 1200.8]                  \n",
       " [361.92, 404.24, 429.14, 446.98, 460.14, 471.56, 480.74, 488.6, 496.02, 502.34  …  1852.26, 1910.22, 1594.3, 1906.4, 1892.4, 1723.28, 1900.0, 1983.72, 1957.1, 1931.1]                       \n",
       " [469.22, 522.54, 553.32, 575.38, 591.88, 605.88, 617.26, 627.6, 636.4, 644.14  …  2539.68, 2899.94, 2779.3, 2677.98, 3019.78, 2963.82, 3192.26, 3034.06, 2589.94, 2867.56]                   \n",
       " [579.58, 643.82, 680.56, 706.68, 726.56, 743.24, 757.0, 769.28, 779.68, 789.4  …  4408.74, 4467.32, 4748.98, 4247.66, 4248.04, 4407.48, 5432.72, 4066.54, 5077.5, 5136.22]                   \n",
       " [693.1, 766.88, 810.18, 840.54, 864.12, 883.1, 899.48, 913.32, 925.96, 936.86  …  6774.62, 6929.44, 8411.32, 7569.64, 7238.18, 6900.48, 8170.52, 7263.82, 6099.46, 7461.26]                  \n",
       " [808.06, 892.64, 941.88, 976.48, 1003.34, 1025.36, 1043.66, 1059.9, 1073.86, 1086.7  …  9814.0, 10006.14, 10232.24, 12566.04, 10255.04, 11042.4, 12618.5, 13326.32, 10211.28, 11315.6]       \n",
       " [925.58, 1020.28, 1075.42, 1114.36, 1144.54, 1169.22, 1190.16, 1208.02, 1224.08, 1238.2  …  14119.24, 13183.06, 12985.22, 11134.82, 12514.94, 13236.08, 13113.1, 12530.04, 13981.86, 16440.2]\n",
       " [1044.0, 1149.54, 1210.7, 1253.9, 1287.52, 1314.84, 1337.92, 1358.14, 1375.86, 1391.54  …  15371.4, 16279.18, 16114.14, 16609.18, 15412.5, 15353.0, 13390.82, 14825.16, 16383.16, 15230.08]  "
      ]
     },
     "execution_count": 7,
     "metadata": {},
     "output_type": "execute_result"
    }
   ],
   "source": [
    "Mean_Array"
   ]
  },
  {
   "cell_type": "code",
   "execution_count": null,
   "metadata": {},
   "outputs": [],
   "source": []
  }
 ],
 "metadata": {
  "kernelspec": {
   "display_name": "Julia 1.2.0",
   "language": "julia",
   "name": "julia-1.2"
  },
  "language_info": {
   "file_extension": ".jl",
   "mimetype": "application/julia",
   "name": "julia",
   "version": "1.2.0"
  }
 },
 "nbformat": 4,
 "nbformat_minor": 4
}
