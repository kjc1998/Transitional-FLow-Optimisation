{
 "cells": [
  {
   "cell_type": "code",
   "execution_count": 1,
   "metadata": {},
   "outputs": [
    {
     "name": "stderr",
     "output_type": "stream",
     "text": [
      "┌ Info: Recompiling stale cache file C:\\Users\\User\\.julia\\compiled\\v1.2\\ToySystems\\chsON.ji for ToySystems [53c88820-6eff-5a8c-9a74-badd815e7be1]\n",
      "└ @ Base loading.jl:1240\n",
      "┌ Warning: Package ToySystems does not have Flows in its dependencies:\n",
      "│ - If you have ToySystems checked out for development and have\n",
      "│   added Flows as a dependency but haven't updated your primary\n",
      "│   environment's manifest file, try `Pkg.resolve()`.\n",
      "│ - Otherwise you may need to report an issue with ToySystems\n",
      "└ Loading Flows into ToySystems from project dependency, future warnings for ToySystems are suppressed.\n"
     ]
    }
   ],
   "source": [
    "using Flows\n",
    "using ToySystems\n",
    "using ToySystems.NineModeSystemEq\n",
    "using Optim\n",
    "using PyPlot; pygui(true)\n",
    "include(\"9msctrl.jl\")\n",
    "include(\"Initial condition variation.jl\")\n",
    "include(\"Perturbation time.jl\")\n",
    "include(\"Contour Plots.jl\")\n",
    "include(\"Magnitude Rand.jl\")\n",
    "import LinearAlgebra: norm"
   ]
  },
  {
   "cell_type": "code",
   "execution_count": 2,
   "metadata": {},
   "outputs": [
    {
     "data": {
      "text/plain": [
       "objfun (generic function with 3 methods)"
      ]
     },
     "execution_count": 2,
     "metadata": {},
     "output_type": "execute_result"
    }
   ],
   "source": [
    "include(\"Objective function Monitor.jl\")"
   ]
  },
  {
   "cell_type": "code",
   "execution_count": 3,
   "metadata": {},
   "outputs": [
    {
     "data": {
      "text/plain": [
       "PInifrd (generic function with 1 method)"
      ]
     },
     "execution_count": 3,
     "metadata": {},
     "output_type": "execute_result"
    }
   ],
   "source": [
    "timestepdifference = 0.5\n",
    "T = 10000\n",
    "\n",
    "\n",
    "function AvObjInifrd(n, scale, Re, d::Float64)\n",
    "    f  = NineModeSystem(Re)\n",
    "    ϕ = flow(couple(f, objfun), RK4(couple(zeros(9), zeros(1))), TimeStepConstant(timestepdifference))\n",
    "    output = zeros(n)\n",
    "    for i in 1:n\n",
    "        u0 = rand(9)\n",
    "        u0_local = mgscale(u0, scale) + [d,0.0,0.0,0.0,0.0,0.0,0.0,0.0,0.0]\n",
    "        I0 = Float64[0.0]\n",
    "        \n",
    "        mon = Monitor(couple(zeros(9), zeros(1)), objfun)\n",
    "        ϕ(couple(u0_local, I0), (0, T), reset!(mon))\n",
    "        output[i] = I0[1]/T\n",
    "    end\n",
    "    PyPlot.plot(1:n,output)\n",
    "    xlabel(L\"n\")\n",
    "    ylabel(L\"ObjectiveAverage\")\n",
    "end\n",
    "\n",
    "function PInifrd(n, scale, Re, d::Float64, T, timestepdifference)\n",
    "    output = zeros(n)\n",
    "    for i in 1:n\n",
    "        u0 = rand(9)\n",
    "        u0_local = mgscale(u0, scale) + [d,0.0,0.0,0.0,0.0,0.0,0.0,0.0,0.0]\n",
    "        output[i] = P(u0_local, Re, T, timestepdifference)\n",
    "    end\n",
    "    PyPlot.plot(1:n,output)\n",
    "    xlabel(L\"n\")\n",
    "    ylabel(L\"P(t)\")   \n",
    "end"
   ]
  },
  {
   "cell_type": "code",
   "execution_count": 4,
   "metadata": {},
   "outputs": [
    {
     "data": {
      "text/plain": [
       "PyObject Text(42.722222222222214, 0.5, '$ObjectiveAverage$')"
      ]
     },
     "execution_count": 4,
     "metadata": {},
     "output_type": "execute_result"
    }
   ],
   "source": [
    "AvObjInifrd(100, 0.1, 1000, 1.0) # 400 is the transition Re"
   ]
  },
  {
   "cell_type": "code",
   "execution_count": 5,
   "metadata": {},
   "outputs": [
    {
     "data": {
      "text/plain": [
       "PyObject Text(20.847222222222214, 0.5, '$P(t)$')"
      ]
     },
     "execution_count": 5,
     "metadata": {},
     "output_type": "execute_result"
    }
   ],
   "source": [
    "PInifrd(1000,0.035,300,1.0, 10000, 0.5)"
   ]
  },
  {
   "cell_type": "code",
   "execution_count": 4,
   "metadata": {},
   "outputs": [
    {
     "data": {
      "text/plain": [
       "SurvivalProb (generic function with 1 method)"
      ]
     },
     "execution_count": 4,
     "metadata": {},
     "output_type": "execute_result"
    }
   ],
   "source": [
    "function SurvivalProb(Re::AbstractVector, scale, n, t::AbstractVector, d::Float64, T, timestepdifference)\n",
    "    u0_mat = zeros(9,n)\n",
    "    for i in 1:n\n",
    "        u0 = rand(9)\n",
    "        u0_mat[:,i] = mgscale(u0, scale) + [d,0.0,0.0,0.0,0.0,0.0,0.0,0.0,0.0]\n",
    "    end #All condition\n",
    "    \n",
    "    PROBA = []\n",
    "    for i in 1:length(Re) \n",
    "        Reynolds = Re[i] #fixed Re\n",
    "        result = zeros(n) #time for all initial condition\n",
    "        \n",
    "        for j in 1:n\n",
    "            u0_local = u0_mat[:,j]\n",
    "            result[j] = P(u0_local, Reynolds, T, timestepdifference) #time for each initial condition\n",
    "        end\n",
    "        \n",
    "        proba = zeros(length(t))\n",
    "        for i in 1:length(t)\n",
    "            condition = t[i]\n",
    "            dummy = 0\n",
    "            for j in 1:n\n",
    "                if result[j] >= condition\n",
    "                    dummy += 1\n",
    "                else\n",
    "                    dummy = dummy\n",
    "                end\n",
    "            end\n",
    "            dummy = dummy/n\n",
    "            proba[i] = dummy\n",
    "        end\n",
    "        plot(t, proba)\n",
    "        PROBA = push!(PROBA, proba)\n",
    "    end\n",
    "    xlabel(L\"t\")\n",
    "    ylabel(L\"Prob(t)\")\n",
    "    return PROBA\n",
    "end"
   ]
  },
  {
   "cell_type": "code",
   "execution_count": 5,
   "metadata": {},
   "outputs": [
    {
     "data": {
      "text/plain": [
       "6-element Array{Any,1}:\n",
       " [1.0, 1.0, 1.0, 1.0, 1.0, 1.0, 1.0, 1.0, 1.0, 1.0  …  0.0, 0.0, 0.0, 0.0, 0.0, 0.0, 0.0, 0.0, 0.0, 0.0]                    \n",
       " [1.0, 1.0, 1.0, 1.0, 1.0, 1.0, 1.0, 1.0, 1.0, 1.0  …  0.002, 0.002, 0.001, 0.001, 0.001, 0.001, 0.0, 0.0, 0.0, 0.0]        \n",
       " [1.0, 1.0, 1.0, 1.0, 1.0, 1.0, 1.0, 1.0, 1.0, 1.0  …  0.066, 0.064, 0.063, 0.059, 0.057, 0.056, 0.055, 0.053, 0.051, 0.05] \n",
       " [1.0, 1.0, 1.0, 1.0, 1.0, 1.0, 1.0, 1.0, 1.0, 1.0  …  0.262, 0.256, 0.249, 0.242, 0.237, 0.234, 0.231, 0.224, 0.217, 0.214]\n",
       " [1.0, 1.0, 1.0, 1.0, 1.0, 1.0, 1.0, 1.0, 1.0, 1.0  …  0.531, 0.523, 0.517, 0.511, 0.508, 0.505, 0.503, 0.501, 0.496, 0.492]\n",
       " [1.0, 1.0, 1.0, 1.0, 1.0, 1.0, 1.0, 1.0, 1.0, 1.0  …  0.706, 0.701, 0.695, 0.687, 0.68, 0.678, 0.671, 0.668, 0.666, 0.664] "
      ]
     },
     "execution_count": 5,
     "metadata": {},
     "output_type": "execute_result"
    }
   ],
   "source": [
    "y_val = SurvivalProb(200:50:450, sqrt(0.5), 1000, 0:100:10000, 0.0, 10000, 0.5) #Obj less than 0.01"
   ]
  },
  {
   "cell_type": "code",
   "execution_count": 6,
   "metadata": {},
   "outputs": [
    {
     "data": {
      "text/plain": [
       "PyObject <module 'matplotlib.pyplot' from 'C:\\\\Users\\\\User\\\\.julia\\\\conda\\\\3\\\\lib\\\\site-packages\\\\matplotlib\\\\pyplot.py'>"
      ]
     },
     "execution_count": 6,
     "metadata": {},
     "output_type": "execute_result"
    }
   ],
   "source": [
    "using PyCall\n",
    "plt = pyimport(\"matplotlib.pyplot\")"
   ]
  },
  {
   "cell_type": "code",
   "execution_count": 7,
   "metadata": {},
   "outputs": [
    {
     "data": {
      "text/plain": [
       "PyObject Text(42.722222222222214, 0.5, '$P(t)$')"
      ]
     },
     "execution_count": 7,
     "metadata": {},
     "output_type": "execute_result"
    }
   ],
   "source": [
    "fig, ax=  plt.subplots()\n",
    "val = 50\n",
    "for i in 1:length(y_val)\n",
    "    ax.plot(0:100:10000, y_val[i], label = \"Re = $val\")\n",
    "    val += 50\n",
    "end\n",
    "ax.legend()\n",
    "xlabel(L\"t\")\n",
    "ylabel(L\"P(t)\")"
   ]
  },
  {
   "cell_type": "code",
   "execution_count": null,
   "metadata": {},
   "outputs": [],
   "source": []
  }
 ],
 "metadata": {
  "kernelspec": {
   "display_name": "Julia 1.2.0",
   "language": "julia",
   "name": "julia-1.2"
  },
  "language_info": {
   "file_extension": ".jl",
   "mimetype": "application/julia",
   "name": "julia",
   "version": "1.2.0"
  }
 },
 "nbformat": 4,
 "nbformat_minor": 4
}
