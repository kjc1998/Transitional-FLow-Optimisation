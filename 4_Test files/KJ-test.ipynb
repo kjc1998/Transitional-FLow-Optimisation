{
 "cells": [
  {
   "cell_type": "code",
   "execution_count": 2,
   "metadata": {},
   "outputs": [
    {
     "ename": "LoadError",
     "evalue": "syntax: extra token \"not\" after end of expression",
     "output_type": "error",
     "traceback": [
      "syntax: extra token \"not\" after end of expression",
      ""
     ]
    }
   ],
   "source": [
    "isnan(NaN) not(!) ;\n",
    "NaN == NaN"
   ]
  },
  {
   "cell_type": "code",
   "execution_count": 3,
   "metadata": {},
   "outputs": [
    {
     "data": {
      "text/plain": [
       "true"
      ]
     },
     "execution_count": 3,
     "metadata": {},
     "output_type": "execute_result"
    }
   ],
   "source": [
    "a = 2;\n",
    "b = 2;\n",
    "a == b"
   ]
  },
  {
   "cell_type": "code",
   "execution_count": 4,
   "metadata": {},
   "outputs": [
    {
     "data": {
      "text/plain": [
       "true"
      ]
     },
     "execution_count": 4,
     "metadata": {},
     "output_type": "execute_result"
    }
   ],
   "source": [
    "a === b"
   ]
  },
  {
   "cell_type": "code",
   "execution_count": 5,
   "metadata": {},
   "outputs": [
    {
     "ename": "LoadError",
     "evalue": "syntax: unexpected \"=\"",
     "output_type": "error",
     "traceback": [
      "syntax: unexpected \"=\"",
      ""
     ]
    }
   ],
   "source": [
    "a ==== b"
   ]
  },
  {
   "cell_type": "code",
   "execution_count": 6,
   "metadata": {},
   "outputs": [],
   "source": [
    "b = \"2\";"
   ]
  },
  {
   "cell_type": "code",
   "execution_count": 7,
   "metadata": {},
   "outputs": [
    {
     "data": {
      "text/plain": [
       "false"
      ]
     },
     "execution_count": 7,
     "metadata": {},
     "output_type": "execute_result"
    }
   ],
   "source": [
    "a == b"
   ]
  },
  {
   "cell_type": "code",
   "execution_count": 8,
   "metadata": {},
   "outputs": [
    {
     "data": {
      "text/plain": [
       "false"
      ]
     },
     "execution_count": 8,
     "metadata": {},
     "output_type": "execute_result"
    }
   ],
   "source": [
    "a === b"
   ]
  },
  {
   "cell_type": "code",
   "execution_count": 11,
   "metadata": {},
   "outputs": [
    {
     "data": {
      "text/plain": [
       "'c': ASCII/Unicode U+0063 (category Ll: Letter, lowercase)"
      ]
     },
     "execution_count": 11,
     "metadata": {},
     "output_type": "execute_result"
    }
   ],
   "source": [
    "chr = 'c'"
   ]
  },
  {
   "cell_type": "code",
   "execution_count": 12,
   "metadata": {},
   "outputs": [
    {
     "data": {
      "text/plain": [
       "Char"
      ]
     },
     "execution_count": 12,
     "metadata": {},
     "output_type": "execute_result"
    }
   ],
   "source": [
    "typeof(chr)"
   ]
  },
  {
   "cell_type": "code",
   "execution_count": 17,
   "metadata": {},
   "outputs": [
    {
     "data": {
      "text/plain": [
       "'2': ASCII/Unicode U+0032 (category Nd: Number, decimal digit)"
      ]
     },
     "execution_count": 17,
     "metadata": {},
     "output_type": "execute_result"
    }
   ],
   "source": [
    "chr = '2'"
   ]
  },
  {
   "cell_type": "code",
   "execution_count": 18,
   "metadata": {},
   "outputs": [
    {
     "data": {
      "text/plain": [
       "Char"
      ]
     },
     "execution_count": 18,
     "metadata": {},
     "output_type": "execute_result"
    }
   ],
   "source": [
    "typeof(chr) "
   ]
  },
  {
   "cell_type": "code",
   "execution_count": 19,
   "metadata": {},
   "outputs": [
    {
     "data": {
      "text/plain": [
       "'2': ASCII/Unicode U+0032 (category Nd: Number, decimal digit)"
      ]
     },
     "execution_count": 19,
     "metadata": {},
     "output_type": "execute_result"
    }
   ],
   "source": [
    "chr"
   ]
  },
  {
   "cell_type": "code",
   "execution_count": 20,
   "metadata": {},
   "outputs": [
    {
     "data": {
      "text/plain": [
       "50"
      ]
     },
     "execution_count": 20,
     "metadata": {},
     "output_type": "execute_result"
    }
   ],
   "source": [
    "Int(chr)"
   ]
  },
  {
   "cell_type": "code",
   "execution_count": 21,
   "metadata": {},
   "outputs": [
    {
     "data": {
      "text/plain": [
       "74"
      ]
     },
     "execution_count": 21,
     "metadata": {},
     "output_type": "execute_result"
    }
   ],
   "source": [
    "Int('J')"
   ]
  },
  {
   "cell_type": "code",
   "execution_count": 22,
   "metadata": {},
   "outputs": [
    {
     "data": {
      "text/plain": [
       "'a': ASCII/Unicode U+0061 (category Ll: Letter, lowercase)"
      ]
     },
     "execution_count": 22,
     "metadata": {},
     "output_type": "execute_result"
    }
   ],
   "source": [
    "chr = 'a'"
   ]
  },
  {
   "cell_type": "code",
   "execution_count": 23,
   "metadata": {},
   "outputs": [
    {
     "data": {
      "text/plain": [
       "97"
      ]
     },
     "execution_count": 23,
     "metadata": {},
     "output_type": "execute_result"
    }
   ],
   "source": [
    "Int('a')"
   ]
  },
  {
   "cell_type": "code",
   "execution_count": 25,
   "metadata": {},
   "outputs": [
    {
     "data": {
      "text/plain": [
       "99"
      ]
     },
     "execution_count": 25,
     "metadata": {},
     "output_type": "execute_result"
    }
   ],
   "source": [
    "Int('c')"
   ]
  },
  {
   "cell_type": "code",
   "execution_count": 26,
   "metadata": {},
   "outputs": [
    {
     "data": {
      "text/plain": [
       "106"
      ]
     },
     "execution_count": 26,
     "metadata": {},
     "output_type": "execute_result"
    }
   ],
   "source": [
    "Int('j')"
   ]
  },
  {
   "cell_type": "code",
   "execution_count": 27,
   "metadata": {},
   "outputs": [
    {
     "data": {
      "text/plain": [
       "65"
      ]
     },
     "execution_count": 27,
     "metadata": {},
     "output_type": "execute_result"
    }
   ],
   "source": [
    "Int('A')"
   ]
  },
  {
   "cell_type": "code",
   "execution_count": 29,
   "metadata": {},
   "outputs": [
    {
     "data": {
      "text/plain": [
       "'b': ASCII/Unicode U+0062 (category Ll: Letter, lowercase)"
      ]
     },
     "execution_count": 29,
     "metadata": {},
     "output_type": "execute_result"
    }
   ],
   "source": [
    "chr = '\\U0062'"
   ]
  },
  {
   "cell_type": "code",
   "execution_count": 30,
   "metadata": {},
   "outputs": [
    {
     "data": {
      "text/plain": [
       "'b': ASCII/Unicode U+0062 (category Ll: Letter, lowercase)"
      ]
     },
     "execution_count": 30,
     "metadata": {},
     "output_type": "execute_result"
    }
   ],
   "source": [
    "chr"
   ]
  },
  {
   "cell_type": "code",
   "execution_count": 32,
   "metadata": {},
   "outputs": [
    {
     "data": {
      "text/plain": [
       "'b': ASCII/Unicode U+0062 (category Ll: Letter, lowercase)"
      ]
     },
     "execution_count": 32,
     "metadata": {},
     "output_type": "execute_result"
    }
   ],
   "source": [
    "'\\u0062'"
   ]
  },
  {
   "cell_type": "code",
   "execution_count": 33,
   "metadata": {},
   "outputs": [
    {
     "ename": "LoadError",
     "evalue": "syntax: invalid character literal",
     "output_type": "error",
     "traceback": [
      "syntax: invalid character literal",
      ""
     ]
    }
   ],
   "source": [
    "'\\u80FFFF00'"
   ]
  },
  {
   "cell_type": "code",
   "execution_count": 34,
   "metadata": {},
   "outputs": [
    {
     "data": {
      "text/plain": [
       "\"A string\""
      ]
     },
     "execution_count": 34,
     "metadata": {},
     "output_type": "execute_result"
    }
   ],
   "source": [
    "str = \"A string\""
   ]
  },
  {
   "cell_type": "code",
   "execution_count": 38,
   "metadata": {},
   "outputs": [
    {
     "name": "stdout",
     "output_type": "stream",
     "text": [
      "A\n",
      " \n",
      "s\n",
      "t\n",
      "r\n",
      "i\n",
      "n\n",
      "g\n"
     ]
    }
   ],
   "source": [
    "for i in str\n",
    "    println(i)\n",
    "end"
   ]
  },
  {
   "cell_type": "raw",
   "metadata": {},
   "source": [
    "chr"
   ]
  },
  {
   "cell_type": "code",
   "execution_count": 39,
   "metadata": {},
   "outputs": [
    {
     "data": {
      "text/plain": [
       "'a': ASCII/Unicode U+0061 (category Ll: Letter, lowercase)"
      ]
     },
     "execution_count": 39,
     "metadata": {},
     "output_type": "execute_result"
    }
   ],
   "source": [
    "chr = 'a'"
   ]
  },
  {
   "cell_type": "code",
   "execution_count": 40,
   "metadata": {},
   "outputs": [
    {
     "ename": "LoadError",
     "evalue": "syntax: incomplete: premature end of input",
     "output_type": "error",
     "traceback": [
      "syntax: incomplete: premature end of input",
      ""
     ]
    }
   ],
   "source": [
    "for i in chr"
   ]
  },
  {
   "cell_type": "code",
   "execution_count": 407,
   "metadata": {},
   "outputs": [
    {
     "name": "stdout",
     "output_type": "stream",
     "text": [
      "a\n"
     ]
    }
   ],
   "source": [
    "for i in chr\n",
    "    println(i)\n",
    "end"
   ]
  },
  {
   "cell_type": "code",
   "execution_count": 44,
   "metadata": {},
   "outputs": [
    {
     "data": {
      "text/plain": [
       "\"learn Julia\""
      ]
     },
     "execution_count": 44,
     "metadata": {},
     "output_type": "execute_result"
    }
   ],
   "source": [
    "str  = \"learn\"*\" \"*\"Julia\""
   ]
  },
  {
   "cell_type": "code",
   "execution_count": 58,
   "metadata": {},
   "outputs": [
    {
     "name": "stdout",
     "output_type": "stream",
     "text": [
      "2 * 2 \n"
     ]
    }
   ],
   "source": [
    "a = b = 2\n",
    "println(\"$a * $b \")"
   ]
  },
  {
   "cell_type": "code",
   "execution_count": 59,
   "metadata": {},
   "outputs": [
    {
     "name": "stdout",
     "output_type": "stream",
     "text": [
      "search: \u001b[0m\u001b[1mf\u001b[22m\u001b[0m\u001b[1mi\u001b[22m\u001b[0m\u001b[1mn\u001b[22m\u001b[0m\u001b[1md\u001b[22m\u001b[0m\u001b[1mf\u001b[22m\u001b[0m\u001b[1mi\u001b[22m\u001b[0m\u001b[1mr\u001b[22m\u001b[0m\u001b[1ms\u001b[22m\u001b[0m\u001b[1mt\u001b[22m\n",
      "\n"
     ]
    },
    {
     "data": {
      "text/latex": [
       "\\begin{verbatim}\n",
       "findfirst(A)\n",
       "\\end{verbatim}\n",
       "Return the index or key of the first \\texttt{true} value in \\texttt{A}. Return \\texttt{nothing} if no such value is found. To search for other kinds of values, pass a predicate as the first argument.\n",
       "\n",
       "Indices or keys are of the same type as those returned by \\href{@ref}{\\texttt{keys(A)}} and \\href{@ref}{\\texttt{pairs(A)}}.\n",
       "\n",
       "\\section{Examples}\n",
       "\\begin{verbatim}\n",
       "julia> A = [false, false, true, false]\n",
       "4-element Array{Bool,1}:\n",
       " 0\n",
       " 0\n",
       " 1\n",
       " 0\n",
       "\n",
       "julia> findfirst(A)\n",
       "3\n",
       "\n",
       "julia> findfirst(falses(3)) # returns nothing, but not printed in the REPL\n",
       "\n",
       "julia> A = [false false; true false]\n",
       "2×2 Array{Bool,2}:\n",
       " 0  0\n",
       " 1  0\n",
       "\n",
       "julia> findfirst(A)\n",
       "CartesianIndex(2, 1)\n",
       "\\end{verbatim}\n",
       "\\rule{\\textwidth}{1pt}\n",
       "\\begin{verbatim}\n",
       "findfirst(predicate::Function, A)\n",
       "\\end{verbatim}\n",
       "Return the index or key of the first element of \\texttt{A} for which \\texttt{predicate} returns \\texttt{true}. Return \\texttt{nothing} if there is no such element.\n",
       "\n",
       "Indices or keys are of the same type as those returned by \\href{@ref}{\\texttt{keys(A)}} and \\href{@ref}{\\texttt{pairs(A)}}.\n",
       "\n",
       "\\section{Examples}\n",
       "\\begin{verbatim}\n",
       "julia> A = [1, 4, 2, 2]\n",
       "4-element Array{Int64,1}:\n",
       " 1\n",
       " 4\n",
       " 2\n",
       " 2\n",
       "\n",
       "julia> findfirst(iseven, A)\n",
       "2\n",
       "\n",
       "julia> findfirst(x -> x>10, A) # returns nothing, but not printed in the REPL\n",
       "\n",
       "julia> findfirst(isequal(4), A)\n",
       "2\n",
       "\n",
       "julia> A = [1 4; 2 2]\n",
       "2×2 Array{Int64,2}:\n",
       " 1  4\n",
       " 2  2\n",
       "\n",
       "julia> findfirst(iseven, A)\n",
       "CartesianIndex(2, 1)\n",
       "\\end{verbatim}\n",
       "\\rule{\\textwidth}{1pt}\n",
       "\\begin{verbatim}\n",
       "findfirst(pattern::AbstractString, string::AbstractString)\n",
       "findfirst(pattern::Regex, string::String)\n",
       "\\end{verbatim}\n",
       "Find the first occurrence of \\texttt{pattern} in \\texttt{string}. Equivalent to \\href{@ref}{\\texttt{findnext(pattern, string, firstindex(s))}}.\n",
       "\n",
       "\\section{Examples}\n",
       "\\begin{verbatim}\n",
       "julia> findfirst(\"z\", \"Hello to the world\") # returns nothing, but not printed in the REPL\n",
       "\n",
       "julia> findfirst(\"Julia\", \"JuliaLang\")\n",
       "1:5\n",
       "\\end{verbatim}\n"
      ],
      "text/markdown": [
       "```\n",
       "findfirst(A)\n",
       "```\n",
       "\n",
       "Return the index or key of the first `true` value in `A`. Return `nothing` if no such value is found. To search for other kinds of values, pass a predicate as the first argument.\n",
       "\n",
       "Indices or keys are of the same type as those returned by [`keys(A)`](@ref) and [`pairs(A)`](@ref).\n",
       "\n",
       "# Examples\n",
       "\n",
       "```jldoctest\n",
       "julia> A = [false, false, true, false]\n",
       "4-element Array{Bool,1}:\n",
       " 0\n",
       " 0\n",
       " 1\n",
       " 0\n",
       "\n",
       "julia> findfirst(A)\n",
       "3\n",
       "\n",
       "julia> findfirst(falses(3)) # returns nothing, but not printed in the REPL\n",
       "\n",
       "julia> A = [false false; true false]\n",
       "2×2 Array{Bool,2}:\n",
       " 0  0\n",
       " 1  0\n",
       "\n",
       "julia> findfirst(A)\n",
       "CartesianIndex(2, 1)\n",
       "```\n",
       "\n",
       "---\n",
       "\n",
       "```\n",
       "findfirst(predicate::Function, A)\n",
       "```\n",
       "\n",
       "Return the index or key of the first element of `A` for which `predicate` returns `true`. Return `nothing` if there is no such element.\n",
       "\n",
       "Indices or keys are of the same type as those returned by [`keys(A)`](@ref) and [`pairs(A)`](@ref).\n",
       "\n",
       "# Examples\n",
       "\n",
       "```jldoctest\n",
       "julia> A = [1, 4, 2, 2]\n",
       "4-element Array{Int64,1}:\n",
       " 1\n",
       " 4\n",
       " 2\n",
       " 2\n",
       "\n",
       "julia> findfirst(iseven, A)\n",
       "2\n",
       "\n",
       "julia> findfirst(x -> x>10, A) # returns nothing, but not printed in the REPL\n",
       "\n",
       "julia> findfirst(isequal(4), A)\n",
       "2\n",
       "\n",
       "julia> A = [1 4; 2 2]\n",
       "2×2 Array{Int64,2}:\n",
       " 1  4\n",
       " 2  2\n",
       "\n",
       "julia> findfirst(iseven, A)\n",
       "CartesianIndex(2, 1)\n",
       "```\n",
       "\n",
       "---\n",
       "\n",
       "```\n",
       "findfirst(pattern::AbstractString, string::AbstractString)\n",
       "findfirst(pattern::Regex, string::String)\n",
       "```\n",
       "\n",
       "Find the first occurrence of `pattern` in `string`. Equivalent to [`findnext(pattern, string, firstindex(s))`](@ref).\n",
       "\n",
       "# Examples\n",
       "\n",
       "```jldoctest\n",
       "julia> findfirst(\"z\", \"Hello to the world\") # returns nothing, but not printed in the REPL\n",
       "\n",
       "julia> findfirst(\"Julia\", \"JuliaLang\")\n",
       "1:5\n",
       "```\n"
      ],
      "text/plain": [
       "\u001b[36m  findfirst(A)\u001b[39m\n",
       "\n",
       "  Return the index or key of the first \u001b[36mtrue\u001b[39m value in \u001b[36mA\u001b[39m. Return \u001b[36mnothing\u001b[39m if no\n",
       "  such value is found. To search for other kinds of values, pass a predicate\n",
       "  as the first argument.\n",
       "\n",
       "  Indices or keys are of the same type as those returned by \u001b[36mkeys(A)\u001b[39m and\n",
       "  \u001b[36mpairs(A)\u001b[39m.\n",
       "\n",
       "\u001b[1m  Examples\u001b[22m\n",
       "\u001b[1m  ≡≡≡≡≡≡≡≡≡≡\u001b[22m\n",
       "\n",
       "\u001b[36m  julia> A = [false, false, true, false]\u001b[39m\n",
       "\u001b[36m  4-element Array{Bool,1}:\u001b[39m\n",
       "\u001b[36m   0\u001b[39m\n",
       "\u001b[36m   0\u001b[39m\n",
       "\u001b[36m   1\u001b[39m\n",
       "\u001b[36m   0\u001b[39m\n",
       "\u001b[36m  \u001b[39m\n",
       "\u001b[36m  julia> findfirst(A)\u001b[39m\n",
       "\u001b[36m  3\u001b[39m\n",
       "\u001b[36m  \u001b[39m\n",
       "\u001b[36m  julia> findfirst(falses(3)) # returns nothing, but not printed in the REPL\u001b[39m\n",
       "\u001b[36m  \u001b[39m\n",
       "\u001b[36m  julia> A = [false false; true false]\u001b[39m\n",
       "\u001b[36m  2×2 Array{Bool,2}:\u001b[39m\n",
       "\u001b[36m   0  0\u001b[39m\n",
       "\u001b[36m   1  0\u001b[39m\n",
       "\u001b[36m  \u001b[39m\n",
       "\u001b[36m  julia> findfirst(A)\u001b[39m\n",
       "\u001b[36m  CartesianIndex(2, 1)\u001b[39m\n",
       "\n",
       "  ────────────────────────────────────────────────────────────────────────────\n",
       "\n",
       "\u001b[36m  findfirst(predicate::Function, A)\u001b[39m\n",
       "\n",
       "  Return the index or key of the first element of \u001b[36mA\u001b[39m for which \u001b[36mpredicate\u001b[39m\n",
       "  returns \u001b[36mtrue\u001b[39m. Return \u001b[36mnothing\u001b[39m if there is no such element.\n",
       "\n",
       "  Indices or keys are of the same type as those returned by \u001b[36mkeys(A)\u001b[39m and\n",
       "  \u001b[36mpairs(A)\u001b[39m.\n",
       "\n",
       "\u001b[1m  Examples\u001b[22m\n",
       "\u001b[1m  ≡≡≡≡≡≡≡≡≡≡\u001b[22m\n",
       "\n",
       "\u001b[36m  julia> A = [1, 4, 2, 2]\u001b[39m\n",
       "\u001b[36m  4-element Array{Int64,1}:\u001b[39m\n",
       "\u001b[36m   1\u001b[39m\n",
       "\u001b[36m   4\u001b[39m\n",
       "\u001b[36m   2\u001b[39m\n",
       "\u001b[36m   2\u001b[39m\n",
       "\u001b[36m  \u001b[39m\n",
       "\u001b[36m  julia> findfirst(iseven, A)\u001b[39m\n",
       "\u001b[36m  2\u001b[39m\n",
       "\u001b[36m  \u001b[39m\n",
       "\u001b[36m  julia> findfirst(x -> x>10, A) # returns nothing, but not printed in the REPL\u001b[39m\n",
       "\u001b[36m  \u001b[39m\n",
       "\u001b[36m  julia> findfirst(isequal(4), A)\u001b[39m\n",
       "\u001b[36m  2\u001b[39m\n",
       "\u001b[36m  \u001b[39m\n",
       "\u001b[36m  julia> A = [1 4; 2 2]\u001b[39m\n",
       "\u001b[36m  2×2 Array{Int64,2}:\u001b[39m\n",
       "\u001b[36m   1  4\u001b[39m\n",
       "\u001b[36m   2  2\u001b[39m\n",
       "\u001b[36m  \u001b[39m\n",
       "\u001b[36m  julia> findfirst(iseven, A)\u001b[39m\n",
       "\u001b[36m  CartesianIndex(2, 1)\u001b[39m\n",
       "\n",
       "  ────────────────────────────────────────────────────────────────────────────\n",
       "\n",
       "\u001b[36m  findfirst(pattern::AbstractString, string::AbstractString)\u001b[39m\n",
       "\u001b[36m  findfirst(pattern::Regex, string::String)\u001b[39m\n",
       "\n",
       "  Find the first occurrence of \u001b[36mpattern\u001b[39m in \u001b[36mstring\u001b[39m. Equivalent to\n",
       "  \u001b[36mfindnext(pattern, string, firstindex(s))\u001b[39m.\n",
       "\n",
       "\u001b[1m  Examples\u001b[22m\n",
       "\u001b[1m  ≡≡≡≡≡≡≡≡≡≡\u001b[22m\n",
       "\n",
       "\u001b[36m  julia> findfirst(\"z\", \"Hello to the world\") # returns nothing, but not printed in the REPL\u001b[39m\n",
       "\u001b[36m  \u001b[39m\n",
       "\u001b[36m  julia> findfirst(\"Julia\", \"JuliaLang\")\u001b[39m\n",
       "\u001b[36m  1:5\u001b[39m"
      ]
     },
     "execution_count": 59,
     "metadata": {},
     "output_type": "execute_result"
    }
   ],
   "source": [
    "?findfirst"
   ]
  },
  {
   "cell_type": "code",
   "execution_count": 70,
   "metadata": {},
   "outputs": [
    {
     "data": {
      "text/plain": [
       "false"
      ]
     },
     "execution_count": 70,
     "metadata": {},
     "output_type": "execute_result"
    }
   ],
   "source": [
    "a = [1 2 5 6]\n",
    "findfirst(isequal(2),a) == (1,2)"
   ]
  },
  {
   "cell_type": "code",
   "execution_count": 71,
   "metadata": {},
   "outputs": [
    {
     "data": {
      "text/plain": [
       "\"Julius\""
      ]
     },
     "execution_count": 71,
     "metadata": {},
     "output_type": "execute_result"
    }
   ],
   "source": [
    "replace(\"Julia\", \"a\" => \"us\")"
   ]
  },
  {
   "cell_type": "code",
   "execution_count": 72,
   "metadata": {},
   "outputs": [
    {
     "data": {
      "text/plain": [
       "\"wsjhduwsdhg\""
      ]
     },
     "execution_count": 72,
     "metadata": {},
     "output_type": "execute_result"
    }
   ],
   "source": [
    "replace(\"asjhduasdhg\", \"a\"=>\"w\")"
   ]
  },
  {
   "cell_type": "code",
   "execution_count": 73,
   "metadata": {},
   "outputs": [
    {
     "data": {
      "text/plain": [
       "true"
      ]
     },
     "execution_count": 73,
     "metadata": {},
     "output_type": "execute_result"
    }
   ],
   "source": [
    "lastindex(\"Hello\") == 5"
   ]
  },
  {
   "cell_type": "code",
   "execution_count": 74,
   "metadata": {},
   "outputs": [
    {
     "data": {
      "text/plain": [
       "r\"l[aeiou]\""
      ]
     },
     "execution_count": 74,
     "metadata": {},
     "output_type": "execute_result"
    }
   ],
   "source": [
    "pattern = r\"l[aeiou]\""
   ]
  },
  {
   "cell_type": "code",
   "execution_count": 78,
   "metadata": {},
   "outputs": [
    {
     "data": {
      "text/plain": [
       "r\"[akdgoahrgk]\""
      ]
     },
     "execution_count": 78,
     "metadata": {},
     "output_type": "execute_result"
    }
   ],
   "source": [
    "patern = r\"[akdgoahrgk]\""
   ]
  },
  {
   "cell_type": "code",
   "execution_count": 98,
   "metadata": {},
   "outputs": [
    {
     "data": {
      "text/plain": [
       "r\"\\+([0-9]) ([0-9]+)\""
      ]
     },
     "execution_count": 98,
     "metadata": {},
     "output_type": "execute_result"
    }
   ],
   "source": [
    "pat = r\"\\+([0-9]) ([0-9]+)\""
   ]
  },
  {
   "cell_type": "code",
   "execution_count": 99,
   "metadata": {},
   "outputs": [
    {
     "data": {
      "text/plain": [
       "\"+1 234 567 890 567\""
      ]
     },
     "execution_count": 99,
     "metadata": {},
     "output_type": "execute_result"
    }
   ],
   "source": [
    "str = \"+1 234 567 890 567\""
   ]
  },
  {
   "cell_type": "code",
   "execution_count": 100,
   "metadata": {},
   "outputs": [
    {
     "data": {
      "text/plain": [
       "RegexMatch(\"+1 234\", 1=\"1\", 2=\"234\")"
      ]
     },
     "execution_count": 100,
     "metadata": {},
     "output_type": "execute_result"
    }
   ],
   "source": [
    "m = match(pat, str)"
   ]
  },
  {
   "cell_type": "code",
   "execution_count": 85,
   "metadata": {},
   "outputs": [
    {
     "data": {
      "text/plain": [
       "3"
      ]
     },
     "execution_count": 85,
     "metadata": {},
     "output_type": "execute_result"
    }
   ],
   "source": [
    "lastindex(\"123\")"
   ]
  },
  {
   "cell_type": "code",
   "execution_count": 86,
   "metadata": {},
   "outputs": [
    {
     "data": {
      "text/plain": [
       "3"
      ]
     },
     "execution_count": 86,
     "metadata": {},
     "output_type": "execute_result"
    }
   ],
   "source": [
    "length(\"123\")"
   ]
  },
  {
   "cell_type": "code",
   "execution_count": 93,
   "metadata": {},
   "outputs": [
    {
     "ename": "StringIndexError",
     "evalue": "StringIndexError(\"Ångström\", 9)",
     "output_type": "error",
     "traceback": [
      "StringIndexError(\"Ångström\", 9)",
      "",
      "Stacktrace:",
      " [1] string_index_err(::String, ::Int64) at .\\strings\\string.jl:12",
      " [2] getindex_continued(::String, ::Int64, ::UInt32) at .\\strings\\string.jl:217",
      " [3] getindex(::String, ::Int64) at .\\strings\\string.jl:210",
      " [4] top-level scope at In[93]:1"
     ]
    }
   ],
   "source": [
    "\"Ångström\"[9]"
   ]
  },
  {
   "cell_type": "code",
   "execution_count": 89,
   "metadata": {},
   "outputs": [
    {
     "data": {
      "text/plain": [
       "8"
      ]
     },
     "execution_count": 89,
     "metadata": {},
     "output_type": "execute_result"
    }
   ],
   "source": [
    "length(\"Ångström\")"
   ]
  },
  {
   "cell_type": "code",
   "execution_count": 101,
   "metadata": {},
   "outputs": [
    {
     "ename": "UndefVarError",
     "evalue": "UndefVarError: i not defined",
     "output_type": "error",
     "traceback": [
      "UndefVarError: i not defined",
      "",
      "Stacktrace:",
      " [1] top-level scope at In[101]:1"
     ]
    }
   ],
   "source": [
    "T = complex{1+1i}"
   ]
  },
  {
   "cell_type": "code",
   "execution_count": 102,
   "metadata": {},
   "outputs": [
    {
     "ename": "UndefVarError",
     "evalue": "UndefVarError: i not defined",
     "output_type": "error",
     "traceback": [
      "UndefVarError: i not defined",
      "",
      "Stacktrace:",
      " [1] top-level scope at In[102]:1"
     ]
    }
   ],
   "source": [
    "T = complex(1+i)"
   ]
  },
  {
   "cell_type": "code",
   "execution_count": 103,
   "metadata": {},
   "outputs": [
    {
     "name": "stdout",
     "output_type": "stream",
     "text": [
      "search: \u001b[0m\u001b[1mc\u001b[22m\u001b[0m\u001b[1mo\u001b[22m\u001b[0m\u001b[1mm\u001b[22m\u001b[0m\u001b[1mp\u001b[22m\u001b[0m\u001b[1ml\u001b[22m\u001b[0m\u001b[1me\u001b[22m\u001b[0m\u001b[1mx\u001b[22m \u001b[0m\u001b[1mC\u001b[22m\u001b[0m\u001b[1mo\u001b[22m\u001b[0m\u001b[1mm\u001b[22m\u001b[0m\u001b[1mp\u001b[22m\u001b[0m\u001b[1ml\u001b[22m\u001b[0m\u001b[1me\u001b[22m\u001b[0m\u001b[1mx\u001b[22m \u001b[0m\u001b[1mC\u001b[22m\u001b[0m\u001b[1mo\u001b[22m\u001b[0m\u001b[1mm\u001b[22m\u001b[0m\u001b[1mp\u001b[22m\u001b[0m\u001b[1ml\u001b[22m\u001b[0m\u001b[1me\u001b[22m\u001b[0m\u001b[1mx\u001b[22mF64 \u001b[0m\u001b[1mC\u001b[22m\u001b[0m\u001b[1mo\u001b[22m\u001b[0m\u001b[1mm\u001b[22m\u001b[0m\u001b[1mp\u001b[22m\u001b[0m\u001b[1ml\u001b[22m\u001b[0m\u001b[1me\u001b[22m\u001b[0m\u001b[1mx\u001b[22mF32 \u001b[0m\u001b[1mC\u001b[22m\u001b[0m\u001b[1mo\u001b[22m\u001b[0m\u001b[1mm\u001b[22m\u001b[0m\u001b[1mp\u001b[22m\u001b[0m\u001b[1ml\u001b[22m\u001b[0m\u001b[1me\u001b[22m\u001b[0m\u001b[1mx\u001b[22mF16 pre\u001b[0m\u001b[1mc\u001b[22m\u001b[0m\u001b[1mo\u001b[22m\u001b[0m\u001b[1mm\u001b[22m\u001b[0m\u001b[1mp\u001b[22mi\u001b[0m\u001b[1ml\u001b[22m\u001b[0m\u001b[1me\u001b[22m\n",
      "\n"
     ]
    },
    {
     "data": {
      "text/latex": [
       "\\begin{verbatim}\n",
       "complex(r, [i])\n",
       "\\end{verbatim}\n",
       "Convert real numbers or arrays to complex. \\texttt{i} defaults to zero.\n",
       "\n",
       "\\section{Examples}\n",
       "\\begin{verbatim}\n",
       "julia> complex(7)\n",
       "7 + 0im\n",
       "\n",
       "julia> complex([1, 2, 3])\n",
       "3-element Array{Complex{Int64},1}:\n",
       " 1 + 0im\n",
       " 2 + 0im\n",
       " 3 + 0im\n",
       "\\end{verbatim}\n",
       "\\rule{\\textwidth}{1pt}\n",
       "\\begin{verbatim}\n",
       "complex(T::Type)\n",
       "\\end{verbatim}\n",
       "Return an appropriate type which can represent a value of type \\texttt{T} as a complex number. Equivalent to \\texttt{typeof(complex(zero(T)))}.\n",
       "\n",
       "\\section{Examples}\n",
       "\\begin{verbatim}\n",
       "julia> complex(Complex{Int})\n",
       "Complex{Int64}\n",
       "\n",
       "julia> complex(Int)\n",
       "Complex{Int64}\n",
       "\\end{verbatim}\n"
      ],
      "text/markdown": [
       "```\n",
       "complex(r, [i])\n",
       "```\n",
       "\n",
       "Convert real numbers or arrays to complex. `i` defaults to zero.\n",
       "\n",
       "# Examples\n",
       "\n",
       "```jldoctest\n",
       "julia> complex(7)\n",
       "7 + 0im\n",
       "\n",
       "julia> complex([1, 2, 3])\n",
       "3-element Array{Complex{Int64},1}:\n",
       " 1 + 0im\n",
       " 2 + 0im\n",
       " 3 + 0im\n",
       "```\n",
       "\n",
       "---\n",
       "\n",
       "```\n",
       "complex(T::Type)\n",
       "```\n",
       "\n",
       "Return an appropriate type which can represent a value of type `T` as a complex number. Equivalent to `typeof(complex(zero(T)))`.\n",
       "\n",
       "# Examples\n",
       "\n",
       "```jldoctest\n",
       "julia> complex(Complex{Int})\n",
       "Complex{Int64}\n",
       "\n",
       "julia> complex(Int)\n",
       "Complex{Int64}\n",
       "```\n"
      ],
      "text/plain": [
       "\u001b[36m  complex(r, [i])\u001b[39m\n",
       "\n",
       "  Convert real numbers or arrays to complex. \u001b[36mi\u001b[39m defaults to zero.\n",
       "\n",
       "\u001b[1m  Examples\u001b[22m\n",
       "\u001b[1m  ≡≡≡≡≡≡≡≡≡≡\u001b[22m\n",
       "\n",
       "\u001b[36m  julia> complex(7)\u001b[39m\n",
       "\u001b[36m  7 + 0im\u001b[39m\n",
       "\u001b[36m  \u001b[39m\n",
       "\u001b[36m  julia> complex([1, 2, 3])\u001b[39m\n",
       "\u001b[36m  3-element Array{Complex{Int64},1}:\u001b[39m\n",
       "\u001b[36m   1 + 0im\u001b[39m\n",
       "\u001b[36m   2 + 0im\u001b[39m\n",
       "\u001b[36m   3 + 0im\u001b[39m\n",
       "\n",
       "  ────────────────────────────────────────────────────────────────────────────\n",
       "\n",
       "\u001b[36m  complex(T::Type)\u001b[39m\n",
       "\n",
       "  Return an appropriate type which can represent a value of type \u001b[36mT\u001b[39m as a\n",
       "  complex number. Equivalent to \u001b[36mtypeof(complex(zero(T)))\u001b[39m.\n",
       "\n",
       "\u001b[1m  Examples\u001b[22m\n",
       "\u001b[1m  ≡≡≡≡≡≡≡≡≡≡\u001b[22m\n",
       "\n",
       "\u001b[36m  julia> complex(Complex{Int})\u001b[39m\n",
       "\u001b[36m  Complex{Int64}\u001b[39m\n",
       "\u001b[36m  \u001b[39m\n",
       "\u001b[36m  julia> complex(Int)\u001b[39m\n",
       "\u001b[36m  Complex{Int64}\u001b[39m"
      ]
     },
     "execution_count": 103,
     "metadata": {},
     "output_type": "execute_result"
    }
   ],
   "source": [
    "?complex"
   ]
  },
  {
   "cell_type": "code",
   "execution_count": 115,
   "metadata": {},
   "outputs": [
    {
     "data": {
      "text/plain": [
       "2-element Array{Complex{Int64},1}:\n",
       " 7 + 0im\n",
       " 1 + 0im"
      ]
     },
     "execution_count": 115,
     "metadata": {},
     "output_type": "execute_result"
    }
   ],
   "source": [
    "complex([7,1])"
   ]
  },
  {
   "cell_type": "code",
   "execution_count": 107,
   "metadata": {},
   "outputs": [
    {
     "data": {
      "text/plain": [
       "2-element Array{Complex{Int64},1}:\n",
       " 1 + 0im\n",
       " 2 + 0im"
      ]
     },
     "execution_count": 107,
     "metadata": {},
     "output_type": "execute_result"
    }
   ],
   "source": [
    "complex([1,2])"
   ]
  },
  {
   "cell_type": "code",
   "execution_count": 110,
   "metadata": {},
   "outputs": [
    {
     "data": {
      "text/plain": [
       "Complex{Int64}"
      ]
     },
     "execution_count": 110,
     "metadata": {},
     "output_type": "execute_result"
    }
   ],
   "source": [
    "r = typeof(complex(zero(Int64)))"
   ]
  },
  {
   "cell_type": "code",
   "execution_count": 116,
   "metadata": {},
   "outputs": [
    {
     "data": {
      "text/plain": [
       "1 + 2im"
      ]
     },
     "execution_count": 116,
     "metadata": {},
     "output_type": "execute_result"
    }
   ],
   "source": [
    "r = 1+2im"
   ]
  },
  {
   "cell_type": "code",
   "execution_count": 117,
   "metadata": {},
   "outputs": [
    {
     "name": "stdout",
     "output_type": "stream",
     "text": [
      "search: \u001b[0m\u001b[1mm\u001b[22m\u001b[0m\u001b[1ma\u001b[22m\u001b[0m\u001b[1mt\u001b[22m\u001b[0m\u001b[1mc\u001b[22m\u001b[0m\u001b[1mh\u001b[22m each\u001b[0m\u001b[1mm\u001b[22m\u001b[0m\u001b[1ma\u001b[22m\u001b[0m\u001b[1mt\u001b[22m\u001b[0m\u001b[1mc\u001b[22m\u001b[0m\u001b[1mh\u001b[22m Regex\u001b[0m\u001b[1mM\u001b[22m\u001b[0m\u001b[1ma\u001b[22m\u001b[0m\u001b[1mt\u001b[22m\u001b[0m\u001b[1mc\u001b[22m\u001b[0m\u001b[1mh\u001b[22m Di\u001b[0m\u001b[1mm\u001b[22mensionMism\u001b[0m\u001b[1ma\u001b[22m\u001b[0m\u001b[1mt\u001b[22m\u001b[0m\u001b[1mc\u001b[22m\u001b[0m\u001b[1mh\u001b[22m \u001b[0m\u001b[1mM\u001b[22m\u001b[0m\u001b[1ma\u001b[22m\u001b[0m\u001b[1mt\u001b[22mh\u001b[0m\u001b[1mC\u001b[22monstants\n",
      "\n"
     ]
    },
    {
     "data": {
      "text/latex": [
       "\\begin{verbatim}\n",
       "match(r::Regex, s::AbstractString[, idx::Integer[, addopts]])\n",
       "\\end{verbatim}\n",
       "Search for the first match of the regular expression \\texttt{r} in \\texttt{s} and return a \\texttt{RegexMatch} object containing the match, or nothing if the match failed. The matching substring can be retrieved by accessing \\texttt{m.match} and the captured sequences can be retrieved by accessing \\texttt{m.captures} The optional \\texttt{idx} argument specifies an index at which to start the search.\n",
       "\n",
       "\\section{Examples}\n",
       "\\begin{verbatim}\n",
       "julia> rx = r\"a(.)a\"\n",
       "r\"a(.)a\"\n",
       "\n",
       "julia> m = match(rx, \"cabac\")\n",
       "RegexMatch(\"aba\", 1=\"b\")\n",
       "\n",
       "julia> m.captures\n",
       "1-element Array{Union{Nothing, SubString{String}},1}:\n",
       " \"b\"\n",
       "\n",
       "julia> m.match\n",
       "\"aba\"\n",
       "\n",
       "julia> match(rx, \"cabac\", 3) === nothing\n",
       "true\n",
       "\\end{verbatim}\n"
      ],
      "text/markdown": [
       "```\n",
       "match(r::Regex, s::AbstractString[, idx::Integer[, addopts]])\n",
       "```\n",
       "\n",
       "Search for the first match of the regular expression `r` in `s` and return a `RegexMatch` object containing the match, or nothing if the match failed. The matching substring can be retrieved by accessing `m.match` and the captured sequences can be retrieved by accessing `m.captures` The optional `idx` argument specifies an index at which to start the search.\n",
       "\n",
       "# Examples\n",
       "\n",
       "```jldoctest\n",
       "julia> rx = r\"a(.)a\"\n",
       "r\"a(.)a\"\n",
       "\n",
       "julia> m = match(rx, \"cabac\")\n",
       "RegexMatch(\"aba\", 1=\"b\")\n",
       "\n",
       "julia> m.captures\n",
       "1-element Array{Union{Nothing, SubString{String}},1}:\n",
       " \"b\"\n",
       "\n",
       "julia> m.match\n",
       "\"aba\"\n",
       "\n",
       "julia> match(rx, \"cabac\", 3) === nothing\n",
       "true\n",
       "```\n"
      ],
      "text/plain": [
       "\u001b[36m  match(r::Regex, s::AbstractString[, idx::Integer[, addopts]])\u001b[39m\n",
       "\n",
       "  Search for the first match of the regular expression \u001b[36mr\u001b[39m in \u001b[36ms\u001b[39m and return a\n",
       "  \u001b[36mRegexMatch\u001b[39m object containing the match, or nothing if the match failed. The\n",
       "  matching substring can be retrieved by accessing \u001b[36mm.match\u001b[39m and the captured\n",
       "  sequences can be retrieved by accessing \u001b[36mm.captures\u001b[39m The optional \u001b[36midx\u001b[39m argument\n",
       "  specifies an index at which to start the search.\n",
       "\n",
       "\u001b[1m  Examples\u001b[22m\n",
       "\u001b[1m  ≡≡≡≡≡≡≡≡≡≡\u001b[22m\n",
       "\n",
       "\u001b[36m  julia> rx = r\"a(.)a\"\u001b[39m\n",
       "\u001b[36m  r\"a(.)a\"\u001b[39m\n",
       "\u001b[36m  \u001b[39m\n",
       "\u001b[36m  julia> m = match(rx, \"cabac\")\u001b[39m\n",
       "\u001b[36m  RegexMatch(\"aba\", 1=\"b\")\u001b[39m\n",
       "\u001b[36m  \u001b[39m\n",
       "\u001b[36m  julia> m.captures\u001b[39m\n",
       "\u001b[36m  1-element Array{Union{Nothing, SubString{String}},1}:\u001b[39m\n",
       "\u001b[36m   \"b\"\u001b[39m\n",
       "\u001b[36m  \u001b[39m\n",
       "\u001b[36m  julia> m.match\u001b[39m\n",
       "\u001b[36m  \"aba\"\u001b[39m\n",
       "\u001b[36m  \u001b[39m\n",
       "\u001b[36m  julia> match(rx, \"cabac\", 3) === nothing\u001b[39m\n",
       "\u001b[36m  true\u001b[39m"
      ]
     },
     "execution_count": 117,
     "metadata": {},
     "output_type": "execute_result"
    }
   ],
   "source": [
    "?match"
   ]
  },
  {
   "cell_type": "code",
   "execution_count": 118,
   "metadata": {},
   "outputs": [],
   "source": [
    "nothing"
   ]
  },
  {
   "cell_type": "code",
   "execution_count": 119,
   "metadata": {},
   "outputs": [],
   "source": [
    "a = nothing"
   ]
  },
  {
   "cell_type": "code",
   "execution_count": 120,
   "metadata": {},
   "outputs": [],
   "source": [
    "a"
   ]
  },
  {
   "cell_type": "code",
   "execution_count": 121,
   "metadata": {},
   "outputs": [
    {
     "data": {
      "text/plain": [
       "RegexMatch(\"aba\", 1=\"b\")"
      ]
     },
     "execution_count": 121,
     "metadata": {},
     "output_type": "execute_result"
    }
   ],
   "source": [
    "rx = r\"a(.)a\"\n",
    "m = match(rx, \"cabac\")"
   ]
  },
  {
   "cell_type": "code",
   "execution_count": 122,
   "metadata": {},
   "outputs": [
    {
     "data": {
      "text/plain": [
       "\"aba\""
      ]
     },
     "execution_count": 122,
     "metadata": {},
     "output_type": "execute_result"
    }
   ],
   "source": [
    "m.match"
   ]
  },
  {
   "cell_type": "code",
   "execution_count": 127,
   "metadata": {},
   "outputs": [],
   "source": [
    "match(rx,\"cabac\",4)"
   ]
  },
  {
   "cell_type": "code",
   "execution_count": 128,
   "metadata": {},
   "outputs": [
    {
     "data": {
      "text/plain": [
       "6-element Array{Int64,1}:\n",
       " 1\n",
       " 2\n",
       " 3\n",
       " 4\n",
       " 5\n",
       " 6"
      ]
     },
     "execution_count": 128,
     "metadata": {},
     "output_type": "execute_result"
    }
   ],
   "source": [
    "a = [1,2,3,4,5,6]"
   ]
  },
  {
   "cell_type": "code",
   "execution_count": 129,
   "metadata": {},
   "outputs": [
    {
     "ename": "MethodError",
     "evalue": "MethodError: no method matching min(::Array{Int64,1})\nClosest candidates are:\n  min(::Any, !Matched::Missing) at missing.jl:101\n  min(::Any, !Matched::Any) at operators.jl:422\n  min(::Any, !Matched::Any, !Matched::Any, !Matched::Any...) at operators.jl:529\n  ...",
     "output_type": "error",
     "traceback": [
      "MethodError: no method matching min(::Array{Int64,1})\nClosest candidates are:\n  min(::Any, !Matched::Missing) at missing.jl:101\n  min(::Any, !Matched::Any) at operators.jl:422\n  min(::Any, !Matched::Any, !Matched::Any, !Matched::Any...) at operators.jl:529\n  ...",
      "",
      "Stacktrace:",
      " [1] top-level scope at In[129]:1"
     ]
    }
   ],
   "source": [
    "min(a)"
   ]
  },
  {
   "cell_type": "code",
   "execution_count": 130,
   "metadata": {},
   "outputs": [
    {
     "ename": "MethodError",
     "evalue": "MethodError: no method matching typemin(::Array{Int64,1})\nClosest candidates are:\n  typemin(!Matched::Type{Bool}) at bool.jl:6\n  typemin(!Matched::Type{Int8}) at int.jl:665\n  typemin(!Matched::Type{UInt8}) at int.jl:667\n  ...",
     "output_type": "error",
     "traceback": [
      "MethodError: no method matching typemin(::Array{Int64,1})\nClosest candidates are:\n  typemin(!Matched::Type{Bool}) at bool.jl:6\n  typemin(!Matched::Type{Int8}) at int.jl:665\n  typemin(!Matched::Type{UInt8}) at int.jl:667\n  ...",
      "",
      "Stacktrace:",
      " [1] top-level scope at In[130]:1"
     ]
    }
   ],
   "source": [
    "typemin(a)"
   ]
  },
  {
   "cell_type": "code",
   "execution_count": 131,
   "metadata": {},
   "outputs": [
    {
     "name": "stdout",
     "output_type": "stream",
     "text": [
      "search: \u001b[0m\u001b[1mm\u001b[22m\u001b[0m\u001b[1mi\u001b[22m\u001b[0m\u001b[1mn\u001b[22m \u001b[0m\u001b[1mm\u001b[22m\u001b[0m\u001b[1mi\u001b[22m\u001b[0m\u001b[1mn\u001b[22mmax \u001b[0m\u001b[1mm\u001b[22m\u001b[0m\u001b[1mi\u001b[22m\u001b[0m\u001b[1mn\u001b[22mimum \u001b[0m\u001b[1mm\u001b[22m\u001b[0m\u001b[1mi\u001b[22m\u001b[0m\u001b[1mn\u001b[22mimum! arg\u001b[0m\u001b[1mm\u001b[22m\u001b[0m\u001b[1mi\u001b[22m\u001b[0m\u001b[1mn\u001b[22m \u001b[0m\u001b[1mM\u001b[22ma\u001b[0m\u001b[1mi\u001b[22m\u001b[0m\u001b[1mn\u001b[22m type\u001b[0m\u001b[1mm\u001b[22m\u001b[0m\u001b[1mi\u001b[22m\u001b[0m\u001b[1mn\u001b[22m find\u001b[0m\u001b[1mm\u001b[22m\u001b[0m\u001b[1mi\u001b[22m\u001b[0m\u001b[1mn\u001b[22m find\u001b[0m\u001b[1mm\u001b[22m\u001b[0m\u001b[1mi\u001b[22m\u001b[0m\u001b[1mn\u001b[22m!\n",
      "\n"
     ]
    },
    {
     "data": {
      "text/latex": [
       "\\begin{verbatim}\n",
       "min(x, y, ...)\n",
       "\\end{verbatim}\n",
       "Return the minimum of the arguments. See also the \\href{@ref}{\\texttt{minimum}} function to take the minimum element from a collection.\n",
       "\n",
       "\\section{Examples}\n",
       "\\begin{verbatim}\n",
       "julia> min(2, 5, 1)\n",
       "1\n",
       "\\end{verbatim}\n"
      ],
      "text/markdown": [
       "```\n",
       "min(x, y, ...)\n",
       "```\n",
       "\n",
       "Return the minimum of the arguments. See also the [`minimum`](@ref) function to take the minimum element from a collection.\n",
       "\n",
       "# Examples\n",
       "\n",
       "```jldoctest\n",
       "julia> min(2, 5, 1)\n",
       "1\n",
       "```\n"
      ],
      "text/plain": [
       "\u001b[36m  min(x, y, ...)\u001b[39m\n",
       "\n",
       "  Return the minimum of the arguments. See also the \u001b[36mminimum\u001b[39m function to take\n",
       "  the minimum element from a collection.\n",
       "\n",
       "\u001b[1m  Examples\u001b[22m\n",
       "\u001b[1m  ≡≡≡≡≡≡≡≡≡≡\u001b[22m\n",
       "\n",
       "\u001b[36m  julia> min(2, 5, 1)\u001b[39m\n",
       "\u001b[36m  1\u001b[39m"
      ]
     },
     "execution_count": 131,
     "metadata": {},
     "output_type": "execute_result"
    }
   ],
   "source": [
    "?min"
   ]
  },
  {
   "cell_type": "code",
   "execution_count": 132,
   "metadata": {},
   "outputs": [
    {
     "ename": "ErrorException",
     "evalue": "type Array has no field add",
     "output_type": "error",
     "traceback": [
      "type Array has no field add",
      "",
      "Stacktrace:",
      " [1] getproperty(::Any, ::Symbol) at .\\Base.jl:20",
      " [2] top-level scope at In[132]:1"
     ]
    }
   ],
   "source": [
    "a.add(4)"
   ]
  },
  {
   "cell_type": "code",
   "execution_count": 133,
   "metadata": {},
   "outputs": [
    {
     "name": "stdout",
     "output_type": "stream",
     "text": [
      "search: \u001b[0m\u001b[1mA\u001b[22m\u001b[0m\u001b[1mr\u001b[22m\u001b[0m\u001b[1mr\u001b[22m\u001b[0m\u001b[1ma\u001b[22m\u001b[0m\u001b[1my\u001b[22m Sub\u001b[0m\u001b[1mA\u001b[22m\u001b[0m\u001b[1mr\u001b[22m\u001b[0m\u001b[1mr\u001b[22m\u001b[0m\u001b[1ma\u001b[22m\u001b[0m\u001b[1my\u001b[22m Bit\u001b[0m\u001b[1mA\u001b[22m\u001b[0m\u001b[1mr\u001b[22m\u001b[0m\u001b[1mr\u001b[22m\u001b[0m\u001b[1ma\u001b[22m\u001b[0m\u001b[1my\u001b[22m Dense\u001b[0m\u001b[1mA\u001b[22m\u001b[0m\u001b[1mr\u001b[22m\u001b[0m\u001b[1mr\u001b[22m\u001b[0m\u001b[1ma\u001b[22m\u001b[0m\u001b[1my\u001b[22m Strided\u001b[0m\u001b[1mA\u001b[22m\u001b[0m\u001b[1mr\u001b[22m\u001b[0m\u001b[1mr\u001b[22m\u001b[0m\u001b[1ma\u001b[22m\u001b[0m\u001b[1my\u001b[22m PermutedDims\u001b[0m\u001b[1mA\u001b[22m\u001b[0m\u001b[1mr\u001b[22m\u001b[0m\u001b[1mr\u001b[22m\u001b[0m\u001b[1ma\u001b[22m\u001b[0m\u001b[1my\u001b[22m\n",
      "\n",
      "Couldn't find \u001b[36marray\u001b[39m\n",
      "Perhaps you meant Array, argmax, any, atan, read, real, rpad, break or error\n"
     ]
    },
    {
     "data": {
      "text/latex": [
       "No documentation found.\n",
       "\n",
       "Binding \\texttt{array} does not exist.\n",
       "\n"
      ],
      "text/markdown": [
       "No documentation found.\n",
       "\n",
       "Binding `array` does not exist.\n"
      ],
      "text/plain": [
       "  No documentation found.\n",
       "\n",
       "  Binding \u001b[36marray\u001b[39m does not exist."
      ]
     },
     "execution_count": 133,
     "metadata": {},
     "output_type": "execute_result"
    }
   ],
   "source": [
    "?array"
   ]
  },
  {
   "cell_type": "code",
   "execution_count": 134,
   "metadata": {},
   "outputs": [
    {
     "data": {
      "text/plain": [
       "π = 3.1415926535897..."
      ]
     },
     "execution_count": 134,
     "metadata": {},
     "output_type": "execute_result"
    }
   ],
   "source": [
    "pi"
   ]
  },
  {
   "cell_type": "code",
   "execution_count": 135,
   "metadata": {},
   "outputs": [
    {
     "data": {
      "text/plain": [
       "-1 + 0im"
      ]
     },
     "execution_count": 135,
     "metadata": {},
     "output_type": "execute_result"
    }
   ],
   "source": [
    "im*im"
   ]
  },
  {
   "cell_type": "code",
   "execution_count": 136,
   "metadata": {},
   "outputs": [
    {
     "data": {
      "text/plain": [
       "-1"
      ]
     },
     "execution_count": 136,
     "metadata": {},
     "output_type": "execute_result"
    }
   ],
   "source": [
    "real(im*im)"
   ]
  },
  {
   "cell_type": "code",
   "execution_count": 137,
   "metadata": {},
   "outputs": [
    {
     "data": {
      "text/plain": [
       "-1 + 0im"
      ]
     },
     "execution_count": 137,
     "metadata": {},
     "output_type": "execute_result"
    }
   ],
   "source": [
    "complex(im*im)"
   ]
  },
  {
   "cell_type": "code",
   "execution_count": 138,
   "metadata": {},
   "outputs": [
    {
     "ename": "UndefVarError",
     "evalue": "UndefVarError: imaginary not defined",
     "output_type": "error",
     "traceback": [
      "UndefVarError: imaginary not defined",
      "",
      "Stacktrace:",
      " [1] top-level scope at In[138]:1"
     ]
    }
   ],
   "source": [
    "imaginary(im*im)"
   ]
  },
  {
   "cell_type": "code",
   "execution_count": 139,
   "metadata": {},
   "outputs": [
    {
     "ename": "MethodError",
     "evalue": "MethodError: no method matching Base.Docs.Binding(::typeof(complex), ::Symbol)\nClosest candidates are:\n  Base.Docs.Binding(!Matched::Module, ::Symbol) at docs\\bindings.jl:12",
     "output_type": "error",
     "traceback": [
      "MethodError: no method matching Base.Docs.Binding(::typeof(complex), ::Symbol)\nClosest candidates are:\n  Base.Docs.Binding(!Matched::Module, ::Symbol) at docs\\bindings.jl:12",
      "",
      "Stacktrace:",
      " [1] top-level scope at C:\\cygwin\\home\\Administrator\\buildbot\\worker\\package_win64\\build\\usr\\share\\julia\\stdlib\\v1.2\\REPL\\src\\docview.jl:355",
      " [2] eval at .\\boot.jl:330 [inlined]",
      " [3] execute_request(::ZMQ.Socket, ::IJulia.Msg) at C:\\Users\\Kaijie\\.julia\\packages\\IJulia\\fRegO\\src\\execute_request.jl:64",
      " [4] #invokelatest#1 at .\\essentials.jl:790 [inlined]",
      " [5] invokelatest at .\\essentials.jl:789 [inlined]",
      " [6] eventloop(::ZMQ.Socket) at C:\\Users\\Kaijie\\.julia\\packages\\IJulia\\fRegO\\src\\eventloop.jl:8",
      " [7] (::getfield(IJulia, Symbol(\"##15#18\")))() at .\\task.jl:268"
     ]
    }
   ],
   "source": [
    "?complex.real"
   ]
  },
  {
   "cell_type": "code",
   "execution_count": 140,
   "metadata": {},
   "outputs": [
    {
     "ename": "UndefVarError",
     "evalue": "UndefVarError: e not defined",
     "output_type": "error",
     "traceback": [
      "UndefVarError: e not defined",
      "",
      "Stacktrace:",
      " [1] top-level scope at In[140]:1"
     ]
    }
   ],
   "source": [
    "e"
   ]
  },
  {
   "cell_type": "code",
   "execution_count": 141,
   "metadata": {},
   "outputs": [
    {
     "data": {
      "text/plain": [
       "exp (generic function with 13 methods)"
      ]
     },
     "execution_count": 141,
     "metadata": {},
     "output_type": "execute_result"
    }
   ],
   "source": [
    "exp"
   ]
  },
  {
   "cell_type": "code",
   "execution_count": 142,
   "metadata": {},
   "outputs": [
    {
     "name": "stdout",
     "output_type": "stream",
     "text": [
      "search: \u001b[0m\u001b[1me\u001b[22m\u001b[0m\u001b[1mx\u001b[22m\u001b[0m\u001b[1mp\u001b[22m \u001b[0m\u001b[1me\u001b[22m\u001b[0m\u001b[1mx\u001b[22m\u001b[0m\u001b[1mp\u001b[22m2 \u001b[0m\u001b[1mE\u001b[22m\u001b[0m\u001b[1mx\u001b[22m\u001b[0m\u001b[1mp\u001b[22mr \u001b[0m\u001b[1me\u001b[22m\u001b[0m\u001b[1mx\u001b[22m\u001b[0m\u001b[1mp\u001b[22mm1 \u001b[0m\u001b[1me\u001b[22m\u001b[0m\u001b[1mx\u001b[22m\u001b[0m\u001b[1mp\u001b[22m10 \u001b[0m\u001b[1me\u001b[22m\u001b[0m\u001b[1mx\u001b[22m\u001b[0m\u001b[1mp\u001b[22mort \u001b[0m\u001b[1me\u001b[22m\u001b[0m\u001b[1mx\u001b[22m\u001b[0m\u001b[1mp\u001b[22monent \u001b[0m\u001b[1me\u001b[22m\u001b[0m\u001b[1mx\u001b[22m\u001b[0m\u001b[1mp\u001b[22manduser \u001b[0m\u001b[1mE\u001b[22m\u001b[0m\u001b[1mx\u001b[22m\u001b[0m\u001b[1mp\u001b[22monentialBackOff\n",
      "\n"
     ]
    },
    {
     "data": {
      "text/latex": [
       "\\begin{verbatim}\n",
       "exp(x)\n",
       "\\end{verbatim}\n",
       "Compute the natural base exponential of \\texttt{x}, in other words $e^x$.\n",
       "\n",
       "\\section{Examples}\n",
       "\\begin{verbatim}\n",
       "julia> exp(1.0)\n",
       "2.718281828459045\n",
       "\\end{verbatim}\n",
       "\\rule{\\textwidth}{1pt}\n",
       "\\begin{verbatim}\n",
       "exp(A::AbstractMatrix)\n",
       "\\end{verbatim}\n",
       "Compute the matrix exponential of \\texttt{A}, defined by\n",
       "\n",
       "$$e^A = \\sum_{n=0}^{\\infty} \\frac{A^n}{n!}.$$\n",
       "For symmetric or Hermitian \\texttt{A}, an eigendecomposition (\\href{@ref}{\\texttt{eigen}}) is used, otherwise the scaling and squaring algorithm (see \\footnotemark[H05]) is chosen.\n",
       "\n",
       "\\footnotetext[H05]{Nicholas J. Higham, \"The squaring and scaling method for the matrix exponential revisited\", SIAM Journal on Matrix Analysis and Applications, 26(4), 2005, 1179-1193. \\href{https://doi.org/10.1137/090768539}{doi:10.1137/090768539}\n",
       "\n",
       "}\n",
       "\\section{Examples}\n",
       "\\begin{verbatim}\n",
       "julia> A = Matrix(1.0I, 2, 2)\n",
       "2×2 Array{Float64,2}:\n",
       " 1.0  0.0\n",
       " 0.0  1.0\n",
       "\n",
       "julia> exp(A)\n",
       "2×2 Array{Float64,2}:\n",
       " 2.71828  0.0\n",
       " 0.0      2.71828\n",
       "\\end{verbatim}\n"
      ],
      "text/markdown": [
       "```\n",
       "exp(x)\n",
       "```\n",
       "\n",
       "Compute the natural base exponential of `x`, in other words $e^x$.\n",
       "\n",
       "# Examples\n",
       "\n",
       "```jldoctest\n",
       "julia> exp(1.0)\n",
       "2.718281828459045\n",
       "```\n",
       "\n",
       "---\n",
       "\n",
       "```\n",
       "exp(A::AbstractMatrix)\n",
       "```\n",
       "\n",
       "Compute the matrix exponential of `A`, defined by\n",
       "\n",
       "$$\n",
       "e^A = \\sum_{n=0}^{\\infty} \\frac{A^n}{n!}.\n",
       "$$\n",
       "\n",
       "For symmetric or Hermitian `A`, an eigendecomposition ([`eigen`](@ref)) is used, otherwise the scaling and squaring algorithm (see [^H05]) is chosen.\n",
       "\n",
       "[^H05]: Nicholas J. Higham, \"The squaring and scaling method for the matrix exponential revisited\", SIAM Journal on Matrix Analysis and Applications, 26(4), 2005, 1179-1193. [doi:10.1137/090768539](https://doi.org/10.1137/090768539)\n",
       "\n",
       "# Examples\n",
       "\n",
       "```jldoctest\n",
       "julia> A = Matrix(1.0I, 2, 2)\n",
       "2×2 Array{Float64,2}:\n",
       " 1.0  0.0\n",
       " 0.0  1.0\n",
       "\n",
       "julia> exp(A)\n",
       "2×2 Array{Float64,2}:\n",
       " 2.71828  0.0\n",
       " 0.0      2.71828\n",
       "```\n"
      ],
      "text/plain": [
       "\u001b[36m  exp(x)\u001b[39m\n",
       "\n",
       "  Compute the natural base exponential of \u001b[36mx\u001b[39m, in other words \u001b[35me^x\u001b[39m.\n",
       "\n",
       "\u001b[1m  Examples\u001b[22m\n",
       "\u001b[1m  ≡≡≡≡≡≡≡≡≡≡\u001b[22m\n",
       "\n",
       "\u001b[36m  julia> exp(1.0)\u001b[39m\n",
       "\u001b[36m  2.718281828459045\u001b[39m\n",
       "\n",
       "  ────────────────────────────────────────────────────────────────────────────\n",
       "\n",
       "\u001b[36m  exp(A::AbstractMatrix)\u001b[39m\n",
       "\n",
       "  Compute the matrix exponential of \u001b[36mA\u001b[39m, defined by\n",
       "\n",
       "\u001b[35me^A = \\sum_{n=0}^{\\infty} \\frac{A^n}{n!}.\u001b[39m\n",
       "\n",
       "  For symmetric or Hermitian \u001b[36mA\u001b[39m, an eigendecomposition (\u001b[36meigen\u001b[39m) is used,\n",
       "  otherwise the scaling and squaring algorithm (see \u001b[1m[^H05]\u001b[22m) is chosen.\n",
       "\n",
       "  │ \u001b[0m\u001b[1m[^H05]\u001b[22m\n",
       "  │\n",
       "  │  Nicholas J. Higham, \"The squaring and scaling method for the\n",
       "  │  matrix exponential revisited\", SIAM Journal on Matrix Analysis and\n",
       "  │  Applications, 26(4), 2005, 1179-1193. doi:10.1137/090768539\n",
       "  │  (https://doi.org/10.1137/090768539)\n",
       "\n",
       "\u001b[1m  Examples\u001b[22m\n",
       "\u001b[1m  ≡≡≡≡≡≡≡≡≡≡\u001b[22m\n",
       "\n",
       "\u001b[36m  julia> A = Matrix(1.0I, 2, 2)\u001b[39m\n",
       "\u001b[36m  2×2 Array{Float64,2}:\u001b[39m\n",
       "\u001b[36m   1.0  0.0\u001b[39m\n",
       "\u001b[36m   0.0  1.0\u001b[39m\n",
       "\u001b[36m  \u001b[39m\n",
       "\u001b[36m  julia> exp(A)\u001b[39m\n",
       "\u001b[36m  2×2 Array{Float64,2}:\u001b[39m\n",
       "\u001b[36m   2.71828  0.0\u001b[39m\n",
       "\u001b[36m   0.0      2.71828\u001b[39m"
      ]
     },
     "execution_count": 142,
     "metadata": {},
     "output_type": "execute_result"
    }
   ],
   "source": [
    "?exp"
   ]
  },
  {
   "cell_type": "code",
   "execution_count": 143,
   "metadata": {},
   "outputs": [
    {
     "data": {
      "text/plain": [
       "2.718281828459045"
      ]
     },
     "execution_count": 143,
     "metadata": {},
     "output_type": "execute_result"
    }
   ],
   "source": [
    "exp(1)"
   ]
  },
  {
   "cell_type": "code",
   "execution_count": 144,
   "metadata": {},
   "outputs": [
    {
     "name": "stdout",
     "output_type": "stream",
     "text": [
      "search: \u001b[0m\u001b[1me\u001b[22m\u001b[0m\u001b[1mp\u001b[22m\u001b[0m\u001b[1ms\u001b[22m @\u001b[0m\u001b[1me\u001b[22mla\u001b[0m\u001b[1mp\u001b[22m\u001b[0m\u001b[1ms\u001b[22med \u001b[0m\u001b[1me\u001b[22mx\u001b[0m\u001b[1mp\u001b[22mandu\u001b[0m\u001b[1ms\u001b[22mer \u001b[0m\u001b[1me\u001b[22msca\u001b[0m\u001b[1mp\u001b[22me_\u001b[0m\u001b[1ms\u001b[22mtring s\u001b[0m\u001b[1me\u001b[22mt\u001b[0m\u001b[1mp\u001b[22mreci\u001b[0m\u001b[1ms\u001b[22mion p\u001b[0m\u001b[1me\u001b[22makflo\u001b[0m\u001b[1mp\u001b[22m\u001b[0m\u001b[1ms\u001b[22m\n",
      "\n"
     ]
    },
    {
     "data": {
      "text/latex": [
       "\\begin{verbatim}\n",
       "eps(::Type{T}) where T<:AbstractFloat\n",
       "eps()\n",
       "\\end{verbatim}\n",
       "Return the \\emph{machine epsilon} of the floating point type \\texttt{T} (\\texttt{T = Float64} by default). This is defined as the gap between 1 and the next largest value representable by \\texttt{typeof(one(T))}, and is equivalent to \\texttt{eps(one(T))}.  (Since \\texttt{eps(T)} is a bound on the \\emph{relative error} of \\texttt{T}, it is a \"dimensionless\" quantity like \\href{@ref}{\\texttt{one}}.)\n",
       "\n",
       "\\section{Examples}\n",
       "\\begin{verbatim}\n",
       "julia> eps()\n",
       "2.220446049250313e-16\n",
       "\n",
       "julia> eps(Float32)\n",
       "1.1920929f-7\n",
       "\n",
       "julia> 1.0 + eps()\n",
       "1.0000000000000002\n",
       "\n",
       "julia> 1.0 + eps()/2\n",
       "1.0\n",
       "\\end{verbatim}\n",
       "\\rule{\\textwidth}{1pt}\n",
       "\\begin{verbatim}\n",
       "eps(x::AbstractFloat)\n",
       "\\end{verbatim}\n",
       "Return the \\emph{unit in last place} (ulp) of \\texttt{x}. This is the distance between consecutive representable floating point values at \\texttt{x}. In most cases, if the distance on either side of \\texttt{x} is different, then the larger of the two is taken, that is\n",
       "\n",
       "\\begin{verbatim}\n",
       "eps(x) == max(x-prevfloat(x), nextfloat(x)-x)\n",
       "\\end{verbatim}\n",
       "The exceptions to this rule are the smallest and largest finite values (e.g. \\texttt{nextfloat(-Inf)} and \\texttt{prevfloat(Inf)} for \\href{@ref}{\\texttt{Float64}}), which round to the smaller of the values.\n",
       "\n",
       "The rationale for this behavior is that \\texttt{eps} bounds the floating point rounding error. Under the default \\texttt{RoundNearest} rounding mode, if $y$ is a real number and $x$ is the nearest floating point number to $y$, then\n",
       "\n",
       "$$|y-x| \\leq \\operatorname{eps}(x)/2.$$\n",
       "\\section{Examples}\n",
       "\\begin{verbatim}\n",
       "julia> eps(1.0)\n",
       "2.220446049250313e-16\n",
       "\n",
       "julia> eps(prevfloat(2.0))\n",
       "2.220446049250313e-16\n",
       "\n",
       "julia> eps(2.0)\n",
       "4.440892098500626e-16\n",
       "\n",
       "julia> x = prevfloat(Inf)      # largest finite Float64\n",
       "1.7976931348623157e308\n",
       "\n",
       "julia> x + eps(x)/2            # rounds up\n",
       "Inf\n",
       "\n",
       "julia> x + prevfloat(eps(x)/2) # rounds down\n",
       "1.7976931348623157e308\n",
       "\\end{verbatim}\n",
       "\\rule{\\textwidth}{1pt}\n",
       "\\begin{verbatim}\n",
       "eps(::DateTime) -> Millisecond\n",
       "eps(::Date) -> Day\n",
       "eps(::Time) -> Nanosecond\n",
       "\\end{verbatim}\n",
       "Returns \\texttt{Millisecond(1)} for \\texttt{DateTime} values, \\texttt{Day(1)} for \\texttt{Date} values, and \\texttt{Nanosecond(1)} for \\texttt{Time} values.\n",
       "\n"
      ],
      "text/markdown": [
       "```\n",
       "eps(::Type{T}) where T<:AbstractFloat\n",
       "eps()\n",
       "```\n",
       "\n",
       "Return the *machine epsilon* of the floating point type `T` (`T = Float64` by default). This is defined as the gap between 1 and the next largest value representable by `typeof(one(T))`, and is equivalent to `eps(one(T))`.  (Since `eps(T)` is a bound on the *relative error* of `T`, it is a \"dimensionless\" quantity like [`one`](@ref).)\n",
       "\n",
       "# Examples\n",
       "\n",
       "```jldoctest\n",
       "julia> eps()\n",
       "2.220446049250313e-16\n",
       "\n",
       "julia> eps(Float32)\n",
       "1.1920929f-7\n",
       "\n",
       "julia> 1.0 + eps()\n",
       "1.0000000000000002\n",
       "\n",
       "julia> 1.0 + eps()/2\n",
       "1.0\n",
       "```\n",
       "\n",
       "---\n",
       "\n",
       "```\n",
       "eps(x::AbstractFloat)\n",
       "```\n",
       "\n",
       "Return the *unit in last place* (ulp) of `x`. This is the distance between consecutive representable floating point values at `x`. In most cases, if the distance on either side of `x` is different, then the larger of the two is taken, that is\n",
       "\n",
       "```\n",
       "eps(x) == max(x-prevfloat(x), nextfloat(x)-x)\n",
       "```\n",
       "\n",
       "The exceptions to this rule are the smallest and largest finite values (e.g. `nextfloat(-Inf)` and `prevfloat(Inf)` for [`Float64`](@ref)), which round to the smaller of the values.\n",
       "\n",
       "The rationale for this behavior is that `eps` bounds the floating point rounding error. Under the default `RoundNearest` rounding mode, if $y$ is a real number and $x$ is the nearest floating point number to $y$, then\n",
       "\n",
       "$$\n",
       "|y-x| \\leq \\operatorname{eps}(x)/2.\n",
       "$$\n",
       "\n",
       "# Examples\n",
       "\n",
       "```jldoctest\n",
       "julia> eps(1.0)\n",
       "2.220446049250313e-16\n",
       "\n",
       "julia> eps(prevfloat(2.0))\n",
       "2.220446049250313e-16\n",
       "\n",
       "julia> eps(2.0)\n",
       "4.440892098500626e-16\n",
       "\n",
       "julia> x = prevfloat(Inf)      # largest finite Float64\n",
       "1.7976931348623157e308\n",
       "\n",
       "julia> x + eps(x)/2            # rounds up\n",
       "Inf\n",
       "\n",
       "julia> x + prevfloat(eps(x)/2) # rounds down\n",
       "1.7976931348623157e308\n",
       "```\n",
       "\n",
       "---\n",
       "\n",
       "```\n",
       "eps(::DateTime) -> Millisecond\n",
       "eps(::Date) -> Day\n",
       "eps(::Time) -> Nanosecond\n",
       "```\n",
       "\n",
       "Returns `Millisecond(1)` for `DateTime` values, `Day(1)` for `Date` values, and `Nanosecond(1)` for `Time` values.\n"
      ],
      "text/plain": [
       "\u001b[36m  eps(::Type{T}) where T<:AbstractFloat\u001b[39m\n",
       "\u001b[36m  eps()\u001b[39m\n",
       "\n",
       "  Return the \u001b[4mmachine epsilon\u001b[24m of the floating point type \u001b[36mT\u001b[39m (\u001b[36mT = Float64\u001b[39m by\n",
       "  default). This is defined as the gap between 1 and the next largest value\n",
       "  representable by \u001b[36mtypeof(one(T))\u001b[39m, and is equivalent to \u001b[36meps(one(T))\u001b[39m. (Since\n",
       "  \u001b[36meps(T)\u001b[39m is a bound on the \u001b[4mrelative error\u001b[24m of \u001b[36mT\u001b[39m, it is a \"dimensionless\"\n",
       "  quantity like \u001b[36mone\u001b[39m.)\n",
       "\n",
       "\u001b[1m  Examples\u001b[22m\n",
       "\u001b[1m  ≡≡≡≡≡≡≡≡≡≡\u001b[22m\n",
       "\n",
       "\u001b[36m  julia> eps()\u001b[39m\n",
       "\u001b[36m  2.220446049250313e-16\u001b[39m\n",
       "\u001b[36m  \u001b[39m\n",
       "\u001b[36m  julia> eps(Float32)\u001b[39m\n",
       "\u001b[36m  1.1920929f-7\u001b[39m\n",
       "\u001b[36m  \u001b[39m\n",
       "\u001b[36m  julia> 1.0 + eps()\u001b[39m\n",
       "\u001b[36m  1.0000000000000002\u001b[39m\n",
       "\u001b[36m  \u001b[39m\n",
       "\u001b[36m  julia> 1.0 + eps()/2\u001b[39m\n",
       "\u001b[36m  1.0\u001b[39m\n",
       "\n",
       "  ────────────────────────────────────────────────────────────────────────────\n",
       "\n",
       "\u001b[36m  eps(x::AbstractFloat)\u001b[39m\n",
       "\n",
       "  Return the \u001b[4munit in last place\u001b[24m (ulp) of \u001b[36mx\u001b[39m. This is the distance between\n",
       "  consecutive representable floating point values at \u001b[36mx\u001b[39m. In most cases, if the\n",
       "  distance on either side of \u001b[36mx\u001b[39m is different, then the larger of the two is\n",
       "  taken, that is\n",
       "\n",
       "\u001b[36m  eps(x) == max(x-prevfloat(x), nextfloat(x)-x)\u001b[39m\n",
       "\n",
       "  The exceptions to this rule are the smallest and largest finite values (e.g.\n",
       "  \u001b[36mnextfloat(-Inf)\u001b[39m and \u001b[36mprevfloat(Inf)\u001b[39m for \u001b[36mFloat64\u001b[39m), which round to the smaller\n",
       "  of the values.\n",
       "\n",
       "  The rationale for this behavior is that \u001b[36meps\u001b[39m bounds the floating point\n",
       "  rounding error. Under the default \u001b[36mRoundNearest\u001b[39m rounding mode, if \u001b[35my\u001b[39m is a real\n",
       "  number and \u001b[35mx\u001b[39m is the nearest floating point number to \u001b[35my\u001b[39m, then\n",
       "\n",
       "\u001b[35m|y-x| \\leq \\operatorname{eps}(x)/2.\u001b[39m\n",
       "\n",
       "\u001b[1m  Examples\u001b[22m\n",
       "\u001b[1m  ≡≡≡≡≡≡≡≡≡≡\u001b[22m\n",
       "\n",
       "\u001b[36m  julia> eps(1.0)\u001b[39m\n",
       "\u001b[36m  2.220446049250313e-16\u001b[39m\n",
       "\u001b[36m  \u001b[39m\n",
       "\u001b[36m  julia> eps(prevfloat(2.0))\u001b[39m\n",
       "\u001b[36m  2.220446049250313e-16\u001b[39m\n",
       "\u001b[36m  \u001b[39m\n",
       "\u001b[36m  julia> eps(2.0)\u001b[39m\n",
       "\u001b[36m  4.440892098500626e-16\u001b[39m\n",
       "\u001b[36m  \u001b[39m\n",
       "\u001b[36m  julia> x = prevfloat(Inf)      # largest finite Float64\u001b[39m\n",
       "\u001b[36m  1.7976931348623157e308\u001b[39m\n",
       "\u001b[36m  \u001b[39m\n",
       "\u001b[36m  julia> x + eps(x)/2            # rounds up\u001b[39m\n",
       "\u001b[36m  Inf\u001b[39m\n",
       "\u001b[36m  \u001b[39m\n",
       "\u001b[36m  julia> x + prevfloat(eps(x)/2) # rounds down\u001b[39m\n",
       "\u001b[36m  1.7976931348623157e308\u001b[39m\n",
       "\n",
       "  ────────────────────────────────────────────────────────────────────────────\n",
       "\n",
       "\u001b[36m  eps(::DateTime) -> Millisecond\u001b[39m\n",
       "\u001b[36m  eps(::Date) -> Day\u001b[39m\n",
       "\u001b[36m  eps(::Time) -> Nanosecond\u001b[39m\n",
       "\n",
       "  Returns \u001b[36mMillisecond(1)\u001b[39m for \u001b[36mDateTime\u001b[39m values, \u001b[36mDay(1)\u001b[39m for \u001b[36mDate\u001b[39m values, and\n",
       "  \u001b[36mNanosecond(1)\u001b[39m for \u001b[36mTime\u001b[39m values."
      ]
     },
     "execution_count": 144,
     "metadata": {},
     "output_type": "execute_result"
    }
   ],
   "source": [
    "?eps\n"
   ]
  },
  {
   "cell_type": "code",
   "execution_count": 145,
   "metadata": {},
   "outputs": [
    {
     "data": {
      "text/plain": [
       "2.220446049250313e-16"
      ]
     },
     "execution_count": 145,
     "metadata": {},
     "output_type": "execute_result"
    }
   ],
   "source": [
    "eps()"
   ]
  },
  {
   "cell_type": "code",
   "execution_count": 146,
   "metadata": {},
   "outputs": [
    {
     "data": {
      "text/plain": [
       "1.0000000000000002"
      ]
     },
     "execution_count": 146,
     "metadata": {},
     "output_type": "execute_result"
    }
   ],
   "source": [
    "1+eps()"
   ]
  },
  {
   "cell_type": "code",
   "execution_count": 147,
   "metadata": {},
   "outputs": [
    {
     "data": {
      "text/plain": [
       "2.220446049250313e-16"
      ]
     },
     "execution_count": 147,
     "metadata": {},
     "output_type": "execute_result"
    }
   ],
   "source": [
    "eps(Float64)"
   ]
  },
  {
   "cell_type": "code",
   "execution_count": 149,
   "metadata": {},
   "outputs": [
    {
     "data": {
      "text/plain": [
       "1.1920929f-7"
      ]
     },
     "execution_count": 149,
     "metadata": {},
     "output_type": "execute_result"
    }
   ],
   "source": [
    "eps(Float32)"
   ]
  },
  {
   "cell_type": "code",
   "execution_count": 150,
   "metadata": {},
   "outputs": [
    {
     "data": {
      "text/plain": [
       "Float16(0.000977)"
      ]
     },
     "execution_count": 150,
     "metadata": {},
     "output_type": "execute_result"
    }
   ],
   "source": [
    "eps(Float16)"
   ]
  },
  {
   "cell_type": "code",
   "execution_count": 153,
   "metadata": {},
   "outputs": [
    {
     "name": "stdout",
     "output_type": "stream",
     "text": [
      "search: \u001b[0m\u001b[1mp\u001b[22m\u001b[0m\u001b[1mr\u001b[22m\u001b[0m\u001b[1me\u001b[22m\u001b[0m\u001b[1mv\u001b[22m\u001b[0m\u001b[1mf\u001b[22m\u001b[0m\u001b[1ml\u001b[22m\u001b[0m\u001b[1mo\u001b[22m\u001b[0m\u001b[1ma\u001b[22m\u001b[0m\u001b[1mt\u001b[22m\n",
      "\n"
     ]
    },
    {
     "data": {
      "text/latex": [
       "\\begin{verbatim}\n",
       "prevfloat(x::AbstractFloat, n::Integer)\n",
       "\\end{verbatim}\n",
       "The result of \\texttt{n} iterative applications of \\texttt{prevfloat} to \\texttt{x} if \\texttt{n >= 0}, or \\texttt{-n} applications of \\texttt{nextfloat} if \\texttt{n < 0}.\n",
       "\n",
       "\\rule{\\textwidth}{1pt}\n",
       "\\begin{verbatim}\n",
       "prevfloat(x::AbstractFloat)\n",
       "\\end{verbatim}\n",
       "Return the largest floating point number \\texttt{y} of the same type as \\texttt{x} such \\texttt{y < x}. If no such \\texttt{y} exists (e.g. if \\texttt{x} is \\texttt{-Inf} or \\texttt{NaN}), then return \\texttt{x}.\n",
       "\n"
      ],
      "text/markdown": [
       "```\n",
       "prevfloat(x::AbstractFloat, n::Integer)\n",
       "```\n",
       "\n",
       "The result of `n` iterative applications of `prevfloat` to `x` if `n >= 0`, or `-n` applications of `nextfloat` if `n < 0`.\n",
       "\n",
       "---\n",
       "\n",
       "```\n",
       "prevfloat(x::AbstractFloat)\n",
       "```\n",
       "\n",
       "Return the largest floating point number `y` of the same type as `x` such `y < x`. If no such `y` exists (e.g. if `x` is `-Inf` or `NaN`), then return `x`.\n"
      ],
      "text/plain": [
       "\u001b[36m  prevfloat(x::AbstractFloat, n::Integer)\u001b[39m\n",
       "\n",
       "  The result of \u001b[36mn\u001b[39m iterative applications of \u001b[36mprevfloat\u001b[39m to \u001b[36mx\u001b[39m if \u001b[36mn >= 0\u001b[39m, or \u001b[36m-n\u001b[39m\n",
       "  applications of \u001b[36mnextfloat\u001b[39m if \u001b[36mn < 0\u001b[39m.\n",
       "\n",
       "  ────────────────────────────────────────────────────────────────────────────\n",
       "\n",
       "\u001b[36m  prevfloat(x::AbstractFloat)\u001b[39m\n",
       "\n",
       "  Return the largest floating point number \u001b[36my\u001b[39m of the same type as \u001b[36mx\u001b[39m such \u001b[36my < x\u001b[39m.\n",
       "  If no such \u001b[36my\u001b[39m exists (e.g. if \u001b[36mx\u001b[39m is \u001b[36m-Inf\u001b[39m or \u001b[36mNaN\u001b[39m), then return \u001b[36mx\u001b[39m."
      ]
     },
     "execution_count": 153,
     "metadata": {},
     "output_type": "execute_result"
    }
   ],
   "source": [
    "?prevfloat"
   ]
  },
  {
   "cell_type": "code",
   "execution_count": 156,
   "metadata": {},
   "outputs": [
    {
     "data": {
      "text/plain": [
       "8.999999999999995"
      ]
     },
     "execution_count": 156,
     "metadata": {},
     "output_type": "execute_result"
    }
   ],
   "source": [
    "prevfloat(9.000, 3)"
   ]
  },
  {
   "cell_type": "code",
   "execution_count": null,
   "metadata": {},
   "outputs": [],
   "source": []
  },
  {
   "cell_type": "code",
   "execution_count": null,
   "metadata": {},
   "outputs": [],
   "source": []
  },
  {
   "cell_type": "code",
   "execution_count": 161,
   "metadata": {},
   "outputs": [
    {
     "data": {
      "text/plain": [
       "Base.MathConstants"
      ]
     },
     "execution_count": 161,
     "metadata": {},
     "output_type": "execute_result"
    }
   ],
   "source": [
    "MathConstants\n"
   ]
  },
  {
   "cell_type": "code",
   "execution_count": 165,
   "metadata": {},
   "outputs": [],
   "source": [
    "using Base.MathConstants"
   ]
  },
  {
   "cell_type": "code",
   "execution_count": 167,
   "metadata": {},
   "outputs": [
    {
     "name": "stdout",
     "output_type": "stream",
     "text": [
      "search: \u001b[0m\u001b[1mM\u001b[22m\u001b[0m\u001b[1ma\u001b[22m\u001b[0m\u001b[1mt\u001b[22m\u001b[0m\u001b[1mh\u001b[22m\u001b[0m\u001b[1mC\u001b[22m\u001b[0m\u001b[1mo\u001b[22m\u001b[0m\u001b[1mn\u001b[22m\u001b[0m\u001b[1ms\u001b[22m\u001b[0m\u001b[1mt\u001b[22m\u001b[0m\u001b[1ma\u001b[22m\u001b[0m\u001b[1mn\u001b[22m\u001b[0m\u001b[1mt\u001b[22m\u001b[0m\u001b[1ms\u001b[22m\n",
      "\n"
     ]
    },
    {
     "data": {
      "text/latex": [
       "\\begin{verbatim}\n",
       "Base.MathConstants\n",
       "\\end{verbatim}\n",
       "Module containing the mathematical constants. See \\href{@ref}{\\texttt{π}}, \\href{@ref}{\\texttt{ℯ}}, \\href{@ref}{\\texttt{γ}}, \\href{@ref}{\\texttt{φ}} and \\href{@ref}{\\texttt{catalan}}.\n",
       "\n"
      ],
      "text/markdown": [
       "```\n",
       "Base.MathConstants\n",
       "```\n",
       "\n",
       "Module containing the mathematical constants. See [`π`](@ref), [`ℯ`](@ref), [`γ`](@ref), [`φ`](@ref) and [`catalan`](@ref).\n"
      ],
      "text/plain": [
       "\u001b[36m  Base.MathConstants\u001b[39m\n",
       "\n",
       "  Module containing the mathematical constants. See \u001b[36mπ\u001b[39m, \u001b[36mℯ\u001b[39m, \u001b[36mγ\u001b[39m, \u001b[36mφ\u001b[39m and \u001b[36mcatalan\u001b[39m."
      ]
     },
     "execution_count": 167,
     "metadata": {},
     "output_type": "execute_result"
    }
   ],
   "source": [
    "?MathConstants\n"
   ]
  },
  {
   "cell_type": "code",
   "execution_count": 168,
   "metadata": {},
   "outputs": [
    {
     "name": "stdout",
     "output_type": "stream",
     "text": [
      "search: \u001b[0m\u001b[1mc\u001b[22m\u001b[0m\u001b[1ma\u001b[22m\u001b[0m\u001b[1mt\u001b[22m\u001b[0m\u001b[1ma\u001b[22m\u001b[0m\u001b[1ml\u001b[22m\u001b[0m\u001b[1ma\u001b[22m\u001b[0m\u001b[1mn\u001b[22m Abstra\u001b[0m\u001b[1mc\u001b[22mtIrr\u001b[0m\u001b[1ma\u001b[22m\u001b[0m\u001b[1mt\u001b[22mion\u001b[0m\u001b[1ma\u001b[22m\u001b[0m\u001b[1ml\u001b[22m\n",
      "\n"
     ]
    },
    {
     "data": {
      "text/latex": [
       "\\begin{verbatim}\n",
       "catalan\n",
       "\\end{verbatim}\n",
       "Catalan's constant.\n",
       "\n",
       "\\section{Examples}\n",
       "\\begin{verbatim}\n",
       "julia> Base.MathConstants.catalan\n",
       "catalan = 0.9159655941772...\n",
       "\\end{verbatim}\n"
      ],
      "text/markdown": [
       "```\n",
       "catalan\n",
       "```\n",
       "\n",
       "Catalan's constant.\n",
       "\n",
       "# Examples\n",
       "\n",
       "```jldoctest\n",
       "julia> Base.MathConstants.catalan\n",
       "catalan = 0.9159655941772...\n",
       "```\n"
      ],
      "text/plain": [
       "\u001b[36m  catalan\u001b[39m\n",
       "\n",
       "  Catalan's constant.\n",
       "\n",
       "\u001b[1m  Examples\u001b[22m\n",
       "\u001b[1m  ≡≡≡≡≡≡≡≡≡≡\u001b[22m\n",
       "\n",
       "\u001b[36m  julia> Base.MathConstants.catalan\u001b[39m\n",
       "\u001b[36m  catalan = 0.9159655941772...\u001b[39m"
      ]
     },
     "execution_count": 168,
     "metadata": {},
     "output_type": "execute_result"
    }
   ],
   "source": [
    "?catalan"
   ]
  },
  {
   "cell_type": "code",
   "execution_count": 171,
   "metadata": {},
   "outputs": [
    {
     "ename": "ArgumentError",
     "evalue": "ArgumentError: Package Distributions not found in current path:\n- Run `import Pkg; Pkg.add(\"Distributions\")` to install the Distributions package.\n",
     "output_type": "error",
     "traceback": [
      "ArgumentError: Package Distributions not found in current path:\n- Run `import Pkg; Pkg.add(\"Distributions\")` to install the Distributions package.\n",
      "",
      "Stacktrace:",
      " [1] require(::Module, ::Symbol) at .\\loading.jl:876",
      " [2] top-level scope at In[171]:1"
     ]
    }
   ],
   "source": [
    "using Distributions;\n",
    "my_dist = Bernoulli(0.2)"
   ]
  },
  {
   "cell_type": "code",
   "execution_count": 172,
   "metadata": {},
   "outputs": [
    {
     "name": "stdout",
     "output_type": "stream",
     "text": [
      "search:\n",
      "\n",
      "Couldn't find \u001b[36mrandsubseq\u001b[39m\n",
      "Perhaps you meant transpose\n"
     ]
    },
    {
     "data": {
      "text/latex": [
       "No documentation found.\n",
       "\n",
       "Binding \\texttt{randsubseq} does not exist.\n",
       "\n"
      ],
      "text/markdown": [
       "No documentation found.\n",
       "\n",
       "Binding `randsubseq` does not exist.\n"
      ],
      "text/plain": [
       "  No documentation found.\n",
       "\n",
       "  Binding \u001b[36mrandsubseq\u001b[39m does not exist."
      ]
     },
     "execution_count": 172,
     "metadata": {},
     "output_type": "execute_result"
    }
   ],
   "source": [
    "?randsubseq"
   ]
  },
  {
   "cell_type": "code",
   "execution_count": 173,
   "metadata": {},
   "outputs": [
    {
     "name": "stdout",
     "output_type": "stream",
     "text": [
      "search: \u001b[0m\u001b[1mr\u001b[22m\u001b[0m\u001b[1ma\u001b[22m\u001b[0m\u001b[1mn\u001b[22m\u001b[0m\u001b[1md\u001b[22m \u001b[0m\u001b[1mr\u001b[22m\u001b[0m\u001b[1ma\u001b[22m\u001b[0m\u001b[1mn\u001b[22m\u001b[0m\u001b[1md\u001b[22mn t\u001b[0m\u001b[1mr\u001b[22m\u001b[0m\u001b[1ma\u001b[22m\u001b[0m\u001b[1mn\u001b[22msco\u001b[0m\u001b[1md\u001b[22me mac\u001b[0m\u001b[1mr\u001b[22moexp\u001b[0m\u001b[1ma\u001b[22m\u001b[0m\u001b[1mn\u001b[22m\u001b[0m\u001b[1md\u001b[22m @mac\u001b[0m\u001b[1mr\u001b[22moexp\u001b[0m\u001b[1ma\u001b[22m\u001b[0m\u001b[1mn\u001b[22m\u001b[0m\u001b[1md\u001b[22m @mac\u001b[0m\u001b[1mr\u001b[22moexp\u001b[0m\u001b[1ma\u001b[22m\u001b[0m\u001b[1mn\u001b[22m\u001b[0m\u001b[1md\u001b[22m1\n",
      "\n"
     ]
    },
    {
     "data": {
      "text/latex": [
       "\\begin{verbatim}\n",
       "rand([rng=GLOBAL_RNG], [S], [dims...])\n",
       "\\end{verbatim}\n",
       "Pick a random element or array of random elements from the set of values specified by \\texttt{S}; \\texttt{S} can be\n",
       "\n",
       "\\begin{itemize}\n",
       "\\item an indexable collection (for example \\texttt{1:9} or \\texttt{('x', \"y\", :z)}),\n",
       "\n",
       "\n",
       "\\item an \\texttt{AbstractDict} or \\texttt{AbstractSet} object,\n",
       "\n",
       "\n",
       "\\item a string (considered as a collection of characters), or\n",
       "\n",
       "\n",
       "\\item a type: the set of values to pick from is then equivalent to \\texttt{typemin(S):typemax(S)} for integers (this is not applicable to \\href{@ref}{\\texttt{BigInt}}), and to $[0, 1)$ for floating point numbers;\n",
       "\n",
       "\\end{itemize}\n",
       "\\texttt{S} defaults to \\href{@ref}{\\texttt{Float64}}.\n",
       "\n",
       "\\begin{quote}\n",
       "\\textbf{compat}\n",
       "\n",
       "Julia 1.1\n",
       "\n",
       "Support for \\texttt{S} as a tuple requires at least Julia 1.1.\n",
       "\n",
       "\\end{quote}\n",
       "\\section{Examples}\n",
       "\\begin{verbatim}\n",
       "julia> rand(Int, 2)\n",
       "2-element Array{Int64,1}:\n",
       " 1339893410598768192\n",
       " 1575814717733606317\n",
       "\n",
       "julia> using Random\n",
       "\n",
       "julia> rand(MersenneTwister(0), Dict(1=>2, 3=>4))\n",
       "1=>2\n",
       "\\end{verbatim}\n",
       "\\begin{quote}\n",
       "\\textbf{note}\n",
       "\n",
       "Note\n",
       "\n",
       "The complexity of \\texttt{rand(rng, s::Union\\{AbstractDict,AbstractSet\\})} is linear in the length of \\texttt{s}, unless an optimized method with constant complexity is available, which is the case for \\texttt{Dict}, \\texttt{Set} and \\texttt{BitSet}. For more than a few calls, use \\texttt{rand(rng, collect(s))} instead, or either \\texttt{rand(rng, Dict(s))} or \\texttt{rand(rng, Set(s))} as appropriate.\n",
       "\n",
       "\\end{quote}\n"
      ],
      "text/markdown": [
       "```\n",
       "rand([rng=GLOBAL_RNG], [S], [dims...])\n",
       "```\n",
       "\n",
       "Pick a random element or array of random elements from the set of values specified by `S`; `S` can be\n",
       "\n",
       "  * an indexable collection (for example `1:9` or `('x', \"y\", :z)`),\n",
       "  * an `AbstractDict` or `AbstractSet` object,\n",
       "  * a string (considered as a collection of characters), or\n",
       "  * a type: the set of values to pick from is then equivalent to `typemin(S):typemax(S)` for integers (this is not applicable to [`BigInt`](@ref)), and to $[0, 1)$ for floating point numbers;\n",
       "\n",
       "`S` defaults to [`Float64`](@ref).\n",
       "\n",
       "!!! compat \"Julia 1.1\"\n",
       "    Support for `S` as a tuple requires at least Julia 1.1.\n",
       "\n",
       "\n",
       "# Examples\n",
       "\n",
       "```julia-repl\n",
       "julia> rand(Int, 2)\n",
       "2-element Array{Int64,1}:\n",
       " 1339893410598768192\n",
       " 1575814717733606317\n",
       "\n",
       "julia> using Random\n",
       "\n",
       "julia> rand(MersenneTwister(0), Dict(1=>2, 3=>4))\n",
       "1=>2\n",
       "```\n",
       "\n",
       "!!! note\n",
       "    The complexity of `rand(rng, s::Union{AbstractDict,AbstractSet})` is linear in the length of `s`, unless an optimized method with constant complexity is available, which is the case for `Dict`, `Set` and `BitSet`. For more than a few calls, use `rand(rng, collect(s))` instead, or either `rand(rng, Dict(s))` or `rand(rng, Set(s))` as appropriate.\n",
       "\n"
      ],
      "text/plain": [
       "\u001b[36m  rand([rng=GLOBAL_RNG], [S], [dims...])\u001b[39m\n",
       "\n",
       "  Pick a random element or array of random elements from the set of values\n",
       "  specified by \u001b[36mS\u001b[39m; \u001b[36mS\u001b[39m can be\n",
       "\n",
       "    •    an indexable collection (for example \u001b[36m1:9\u001b[39m or \u001b[36m('x', \"y\", :z)\u001b[39m),\n",
       "\n",
       "    •    an \u001b[36mAbstractDict\u001b[39m or \u001b[36mAbstractSet\u001b[39m object,\n",
       "\n",
       "    •    a string (considered as a collection of characters), or\n",
       "\n",
       "    •    a type: the set of values to pick from is then equivalent to\n",
       "        \u001b[36mtypemin(S):typemax(S)\u001b[39m for integers (this is not applicable to\n",
       "        \u001b[36mBigInt\u001b[39m), and to \u001b[35m[0, 1)\u001b[39m for floating point numbers;\n",
       "\n",
       "  \u001b[36mS\u001b[39m defaults to \u001b[36mFloat64\u001b[39m.\n",
       "\n",
       "\u001b[39m\u001b[1m  │ \u001b[22m\u001b[39m\u001b[1mJulia 1.1\u001b[22m\n",
       "\u001b[39m\u001b[1m  │\u001b[22m\n",
       "\u001b[39m\u001b[1m  │\u001b[22m  Support for \u001b[36mS\u001b[39m as a tuple requires at least Julia 1.1.\n",
       "\n",
       "\u001b[1m  Examples\u001b[22m\n",
       "\u001b[1m  ≡≡≡≡≡≡≡≡≡≡\u001b[22m\n",
       "\n",
       "\u001b[36m  julia> rand(Int, 2)\u001b[39m\n",
       "\u001b[36m  2-element Array{Int64,1}:\u001b[39m\n",
       "\u001b[36m   1339893410598768192\u001b[39m\n",
       "\u001b[36m   1575814717733606317\u001b[39m\n",
       "\u001b[36m  \u001b[39m\n",
       "\u001b[36m  julia> using Random\u001b[39m\n",
       "\u001b[36m  \u001b[39m\n",
       "\u001b[36m  julia> rand(MersenneTwister(0), Dict(1=>2, 3=>4))\u001b[39m\n",
       "\u001b[36m  1=>2\u001b[39m\n",
       "\n",
       "\u001b[36m\u001b[1m  │ \u001b[22m\u001b[39m\u001b[36m\u001b[1mNote\u001b[22m\u001b[39m\n",
       "\u001b[36m\u001b[1m  │\u001b[22m\u001b[39m\n",
       "\u001b[36m\u001b[1m  │\u001b[22m\u001b[39m  The complexity of \u001b[36mrand(rng, s::Union{AbstractDict,AbstractSet})\u001b[39m is\n",
       "\u001b[36m\u001b[1m  │\u001b[22m\u001b[39m  linear in the length of \u001b[36ms\u001b[39m, unless an optimized method with\n",
       "\u001b[36m\u001b[1m  │\u001b[22m\u001b[39m  constant complexity is available, which is the case for \u001b[36mDict\u001b[39m, \u001b[36mSet\u001b[39m\n",
       "\u001b[36m\u001b[1m  │\u001b[22m\u001b[39m  and \u001b[36mBitSet\u001b[39m. For more than a few calls, use \u001b[36mrand(rng, collect(s))\u001b[39m\n",
       "\u001b[36m\u001b[1m  │\u001b[22m\u001b[39m  instead, or either \u001b[36mrand(rng, Dict(s))\u001b[39m or \u001b[36mrand(rng, Set(s))\u001b[39m as\n",
       "\u001b[36m\u001b[1m  │\u001b[22m\u001b[39m  appropriate."
      ]
     },
     "execution_count": 173,
     "metadata": {},
     "output_type": "execute_result"
    }
   ],
   "source": [
    "?rand"
   ]
  },
  {
   "cell_type": "code",
   "execution_count": 174,
   "metadata": {},
   "outputs": [
    {
     "data": {
      "text/plain": [
       "4-element Array{Any,1}:\n",
       "    \"Julia is\"\n",
       " 100          \n",
       "    '%'       \n",
       "    :cool     "
      ]
     },
     "execution_count": 174,
     "metadata": {},
     "output_type": "execute_result"
    }
   ],
   "source": [
    "a = [\"Julia is\", 100, '%', :cool]"
   ]
  },
  {
   "cell_type": "code",
   "execution_count": 175,
   "metadata": {},
   "outputs": [
    {
     "data": {
      "text/plain": [
       "Array{Any,1}"
      ]
     },
     "execution_count": 175,
     "metadata": {},
     "output_type": "execute_result"
    }
   ],
   "source": [
    "typeof(a)"
   ]
  },
  {
   "cell_type": "code",
   "execution_count": 176,
   "metadata": {},
   "outputs": [
    {
     "data": {
      "text/plain": [
       "0-element Array{Float64,1}"
      ]
     },
     "execution_count": 176,
     "metadata": {},
     "output_type": "execute_result"
    }
   ],
   "source": [
    "arr = Float64[]"
   ]
  },
  {
   "cell_type": "code",
   "execution_count": 177,
   "metadata": {},
   "outputs": [
    {
     "data": {
      "text/plain": [
       "0-element Array{Int64,1}"
      ]
     },
     "execution_count": 177,
     "metadata": {},
     "output_type": "execute_result"
    }
   ],
   "source": [
    "arr = Int64[]"
   ]
  },
  {
   "cell_type": "code",
   "execution_count": 178,
   "metadata": {},
   "outputs": [
    {
     "data": {
      "text/plain": [
       "0-element Array{Int64,1}"
      ]
     },
     "execution_count": 178,
     "metadata": {},
     "output_type": "execute_result"
    }
   ],
   "source": [
    "sizehint!(arr, 10^4)"
   ]
  },
  {
   "cell_type": "code",
   "execution_count": 179,
   "metadata": {},
   "outputs": [
    {
     "data": {
      "text/plain": [
       "2-element Array{Any,1}:\n",
       " 1\n",
       " 2"
      ]
     },
     "execution_count": 179,
     "metadata": {},
     "output_type": "execute_result"
    }
   ],
   "source": [
    "arr = Any[1,2]"
   ]
  },
  {
   "cell_type": "code",
   "execution_count": 180,
   "metadata": {},
   "outputs": [
    {
     "data": {
      "text/plain": [
       "false"
      ]
     },
     "execution_count": 180,
     "metadata": {},
     "output_type": "execute_result"
    }
   ],
   "source": [
    "arr[1] == \"Some text\""
   ]
  },
  {
   "cell_type": "code",
   "execution_count": 181,
   "metadata": {},
   "outputs": [
    {
     "data": {
      "text/plain": [
       "1"
      ]
     },
     "execution_count": 181,
     "metadata": {},
     "output_type": "execute_result"
    }
   ],
   "source": [
    "arr[1]"
   ]
  },
  {
   "cell_type": "code",
   "execution_count": 182,
   "metadata": {},
   "outputs": [
    {
     "data": {
      "text/plain": [
       "Any"
      ]
     },
     "execution_count": 182,
     "metadata": {},
     "output_type": "execute_result"
    }
   ],
   "source": [
    "Any"
   ]
  },
  {
   "cell_type": "code",
   "execution_count": 183,
   "metadata": {},
   "outputs": [
    {
     "name": "stdout",
     "output_type": "stream",
     "text": [
      "search: \u001b[0m\u001b[1mA\u001b[22m\u001b[0m\u001b[1mn\u001b[22m\u001b[0m\u001b[1my\u001b[22m \u001b[0m\u001b[1ma\u001b[22m\u001b[0m\u001b[1mn\u001b[22m\u001b[0m\u001b[1my\u001b[22m \u001b[0m\u001b[1ma\u001b[22m\u001b[0m\u001b[1mn\u001b[22m\u001b[0m\u001b[1my\u001b[22m! code_w\u001b[0m\u001b[1ma\u001b[22mr\u001b[0m\u001b[1mn\u001b[22mt\u001b[0m\u001b[1my\u001b[22mpe Re\u001b[0m\u001b[1ma\u001b[22mdO\u001b[0m\u001b[1mn\u001b[22ml\u001b[0m\u001b[1my\u001b[22mMemoryError @code_w\u001b[0m\u001b[1ma\u001b[22mr\u001b[0m\u001b[1mn\u001b[22mt\u001b[0m\u001b[1my\u001b[22mpe isre\u001b[0m\u001b[1ma\u001b[22mdo\u001b[0m\u001b[1mn\u001b[22ml\u001b[0m\u001b[1my\u001b[22m\n",
      "\n"
     ]
    },
    {
     "data": {
      "text/latex": [
       "\\begin{verbatim}\n",
       "Any::DataType\n",
       "\\end{verbatim}\n",
       "\\texttt{Any} is the union of all types. It has the defining property \\texttt{isa(x, Any) == true} for any \\texttt{x}. \\texttt{Any} therefore describes the entire universe of possible values. For example \\texttt{Integer} is a subset of \\texttt{Any} that includes \\texttt{Int}, \\texttt{Int8}, and other integer types.\n",
       "\n"
      ],
      "text/markdown": [
       "```\n",
       "Any::DataType\n",
       "```\n",
       "\n",
       "`Any` is the union of all types. It has the defining property `isa(x, Any) == true` for any `x`. `Any` therefore describes the entire universe of possible values. For example `Integer` is a subset of `Any` that includes `Int`, `Int8`, and other integer types.\n"
      ],
      "text/plain": [
       "\u001b[36m  Any::DataType\u001b[39m\n",
       "\n",
       "  \u001b[36mAny\u001b[39m is the union of all types. It has the defining property \u001b[36misa(x, Any) ==\n",
       "  true\u001b[39m for any \u001b[36mx\u001b[39m. \u001b[36mAny\u001b[39m therefore describes the entire universe of possible\n",
       "  values. For example \u001b[36mInteger\u001b[39m is a subset of \u001b[36mAny\u001b[39m that includes \u001b[36mInt\u001b[39m, \u001b[36mInt8\u001b[39m, and\n",
       "  other integer types."
      ]
     },
     "execution_count": 183,
     "metadata": {},
     "output_type": "execute_result"
    }
   ],
   "source": [
    "?Any"
   ]
  },
  {
   "cell_type": "code",
   "execution_count": 223,
   "metadata": {},
   "outputs": [],
   "source": [
    "using LinearAlgebra"
   ]
  },
  {
   "cell_type": "code",
   "execution_count": 185,
   "metadata": {},
   "outputs": [
    {
     "data": {
      "text/plain": [
       "false"
      ]
     },
     "execution_count": 185,
     "metadata": {},
     "output_type": "execute_result"
    }
   ],
   "source": [
    "Int64 == Any"
   ]
  },
  {
   "cell_type": "code",
   "execution_count": 227,
   "metadata": {},
   "outputs": [
    {
     "data": {
      "text/plain": [
       "3×20 Transpose{Int64,Array{Int64,2}}:\n",
       " 1  2  3  4  5  6  7  8  9  10  1  2  3  4  5  6  7  8  9  10\n",
       " 1  2  3  4  5  6  7  8  9  10  1  2  3  4  5  6  7  8  9  10\n",
       " 1  2  3  4  5  6  7  8  9  10  1  2  3  4  5  6  7  8  9  10"
      ]
     },
     "execution_count": 227,
     "metadata": {},
     "output_type": "execute_result"
    }
   ],
   "source": [
    "a = [[1:10 1:10 1:10];[1:10 1:10 1:10]]\n",
    "transpose(a)"
   ]
  },
  {
   "cell_type": "code",
   "execution_count": 212,
   "metadata": {},
   "outputs": [
    {
     "data": {
      "text/plain": [
       "0-element Array{UnitRange{Int64},1}"
      ]
     },
     "execution_count": 212,
     "metadata": {},
     "output_type": "execute_result"
    }
   ],
   "source": [
    "arr[4:2]"
   ]
  },
  {
   "cell_type": "code",
   "execution_count": 188,
   "metadata": {},
   "outputs": [
    {
     "ename": "BoundsError",
     "evalue": "BoundsError: attempt to access 1-element Array{UnitRange{Int64},1} at index [2]",
     "output_type": "error",
     "traceback": [
      "BoundsError: attempt to access 1-element Array{UnitRange{Int64},1} at index [2]",
      "",
      "Stacktrace:",
      " [1] getindex(::Array{UnitRange{Int64},1}, ::Int64) at .\\array.jl:728",
      " [2] top-level scope at In[188]:1"
     ]
    }
   ],
   "source": [
    "a[2]"
   ]
  },
  {
   "cell_type": "code",
   "execution_count": 228,
   "metadata": {},
   "outputs": [
    {
     "data": {
      "text/plain": [
       "2-element Array{UnitRange{Int64},1}:\n",
       " 1:10\n",
       " 2:11"
      ]
     },
     "execution_count": 228,
     "metadata": {},
     "output_type": "execute_result"
    }
   ],
   "source": [
    "arr"
   ]
  },
  {
   "cell_type": "code",
   "execution_count": 229,
   "metadata": {},
   "outputs": [
    {
     "data": {
      "text/plain": [
       "20×3 Array{Int64,2}:\n",
       "  1   1   1\n",
       "  2   2   2\n",
       "  3   3   3\n",
       "  4   4   4\n",
       "  5   5   5\n",
       "  6   6   6\n",
       "  7   7   7\n",
       "  8   8   8\n",
       "  9   9   9\n",
       " 10  10  10\n",
       "  1   1   1\n",
       "  2   2   2\n",
       "  3   3   3\n",
       "  4   4   4\n",
       "  5   5   5\n",
       "  6   6   6\n",
       "  7   7   7\n",
       "  8   8   8\n",
       "  9   9   9\n",
       " 10  10  10"
      ]
     },
     "execution_count": 229,
     "metadata": {},
     "output_type": "execute_result"
    }
   ],
   "source": [
    "a"
   ]
  },
  {
   "cell_type": "code",
   "execution_count": 230,
   "metadata": {},
   "outputs": [
    {
     "ename": "ErrorException",
     "evalue": "type Array has no field append",
     "output_type": "error",
     "traceback": [
      "type Array has no field append",
      "",
      "Stacktrace:",
      " [1] getproperty(::Any, ::Symbol) at .\\Base.jl:20",
      " [2] top-level scope at In[230]:1"
     ]
    }
   ],
   "source": [
    "a.append(1)"
   ]
  },
  {
   "cell_type": "code",
   "execution_count": 232,
   "metadata": {},
   "outputs": [
    {
     "data": {
      "text/plain": [
       "2-element Array{Int64,1}:\n",
       " 2\n",
       " 3"
      ]
     },
     "execution_count": 232,
     "metadata": {},
     "output_type": "execute_result"
    }
   ],
   "source": [
    "a[2:3]"
   ]
  },
  {
   "cell_type": "markdown",
   "metadata": {},
   "source": [
    "a[2]"
   ]
  },
  {
   "cell_type": "code",
   "execution_count": 233,
   "metadata": {},
   "outputs": [
    {
     "data": {
      "text/plain": [
       "2"
      ]
     },
     "execution_count": 233,
     "metadata": {},
     "output_type": "execute_result"
    }
   ],
   "source": [
    "a[2]"
   ]
  },
  {
   "cell_type": "code",
   "execution_count": 234,
   "metadata": {},
   "outputs": [
    {
     "data": {
      "text/plain": [
       "20×3 Array{Int64,2}:\n",
       "  1   1   1\n",
       "  2   2   2\n",
       "  3   3   3\n",
       "  4   4   4\n",
       "  5   5   5\n",
       "  6   6   6\n",
       "  7   7   7\n",
       "  8   8   8\n",
       "  9   9   9\n",
       " 10  10  10\n",
       "  1   1   1\n",
       "  2   2   2\n",
       "  3   3   3\n",
       "  4   4   4\n",
       "  5   5   5\n",
       "  6   6   6\n",
       "  7   7   7\n",
       "  8   8   8\n",
       "  9   9   9\n",
       " 10  10  10"
      ]
     },
     "execution_count": 234,
     "metadata": {},
     "output_type": "execute_result"
    }
   ],
   "source": [
    "a"
   ]
  },
  {
   "cell_type": "code",
   "execution_count": 235,
   "metadata": {},
   "outputs": [
    {
     "data": {
      "text/plain": [
       "1×7 Array{Int64,2}:\n",
       " 2  4  6  61  1  4  5"
      ]
     },
     "execution_count": 235,
     "metadata": {},
     "output_type": "execute_result"
    }
   ],
   "source": [
    "a = [2 4 6 61 1 4 5]"
   ]
  },
  {
   "cell_type": "code",
   "execution_count": 236,
   "metadata": {},
   "outputs": [
    {
     "data": {
      "text/plain": [
       "4-element Array{Int64,1}:\n",
       "  4\n",
       "  6\n",
       " 61\n",
       "  1"
      ]
     },
     "execution_count": 236,
     "metadata": {},
     "output_type": "execute_result"
    }
   ],
   "source": [
    "a[2:5]"
   ]
  },
  {
   "cell_type": "code",
   "execution_count": 237,
   "metadata": {},
   "outputs": [
    {
     "data": {
      "text/plain": [
       "9-element Array{Float64,1}:\n",
       " 1.0\n",
       " 1.0\n",
       " 1.0\n",
       " 1.0\n",
       " 1.0\n",
       " 1.0\n",
       " 1.0\n",
       " 1.0\n",
       " 1.0"
      ]
     },
     "execution_count": 237,
     "metadata": {},
     "output_type": "execute_result"
    }
   ],
   "source": [
    "ones(9)"
   ]
  },
  {
   "cell_type": "code",
   "execution_count": 240,
   "metadata": {},
   "outputs": [
    {
     "data": {
      "text/plain": [
       "3-element Array{Float64,1}:\n",
       " 1.50040456e-315 \n",
       " 1.500122667e-315\n",
       " 1.50040472e-315 "
      ]
     },
     "execution_count": 240,
     "metadata": {},
     "output_type": "execute_result"
    }
   ],
   "source": [
    "Vector{Float64}(undef,3)"
   ]
  },
  {
   "cell_type": "code",
   "execution_count": 241,
   "metadata": {},
   "outputs": [
    {
     "name": "stdout",
     "output_type": "stream",
     "text": [
      "search: \u001b[0m\u001b[1mu\u001b[22m\u001b[0m\u001b[1mn\u001b[22m\u001b[0m\u001b[1md\u001b[22m\u001b[0m\u001b[1me\u001b[22m\u001b[0m\u001b[1mf\u001b[22m \u001b[0m\u001b[1mU\u001b[22m\u001b[0m\u001b[1mn\u001b[22m\u001b[0m\u001b[1md\u001b[22m\u001b[0m\u001b[1me\u001b[22m\u001b[0m\u001b[1mf\u001b[22mVarError \u001b[0m\u001b[1mU\u001b[22m\u001b[0m\u001b[1mn\u001b[22m\u001b[0m\u001b[1md\u001b[22m\u001b[0m\u001b[1me\u001b[22m\u001b[0m\u001b[1mf\u001b[22mRefError \u001b[0m\u001b[1mU\u001b[22m\u001b[0m\u001b[1mn\u001b[22m\u001b[0m\u001b[1md\u001b[22m\u001b[0m\u001b[1me\u001b[22m\u001b[0m\u001b[1mf\u001b[22mInitializer \u001b[0m\u001b[1mU\u001b[22m\u001b[0m\u001b[1mn\u001b[22m\u001b[0m\u001b[1md\u001b[22m\u001b[0m\u001b[1me\u001b[22m\u001b[0m\u001b[1mf\u001b[22mKeywordError\n",
      "\n"
     ]
    },
    {
     "data": {
      "text/latex": [
       "\\begin{verbatim}\n",
       "undef\n",
       "\\end{verbatim}\n",
       "Alias for \\texttt{UndefInitializer()}, which constructs an instance of the singleton type \\href{@ref}{\\texttt{UndefInitializer}}, used in array initialization to indicate the array-constructor-caller would like an uninitialized array.\n",
       "\n",
       "\\section{Examples}\n",
       "\\begin{verbatim}\n",
       "julia> Array{Float64,1}(undef, 3)\n",
       "3-element Array{Float64,1}:\n",
       " 2.2752528595e-314\n",
       " 2.202942107e-314\n",
       " 2.275252907e-314\n",
       "\\end{verbatim}\n"
      ],
      "text/markdown": [
       "```\n",
       "undef\n",
       "```\n",
       "\n",
       "Alias for `UndefInitializer()`, which constructs an instance of the singleton type [`UndefInitializer`](@ref), used in array initialization to indicate the array-constructor-caller would like an uninitialized array.\n",
       "\n",
       "# Examples\n",
       "\n",
       "```julia-repl\n",
       "julia> Array{Float64,1}(undef, 3)\n",
       "3-element Array{Float64,1}:\n",
       " 2.2752528595e-314\n",
       " 2.202942107e-314\n",
       " 2.275252907e-314\n",
       "```\n"
      ],
      "text/plain": [
       "\u001b[36m  undef\u001b[39m\n",
       "\n",
       "  Alias for \u001b[36mUndefInitializer()\u001b[39m, which constructs an instance of the singleton\n",
       "  type \u001b[36mUndefInitializer\u001b[39m, used in array initialization to indicate the\n",
       "  array-constructor-caller would like an uninitialized array.\n",
       "\n",
       "\u001b[1m  Examples\u001b[22m\n",
       "\u001b[1m  ≡≡≡≡≡≡≡≡≡≡\u001b[22m\n",
       "\n",
       "\u001b[36m  julia> Array{Float64,1}(undef, 3)\u001b[39m\n",
       "\u001b[36m  3-element Array{Float64,1}:\u001b[39m\n",
       "\u001b[36m   2.2752528595e-314\u001b[39m\n",
       "\u001b[36m   2.202942107e-314\u001b[39m\n",
       "\u001b[36m   2.275252907e-314\u001b[39m"
      ]
     },
     "execution_count": 241,
     "metadata": {},
     "output_type": "execute_result"
    }
   ],
   "source": [
    "?undef"
   ]
  },
  {
   "cell_type": "code",
   "execution_count": 273,
   "metadata": {},
   "outputs": [
    {
     "name": "stdout",
     "output_type": "stream",
     "text": [
      "1.0\n",
      "3.0\n",
      "5.0\n",
      "7.0\n",
      "9.0\n"
     ]
    },
    {
     "data": {
      "text/plain": [
       "5-element Array{Float64,1}:\n",
       " 1.0\n",
       " 3.0\n",
       " 5.0\n",
       " 7.0\n",
       " 9.0"
      ]
     },
     "execution_count": 273,
     "metadata": {},
     "output_type": "execute_result"
    }
   ],
   "source": [
    "a = Float64[]\n",
    "for i in 1.0:2:9.0\n",
    "    println(i)\n",
    "    append!(a,i)\n",
    "end\n",
    "return a"
   ]
  },
  {
   "cell_type": "code",
   "execution_count": 346,
   "metadata": {},
   "outputs": [
    {
     "data": {
      "text/plain": [
       "3-element Array{Array{Float64,1},1}:\n",
       " [1.0, 1.0, 1.0]\n",
       " [1.0, 1.0, 1.0]\n",
       " [1.0, 1.0, 1.0]"
      ]
     },
     "execution_count": 346,
     "metadata": {},
     "output_type": "execute_result"
    }
   ],
   "source": [
    "a = [1, 1,1]; \n",
    "A = fill!(Vector{Vector{Float64}}(undef, 3), a); \n",
    "a[1] = 4.0; \n",
    "A"
   ]
  },
  {
   "cell_type": "code",
   "execution_count": 295,
   "metadata": {},
   "outputs": [
    {
     "data": {
      "text/plain": [
       "(true, [1.0, 1.0, 1.0])"
      ]
     },
     "execution_count": 295,
     "metadata": {},
     "output_type": "execute_result"
    }
   ],
   "source": [
    "in([1.0,1.0,1.0],A),\n",
    "A[1]"
   ]
  },
  {
   "cell_type": "code",
   "execution_count": 296,
   "metadata": {},
   "outputs": [
    {
     "data": {
      "text/plain": [
       "3-element Array{Int64,1}:\n",
       " 4\n",
       " 1\n",
       " 1"
      ]
     },
     "execution_count": 296,
     "metadata": {},
     "output_type": "execute_result"
    }
   ],
   "source": [
    "a"
   ]
  },
  {
   "cell_type": "code",
   "execution_count": 305,
   "metadata": {},
   "outputs": [
    {
     "data": {
      "text/plain": [
       "3×3 Array{Int64,2}:\n",
       " 16  4  4\n",
       "  4  1  1\n",
       "  4  1  1"
      ]
     },
     "execution_count": 305,
     "metadata": {},
     "output_type": "execute_result"
    }
   ],
   "source": [
    "a*transpose(a)"
   ]
  },
  {
   "cell_type": "code",
   "execution_count": 306,
   "metadata": {},
   "outputs": [
    {
     "data": {
      "text/plain": [
       "18"
      ]
     },
     "execution_count": 306,
     "metadata": {},
     "output_type": "execute_result"
    }
   ],
   "source": [
    "dot(a,a)"
   ]
  },
  {
   "cell_type": "code",
   "execution_count": 312,
   "metadata": {},
   "outputs": [
    {
     "name": "stdout",
     "output_type": "stream",
     "text": [
      "search: \u001b[0m\u001b[1ms\u001b[22m\u001b[0m\u001b[1mu\u001b[22m\u001b[0m\u001b[1mm\u001b[22m \u001b[0m\u001b[1ms\u001b[22m\u001b[0m\u001b[1mu\u001b[22m\u001b[0m\u001b[1mm\u001b[22m! \u001b[0m\u001b[1ms\u001b[22m\u001b[0m\u001b[1mu\u001b[22m\u001b[0m\u001b[1mm\u001b[22mmary cum\u001b[0m\u001b[1ms\u001b[22m\u001b[0m\u001b[1mu\u001b[22m\u001b[0m\u001b[1mm\u001b[22m cum\u001b[0m\u001b[1ms\u001b[22m\u001b[0m\u001b[1mu\u001b[22m\u001b[0m\u001b[1mm\u001b[22m! i\u001b[0m\u001b[1ms\u001b[22mn\u001b[0m\u001b[1mu\u001b[22m\u001b[0m\u001b[1mm\u001b[22meric Ver\u001b[0m\u001b[1ms\u001b[22mionN\u001b[0m\u001b[1mu\u001b[22m\u001b[0m\u001b[1mm\u001b[22mber i\u001b[0m\u001b[1ms\u001b[22ms\u001b[0m\u001b[1mu\u001b[22mbnor\u001b[0m\u001b[1mm\u001b[22mal\n",
      "\n"
     ]
    },
    {
     "data": {
      "text/latex": [
       "\\begin{verbatim}\n",
       "sum(f, itr)\n",
       "\\end{verbatim}\n",
       "Sum the results of calling function \\texttt{f} on each element of \\texttt{itr}.\n",
       "\n",
       "The return type is \\texttt{Int} for signed integers of less than system word size, and \\texttt{UInt} for unsigned integers of less than system word size.  For all other arguments, a common return type is found to which all arguments are promoted.\n",
       "\n",
       "\\section{Examples}\n",
       "\\begin{verbatim}\n",
       "julia> sum(abs2, [2; 3; 4])\n",
       "29\n",
       "\\end{verbatim}\n",
       "Note the important difference between \\texttt{sum(A)} and \\texttt{reduce(+, A)} for arrays with small integer eltype:\n",
       "\n",
       "\\begin{verbatim}\n",
       "julia> sum(Int8[100, 28])\n",
       "128\n",
       "\n",
       "julia> reduce(+, Int8[100, 28])\n",
       "-128\n",
       "\\end{verbatim}\n",
       "In the former case, the integers are widened to system word size and therefore the result is 128. In the latter case, no such widening happens and integer overflow results in -128.\n",
       "\n",
       "\\rule{\\textwidth}{1pt}\n",
       "\\begin{verbatim}\n",
       "sum(itr)\n",
       "\\end{verbatim}\n",
       "Returns the sum of all elements in a collection.\n",
       "\n",
       "The return type is \\texttt{Int} for signed integers of less than system word size, and \\texttt{UInt} for unsigned integers of less than system word size.  For all other arguments, a common return type is found to which all arguments are promoted.\n",
       "\n",
       "\\section{Examples}\n",
       "\\begin{verbatim}\n",
       "julia> sum(1:20)\n",
       "210\n",
       "\\end{verbatim}\n",
       "\\rule{\\textwidth}{1pt}\n",
       "\\begin{verbatim}\n",
       "sum(A::AbstractArray; dims)\n",
       "\\end{verbatim}\n",
       "Sum elements of an array over the given dimensions.\n",
       "\n",
       "\\section{Examples}\n",
       "\\begin{verbatim}\n",
       "julia> A = [1 2; 3 4]\n",
       "2×2 Array{Int64,2}:\n",
       " 1  2\n",
       " 3  4\n",
       "\n",
       "julia> sum(A, dims=1)\n",
       "1×2 Array{Int64,2}:\n",
       " 4  6\n",
       "\n",
       "julia> sum(A, dims=2)\n",
       "2×1 Array{Int64,2}:\n",
       " 3\n",
       " 7\n",
       "\\end{verbatim}\n"
      ],
      "text/markdown": [
       "```\n",
       "sum(f, itr)\n",
       "```\n",
       "\n",
       "Sum the results of calling function `f` on each element of `itr`.\n",
       "\n",
       "The return type is `Int` for signed integers of less than system word size, and `UInt` for unsigned integers of less than system word size.  For all other arguments, a common return type is found to which all arguments are promoted.\n",
       "\n",
       "# Examples\n",
       "\n",
       "```jldoctest\n",
       "julia> sum(abs2, [2; 3; 4])\n",
       "29\n",
       "```\n",
       "\n",
       "Note the important difference between `sum(A)` and `reduce(+, A)` for arrays with small integer eltype:\n",
       "\n",
       "```jldoctest\n",
       "julia> sum(Int8[100, 28])\n",
       "128\n",
       "\n",
       "julia> reduce(+, Int8[100, 28])\n",
       "-128\n",
       "```\n",
       "\n",
       "In the former case, the integers are widened to system word size and therefore the result is 128. In the latter case, no such widening happens and integer overflow results in -128.\n",
       "\n",
       "---\n",
       "\n",
       "```\n",
       "sum(itr)\n",
       "```\n",
       "\n",
       "Returns the sum of all elements in a collection.\n",
       "\n",
       "The return type is `Int` for signed integers of less than system word size, and `UInt` for unsigned integers of less than system word size.  For all other arguments, a common return type is found to which all arguments are promoted.\n",
       "\n",
       "# Examples\n",
       "\n",
       "```jldoctest\n",
       "julia> sum(1:20)\n",
       "210\n",
       "```\n",
       "\n",
       "---\n",
       "\n",
       "```\n",
       "sum(A::AbstractArray; dims)\n",
       "```\n",
       "\n",
       "Sum elements of an array over the given dimensions.\n",
       "\n",
       "# Examples\n",
       "\n",
       "```jldoctest\n",
       "julia> A = [1 2; 3 4]\n",
       "2×2 Array{Int64,2}:\n",
       " 1  2\n",
       " 3  4\n",
       "\n",
       "julia> sum(A, dims=1)\n",
       "1×2 Array{Int64,2}:\n",
       " 4  6\n",
       "\n",
       "julia> sum(A, dims=2)\n",
       "2×1 Array{Int64,2}:\n",
       " 3\n",
       " 7\n",
       "```\n"
      ],
      "text/plain": [
       "\u001b[36m  sum(f, itr)\u001b[39m\n",
       "\n",
       "  Sum the results of calling function \u001b[36mf\u001b[39m on each element of \u001b[36mitr\u001b[39m.\n",
       "\n",
       "  The return type is \u001b[36mInt\u001b[39m for signed integers of less than system word size,\n",
       "  and \u001b[36mUInt\u001b[39m for unsigned integers of less than system word size. For all other\n",
       "  arguments, a common return type is found to which all arguments are\n",
       "  promoted.\n",
       "\n",
       "\u001b[1m  Examples\u001b[22m\n",
       "\u001b[1m  ≡≡≡≡≡≡≡≡≡≡\u001b[22m\n",
       "\n",
       "\u001b[36m  julia> sum(abs2, [2; 3; 4])\u001b[39m\n",
       "\u001b[36m  29\u001b[39m\n",
       "\n",
       "  Note the important difference between \u001b[36msum(A)\u001b[39m and \u001b[36mreduce(+, A)\u001b[39m for arrays\n",
       "  with small integer eltype:\n",
       "\n",
       "\u001b[36m  julia> sum(Int8[100, 28])\u001b[39m\n",
       "\u001b[36m  128\u001b[39m\n",
       "\u001b[36m  \u001b[39m\n",
       "\u001b[36m  julia> reduce(+, Int8[100, 28])\u001b[39m\n",
       "\u001b[36m  -128\u001b[39m\n",
       "\n",
       "  In the former case, the integers are widened to system word size and\n",
       "  therefore the result is 128. In the latter case, no such widening happens\n",
       "  and integer overflow results in -128.\n",
       "\n",
       "  ────────────────────────────────────────────────────────────────────────────\n",
       "\n",
       "\u001b[36m  sum(itr)\u001b[39m\n",
       "\n",
       "  Returns the sum of all elements in a collection.\n",
       "\n",
       "  The return type is \u001b[36mInt\u001b[39m for signed integers of less than system word size,\n",
       "  and \u001b[36mUInt\u001b[39m for unsigned integers of less than system word size. For all other\n",
       "  arguments, a common return type is found to which all arguments are\n",
       "  promoted.\n",
       "\n",
       "\u001b[1m  Examples\u001b[22m\n",
       "\u001b[1m  ≡≡≡≡≡≡≡≡≡≡\u001b[22m\n",
       "\n",
       "\u001b[36m  julia> sum(1:20)\u001b[39m\n",
       "\u001b[36m  210\u001b[39m\n",
       "\n",
       "  ────────────────────────────────────────────────────────────────────────────\n",
       "\n",
       "\u001b[36m  sum(A::AbstractArray; dims)\u001b[39m\n",
       "\n",
       "  Sum elements of an array over the given dimensions.\n",
       "\n",
       "\u001b[1m  Examples\u001b[22m\n",
       "\u001b[1m  ≡≡≡≡≡≡≡≡≡≡\u001b[22m\n",
       "\n",
       "\u001b[36m  julia> A = [1 2; 3 4]\u001b[39m\n",
       "\u001b[36m  2×2 Array{Int64,2}:\u001b[39m\n",
       "\u001b[36m   1  2\u001b[39m\n",
       "\u001b[36m   3  4\u001b[39m\n",
       "\u001b[36m  \u001b[39m\n",
       "\u001b[36m  julia> sum(A, dims=1)\u001b[39m\n",
       "\u001b[36m  1×2 Array{Int64,2}:\u001b[39m\n",
       "\u001b[36m   4  6\u001b[39m\n",
       "\u001b[36m  \u001b[39m\n",
       "\u001b[36m  julia> sum(A, dims=2)\u001b[39m\n",
       "\u001b[36m  2×1 Array{Int64,2}:\u001b[39m\n",
       "\u001b[36m   3\u001b[39m\n",
       "\u001b[36m   7\u001b[39m"
      ]
     },
     "execution_count": 312,
     "metadata": {},
     "output_type": "execute_result"
    }
   ],
   "source": [
    "?sum"
   ]
  },
  {
   "cell_type": "code",
   "execution_count": 316,
   "metadata": {},
   "outputs": [
    {
     "data": {
      "text/plain": [
       "3-element Array{Int64,1}:\n",
       " 2\n",
       " 3\n",
       " 4"
      ]
     },
     "execution_count": 316,
     "metadata": {},
     "output_type": "execute_result"
    }
   ],
   "source": [
    "b = [2;3;4]"
   ]
  },
  {
   "cell_type": "code",
   "execution_count": 323,
   "metadata": {},
   "outputs": [
    {
     "data": {
      "text/plain": [
       "abs2 (generic function with 4 methods)"
      ]
     },
     "execution_count": 323,
     "metadata": {},
     "output_type": "execute_result"
    }
   ],
   "source": [
    "abs2"
   ]
  },
  {
   "cell_type": "code",
   "execution_count": 324,
   "metadata": {},
   "outputs": [
    {
     "data": {
      "text/plain": [
       "18"
      ]
     },
     "execution_count": 324,
     "metadata": {},
     "output_type": "execute_result"
    }
   ],
   "source": [
    "sum(abs2,a)"
   ]
  },
  {
   "cell_type": "code",
   "execution_count": 325,
   "metadata": {},
   "outputs": [
    {
     "data": {
      "text/plain": [
       "sqrt (generic function with 19 methods)"
      ]
     },
     "execution_count": 325,
     "metadata": {},
     "output_type": "execute_result"
    }
   ],
   "source": [
    "sqrt"
   ]
  },
  {
   "cell_type": "code",
   "execution_count": 330,
   "metadata": {},
   "outputs": [
    {
     "data": {
      "text/plain": [
       "72"
      ]
     },
     "execution_count": 330,
     "metadata": {},
     "output_type": "execute_result"
    }
   ],
   "source": [
    " reduce(-, Int8[100, 28])"
   ]
  },
  {
   "cell_type": "code",
   "execution_count": 329,
   "metadata": {},
   "outputs": [
    {
     "data": {
      "text/plain": [
       "-16"
      ]
     },
     "execution_count": 329,
     "metadata": {},
     "output_type": "execute_result"
    }
   ],
   "source": [
    " reduce(*, Int8[100, 28])"
   ]
  },
  {
   "cell_type": "code",
   "execution_count": 331,
   "metadata": {},
   "outputs": [
    {
     "name": "stdout",
     "output_type": "stream",
     "text": [
      "search: \u001b[0m\u001b[1mr\u001b[22m\u001b[0m\u001b[1me\u001b[22m\u001b[0m\u001b[1md\u001b[22m\u001b[0m\u001b[1mu\u001b[22m\u001b[0m\u001b[1mc\u001b[22m\u001b[0m\u001b[1me\u001b[22m map\u001b[0m\u001b[1mr\u001b[22m\u001b[0m\u001b[1me\u001b[22m\u001b[0m\u001b[1md\u001b[22m\u001b[0m\u001b[1mu\u001b[22m\u001b[0m\u001b[1mc\u001b[22m\u001b[0m\u001b[1me\u001b[22m\n",
      "\n"
     ]
    },
    {
     "data": {
      "text/latex": [
       "\\begin{verbatim}\n",
       "reduce(op, itr; [init])\n",
       "\\end{verbatim}\n",
       "Reduce the given collection \\texttt{itr} with the given binary operator \\texttt{op}. If provided, the initial value \\texttt{init} must be a neutral element for \\texttt{op} that will be returned for empty collections. It is unspecified whether \\texttt{init} is used for non-empty collections.\n",
       "\n",
       "For empty collections, providing \\texttt{init} will be necessary, except for some special cases (e.g. when \\texttt{op} is one of \\texttt{+}, \\texttt{*}, \\texttt{max}, \\texttt{min}, \\texttt{\\&}, \\texttt{|}) when Julia can determine the neutral element of \\texttt{op}.\n",
       "\n",
       "Reductions for certain commonly-used operators may have special implementations, and should be used instead: \\texttt{maximum(itr)}, \\texttt{minimum(itr)}, \\texttt{sum(itr)}, \\texttt{prod(itr)},  \\texttt{any(itr)}, \\texttt{all(itr)}.\n",
       "\n",
       "The associativity of the reduction is implementation dependent. This means that you can't use non-associative operations like \\texttt{-} because it is undefined whether \\texttt{reduce(-,[1,2,3])} should be evaluated as \\texttt{(1-2)-3} or \\texttt{1-(2-3)}. Use \\href{@ref}{\\texttt{foldl}} or \\href{@ref}{\\texttt{foldr}} instead for guaranteed left or right associativity.\n",
       "\n",
       "Some operations accumulate error. Parallelism will be easier if the reduction can be executed in groups. Future versions of Julia might change the algorithm. Note that the elements are not reordered if you use an ordered collection.\n",
       "\n",
       "\\section{Examples}\n",
       "\\begin{verbatim}\n",
       "julia> reduce(*, [2; 3; 4])\n",
       "24\n",
       "\n",
       "julia> reduce(*, [2; 3; 4]; init=-1)\n",
       "-24\n",
       "\\end{verbatim}\n",
       "\\rule{\\textwidth}{1pt}\n",
       "\\begin{verbatim}\n",
       "reduce(f, A; dims=:, [init])\n",
       "\\end{verbatim}\n",
       "Reduce 2-argument function \\texttt{f} along dimensions of \\texttt{A}. \\texttt{dims} is a vector specifying the dimensions to reduce, and the keyword argument \\texttt{init} is the initial value to use in the reductions. For \\texttt{+}, \\texttt{*}, \\texttt{max} and \\texttt{min} the \\texttt{init} argument is optional.\n",
       "\n",
       "The associativity of the reduction is implementation-dependent; if you need a particular associativity, e.g. left-to-right, you should write your own loop or consider using \\href{@ref}{\\texttt{foldl}} or \\href{@ref}{\\texttt{foldr}}. See documentation for \\href{@ref}{\\texttt{reduce}}.\n",
       "\n",
       "\\section{Examples}\n",
       "\\begin{verbatim}\n",
       "julia> a = reshape(Vector(1:16), (4,4))\n",
       "4×4 Array{Int64,2}:\n",
       " 1  5   9  13\n",
       " 2  6  10  14\n",
       " 3  7  11  15\n",
       " 4  8  12  16\n",
       "\n",
       "julia> reduce(max, a, dims=2)\n",
       "4×1 Array{Int64,2}:\n",
       " 13\n",
       " 14\n",
       " 15\n",
       " 16\n",
       "\n",
       "julia> reduce(max, a, dims=1)\n",
       "1×4 Array{Int64,2}:\n",
       " 4  8  12  16\n",
       "\\end{verbatim}\n"
      ],
      "text/markdown": [
       "```\n",
       "reduce(op, itr; [init])\n",
       "```\n",
       "\n",
       "Reduce the given collection `itr` with the given binary operator `op`. If provided, the initial value `init` must be a neutral element for `op` that will be returned for empty collections. It is unspecified whether `init` is used for non-empty collections.\n",
       "\n",
       "For empty collections, providing `init` will be necessary, except for some special cases (e.g. when `op` is one of `+`, `*`, `max`, `min`, `&`, `|`) when Julia can determine the neutral element of `op`.\n",
       "\n",
       "Reductions for certain commonly-used operators may have special implementations, and should be used instead: `maximum(itr)`, `minimum(itr)`, `sum(itr)`, `prod(itr)`,  `any(itr)`, `all(itr)`.\n",
       "\n",
       "The associativity of the reduction is implementation dependent. This means that you can't use non-associative operations like `-` because it is undefined whether `reduce(-,[1,2,3])` should be evaluated as `(1-2)-3` or `1-(2-3)`. Use [`foldl`](@ref) or [`foldr`](@ref) instead for guaranteed left or right associativity.\n",
       "\n",
       "Some operations accumulate error. Parallelism will be easier if the reduction can be executed in groups. Future versions of Julia might change the algorithm. Note that the elements are not reordered if you use an ordered collection.\n",
       "\n",
       "# Examples\n",
       "\n",
       "```jldoctest\n",
       "julia> reduce(*, [2; 3; 4])\n",
       "24\n",
       "\n",
       "julia> reduce(*, [2; 3; 4]; init=-1)\n",
       "-24\n",
       "```\n",
       "\n",
       "---\n",
       "\n",
       "```\n",
       "reduce(f, A; dims=:, [init])\n",
       "```\n",
       "\n",
       "Reduce 2-argument function `f` along dimensions of `A`. `dims` is a vector specifying the dimensions to reduce, and the keyword argument `init` is the initial value to use in the reductions. For `+`, `*`, `max` and `min` the `init` argument is optional.\n",
       "\n",
       "The associativity of the reduction is implementation-dependent; if you need a particular associativity, e.g. left-to-right, you should write your own loop or consider using [`foldl`](@ref) or [`foldr`](@ref). See documentation for [`reduce`](@ref).\n",
       "\n",
       "# Examples\n",
       "\n",
       "```jldoctest\n",
       "julia> a = reshape(Vector(1:16), (4,4))\n",
       "4×4 Array{Int64,2}:\n",
       " 1  5   9  13\n",
       " 2  6  10  14\n",
       " 3  7  11  15\n",
       " 4  8  12  16\n",
       "\n",
       "julia> reduce(max, a, dims=2)\n",
       "4×1 Array{Int64,2}:\n",
       " 13\n",
       " 14\n",
       " 15\n",
       " 16\n",
       "\n",
       "julia> reduce(max, a, dims=1)\n",
       "1×4 Array{Int64,2}:\n",
       " 4  8  12  16\n",
       "```\n"
      ],
      "text/plain": [
       "\u001b[36m  reduce(op, itr; [init])\u001b[39m\n",
       "\n",
       "  Reduce the given collection \u001b[36mitr\u001b[39m with the given binary operator \u001b[36mop\u001b[39m. If\n",
       "  provided, the initial value \u001b[36minit\u001b[39m must be a neutral element for \u001b[36mop\u001b[39m that will\n",
       "  be returned for empty collections. It is unspecified whether \u001b[36minit\u001b[39m is used\n",
       "  for non-empty collections.\n",
       "\n",
       "  For empty collections, providing \u001b[36minit\u001b[39m will be necessary, except for some\n",
       "  special cases (e.g. when \u001b[36mop\u001b[39m is one of \u001b[36m+\u001b[39m, \u001b[36m*\u001b[39m, \u001b[36mmax\u001b[39m, \u001b[36mmin\u001b[39m, \u001b[36m&\u001b[39m, \u001b[36m|\u001b[39m) when Julia can\n",
       "  determine the neutral element of \u001b[36mop\u001b[39m.\n",
       "\n",
       "  Reductions for certain commonly-used operators may have special\n",
       "  implementations, and should be used instead: \u001b[36mmaximum(itr)\u001b[39m, \u001b[36mminimum(itr)\u001b[39m,\n",
       "  \u001b[36msum(itr)\u001b[39m, \u001b[36mprod(itr)\u001b[39m, \u001b[36many(itr)\u001b[39m, \u001b[36mall(itr)\u001b[39m.\n",
       "\n",
       "  The associativity of the reduction is implementation dependent. This means\n",
       "  that you can't use non-associative operations like \u001b[36m-\u001b[39m because it is undefined\n",
       "  whether \u001b[36mreduce(-,[1,2,3])\u001b[39m should be evaluated as \u001b[36m(1-2)-3\u001b[39m or \u001b[36m1-(2-3)\u001b[39m. Use\n",
       "  \u001b[36mfoldl\u001b[39m or \u001b[36mfoldr\u001b[39m instead for guaranteed left or right associativity.\n",
       "\n",
       "  Some operations accumulate error. Parallelism will be easier if the\n",
       "  reduction can be executed in groups. Future versions of Julia might change\n",
       "  the algorithm. Note that the elements are not reordered if you use an\n",
       "  ordered collection.\n",
       "\n",
       "\u001b[1m  Examples\u001b[22m\n",
       "\u001b[1m  ≡≡≡≡≡≡≡≡≡≡\u001b[22m\n",
       "\n",
       "\u001b[36m  julia> reduce(*, [2; 3; 4])\u001b[39m\n",
       "\u001b[36m  24\u001b[39m\n",
       "\u001b[36m  \u001b[39m\n",
       "\u001b[36m  julia> reduce(*, [2; 3; 4]; init=-1)\u001b[39m\n",
       "\u001b[36m  -24\u001b[39m\n",
       "\n",
       "  ────────────────────────────────────────────────────────────────────────────\n",
       "\n",
       "\u001b[36m  reduce(f, A; dims=:, [init])\u001b[39m\n",
       "\n",
       "  Reduce 2-argument function \u001b[36mf\u001b[39m along dimensions of \u001b[36mA\u001b[39m. \u001b[36mdims\u001b[39m is a vector\n",
       "  specifying the dimensions to reduce, and the keyword argument \u001b[36minit\u001b[39m is the\n",
       "  initial value to use in the reductions. For \u001b[36m+\u001b[39m, \u001b[36m*\u001b[39m, \u001b[36mmax\u001b[39m and \u001b[36mmin\u001b[39m the \u001b[36minit\u001b[39m\n",
       "  argument is optional.\n",
       "\n",
       "  The associativity of the reduction is implementation-dependent; if you need\n",
       "  a particular associativity, e.g. left-to-right, you should write your own\n",
       "  loop or consider using \u001b[36mfoldl\u001b[39m or \u001b[36mfoldr\u001b[39m. See documentation for \u001b[36mreduce\u001b[39m.\n",
       "\n",
       "\u001b[1m  Examples\u001b[22m\n",
       "\u001b[1m  ≡≡≡≡≡≡≡≡≡≡\u001b[22m\n",
       "\n",
       "\u001b[36m  julia> a = reshape(Vector(1:16), (4,4))\u001b[39m\n",
       "\u001b[36m  4×4 Array{Int64,2}:\u001b[39m\n",
       "\u001b[36m   1  5   9  13\u001b[39m\n",
       "\u001b[36m   2  6  10  14\u001b[39m\n",
       "\u001b[36m   3  7  11  15\u001b[39m\n",
       "\u001b[36m   4  8  12  16\u001b[39m\n",
       "\u001b[36m  \u001b[39m\n",
       "\u001b[36m  julia> reduce(max, a, dims=2)\u001b[39m\n",
       "\u001b[36m  4×1 Array{Int64,2}:\u001b[39m\n",
       "\u001b[36m   13\u001b[39m\n",
       "\u001b[36m   14\u001b[39m\n",
       "\u001b[36m   15\u001b[39m\n",
       "\u001b[36m   16\u001b[39m\n",
       "\u001b[36m  \u001b[39m\n",
       "\u001b[36m  julia> reduce(max, a, dims=1)\u001b[39m\n",
       "\u001b[36m  1×4 Array{Int64,2}:\u001b[39m\n",
       "\u001b[36m   4  8  12  16\u001b[39m"
      ]
     },
     "execution_count": 331,
     "metadata": {},
     "output_type": "execute_result"
    }
   ],
   "source": [
    "?reduce"
   ]
  },
  {
   "cell_type": "code",
   "execution_count": 345,
   "metadata": {},
   "outputs": [
    {
     "data": {
      "text/plain": [
       "5×2 Array{Int64,2}:\n",
       " 1  2\n",
       " 3  4\n",
       " 5  5\n",
       " 7  9\n",
       " 1  2"
      ]
     },
     "execution_count": 345,
     "metadata": {},
     "output_type": "execute_result"
    }
   ],
   "source": [
    "a"
   ]
  },
  {
   "cell_type": "code",
   "execution_count": 333,
   "metadata": {},
   "outputs": [
    {
     "data": {
      "text/plain": [
       "1×3 Array{Int64,2}:\n",
       " 4  1  1"
      ]
     },
     "execution_count": 333,
     "metadata": {},
     "output_type": "execute_result"
    }
   ],
   "source": [
    "reshape(a,1,3)"
   ]
  },
  {
   "cell_type": "code",
   "execution_count": 334,
   "metadata": {},
   "outputs": [
    {
     "ename": "MethodError",
     "evalue": "MethodError: no method matching max(::Array{Int64,1})\nClosest candidates are:\n  max(::Any, !Matched::Missing) at missing.jl:104\n  max(::Any, !Matched::Any) at operators.jl:408\n  max(::Any, !Matched::Any, !Matched::Any, !Matched::Any...) at operators.jl:529\n  ...",
     "output_type": "error",
     "traceback": [
      "MethodError: no method matching max(::Array{Int64,1})\nClosest candidates are:\n  max(::Any, !Matched::Missing) at missing.jl:104\n  max(::Any, !Matched::Any) at operators.jl:408\n  max(::Any, !Matched::Any, !Matched::Any, !Matched::Any...) at operators.jl:529\n  ...",
      "",
      "Stacktrace:",
      " [1] top-level scope at In[334]:1"
     ]
    }
   ],
   "source": [
    "max(a)"
   ]
  },
  {
   "cell_type": "code",
   "execution_count": 335,
   "metadata": {},
   "outputs": [
    {
     "ename": "MethodError",
     "evalue": "MethodError: no method matching getindex(::typeof(max), ::Array{Int64,1})",
     "output_type": "error",
     "traceback": [
      "MethodError: no method matching getindex(::typeof(max), ::Array{Int64,1})",
      "",
      "Stacktrace:",
      " [1] top-level scope at In[335]:1"
     ]
    }
   ],
   "source": [
    "max[a]"
   ]
  },
  {
   "cell_type": "code",
   "execution_count": 336,
   "metadata": {},
   "outputs": [
    {
     "data": {
      "text/plain": [
       "3"
      ]
     },
     "execution_count": 336,
     "metadata": {},
     "output_type": "execute_result"
    }
   ],
   "source": [
    "max(1,2,3)"
   ]
  },
  {
   "cell_type": "code",
   "execution_count": 337,
   "metadata": {},
   "outputs": [
    {
     "ename": "MethodError",
     "evalue": "MethodError: no method matching max(::Array{Int64,1})\nClosest candidates are:\n  max(::Any, !Matched::Missing) at missing.jl:104\n  max(::Any, !Matched::Any) at operators.jl:408\n  max(::Any, !Matched::Any, !Matched::Any, !Matched::Any...) at operators.jl:529\n  ...",
     "output_type": "error",
     "traceback": [
      "MethodError: no method matching max(::Array{Int64,1})\nClosest candidates are:\n  max(::Any, !Matched::Missing) at missing.jl:104\n  max(::Any, !Matched::Any) at operators.jl:408\n  max(::Any, !Matched::Any, !Matched::Any, !Matched::Any...) at operators.jl:529\n  ...",
      "",
      "Stacktrace:",
      " [1] top-level scope at In[337]:1"
     ]
    }
   ],
   "source": [
    "max([1,2,3])"
   ]
  },
  {
   "cell_type": "code",
   "execution_count": 338,
   "metadata": {},
   "outputs": [
    {
     "ename": "MethodError",
     "evalue": "MethodError: no method matching max(::Array{Int64,1})\nClosest candidates are:\n  max(::Any, !Matched::Missing) at missing.jl:104\n  max(::Any, !Matched::Any) at operators.jl:408\n  max(::Any, !Matched::Any, !Matched::Any, !Matched::Any...) at operators.jl:529\n  ...",
     "output_type": "error",
     "traceback": [
      "MethodError: no method matching max(::Array{Int64,1})\nClosest candidates are:\n  max(::Any, !Matched::Missing) at missing.jl:104\n  max(::Any, !Matched::Any) at operators.jl:408\n  max(::Any, !Matched::Any, !Matched::Any, !Matched::Any...) at operators.jl:529\n  ...",
      "",
      "Stacktrace:",
      " [1] top-level scope at In[338]:1"
     ]
    }
   ],
   "source": [
    "max([1; 2; 3])"
   ]
  },
  {
   "cell_type": "code",
   "execution_count": 342,
   "metadata": {},
   "outputs": [
    {
     "data": {
      "text/plain": [
       "5×2 Array{Int64,2}:\n",
       " 1  2\n",
       " 3  4\n",
       " 5  5\n",
       " 7  9\n",
       " 1  2"
      ]
     },
     "execution_count": 342,
     "metadata": {},
     "output_type": "execute_result"
    }
   ],
   "source": [
    "a=[1 2; 3 4; 5 5; 7 9; 1 2]"
   ]
  },
  {
   "cell_type": "code",
   "execution_count": 348,
   "metadata": {},
   "outputs": [
    {
     "data": {
      "text/plain": [
       "(4, 1)"
      ]
     },
     "execution_count": 348,
     "metadata": {},
     "output_type": "execute_result"
    }
   ],
   "source": [
    "x,y = findmax(a)"
   ]
  },
  {
   "cell_type": "code",
   "execution_count": 350,
   "metadata": {},
   "outputs": [
    {
     "data": {
      "text/plain": [
       "0-element Array{Any,1}"
      ]
     },
     "execution_count": 350,
     "metadata": {},
     "output_type": "execute_result"
    }
   ],
   "source": [
    "x = []"
   ]
  },
  {
   "cell_type": "code",
   "execution_count": 437,
   "metadata": {},
   "outputs": [
    {
     "data": {
      "text/plain": [
       "Matching_Points_Arrays (generic function with 1 method)"
      ]
     },
     "execution_count": 437,
     "metadata": {},
     "output_type": "execute_result"
    }
   ],
   "source": [
    "function Matching_Points_Arrays(Input_Array,Data, f)\n",
    "    Output_Array = []\n",
    "    for x in Input_Array\n",
    "        Up = searchsortedfirst(Data, x)\n",
    "        if x == Data[Up]\n",
    "            append!(Output_Array,f(x))\n",
    "        else\n",
    "            Low = Up - 1\n",
    "            Value = f(Data[Low]) + ((x - Data[Low])/(Data[Up] - Data[Low]))*(f(Data[Up])-f(Data[Low]))\n",
    "            append!(Output_Array, Value)\n",
    "        end\n",
    "    end\n",
    "    return Output_Array\n",
    "end"
   ]
  },
  {
   "cell_type": "code",
   "execution_count": 438,
   "metadata": {},
   "outputs": [
    {
     "data": {
      "text/plain": [
       "g (generic function with 1 method)"
      ]
     },
     "execution_count": 438,
     "metadata": {},
     "output_type": "execute_result"
    }
   ],
   "source": [
    "function g(x)\n",
    "    return 2*x\n",
    "end"
   ]
  },
  {
   "cell_type": "code",
   "execution_count": 439,
   "metadata": {},
   "outputs": [
    {
     "data": {
      "text/plain": [
       "4"
      ]
     },
     "execution_count": 439,
     "metadata": {},
     "output_type": "execute_result"
    }
   ],
   "source": [
    "g(2)"
   ]
  },
  {
   "cell_type": "code",
   "execution_count": 441,
   "metadata": {},
   "outputs": [
    {
     "data": {
      "text/plain": [
       "8-element Array{Any,1}:\n",
       "  4.0\n",
       "  7.0\n",
       "  8.0\n",
       " 10.6\n",
       " 11.6\n",
       " 12.0\n",
       " 13.6\n",
       " 14.0"
      ]
     },
     "execution_count": 441,
     "metadata": {},
     "output_type": "execute_result"
    }
   ],
   "source": [
    "Matching_Points_Arrays([2,3.5,4,5.3,5.8,6,6.8,7],[2,3,4,5,6,7],g)"
   ]
  },
  {
   "cell_type": "code",
   "execution_count": 410,
   "metadata": {},
   "outputs": [
    {
     "name": "stdout",
     "output_type": "stream",
     "text": [
      "1\n",
      "2\n",
      "3\n"
     ]
    }
   ],
   "source": [
    "for i in [1,2,3]\n",
    "    println(i)\n",
    "end"
   ]
  },
  {
   "cell_type": "code",
   "execution_count": 369,
   "metadata": {},
   "outputs": [
    {
     "data": {
      "text/plain": [
       "0-element Array{Any,1}"
      ]
     },
     "execution_count": 369,
     "metadata": {},
     "output_type": "execute_result"
    }
   ],
   "source": [
    "a = []"
   ]
  },
  {
   "cell_type": "code",
   "execution_count": 370,
   "metadata": {},
   "outputs": [
    {
     "data": {
      "text/plain": [
       "1-element Array{Any,1}:\n",
       " 1"
      ]
     },
     "execution_count": 370,
     "metadata": {},
     "output_type": "execute_result"
    }
   ],
   "source": [
    "append!(a,1)"
   ]
  },
  {
   "cell_type": "code",
   "execution_count": 371,
   "metadata": {},
   "outputs": [
    {
     "data": {
      "text/plain": [
       "2-element Array{Any,1}:\n",
       " 1\n",
       " 2"
      ]
     },
     "execution_count": 371,
     "metadata": {},
     "output_type": "execute_result"
    }
   ],
   "source": [
    "append!(a,2)"
   ]
  },
  {
   "cell_type": "code",
   "execution_count": 1,
   "metadata": {},
   "outputs": [
    {
     "ename": "ErrorException",
     "evalue": "Out of Order",
     "output_type": "error",
     "traceback": [
      "Out of Order",
      "",
      "Stacktrace:",
      " [1] error(::String) at .\\error.jl:33",
      " [2] top-level scope at In[1]:1"
     ]
    }
   ],
   "source": [
    "z = error(\"Out of Order\")"
   ]
  },
  {
   "cell_type": "code",
   "execution_count": 42,
   "metadata": {},
   "outputs": [
    {
     "data": {
      "text/plain": [
       "OrderedPair"
      ]
     },
     "execution_count": 42,
     "metadata": {},
     "output_type": "execute_result"
    }
   ],
   "source": [
    "function OrderedPair(x,y)\n",
    "    return x + y\n",
    "end"
   ]
  },
  {
   "cell_type": "code",
   "execution_count": 48,
   "metadata": {},
   "outputs": [
    {
     "ename": "ErrorException",
     "evalue": "syntax: \"x = 1\" inside type definition is reserved",
     "output_type": "error",
     "traceback": [
      "syntax: \"x = 1\" inside type definition is reserved",
      "",
      "Stacktrace:",
      " [1] top-level scope at C:\\Users\\Kaijie\\.julia\\packages\\IJulia\\fRegO\\src\\kernel.jl:52"
     ]
    }
   ],
   "source": [
    "struct OrderedPair\n",
    "    x = 1\n",
    "    y = 1\n",
    "end"
   ]
  },
  {
   "cell_type": "code",
   "execution_count": 44,
   "metadata": {},
   "outputs": [
    {
     "ename": "ErrorException",
     "evalue": "out of order",
     "output_type": "error",
     "traceback": [
      "out of order",
      "",
      "Stacktrace:",
      " [1] error(::String) at .\\error.jl:33",
      " [2] OrderedPair(::Int64, ::Int64) at .\\In[43]:4",
      " [3] top-level scope at In[44]:1"
     ]
    }
   ],
   "source": [
    "OrderedPair(2,1)"
   ]
  },
  {
   "cell_type": "code",
   "execution_count": 45,
   "metadata": {},
   "outputs": [
    {
     "data": {
      "text/plain": [
       "OrderedPair(2, 3)"
      ]
     },
     "execution_count": 45,
     "metadata": {},
     "output_type": "execute_result"
    }
   ],
   "source": [
    "OrderedPair(1,2)"
   ]
  },
  {
   "cell_type": "code",
   "execution_count": 6,
   "metadata": {},
   "outputs": [
    {
     "name": "stdout",
     "output_type": "stream",
     "text": [
      "search: \u001b[0m\u001b[1mn\u001b[22m\u001b[0m\u001b[1me\u001b[22mxtpo\u001b[0m\u001b[1mw\u001b[22m u\u001b[0m\u001b[1mn\u001b[22msaf\u001b[0m\u001b[1me\u001b[22m_\u001b[0m\u001b[1mw\u001b[22mrap u\u001b[0m\u001b[1mn\u001b[22msaf\u001b[0m\u001b[1me\u001b[22m_\u001b[0m\u001b[1mw\u001b[22mrite U\u001b[0m\u001b[1mn\u001b[22md\u001b[0m\u001b[1me\u001b[22mfKey\u001b[0m\u001b[1mw\u001b[22mordError Rou\u001b[0m\u001b[1mn\u001b[22mdN\u001b[0m\u001b[1me\u001b[22marestTiesA\u001b[0m\u001b[1mw\u001b[22may\n",
      "\n"
     ]
    },
    {
     "data": {
      "text/latex": [
       "\\begin{verbatim}\n",
       "new\n",
       "\\end{verbatim}\n",
       "Special function available to inner constructors which created a new object of the type. See the manual section on \\href{@ref}{Inner Constructor Methods} for more information.\n",
       "\n"
      ],
      "text/markdown": [
       "```\n",
       "new\n",
       "```\n",
       "\n",
       "Special function available to inner constructors which created a new object of the type. See the manual section on [Inner Constructor Methods](@ref) for more information.\n"
      ],
      "text/plain": [
       "\u001b[36m  new\u001b[39m\n",
       "\n",
       "  Special function available to inner constructors which created a new object\n",
       "  of the type. See the manual section on Inner Constructor Methods for more\n",
       "  information."
      ]
     },
     "execution_count": 6,
     "metadata": {},
     "output_type": "execute_result"
    }
   ],
   "source": [
    "?new"
   ]
  },
  {
   "cell_type": "code",
   "execution_count": 7,
   "metadata": {},
   "outputs": [
    {
     "data": {
      "text/plain": [
       "func (generic function with 1 method)"
      ]
     },
     "execution_count": 7,
     "metadata": {},
     "output_type": "execute_result"
    }
   ],
   "source": [
    "function func(x)\n",
    "    x + 2\n",
    "end"
   ]
  },
  {
   "cell_type": "code",
   "execution_count": 26,
   "metadata": {},
   "outputs": [],
   "source": [
    "struct L1    \n",
    "    x::Real\n",
    "    L1(x) = new(func(x))\n",
    "end"
   ]
  },
  {
   "cell_type": "code",
   "execution_count": 27,
   "metadata": {},
   "outputs": [
    {
     "data": {
      "text/plain": [
       "L1(4)"
      ]
     },
     "execution_count": 27,
     "metadata": {},
     "output_type": "execute_result"
    }
   ],
   "source": [
    "L1(2)"
   ]
  },
  {
   "cell_type": "code",
   "execution_count": 28,
   "metadata": {},
   "outputs": [
    {
     "data": {
      "text/plain": [
       "L1(7)"
      ]
     },
     "execution_count": 28,
     "metadata": {},
     "output_type": "execute_result"
    }
   ],
   "source": [
    "L1(5)"
   ]
  },
  {
   "cell_type": "code",
   "execution_count": 29,
   "metadata": {},
   "outputs": [
    {
     "data": {
      "text/plain": [
       "4"
      ]
     },
     "execution_count": 29,
     "metadata": {},
     "output_type": "execute_result"
    }
   ],
   "source": [
    "func(2)"
   ]
  },
  {
   "cell_type": "code",
   "execution_count": 18,
   "metadata": {},
   "outputs": [
    {
     "ename": "MethodError",
     "evalue": "MethodError: no method matching L1(::Complex{Int64})\nClosest candidates are:\n  L1(!Matched::Real) at In[14]:3",
     "output_type": "error",
     "traceback": [
      "MethodError: no method matching L1(::Complex{Int64})\nClosest candidates are:\n  L1(!Matched::Real) at In[14]:3",
      "",
      "Stacktrace:",
      " [1] top-level scope at In[18]:1"
     ]
    }
   ],
   "source": [
    "L1(1+2im)"
   ]
  },
  {
   "cell_type": "code",
   "execution_count": 10,
   "metadata": {},
   "outputs": [
    {
     "data": {
      "text/plain": [
       "501-element Array{Float64,1}:\n",
       "  1.0                 \n",
       "  0.5403023058681398  \n",
       " -0.4161468365471424  \n",
       " -0.9899924966004454  \n",
       " -0.6536436208636119  \n",
       "  0.28366218546322625 \n",
       "  0.960170286650366   \n",
       "  0.7539022543433046  \n",
       " -0.14550003380861354 \n",
       " -0.9111302618846769  \n",
       " -0.8390715290764524  \n",
       "  0.004425697988050785\n",
       "  0.8438539587324921  \n",
       "  ⋮                   \n",
       "  0.46385557427185253 \n",
       "  0.9960904985055212  \n",
       "  0.6125244121199033  \n",
       " -0.3341937939677003  \n",
       " -0.9736557670950443  \n",
       " -0.7179431181988293  \n",
       "  0.19784312260506456 \n",
       "  0.9317333088861682  \n",
       "  0.8089921878856322  \n",
       " -0.05753261979833144 \n",
       " -0.8711622021649791  \n",
       " -0.883849273431478   "
      ]
     },
     "execution_count": 10,
     "metadata": {},
     "output_type": "execute_result"
    }
   ],
   "source": [
    "ts = 0:1:500;\n",
    "ηs = cos.(ts);\n",
    "ηs"
   ]
  },
  {
   "cell_type": "code",
   "execution_count": 16,
   "metadata": {},
   "outputs": [
    {
     "data": {
      "text/plain": [
       "3-element Array{Int64,1}:\n",
       " 3\n",
       " 4\n",
       " 5"
      ]
     },
     "execution_count": 16,
     "metadata": {},
     "output_type": "execute_result"
    }
   ],
   "source": [
    "a = [1;2;3]\n",
    "b = 2 .+(a)"
   ]
  },
  {
   "cell_type": "code",
   "execution_count": 30,
   "metadata": {},
   "outputs": [
    {
     "name": "stdout",
     "output_type": "stream",
     "text": [
      "3.0 numbers in the range of 0.0 to 0.5\n",
      "1.0 numbers in the range of 0.5 to 1.0\n",
      "0.0 numbers in the range of 1.0 to 1.5\n",
      "0.0 numbers in the range of 1.5 to 2.0\n",
      "1.0 numbers in the range of 2.0 to 2.5\n",
      "0.0 numbers in the range of 2.5 to 3.0\n",
      "0.0 numbers in the range of 3.0 to 3.5\n",
      "0.0 numbers in the range of 3.5 to 4.0\n",
      "0.0 numbers in the range of 4.0 to 4.5\n",
      "1.0 numbers in the range of 4.5 to 5.0\n",
      "0.0 numbers in the range of 5.0 to 5.5\n",
      "0.0 numbers in the range of 5.5 to 6.0\n",
      "0.0 numbers in the range of 6.0 to 6.5\n",
      "0.0 numbers in the range of 6.5 to 7.0\n",
      "0.0 numbers in the range of 7.0 to 7.5\n",
      "0.0 numbers in the range of 7.5 to 8.0\n",
      "0.0 numbers in the range of 8.0 to 8.5\n",
      "0.0 numbers in the range of 8.5 to 9.0\n",
      "0.0 numbers in the range of 9.0 to 9.5\n",
      "0.0 numbers in the range of 9.5 to 10.0\n",
      "0.0 numbers in the range of 10.0 to 10.5\n",
      "0.0 numbers in the range of 10.5 to 11.0\n",
      "0.0 numbers in the range of 11.0 to 11.5\n",
      "0.0 numbers in the range of 11.5 to 12.0\n"
     ]
    }
   ],
   "source": [
    "interval_range = 0:0.5:12\n",
    "input = [0.5,0.5,1.0,0.5,2.3,4.6]\n",
    "output = zeros(length(interval_range)-1)\n",
    "\n",
    "for i in input\n",
    "    for j in 1:(length(interval_range)-1)\n",
    "        if i <= interval_range[j+1] && i> interval_range[j]\n",
    "            output[j] += 1\n",
    "        else\n",
    "            output = output\n",
    "        end\n",
    "    end\n",
    "end\n",
    "\n",
    "dummy = 1\n",
    "for i in 1:length(output)\n",
    "    value = output[i]\n",
    "    start! = interval_range[dummy]\n",
    "    END! = interval_range[dummy+1]\n",
    "    println(\"$value numbers in the range of $start! to $END!\")\n",
    "    dummy += 1\n",
    "end"
   ]
  },
  {
   "cell_type": "code",
   "execution_count": 29,
   "metadata": {},
   "outputs": [
    {
     "data": {
      "text/plain": [
       "25"
      ]
     },
     "execution_count": 29,
     "metadata": {},
     "output_type": "execute_result"
    }
   ],
   "source": [
    "length(interval_range)"
   ]
  },
  {
   "cell_type": "code",
   "execution_count": 21,
   "metadata": {},
   "outputs": [
    {
     "data": {
      "text/plain": [
       "4"
      ]
     },
     "execution_count": 21,
     "metadata": {},
     "output_type": "execute_result"
    }
   ],
   "source": [
    "length(0:0.5:1.5)"
   ]
  },
  {
   "cell_type": "code",
   "execution_count": 25,
   "metadata": {},
   "outputs": [
    {
     "data": {
      "text/plain": [
       "25-element Array{Float64,1}:\n",
       " 3.0\n",
       " 1.0\n",
       " 0.0\n",
       " 0.0\n",
       " 1.0\n",
       " 0.0\n",
       " 0.0\n",
       " 0.0\n",
       " 0.0\n",
       " 1.0\n",
       " 0.0\n",
       " 0.0\n",
       " 0.0\n",
       " 0.0\n",
       " 0.0\n",
       " 0.0\n",
       " 0.0\n",
       " 0.0\n",
       " 0.0\n",
       " 0.0\n",
       " 0.0\n",
       " 0.0\n",
       " 0.0\n",
       " 0.0\n",
       " 0.0"
      ]
     },
     "execution_count": 25,
     "metadata": {},
     "output_type": "execute_result"
    }
   ],
   "source": [
    "output"
   ]
  },
  {
   "cell_type": "code",
   "execution_count": 16,
   "metadata": {},
   "outputs": [
    {
     "data": {
      "text/plain": [
       "2-element Array{Int64,1}:\n",
       " 3\n",
       " 4"
      ]
     },
     "execution_count": 16,
     "metadata": {},
     "output_type": "execute_result"
    }
   ],
   "source": [
    "2 .+ [1,2] "
   ]
  },
  {
   "cell_type": "code",
   "execution_count": null,
   "metadata": {},
   "outputs": [],
   "source": []
  }
 ],
 "metadata": {
  "kernelspec": {
   "display_name": "Julia 1.2.0",
   "language": "julia",
   "name": "julia-1.2"
  },
  "language_info": {
   "file_extension": ".jl",
   "mimetype": "application/julia",
   "name": "julia",
   "version": "1.2.0"
  }
 },
 "nbformat": 4,
 "nbformat_minor": 4
}
