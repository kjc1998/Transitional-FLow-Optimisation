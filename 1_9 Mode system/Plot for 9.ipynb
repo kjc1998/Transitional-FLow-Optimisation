{
 "cells": [
  {
   "cell_type": "code",
   "execution_count": 1,
   "metadata": {},
   "outputs": [
    {
     "name": "stderr",
     "output_type": "stream",
     "text": [
      "┌ Info: Recompiling stale cache file C:\\Users\\Kaijie\\.julia\\compiled\\v1.2\\ToySystems\\chsON.ji for ToySystems [53c88820-6eff-5a8c-9a74-badd815e7be1]\n",
      "└ @ Base loading.jl:1240\n",
      "┌ Warning: Package ToySystems does not have Flows in its dependencies:\n",
      "│ - If you have ToySystems checked out for development and have\n",
      "│   added Flows as a dependency but haven't updated your primary\n",
      "│   environment's manifest file, try `Pkg.resolve()`.\n",
      "│ - Otherwise you may need to report an issue with ToySystems\n",
      "└ Loading Flows into ToySystems from project dependency, future warnings for ToySystems are suppressed.\n"
     ]
    },
    {
     "data": {
      "text/html": [
       "<script>\n",
       "// Immediately-invoked-function-expression to avoid global variables.\n",
       "(function() {\n",
       "    var warning_div = document.getElementById(\"webio-warning-14091577792514177812\");\n",
       "    var hide = function () {\n",
       "        var script = document.getElementById(\"webio-setup-8495994499588959691\");\n",
       "        var parent = script && script.parentElement;\n",
       "        var grandparent = parent && parent.parentElement;\n",
       "        if (grandparent) {\n",
       "            grandparent.style.display = \"none\";\n",
       "        }\n",
       "        warning_div.style.display = \"none\";\n",
       "    };\n",
       "    if (typeof Jupyter !== \"undefined\") {\n",
       "        console.log(\"WebIO detected Jupyter notebook environment.\");\n",
       "        // Jupyter notebook.\n",
       "        var extensions = (\n",
       "            Jupyter\n",
       "            && Jupyter.notebook.config.data\n",
       "            && Jupyter.notebook.config.data.load_extensions\n",
       "        );\n",
       "        if (extensions && extensions[\"webio-jupyter-notebook\"]) {\n",
       "            // Extension already loaded.\n",
       "            console.log(\"Jupyter WebIO nbextension detected; not loading ad-hoc.\");\n",
       "            hide();\n",
       "            return;\n",
       "        }\n",
       "    } else if (window.location.pathname.includes(\"/lab\")) {\n",
       "        // Guessing JupyterLa\n",
       "        console.log(\"Jupyter Lab detected; make sure the @webio/jupyter-lab-provider labextension is installed.\");\n",
       "        hide();\n",
       "        return;\n",
       "    }\n",
       "})();\n",
       "\n",
       "</script>\n",
       "<p\n",
       "    id=\"webio-warning-14091577792514177812\"\n",
       "    class=\"output_text output_stderr\"\n",
       "    style=\"padding: 1em; font-weight: bold;\"\n",
       ">\n",
       "    Unable to load WebIO. Please make sure WebIO works for your Jupyter client.\n",
       "    For troubleshooting, please see <a href=\"https://juliagizmos.github.io/WebIO.jl/latest/providers/ijulia/\">\n",
       "    the WebIO/IJulia documentation</a>.\n",
       "    <!-- TODO: link to installation docs. -->\n",
       "</p>\n"
      ],
      "text/plain": [
       "HTML{String}(\"<script>\\n// Immediately-invoked-function-expression to avoid global variables.\\n(function() {\\n    var warning_div = document.getElementById(\\\"webio-warning-14091577792514177812\\\");\\n    var hide = function () {\\n        var script = document.getElementById(\\\"webio-setup-8495994499588959691\\\");\\n        var parent = script && script.parentElement;\\n        var grandparent = parent && parent.parentElement;\\n        if (grandparent) {\\n            grandparent.style.display = \\\"none\\\";\\n        }\\n        warning_div.style.display = \\\"none\\\";\\n    };\\n    if (typeof Jupyter !== \\\"undefined\\\") {\\n        console.log(\\\"WebIO detected Jupyter notebook environment.\\\");\\n        // Jupyter notebook.\\n        var extensions = (\\n            Jupyter\\n            && Jupyter.notebook.config.data\\n            && Jupyter.notebook.config.data.load_extensions\\n        );\\n        if (extensions && extensions[\\\"webio-jupyter-notebook\\\"]) {\\n            // Extension already loaded.\\n            console.log(\\\"Jupyter WebIO nbextension detected; not loading ad-hoc.\\\");\\n            hide();\\n            return;\\n        }\\n    } else if (window.location.pathname.includes(\\\"/lab\\\")) {\\n        // Guessing JupyterLa\\n        console.log(\\\"Jupyter Lab detected; make sure the @webio/jupyter-lab-provider labextension is installed.\\\");\\n        hide();\\n        return;\\n    }\\n})();\\n\\n</script>\\n<p\\n    id=\\\"webio-warning-14091577792514177812\\\"\\n    class=\\\"output_text output_stderr\\\"\\n    style=\\\"padding: 1em; font-weight: bold;\\\"\\n>\\n    Unable to load WebIO. Please make sure WebIO works for your Jupyter client.\\n    For troubleshooting, please see <a href=\\\"https://juliagizmos.github.io/WebIO.jl/latest/providers/ijulia/\\\">\\n    the WebIO/IJulia documentation</a>.\\n    <!-- TODO: link to installation docs. -->\\n</p>\\n\")"
      ]
     },
     "metadata": {},
     "output_type": "display_data"
    }
   ],
   "source": [
    "using Flows\n",
    "using ToySystems\n",
    "using ToySystems.NineModeSystemEq\n",
    "using Optim\n",
    "using PyPlot; pygui(true)\n",
    "include(\"9msctrl.jl\")\n",
    "include(\"Initial condition variation.jl\")\n",
    "include(\"Perturbation time.jl\")\n",
    "include(\"Contour Plots.jl\")\n",
    "import LinearAlgebra: norm\n",
    "using Plotly"
   ]
  },
  {
   "cell_type": "code",
   "execution_count": 3,
   "metadata": {},
   "outputs": [
    {
     "data": {
      "text/plain": [
       "0.5"
      ]
     },
     "execution_count": 3,
     "metadata": {},
     "output_type": "execute_result"
    }
   ],
   "source": [
    "# Re_min = 50\n",
    "# Re_step = 2\n",
    "# Re_max = 300\n",
    "Re = 400\n",
    "T     = 10000 #or 1000\n",
    "timestepdifference = 0.5"
   ]
  },
  {
   "cell_type": "code",
   "execution_count": 4,
   "metadata": {},
   "outputs": [],
   "source": [
    "# Re = Re_min:Re_step:Re_max\n",
    "dadt = zeros(9)\n",
    "q    = zeros(9)\n",
    "dqdt = zeros(9)\n",
    "# timearray = timestepdifference:timestepdifference:T\n",
    "store = RAMStorage(zeros(9))\n",
    "B = [0,0,0,0,1,0,0,0,0];"
   ]
  },
  {
   "cell_type": "code",
   "execution_count": 51,
   "metadata": {},
   "outputs": [
    {
     "data": {
      "text/plain": [
       "Plot9 (generic function with 1 method)"
      ]
     },
     "execution_count": 51,
     "metadata": {},
     "output_type": "execute_result"
    }
   ],
   "source": [
    "function Plot9(u,n,Re)\n",
    "    f  = NineModeSystem(Re)\n",
    "    \n",
    "    function ael(u::AbstractVector)\n",
    "        return u[n]\n",
    "    end\n",
    "    function ael(t, u, dudt, I, dIdt)\n",
    "        return dIdt[1] = ael(u)\n",
    "    end\n",
    "    function ael(xq::Coupled)\n",
    "        return ael(xq[1])\n",
    "    end\n",
    "    \n",
    "    u0 = copy(u)\n",
    "    I0 = Float64[0.0]\n",
    "    \n",
    "    ϕ = flow(couple(f, ael), RK4(couple(zeros(9), zeros(1))), TimeStepConstant(timestepdifference))\n",
    "    mon = Monitor(couple(zeros(9), zeros(1)), ael)\n",
    "    ϕ(couple(u0, I0), (0, T), reset!(mon))\n",
    "    PyPlot.plot(times(mon), samples(mon))\n",
    "    xlabel(L\"t\")\n",
    "    ylabel(L\"a9\")\n",
    "end"
   ]
  },
  {
   "cell_type": "code",
   "execution_count": 25,
   "metadata": {},
   "outputs": [
    {
     "data": {
      "text/plain": [
       "9-element Array{Float64,1}:\n",
       " 0.32600792021675273\n",
       " 0.347740030637939  \n",
       " 0.4726590158164521 \n",
       " 0.7315215413401319 \n",
       " 0.8454069212015407 \n",
       " 0.8881601948243674 \n",
       " 0.7632346167089714 \n",
       " 0.28436822995459976\n",
       " 0.2899539419104671 "
      ]
     },
     "execution_count": 25,
     "metadata": {},
     "output_type": "execute_result"
    }
   ],
   "source": [
    "u = rand(9)"
   ]
  },
  {
   "cell_type": "code",
   "execution_count": 52,
   "metadata": {},
   "outputs": [
    {
     "data": {
      "text/plain": [
       "PyObject Text(31.097222222222214, 0.5, '$a9$')"
      ]
     },
     "execution_count": 52,
     "metadata": {},
     "output_type": "execute_result"
    }
   ],
   "source": [
    "Plot9(u,9,Re)"
   ]
  },
  {
   "cell_type": "code",
   "execution_count": null,
   "metadata": {},
   "outputs": [],
   "source": []
  }
 ],
 "metadata": {
  "kernelspec": {
   "display_name": "Julia 1.2.0",
   "language": "julia",
   "name": "julia-1.2"
  },
  "language_info": {
   "file_extension": ".jl",
   "mimetype": "application/julia",
   "name": "julia",
   "version": "1.2.0"
  }
 },
 "nbformat": 4,
 "nbformat_minor": 4
}
