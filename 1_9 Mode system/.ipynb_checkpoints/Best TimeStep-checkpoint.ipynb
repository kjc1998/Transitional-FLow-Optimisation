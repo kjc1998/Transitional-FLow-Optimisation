{
 "cells": [
  {
   "cell_type": "code",
   "execution_count": 204,
   "metadata": {},
   "outputs": [
    {
     "ename": "ErrorException",
     "evalue": "cannot assign a value to variable PyPlot.plt from module Main",
     "output_type": "error",
     "traceback": [
      "cannot assign a value to variable PyPlot.plt from module Main",
      "",
      "Stacktrace:",
      " [1] top-level scope at In[204]:11"
     ]
    }
   ],
   "source": [
    "using Flows\n",
    "using ToySystems\n",
    "using ToySystems.NineModeSystemEq\n",
    "using Optim\n",
    "using PyPlot; pygui(true)\n",
    "include(\"9msctrl.jl\")\n",
    "import LinearAlgebra: norm\n",
    "using PyCall\n",
    "np = pyimport(\"numpy\")\n",
    "sc = pyimport(\"scipy\")\n",
    "plt = pyimport(\"matplotlib.pyplot\")"
   ]
  },
  {
   "cell_type": "code",
   "execution_count": 2,
   "metadata": {},
   "outputs": [],
   "source": [
    "dadt = zeros(9)\n",
    "q    = zeros(9)\n",
    "dqdt = zeros(9)\n",
    "store = RAMStorage(zeros(9))\n",
    "B = [0,0,0,0,1,0,0,0,0];"
   ]
  },
  {
   "cell_type": "code",
   "execution_count": 211,
   "metadata": {},
   "outputs": [
    {
     "data": {
      "text/plain": [
       "Objective_fun_timestep (generic function with 1 method)"
      ]
     },
     "execution_count": 211,
     "metadata": {},
     "output_type": "execute_result"
    }
   ],
   "source": [
    "objfun(u::AbstractVector) = (u[1] - 1)^2 + sum(u[i]^2 for i = 2:9)\n",
    "function objfun(t, u, dudt, I, dIdt)\n",
    "    return dIdt[1] = (u[1] - 1)^2 + sum(u[i]^2 for i = 2:9)\n",
    "end\n",
    "function objfun(xq::Coupled)\n",
    "    return objfun(xq[1])\n",
    "end\n",
    "\n",
    "function print_factors(x)\n",
    "   factors = []\n",
    "   for i in 1:x\n",
    "        if x % i == 0\n",
    "            factors = push!(factors, i)\n",
    "        else\n",
    "            0 == 0\n",
    "        end\n",
    "    end\n",
    "    return factors\n",
    "end\n",
    "\n",
    "function Objective_fun_timestep(n_initial, Re::Real, Tstepmax, magtstep, Tend)\n",
    "    f = NineModeSystem(Re)\n",
    "    ts0 = magtstep.*print_factors(Tend)\n",
    "    ts = ts0[1:searchsortedfirst(ts0,Tstepmax)-1]\n",
    "    \n",
    "    u0_list = []\n",
    "    for i in 1:n_initial\n",
    "        u0_list = push!(u0_list, rand(9))\n",
    "    end\n",
    "    \n",
    "    Ind_arr = zeros(n_initial)\n",
    "    output_1 = []\n",
    "    x1 = []\n",
    "    average = []\n",
    "    ts123 = ts\n",
    "    for i in 1:length(ts)\n",
    "        ϕ = flow(couple(f,objfun),RK4(couple(zeros(9),zeros(1))), TimeStepConstant(ts[i]))\n",
    "        output = []\n",
    "        x2 = []\n",
    "        \n",
    "        ti = 0:ts[i]:Tend\n",
    "        for j in 1:length(u0_list)\n",
    "            I0 = Float64[0.0]\n",
    "            u0_local = copy(u0_list[j])\n",
    "            ϕ(couple(u0_local, I0), extrema(ti))\n",
    "            output = push!(output, I0[1]/Tend)\n",
    "            x2 = push!(x2, ts[i])\n",
    "        end\n",
    "        x1 = push!(x1, x2)\n",
    "        output_1 = push!(output_1, output)\n",
    "        Ind_arr = hcat(Ind_arr, output)\n",
    "        \n",
    "        if sort(output)[end]%sort(output)[end] != 0.0\n",
    "            println(\"yes\")\n",
    "            sortedz = sort(output).%sort(output)\n",
    "            new_int = searchsortedlast(sortedz,0.0)\n",
    "            if new_int == 0\n",
    "                ts123 = setdiff(ts123, ts[i])\n",
    "            else\n",
    "                average = push!(average, sum(sort(output)[1:new_int])/new_int)\n",
    "            end\n",
    "        else\n",
    "            average = push!(average, sum(output)/length(output))\n",
    "        end\n",
    "        \n",
    "        \n",
    "    end\n",
    "    \n",
    "    fig,ax = plt.subplots()\n",
    "    for i in 1:length(output_1)\n",
    "        ax.scatter(x1[i],output_1[i], color = \"grey\", label = \"$i\", s = 2)\n",
    "    end\n",
    "    ax.plot(ts123, average, color = \"black\", linewidth = 1.0)\n",
    "    ax.plot(np.unique(ts123), np.poly1d(np.polyfit(ts123, average, 1))(np.unique(ts)), color = \"black\" ,linewidth = 1.0, linestyle = \"dotted\")\n",
    "#     for i in 1:n_initial\n",
    "#         ax.plot(ts, Ind_arr[i, 2:end],linewidth = 0.1, label = \"$i\")\n",
    "#     end\n",
    "    xlabel(L\"Timestep\")\n",
    "    ylabel(L\"Objectivefunction\")\n",
    "    return output_1\n",
    "end"
   ]
  },
  {
   "cell_type": "code",
   "execution_count": 212,
   "metadata": {},
   "outputs": [
    {
     "data": {
      "text/plain": [
       "13-element Array{Any,1}:\n",
       " Any[0.7678625266626508, 0.7521138766501057, 0.28836576510887124, 0.7304407819475903, 0.7383111142656467, 0.5736400137744808, 0.7112483492306497, 0.7075582882753546, 0.6316528714555609, 0.47877726482801036] \n",
       " Any[0.22045331342737887, 0.7450337433751046, 0.7408028676531528, 0.7496694084544734, 0.16499960178322598, 0.7158390472231109, 0.7355211290785622, 0.3090929117185871, 0.7449921212622954, 0.29977783615049025]\n",
       " Any[0.14878529284444966, 0.738660292117991, 0.7098340327563109, 0.7004574183249904, 0.7539467650741475, 0.7143346583896101, 0.5051872302825305, 0.7140495023817898, 0.7137942527138909, 0.12221346575728867]  \n",
       " Any[0.7095147389557056, 0.7079684201311743, 0.7230391133591423, 0.4151626249585599, 0.7558655866285345, 0.7249250903564266, 0.6949023543969646, 0.7401812853418737, 0.6951098780179025, 0.6728273602025837]   \n",
       " Any[0.7339182429476373, 0.7216592100169782, 0.14781438166512043, 0.7206023739635246, 0.7136485693935187, 0.6922976168674532, 0.7237476882735104, 0.7378221857447553, 0.12031149101529447, 0.7289400190956318] \n",
       " Any[0.7550041193371488, 0.7174645576929018, 0.7223308182529575, 0.7371096273647519, 0.7084474741510844, 0.7093161677149609, 0.7164899004557438, 0.6453152638215858, 0.7656043271237383, 0.20676109773923954]  \n",
       " Any[0.7311936709142284, 0.5593303311490078, 0.7328466452753893, 0.7241173923644407, 0.6901269429289587, 0.7395946049118134, 0.7027197369922619, 0.7415263106776153, 0.7211418805829604, 0.7086194671662269]   \n",
       " Any[0.31744371097752294, 0.7448338714991114, 0.7350675853017835, 0.6404908210452248, 0.6947285187458019, 0.543560826400312, 0.5744770992584154, 0.423372537065756, 0.752806113381642, 0.6701063600760337]     \n",
       " Any[0.7130915378155978, 0.7436104945485204, 0.7323714337082559, 0.7392342233101968, 0.7533145088304055, 0.7302140976319058, 0.7117209150579967, 0.7154104694247702, 0.7465701383506625, 0.7755818032983877]   \n",
       " Any[0.7100366276943593, 0.7298859157651872, 0.6782792505464564, 0.7275958007359593, 0.7187607830409611, 0.7108221652658608, 0.7080073170000144, 0.607320531428086, 0.7151590850366693, 0.5469792097939515]    \n",
       " Any[0.710680283211945, 0.732895680602558, 0.7149088526888733, 0.3234292745825325, 0.18038223013114876, 0.5607182465251812, 0.7494850070697042, 0.5165916213872707, 0.45872244400430245, 0.7271480258592754]   \n",
       " Any[0.7122922130808597, 0.7581266465211203, 0.7202873332844298, 0.5646925060876707, 0.7356391288994548, 0.7274826581279296, 0.7028384227412935, 0.1223465067778876, 0.6889206274540185, 0.7253435492028005]   \n",
       " Any[0.7118475637984842, 0.7523530290451242, 0.6988811750778516, 0.3417294198272256, 0.7168897689309596, 0.6996013881557734, 0.3039332124711875, 0.4253690961669923, 0.061645733263860344, 0.7218695966180502] "
      ]
     },
     "execution_count": 212,
     "metadata": {},
     "output_type": "execute_result"
    }
   ],
   "source": [
    "z = Objective_fun_timestep(10, 500, 1.1, 0.01, 10000)"
   ]
  },
  {
   "cell_type": "raw",
   "metadata": {},
   "source": []
  },
  {
   "cell_type": "code",
   "execution_count": 210,
   "metadata": {},
   "outputs": [
    {
     "data": {
      "text/plain": [
       "PyObject <matplotlib.collections.PathCollection object at 0x0000000001FC7EB8>"
      ]
     },
     "execution_count": 210,
     "metadata": {},
     "output_type": "execute_result"
    }
   ],
   "source": [
    "fig, ax = plt.subplots()\n",
    "ax.scatter([1,2,3],[1,2,3],s = 2)"
   ]
  },
  {
   "cell_type": "code",
   "execution_count": 183,
   "metadata": {},
   "outputs": [
    {
     "data": {
      "text/plain": [
       "9×4 Array{Float64,2}:\n",
       " 0.0  1.0  1.0  1.0\n",
       " 0.0  2.0  2.0  2.0\n",
       " 0.0  3.0  3.0  3.0\n",
       " 0.0  4.0  4.0  4.0\n",
       " 0.0  5.0  5.0  5.0\n",
       " 0.0  6.0  6.0  6.0\n",
       " 0.0  7.0  7.0  7.0\n",
       " 0.0  8.0  8.0  8.0\n",
       " 0.0  9.0  9.0  9.0"
      ]
     },
     "execution_count": 183,
     "metadata": {},
     "output_type": "execute_result"
    }
   ],
   "source": [
    "a = zeros(9)\n",
    "b = [1,2,3,4,5,6,7,8,9]\n",
    "c = hcat(a,b,b,b)"
   ]
  },
  {
   "cell_type": "code",
   "execution_count": 184,
   "metadata": {},
   "outputs": [
    {
     "data": {
      "text/plain": [
       "3-element Array{Float64,1}:\n",
       " 1.0\n",
       " 1.0\n",
       " 1.0"
      ]
     },
     "execution_count": 184,
     "metadata": {},
     "output_type": "execute_result"
    }
   ],
   "source": [
    "c[1,2:end]"
   ]
  },
  {
   "cell_type": "code",
   "execution_count": null,
   "metadata": {},
   "outputs": [],
   "source": []
  }
 ],
 "metadata": {
  "kernelspec": {
   "display_name": "Julia 1.2.0",
   "language": "julia",
   "name": "julia-1.2"
  },
  "language_info": {
   "file_extension": ".jl",
   "mimetype": "application/julia",
   "name": "julia",
   "version": "1.2.0"
  }
 },
 "nbformat": 4,
 "nbformat_minor": 4
}
