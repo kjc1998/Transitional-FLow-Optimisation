{
 "cells": [
  {
   "cell_type": "code",
   "execution_count": 113,
   "metadata": {},
   "outputs": [],
   "source": [
    "using PyPlot; pygui(true)\n",
    "using PyCall"
   ]
  },
  {
   "cell_type": "code",
   "execution_count": 114,
   "metadata": {},
   "outputs": [
    {
     "data": {
      "text/plain": [
       "PyObject <module 'matplotlib.pyplot' from 'C:\\\\Users\\\\Kaijie\\\\.julia\\\\conda\\\\3\\\\lib\\\\site-packages\\\\matplotlib\\\\pyplot.py'>"
      ]
     },
     "execution_count": 114,
     "metadata": {},
     "output_type": "execute_result"
    }
   ],
   "source": [
    "np = pyimport(\"numpy\")\n",
    "plt = pyimport(\"matplotlib.pyplot\")"
   ]
  },
  {
   "cell_type": "code",
   "execution_count": 115,
   "metadata": {},
   "outputs": [
    {
     "data": {
      "text/plain": [
       "1-element Array{PyObject,1}:\n",
       " PyObject <matplotlib.lines.Line2D object at 0x000000003BD33240>"
      ]
     },
     "execution_count": 115,
     "metadata": {},
     "output_type": "execute_result"
    }
   ],
   "source": [
    "x = np.arange(0, 5, 0.1);\n",
    "y = np.sin(x)\n",
    "plt.plot(x, y)"
   ]
  },
  {
   "cell_type": "code",
   "execution_count": 116,
   "metadata": {},
   "outputs": [],
   "source": [
    "x = np.arange(0.1, 4, 0.5)\n",
    "y = np.exp(-x)\n",
    "\n",
    "fig, ax = plt.subplots()\n",
    "ax.errorbar(x, y, xerr = [0.2,0.1,0.2,0.1,0.2,0.1,0.2,0.1], yerr=0.4)\n",
    "plt.show()"
   ]
  },
  {
   "cell_type": "code",
   "execution_count": 117,
   "metadata": {},
   "outputs": [],
   "source": [
    "## time example\n",
    "using Flows\n",
    "using ToySystems\n",
    "using ToySystems.NineModeSystemEq\n",
    "using Optim\n",
    "using PyPlot; pygui(true)\n",
    "include(\"9msctrl.jl\")\n",
    "import LinearAlgebra: norm"
   ]
  },
  {
   "cell_type": "code",
   "execution_count": 118,
   "metadata": {},
   "outputs": [],
   "source": [
    "include(\"Magnitude Rand.jl\")\n",
    "\n",
    "Re_step = 10\n",
    "Re_max = 500\n",
    "T     = 10000\n",
    "timestepdifference = 0.01\n",
    "\n",
    "Re = 1:Re_step:Re_max\n",
    "dadt = zeros(9)\n",
    "q    = zeros(9)\n",
    "dqdt = zeros(9)\n",
    "ts = timestepdifference:timestepdifference:2\n",
    "store = RAMStorage(zeros(9))\n",
    "B = [0,0,0,0,1,0,0,0,0];"
   ]
  },
  {
   "cell_type": "code",
   "execution_count": 121,
   "metadata": {},
   "outputs": [
    {
     "data": {
      "text/plain": [
       "Objective_fun_CTRL (generic function with 2 methods)"
      ]
     },
     "execution_count": 121,
     "metadata": {},
     "output_type": "execute_result"
    }
   ],
   "source": [
    "objfun(u::AbstractVector) = (u[1] - 1)^2 + sum(u[i]^2 for i = 2:9)\n",
    "function objfun(t, u, dudt, I, dIdt)\n",
    "    return dIdt[1] = (u[1] - 1)^2 + sum(u[i]^2 for i = 2:9)\n",
    "end\n",
    "function objfun(xq::Coupled)\n",
    "    return objfun(xq[1])\n",
    "end\n",
    "\n",
    "function Objective_fun_CTRL(Re::Real, ts::AbstractVector)\n",
    "    f = NineModeSystem(Re)\n",
    "    output = zeros(length(ts))\n",
    "    u0 = rand(9)\n",
    "    j = 1\n",
    "    for i in ts\n",
    "        if round(T/i)*i != T\n",
    "            ts = setdiff(ts, i)\n",
    "            output = deleteat!(output, length(output))\n",
    "#             println(output)\n",
    "        else\n",
    "            ti = 0:i:T\n",
    "            ϕ = flow(couple(f,objfun),RK4(couple(zeros(9),zeros(1))), TimeStepConstant(i))\n",
    "            I0 = Float64[0.0]\n",
    "            u0_local = copy(u0)\n",
    "            ϕ(couple(u0_local, I0), extrema(ti))\n",
    "            output[j] = I0[1]/T\n",
    "            j += 1\n",
    "        end\n",
    "    end\n",
    "#     z = zeros(length(ts))\n",
    "#     u0_local = copy(u0)\n",
    "#     value = norm(u0_local)\n",
    "#     z = fill!(z,value)\n",
    "    scatter(ts, output)\n",
    "    plt.plot(np.unique(ts), np.poly1d(np.polyfit(ts, output, 2))(np.unique(ts)))\n",
    "    xlabel(L\"Timestep\")\n",
    "    ylabel(L\"Objectivefunction\")\n",
    "    return output\n",
    "end"
   ]
  },
  {
   "cell_type": "code",
   "execution_count": 125,
   "metadata": {},
   "outputs": [
    {
     "data": {
      "text/plain": [
       "18-element Array{Float64,1}:\n",
       " 0.7317866809095498 \n",
       " 0.1877494132809061 \n",
       " 0.6875930003542066 \n",
       " 0.770540230816789  \n",
       " 0.7473319138624999 \n",
       " 0.7267344526639639 \n",
       " 0.7162713617395414 \n",
       " 0.4073395450075733 \n",
       " 0.7421469886171037 \n",
       " 0.7429756303003733 \n",
       " 0.47970737323476026\n",
       " 0.6899103182063147 \n",
       " 0.7558626359662503 \n",
       " 0.17764673749490553\n",
       " 0.2632706675731752 \n",
       " 0.7206681450144777 \n",
       " 0.7008541580383858 \n",
       " 0.7320330351374067 "
      ]
     },
     "execution_count": 125,
     "metadata": {},
     "output_type": "execute_result"
    }
   ],
   "source": [
    "# for i in out\n",
    "#    scatter(i[0],i[1])\n",
    "#    xlabel('X')\n",
    "#    ylabel('Y')\n",
    "#    title(\"My Title\")\n",
    "# end\n",
    "# x = rand(9)\n",
    "# y = rand(9)\n",
    "# scatter(x,y)\n",
    "# plt.plot(np.unique(x), np.poly1d(np.polyfit(x, y, 4))(np.unique(x)))\n",
    "z = Objective_fun_CTRL(500, ts)"
   ]
  },
  {
   "cell_type": "code",
   "execution_count": 129,
   "metadata": {},
   "outputs": [
    {
     "data": {
      "text/plain": [
       "3-element Array{Float64,1}:\n",
       " -0.7011027326734359 \n",
       "  0.35767740699641026\n",
       "  0.6717729165448304 "
      ]
     },
     "execution_count": 129,
     "metadata": {},
     "output_type": "execute_result"
    }
   ],
   "source": [
    "x = rand(11)\n",
    "y = rand(11)\n",
    "np.polyfit(x,y,2)"
   ]
  },
  {
   "cell_type": "code",
   "execution_count": 128,
   "metadata": {},
   "outputs": [
    {
     "data": {
      "text/plain": [
       "\n",
       "    Least squares polynomial fit.\n",
       "\n",
       "    Fit a polynomial ``p(x) = p[0] * x**deg + ... + p[deg]`` of degree `deg`\n",
       "    to points `(x, y)`. Returns a vector of coefficients `p` that minimises\n",
       "    the squared error in the order `deg`, `deg-1`, ... `0`.\n",
       "\n",
       "    The `Polynomial.fit <numpy.polynomial.polynomial.Polynomial.fit>` class\n",
       "    method is recommended for new code as it is more stable numerically. See\n",
       "    the documentation of the method for more information.\n",
       "\n",
       "    Parameters\n",
       "    ----------\n",
       "    x : array_like, shape (M,)\n",
       "        x-coordinates of the M sample points ``(x[i], y[i])``.\n",
       "    y : array_like, shape (M,) or (M, K)\n",
       "        y-coordinates of the sample points. Several data sets of sample\n",
       "        points sharing the same x-coordinates can be fitted at once by\n",
       "        passing in a 2D-array that contains one dataset per column.\n",
       "    deg : int\n",
       "        Degree of the fitting polynomial\n",
       "    rcond : float, optional\n",
       "        Relative condition number of the fit. Singular values smaller than\n",
       "        this relative to the largest singular value will be ignored. The\n",
       "        default value is len(x)*eps, where eps is the relative precision of\n",
       "        the float type, about 2e-16 in most cases.\n",
       "    full : bool, optional\n",
       "        Switch determining nature of return value. When it is False (the\n",
       "        default) just the coefficients are returned, when True diagnostic\n",
       "        information from the singular value decomposition is also returned.\n",
       "    w : array_like, shape (M,), optional\n",
       "        Weights to apply to the y-coordinates of the sample points. For\n",
       "        gaussian uncertainties, use 1/sigma (not 1/sigma**2).\n",
       "    cov : bool or str, optional\n",
       "        If given and not `False`, return not just the estimate but also its\n",
       "        covariance matrix. By default, the covariance are scaled by\n",
       "        chi2/sqrt(N-dof), i.e., the weights are presumed to be unreliable\n",
       "        except in a relative sense and everything is scaled such that the\n",
       "        reduced chi2 is unity. This scaling is omitted if ``cov='unscaled'``,\n",
       "        as is relevant for the case that the weights are 1/sigma**2, with\n",
       "        sigma known to be a reliable estimate of the uncertainty.\n",
       "\n",
       "    Returns\n",
       "    -------\n",
       "    p : ndarray, shape (deg + 1,) or (deg + 1, K)\n",
       "        Polynomial coefficients, highest power first.  If `y` was 2-D, the\n",
       "        coefficients for `k`-th data set are in ``p[:,k]``.\n",
       "\n",
       "    residuals, rank, singular_values, rcond\n",
       "        Present only if `full` = True.  Residuals of the least-squares fit,\n",
       "        the effective rank of the scaled Vandermonde coefficient matrix,\n",
       "        its singular values, and the specified value of `rcond`. For more\n",
       "        details, see `linalg.lstsq`.\n",
       "\n",
       "    V : ndarray, shape (M,M) or (M,M,K)\n",
       "        Present only if `full` = False and `cov`=True.  The covariance\n",
       "        matrix of the polynomial coefficient estimates.  The diagonal of\n",
       "        this matrix are the variance estimates for each coefficient.  If y\n",
       "        is a 2-D array, then the covariance matrix for the `k`-th data set\n",
       "        are in ``V[:,:,k]``\n",
       "\n",
       "\n",
       "    Warns\n",
       "    -----\n",
       "    RankWarning\n",
       "        The rank of the coefficient matrix in the least-squares fit is\n",
       "        deficient. The warning is only raised if `full` = False.\n",
       "\n",
       "        The warnings can be turned off by\n",
       "\n",
       "        >>> import warnings\n",
       "        >>> warnings.simplefilter('ignore', np.RankWarning)\n",
       "\n",
       "    See Also\n",
       "    --------\n",
       "    polyval : Compute polynomial values.\n",
       "    linalg.lstsq : Computes a least-squares fit.\n",
       "    scipy.interpolate.UnivariateSpline : Computes spline fits.\n",
       "\n",
       "    Notes\n",
       "    -----\n",
       "    The solution minimizes the squared error\n",
       "\n",
       "    .. math ::\n",
       "        E = \\sum_{j=0}^k |p(x_j) - y_j|^2\n",
       "\n",
       "    in the equations::\n",
       "\n",
       "        x[0]**n * p[0] + ... + x[0] * p[n-1] + p[n] = y[0]\n",
       "        x[1]**n * p[0] + ... + x[1] * p[n-1] + p[n] = y[1]\n",
       "        ...\n",
       "        x[k]**n * p[0] + ... + x[k] * p[n-1] + p[n] = y[k]\n",
       "\n",
       "    The coefficient matrix of the coefficients `p` is a Vandermonde matrix.\n",
       "\n",
       "    `polyfit` issues a `RankWarning` when the least-squares fit is badly\n",
       "    conditioned. This implies that the best fit is not well-defined due\n",
       "    to numerical error. The results may be improved by lowering the polynomial\n",
       "    degree or by replacing `x` by `x` - `x`.mean(). The `rcond` parameter\n",
       "    can also be set to a value smaller than its default, but the resulting\n",
       "    fit may be spurious: including contributions from the small singular\n",
       "    values can add numerical noise to the result.\n",
       "\n",
       "    Note that fitting polynomial coefficients is inherently badly conditioned\n",
       "    when the degree of the polynomial is large or the interval of sample points\n",
       "    is badly centered. The quality of the fit should always be checked in these\n",
       "    cases. When polynomial fits are not satisfactory, splines may be a good\n",
       "    alternative.\n",
       "\n",
       "    References\n",
       "    ----------\n",
       "    .. [1] Wikipedia, \"Curve fitting\",\n",
       "           https://en.wikipedia.org/wiki/Curve_fitting\n",
       "    .. [2] Wikipedia, \"Polynomial interpolation\",\n",
       "           https://en.wikipedia.org/wiki/Polynomial_interpolation\n",
       "\n",
       "    Examples\n",
       "    --------\n",
       "    >>> x = np.array([0.0, 1.0, 2.0, 3.0,  4.0,  5.0])\n",
       "    >>> y = np.array([0.0, 0.8, 0.9, 0.1, -0.8, -1.0])\n",
       "    >>> z = np.polyfit(x, y, 3)\n",
       "    >>> z\n",
       "    array([ 0.08703704, -0.81349206,  1.69312169, -0.03968254])\n",
       "\n",
       "    It is convenient to use `poly1d` objects for dealing with polynomials:\n",
       "\n",
       "    >>> p = np.poly1d(z)\n",
       "    >>> p(0.5)\n",
       "    0.6143849206349179\n",
       "    >>> p(3.5)\n",
       "    -0.34732142857143039\n",
       "    >>> p(10)\n",
       "    22.579365079365115\n",
       "\n",
       "    High-order polynomials may oscillate wildly:\n",
       "\n",
       "    >>> p30 = np.poly1d(np.polyfit(x, y, 30))\n",
       "    /... RankWarning: Polyfit may be poorly conditioned...\n",
       "    >>> p30(4)\n",
       "    -0.80000000000000204\n",
       "    >>> p30(5)\n",
       "    -0.99999999999999445\n",
       "    >>> p30(4.5)\n",
       "    -0.10547061179440398\n",
       "\n",
       "    Illustration:\n",
       "\n",
       "    >>> import matplotlib.pyplot as plt\n",
       "    >>> xp = np.linspace(-2, 6, 100)\n",
       "    >>> _ = plt.plot(x, y, '.', xp, p(xp), '-', xp, p30(xp), '--')\n",
       "    >>> plt.ylim(-2,2)\n",
       "    (-2, 2)\n",
       "    >>> plt.show()\n",
       "\n",
       "    "
      ]
     },
     "execution_count": 128,
     "metadata": {},
     "output_type": "execute_result"
    }
   ],
   "source": [
    "?np.polyfit"
   ]
  },
  {
   "cell_type": "code",
   "execution_count": null,
   "metadata": {},
   "outputs": [],
   "source": [
    "import Pkg\n",
    "Pkg.add(\"scipy\")"
   ]
  },
  {
   "cell_type": "code",
   "execution_count": null,
   "metadata": {},
   "outputs": [],
   "source": []
  }
 ],
 "metadata": {
  "kernelspec": {
   "display_name": "Julia 1.2.0",
   "language": "julia",
   "name": "julia-1.2"
  },
  "language_info": {
   "file_extension": ".jl",
   "mimetype": "application/julia",
   "name": "julia",
   "version": "1.2.0"
  }
 },
 "nbformat": 4,
 "nbformat_minor": 4
}
