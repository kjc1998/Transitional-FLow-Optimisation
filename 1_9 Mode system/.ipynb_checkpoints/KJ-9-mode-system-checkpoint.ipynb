{
 "cells": [
  {
   "cell_type": "code",
   "execution_count": 1,
   "metadata": {},
   "outputs": [
    {
     "name": "stderr",
     "output_type": "stream",
     "text": [
      "┌ Info: Recompiling stale cache file C:\\Users\\Kaijie\\.julia\\compiled\\v1.2\\ToySystems\\chsON.ji for ToySystems [53c88820-6eff-5a8c-9a74-badd815e7be1]\n",
      "└ @ Base loading.jl:1240\n",
      "┌ Warning: Package ToySystems does not have Flows in its dependencies:\n",
      "│ - If you have ToySystems checked out for development and have\n",
      "│   added Flows as a dependency but haven't updated your primary\n",
      "│   environment's manifest file, try `Pkg.resolve()`.\n",
      "│ - Otherwise you may need to report an issue with ToySystems\n",
      "└ Loading Flows into ToySystems from project dependency, future warnings for ToySystems are suppressed.\n"
     ]
    },
    {
     "data": {
      "text/plain": [
       "true"
      ]
     },
     "execution_count": 1,
     "metadata": {},
     "output_type": "execute_result"
    }
   ],
   "source": [
    "using Flows\n",
    "using ToySystems\n",
    "using ToySystems.NineModeSystemEq\n",
    "using Optim\n",
    "using PyPlot; pygui(true)"
   ]
  },
  {
   "cell_type": "code",
   "execution_count": 3,
   "metadata": {},
   "outputs": [
    {
     "data": {
      "text/plain": [
       "1-element Array{PyCall.PyObject,1}:\n",
       " PyObject <matplotlib.lines.Line2D object at 0x00000000371D1BE0>"
      ]
     },
     "execution_count": 3,
     "metadata": {},
     "output_type": "execute_result"
    }
   ],
   "source": [
    "u0 = rand(9)\n",
    "u0_local = copy(u0)\n",
    "f  = NineModeSystem(300)\n",
    "\n",
    "# objfun(u::AbstractVector) = (u[1] - 1)^2 + sum(u[i]^2 for i = 2:9)\n",
    "\n",
    "# function objfun(t, u, dudt, I, dIdt)\n",
    "#     return dIdt[1] = (u[1] - 1)^2 + sum(u[i]^2 for i = 2:9)\n",
    "# end\n",
    "\n",
    "# function objfun(xq::Coupled)\n",
    "#     return objfun(xq[1])\n",
    "# end\n",
    "\n",
    "ϕ = flow(f, RK4(zeros(9)), TimeStepConstant(0.5))\n",
    "I0 = Float64[0.0]\n",
    "mon = Monitor(zeros(9), copy)\n",
    "ϕ(u0_local, (0, 10000), reset!(mon))\n",
    "#I0/10000\n",
    "# I1 = Float64[0]\n",
    "# @time ϕ(couple(u0_local, I1), (0, 10000), reset!(mon))\n",
    "\n",
    "# times(mon)\n",
    "a1 = [samples(mon)[i][1] for i = 1:length(samples(mon))]\n",
    "a2 = [samples(mon)[i][2] for i = 1:length(samples(mon))]\n",
    "a3 = [samples(mon)[i][3] for i = 1:length(samples(mon))]\n",
    "a4 = [samples(mon)[i][4] for i = 1:length(samples(mon))]\n",
    "a5 = [samples(mon)[i][5] for i = 1:length(samples(mon))]\n",
    "a6 = [samples(mon)[i][6] for i = 1:length(samples(mon))]\n",
    "a7 = [samples(mon)[i][7] for i = 1:length(samples(mon))]\n",
    "a8 = [samples(mon)[i][8] for i = 1:length(samples(mon))]\n",
    "a9 = [samples(mon)[i][9] for i = 1:length(samples(mon))];\n",
    "compile = [a1,a2,a3,a4,a5,a6,a7,a8,a9]\n",
    "\n",
    "plot(times(mon), a1)"
   ]
  },
  {
   "cell_type": "code",
   "execution_count": 4,
   "metadata": {},
   "outputs": [],
   "source": [
    "for i in 1:9\n",
    "    y = compile[i]\n",
    "    fig, ax = plt.subplots()\n",
    "    ax.plot(times(mon), y, Label = \"a$i\")\n",
    "    ax.legend()\n",
    "end"
   ]
  },
  {
   "cell_type": "code",
   "execution_count": 50,
   "metadata": {},
   "outputs": [],
   "source": []
  },
  {
   "cell_type": "code",
   "execution_count": 3,
   "metadata": {},
   "outputs": [
    {
     "data": {
      "text/plain": [
       "10001-element Array{Float64,1}:\n",
       " 10000.0\n",
       " 10001.0\n",
       " 10002.0\n",
       " 10003.0\n",
       " 10004.0\n",
       " 10005.0\n",
       " 10006.0\n",
       " 10007.0\n",
       " 10008.0\n",
       " 10009.0\n",
       " 10010.0\n",
       " 10011.0\n",
       " 10012.0\n",
       "     ⋮  \n",
       " 19989.0\n",
       " 19990.0\n",
       " 19991.0\n",
       " 19992.0\n",
       " 19993.0\n",
       " 19994.0\n",
       " 19995.0\n",
       " 19996.0\n",
       " 19997.0\n",
       " 19998.0\n",
       " 19999.0\n",
       " 20000.0"
      ]
     },
     "execution_count": 3,
     "metadata": {},
     "output_type": "execute_result"
    }
   ],
   "source": [
    "# # figure(1)\n",
    "# # clf()\n",
    "\n",
    "# # a1 = times(mon)\n",
    "# # a2 = samples(mon)\n",
    "# # a3 = filter(x-> (x < 0.3), a2)\n",
    "# # # searchsortedfirst(a2,a3[1])\n",
    "# # searchsortedfirst([1, 2, 4, 5, 5, 7], 9)\n",
    "# # length(a1)\n",
    "# aw = filter(x-> (x<2),[1,2,3,4,5,6,7])\n",
    "# aw\n",
    "# # samples(mon)[1]\n",
    "# # plot(times(mon), samples(mon))\n",
    "# # xlabel(L\"t\")\n",
    "# # ylabel(L\"a_1(t)\")\n",
    "u0_local = copy(u0)\n",
    "I0 = Float64[0.0]\n",
    "ϕ(couple(u0_local, I0), (10000,20000), reset!(mon))\n",
    "#I0/10000\n",
    "# I1 = Float64[0]\n",
    "# @time ϕ(couple(u0_local, I1), (0, 10000), reset!(mon))\n",
    "\n",
    "times(mon)\n",
    "# samples(mon)"
   ]
  },
  {
   "cell_type": "code",
   "execution_count": 4,
   "metadata": {},
   "outputs": [
    {
     "data": {
      "text/plain": [
       "2.0"
      ]
     },
     "execution_count": 4,
     "metadata": {},
     "output_type": "execute_result"
    }
   ],
   "source": [
    "ϕ = flow(couple(f, objfun), RK4(couple(zeros(9), zeros(1))), TimeStepConstant(1))\n",
    "I0 = Float64[0.0]\n",
    "mon = Monitor(couple(zeros(9), zeros(1)), objfun)\n",
    "ϕ(couple(u0_local, I0), (500, 10000), reset!(mon))\n",
    "# #I0/10000\n",
    "\n",
    "# I1 = Float64[0]\n",
    "# @time ϕ(couple(u0_local, I1), (0, 10000), reset!(mon))\n",
    "\n",
    "# times(mon)\n",
    "samples(mon)\n",
    "round(2.5)"
   ]
  },
  {
   "cell_type": "code",
   "execution_count": 8,
   "metadata": {},
   "outputs": [
    {
     "ename": "MethodError",
     "evalue": "MethodError: no method matching _propagate!(::RK4{Array{Float64,1},Flows.NormalMode,NTuple{5,Array{Float64,1}}}, ::TimeStepConstant, ::Flows.System{1,CallDependency{1,((1,),)}(),NineModeSystem,Nothing}, ::Tuple{Float64,Float64}, ::Coupled{2,Tuple{Array{Float64,1},Array{Float64,1}}}, ::Nothing, ::Nothing, ::Monitor{Float64,Coupled{2,Tuple{Array{Float64,1},Array{Float64,1}}},RAMStorage{Float64,Coupled{2,Tuple{Array{Float64,1},Array{Float64,1}}},3,Array{Float64,1},Array{Coupled{2,Tuple{Array{Float64,1},Array{Float64,1}}},1}},typeof(copy)})\nClosest candidates are:\n  _propagate!(::Flows.AbstractMethod{Z,Flows.NormalMode,NS} where NS, ::TimeStepConstant, ::Flows.System, ::Tuple{Real,Real}, !Matched::Z, ::C<:Union{Nothing, AbstractStageCache}, ::S<:Union{Nothing, AbstractStorage}, ::M<:Union{Nothing, Flows.AbstractMonitor}) where {Z, S<:Union{Nothing, AbstractStorage}, M<:Union{Nothing, Flows.AbstractMonitor}, C<:Union{Nothing, AbstractStageCache}} at C:\\Users\\Kaijie\\.julia\\packages\\Flows\\brO3V\\src\\integrator.jl:192\n  _propagate!(::Flows.AbstractMethod{Z,MODE<:Flows.NormalMode,NS} where NS, !Matched::AbstractTimeStepFromHook, ::Flows.System, ::Tuple{Real,Real}, !Matched::Z, ::C<:Union{Nothing, AbstractStageCache}, ::S<:Union{Nothing, AbstractStorage}, ::M<:Union{Nothing, Flows.AbstractMonitor}) where {Z, MODE<:Flows.NormalMode, S<:Union{Nothing, AbstractStorage}, M<:Union{Nothing, Flows.AbstractMonitor}, C<:Union{Nothing, AbstractStageCache}} at C:\\Users\\Kaijie\\.julia\\packages\\Flows\\brO3V\\src\\integrator.jl:253\n  _propagate!(!Matched::Flows.AbstractMethod{Z,MODE<:ContinuousMode,NS} where NS, !Matched::TimeStepFromStorage, ::Flows.System, ::Tuple{Any,Any}, ::Z, !Matched::AbstractStorage, ::M<:Union{Nothing, Flows.AbstractMonitor}) where {Z, MODE<:ContinuousMode, M<:Union{Nothing, Flows.AbstractMonitor}} at C:\\Users\\Kaijie\\.julia\\packages\\Flows\\brO3V\\src\\integrator.jl:351\n  ...",
     "output_type": "error",
     "traceback": [
      "MethodError: no method matching _propagate!(::RK4{Array{Float64,1},Flows.NormalMode,NTuple{5,Array{Float64,1}}}, ::TimeStepConstant, ::Flows.System{1,CallDependency{1,((1,),)}(),NineModeSystem,Nothing}, ::Tuple{Float64,Float64}, ::Coupled{2,Tuple{Array{Float64,1},Array{Float64,1}}}, ::Nothing, ::Nothing, ::Monitor{Float64,Coupled{2,Tuple{Array{Float64,1},Array{Float64,1}}},RAMStorage{Float64,Coupled{2,Tuple{Array{Float64,1},Array{Float64,1}}},3,Array{Float64,1},Array{Coupled{2,Tuple{Array{Float64,1},Array{Float64,1}}},1}},typeof(copy)})\nClosest candidates are:\n  _propagate!(::Flows.AbstractMethod{Z,Flows.NormalMode,NS} where NS, ::TimeStepConstant, ::Flows.System, ::Tuple{Real,Real}, !Matched::Z, ::C<:Union{Nothing, AbstractStageCache}, ::S<:Union{Nothing, AbstractStorage}, ::M<:Union{Nothing, Flows.AbstractMonitor}) where {Z, S<:Union{Nothing, AbstractStorage}, M<:Union{Nothing, Flows.AbstractMonitor}, C<:Union{Nothing, AbstractStageCache}} at C:\\Users\\Kaijie\\.julia\\packages\\Flows\\brO3V\\src\\integrator.jl:192\n  _propagate!(::Flows.AbstractMethod{Z,MODE<:Flows.NormalMode,NS} where NS, !Matched::AbstractTimeStepFromHook, ::Flows.System, ::Tuple{Real,Real}, !Matched::Z, ::C<:Union{Nothing, AbstractStageCache}, ::S<:Union{Nothing, AbstractStorage}, ::M<:Union{Nothing, Flows.AbstractMonitor}) where {Z, MODE<:Flows.NormalMode, S<:Union{Nothing, AbstractStorage}, M<:Union{Nothing, Flows.AbstractMonitor}, C<:Union{Nothing, AbstractStageCache}} at C:\\Users\\Kaijie\\.julia\\packages\\Flows\\brO3V\\src\\integrator.jl:253\n  _propagate!(!Matched::Flows.AbstractMethod{Z,MODE<:ContinuousMode,NS} where NS, !Matched::TimeStepFromStorage, ::Flows.System, ::Tuple{Any,Any}, ::Z, !Matched::AbstractStorage, ::M<:Union{Nothing, Flows.AbstractMonitor}) where {Z, MODE<:ContinuousMode, M<:Union{Nothing, Flows.AbstractMonitor}} at C:\\Users\\Kaijie\\.julia\\packages\\Flows\\brO3V\\src\\integrator.jl:351\n  ...",
      "",
      "Stacktrace:",
      " [1] (::Flows.Flow{TimeStepConstant,RK4{Array{Float64,1},Flows.NormalMode,NTuple{5,Array{Float64,1}}},Flows.System{1,CallDependency{1,((1,),)}(),NineModeSystem,Nothing}})(::Coupled{2,Tuple{Array{Float64,1},Array{Float64,1}}}, ::Tuple{Int64,Int64}, ::Monitor{Float64,Coupled{2,Tuple{Array{Float64,1},Array{Float64,1}}},RAMStorage{Float64,Coupled{2,Tuple{Array{Float64,1},Array{Float64,1}}},3,Array{Float64,1},Array{Coupled{2,Tuple{Array{Float64,1},Array{Float64,1}}},1}},typeof(copy)}) at C:\\Users\\Kaijie\\.julia\\packages\\Flows\\brO3V\\src\\integrator.jl:102",
      " [2] top-level scope at In[8]:30"
     ]
    }
   ],
   "source": [
    "include(\"9msctrl.jl\")\n",
    "\n",
    "ts = 0:1:500\n",
    "ηs = sin.(ts)\n",
    "u    = rand(9)\n",
    "dudt = zeros(9)\n",
    "\n",
    "function firstel(u::AbstractVector)\n",
    "    return u[1]\n",
    "end\n",
    "\n",
    "function firstel(t, u, dudt, I, dIdt)\n",
    "    return dIdt[1] = firstel(u)\n",
    "end\n",
    "\n",
    "function firstel(xq::Coupled)\n",
    "    return firstel(xq[1])\n",
    "end\n",
    "\n",
    "\n",
    "f = NineModeSystemCTRL(100, ts, ηs)\n",
    "#f(0.4, u, dudt)\n",
    "F = flow(couple(f, firstel), RK4(couple(zeros(9), zeros(1))), TimeStepConstant(1))\n",
    "I0 = Float64[0.0]\n",
    "# F(couple(u,I0), (0, 100))\n",
    "\n",
    "mon = Monitor(couple(zeros(9), zeros(1)), firstel)\n",
    "times(mon)\n",
    "samples(mon)\n",
    "u0_local = copy(u)\n",
    "# I0 = Float64[0]\n",
    "F(couple(u0_local, I0), (0, 100), reset!(mon))\n",
    "\n",
    "# figure(1)\n",
    "# clf()\n",
    "\n",
    "plot(times(mon), samples(mon))\n",
    "xlabel(L\"t\")\n",
    "ylabel(L\"a_1(t)\")"
   ]
  },
  {
   "cell_type": "code",
   "execution_count": 4,
   "metadata": {},
   "outputs": [],
   "source": [
    "# f  = NineModeSystem(1000)\n",
    "# objfun(u::AbstractVector) = (u[1] - 1)^2 + sum(u[i]^2 for i = 2:9)\n",
    "\n",
    "# function objfun(t, u, dudt, I, dIdt)\n",
    "#     return dIdt[1] = objfun(u)\n",
    "# end\n",
    "\n",
    "# function objfun(xq::Coupled)\n",
    "#     return objfun(xq[1])\n",
    "# end"
   ]
  },
  {
   "cell_type": "code",
   "execution_count": 5,
   "metadata": {},
   "outputs": [],
   "source": [
    "# ϕ = flow(couple(f, objfun), RK4(couple(zeros(9), zeros(1))), TimeStepConstant(1));"
   ]
  },
  {
   "cell_type": "code",
   "execution_count": 102,
   "metadata": {},
   "outputs": [
    {
     "data": {
      "text/plain": [
       "1-element Array{Float64,1}:\n",
       " 0.0"
      ]
     },
     "execution_count": 102,
     "metadata": {},
     "output_type": "execute_result"
    }
   ],
   "source": [
    "# I0 = Float64[0.0]"
   ]
  },
  {
   "cell_type": "code",
   "execution_count": 103,
   "metadata": {},
   "outputs": [
    {
     "data": {
      "text/plain": [
       "2-element Coupled{2,Tuple{Array{Float64,1},Array{Float64,1}}}:\n",
       " [0.1610779955023046, 0.03322620843186161, -0.09322022365335259, -0.09954904249354425, -0.130850939521033, 0.01577832366218449, -0.03536056042512546, -0.04701700007057977, -0.11417154640561966]\n",
       " [7933.0637234252445]                                                                                                                                                                            "
      ]
     },
     "execution_count": 103,
     "metadata": {},
     "output_type": "execute_result"
    }
   ],
   "source": [
    "# ϕ(couple(u0, I0), (0, 10000))"
   ]
  },
  {
   "cell_type": "code",
   "execution_count": 104,
   "metadata": {},
   "outputs": [
    {
     "data": {
      "text/plain": [
       "1-element Array{Float64,1}:\n",
       " 0.7933063723425244"
      ]
     },
     "execution_count": 104,
     "metadata": {},
     "output_type": "execute_result"
    }
   ],
   "source": [
    "# I0/10000"
   ]
  },
  {
   "cell_type": "code",
   "execution_count": 105,
   "metadata": {},
   "outputs": [
    {
     "data": {
      "text/plain": [
       "firstel (generic function with 1 method)"
      ]
     },
     "execution_count": 105,
     "metadata": {},
     "output_type": "execute_result"
    }
   ],
   "source": []
  },
  {
   "cell_type": "code",
   "execution_count": 107,
   "metadata": {},
   "outputs": [
    {
     "data": {
      "text/plain": [
       "Monitor{Float64,Float64,RAMStorage{Float64,Float64,3,Array{Float64,1},Array{Float64,1}},typeof(objfun)}(RAMStorage{Float64,Float64,3,Array{Float64,1},Array{Float64,1}}(Float64[], Float64[], true, 0.0), objfun, 1, (-Inf, Inf), 0, false)"
      ]
     },
     "execution_count": 107,
     "metadata": {},
     "output_type": "execute_result"
    }
   ],
   "source": [
    "# mon = Monitor(couple(zeros(9), zeros(1)), objfun)"
   ]
  },
  {
   "cell_type": "code",
   "execution_count": 108,
   "metadata": {},
   "outputs": [
    {
     "name": "stdout",
     "output_type": "stream",
     "text": [
      "  0.139146 seconds (209.98 k allocations: 7.955 MiB)\n"
     ]
    },
    {
     "data": {
      "text/plain": [
       "2-element Coupled{2,Tuple{Array{Float64,1},Array{Float64,1}}}:\n",
       " [0.13523392628156927, -0.0401165593842505, 0.019700436517505943, -0.013035132733453622, -0.028978014222952934, -0.08123509331378291, -0.015102578691530928, -0.025394043619938085, -0.0857070217754119]\n",
       " [7466.978881567882]                                                                                                                                                                                    "
      ]
     },
     "execution_count": 108,
     "metadata": {},
     "output_type": "execute_result"
    }
   ],
   "source": [
    "# I0 = Float64[0]\n",
    "# @time ϕ(couple(u0, I0), (0, 10000), reset!(mon))"
   ]
  },
  {
   "cell_type": "code",
   "execution_count": 109,
   "metadata": {},
   "outputs": [
    {
     "data": {
      "text/plain": [
       "10001-element Array{Float64,1}:\n",
       "     0.0\n",
       "     1.0\n",
       "     2.0\n",
       "     3.0\n",
       "     4.0\n",
       "     5.0\n",
       "     6.0\n",
       "     7.0\n",
       "     8.0\n",
       "     9.0\n",
       "    10.0\n",
       "    11.0\n",
       "    12.0\n",
       "     ⋮  \n",
       "  9989.0\n",
       "  9990.0\n",
       "  9991.0\n",
       "  9992.0\n",
       "  9993.0\n",
       "  9994.0\n",
       "  9995.0\n",
       "  9996.0\n",
       "  9997.0\n",
       "  9998.0\n",
       "  9999.0\n",
       " 10000.0"
      ]
     },
     "execution_count": 109,
     "metadata": {},
     "output_type": "execute_result"
    }
   ],
   "source": [
    "# times(mon)"
   ]
  },
  {
   "cell_type": "code",
   "execution_count": 110,
   "metadata": {},
   "outputs": [
    {
     "data": {
      "text/plain": [
       "10001-element Array{Float64,1}:\n",
       " 0.7573611659255434\n",
       " 0.7582694786867785\n",
       " 0.7598376490347148\n",
       " 0.7621249986119982\n",
       " 0.7651551843509019\n",
       " 0.7689161294470017\n",
       " 0.7733617660458608\n",
       " 0.7784152697637036\n",
       " 0.7839734032033591\n",
       " 0.7899115743014833\n",
       " 0.7960892482870168\n",
       " 0.8023554169100686\n",
       " 0.8085539105079947\n",
       " ⋮                 \n",
       " 0.7513219569631612\n",
       " 0.7521736377113729\n",
       " 0.7531402131365093\n",
       " 0.754213494683785 \n",
       " 0.755385245292255 \n",
       " 0.7566471886317493\n",
       " 0.7579910146340451\n",
       " 0.7594083816982174\n",
       " 0.7608909160269247\n",
       " 0.7624302086233933\n",
       " 0.764017810546833 \n",
       " 0.7656452270857004"
      ]
     },
     "execution_count": 110,
     "metadata": {},
     "output_type": "execute_result"
    }
   ],
   "source": [
    "# samples(mon)"
   ]
  },
  {
   "cell_type": "code",
   "execution_count": 111,
   "metadata": {},
   "outputs": [
    {
     "data": {
      "text/plain": [
       "PyObject Text(42.722222222222214, 0.5, '$a_1(t)$')"
      ]
     },
     "execution_count": 111,
     "metadata": {},
     "output_type": "execute_result"
    }
   ],
   "source": [
    "# figure(1)\n",
    "# clf()\n",
    "\n",
    "# plot(times(mon), samples(mon))\n",
    "# xlabel(L\"t\")\n",
    "# ylabel(L\"a_1(t)\")"
   ]
  },
  {
   "cell_type": "code",
   "execution_count": 116,
   "metadata": {},
   "outputs": [
    {
     "name": "stdout",
     "output_type": "stream",
     "text": [
      "  0.081859 seconds (95.97 k allocations: 4.379 MiB)\n"
     ]
    },
    {
     "data": {
      "text/plain": [
       "PyObject Text(42.597222222222214, 0.5, '$a_1(t)$')"
      ]
     },
     "execution_count": 116,
     "metadata": {},
     "output_type": "execute_result"
    }
   ],
   "source": []
  },
  {
   "cell_type": "code",
   "execution_count": 113,
   "metadata": {},
   "outputs": [
    {
     "name": "stdout",
     "output_type": "stream",
     "text": [
      "  0.134100 seconds (95.97 k allocations: 4.379 MiB, 4.25% gc time)\n"
     ]
    },
    {
     "data": {
      "text/plain": [
       "PyObject Text(42.597222222222214, 0.5, '$a_1(t)$')"
      ]
     },
     "execution_count": 113,
     "metadata": {},
     "output_type": "execute_result"
    }
   ],
   "source": []
  },
  {
   "cell_type": "code",
   "execution_count": 11,
   "metadata": {},
   "outputs": [
    {
     "data": {
      "text/plain": [
       "7.38905609893065"
      ]
     },
     "execution_count": 11,
     "metadata": {},
     "output_type": "execute_result"
    }
   ],
   "source": [
    "exp(2)"
   ]
  },
  {
   "cell_type": "code",
   "execution_count": 12,
   "metadata": {},
   "outputs": [
    {
     "data": {
      "text/plain": [
       "2.718281828459045"
      ]
     },
     "execution_count": 12,
     "metadata": {},
     "output_type": "execute_result"
    }
   ],
   "source": [
    "exp(1)"
   ]
  },
  {
   "cell_type": "code",
   "execution_count": 13,
   "metadata": {},
   "outputs": [
    {
     "data": {
      "text/plain": [
       "3-element Array{Int64,1}:\n",
       " 1\n",
       " 2\n",
       " 3"
      ]
     },
     "execution_count": 13,
     "metadata": {},
     "output_type": "execute_result"
    }
   ],
   "source": [
    "t = [1;2;3]"
   ]
  },
  {
   "cell_type": "code",
   "execution_count": 14,
   "metadata": {},
   "outputs": [
    {
     "data": {
      "text/plain": [
       "3-element Array{Float64,1}:\n",
       "  7.38905609893065\n",
       " 14.7781121978613 \n",
       " 22.16716829679195"
      ]
     },
     "execution_count": 14,
     "metadata": {},
     "output_type": "execute_result"
    }
   ],
   "source": [
    "exp(2)*t"
   ]
  },
  {
   "cell_type": "code",
   "execution_count": null,
   "metadata": {},
   "outputs": [],
   "source": []
  }
 ],
 "metadata": {
  "kernelspec": {
   "display_name": "Julia 1.2.0",
   "language": "julia",
   "name": "julia-1.2"
  },
  "language_info": {
   "file_extension": ".jl",
   "mimetype": "application/julia",
   "name": "julia",
   "version": "1.2.0"
  }
 },
 "nbformat": 4,
 "nbformat_minor": 4
}
