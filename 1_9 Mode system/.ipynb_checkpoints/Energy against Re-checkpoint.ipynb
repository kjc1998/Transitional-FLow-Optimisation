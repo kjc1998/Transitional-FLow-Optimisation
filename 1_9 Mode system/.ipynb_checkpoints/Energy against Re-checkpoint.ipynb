{
 "cells": [
  {
   "cell_type": "code",
   "execution_count": 27,
   "metadata": {},
   "outputs": [],
   "source": [
    "using Flows\n",
    "using ToySystems\n",
    "using ToySystems.NineModeSystemEq\n",
    "using Optim\n",
    "using PyPlot; pygui(true)\n",
    "include(\"9msctrl.jl\")\n",
    "include(\"Initial condition variation.jl\")\n",
    "import LinearAlgebra: norm"
   ]
  },
  {
   "cell_type": "code",
   "execution_count": 28,
   "metadata": {},
   "outputs": [],
   "source": [
    "Re_min = 10\n",
    "Re_step = 10\n",
    "Re_max = 5000\n",
    "T     = 10000\n",
    "timestepdifference = 0.5\n",
    "\n",
    "Re = Re_min:Re_step:Re_max\n",
    "dadt = zeros(9)\n",
    "q    = zeros(9)\n",
    "dqdt = zeros(9)\n",
    "timearray = timestepdifference:timestepdifference:T\n",
    "store = RAMStorage(zeros(9))\n",
    "B = [0,0,0,0,1,0,0,0,0];"
   ]
  },
  {
   "cell_type": "code",
   "execution_count": 40,
   "metadata": {},
   "outputs": [
    {
     "data": {
      "text/plain": [
       "Energy_Graph_3D (generic function with 1 method)"
      ]
     },
     "execution_count": 40,
     "metadata": {},
     "output_type": "execute_result"
    }
   ],
   "source": [
    "function firstel(u::AbstractVector)\n",
    "    return u[1]\n",
    "end\n",
    "function firstel(t, u, dudt, I, dIdt)\n",
    "    return dIdt[1] = firstel(u)\n",
    "end\n",
    "function firstel(xq::Coupled)\n",
    "    return firstel(xq[1])\n",
    "end\n",
    "\n",
    "objfun(u::AbstractVector) = (u[1] - 1)^2 + sum(u[i]^2 for i = 2:9)\n",
    "function objfun(t, u, dudt, I, dIdt)\n",
    "    return dIdt[1] = (u[1] - 1)^2 + sum(u[i]^2 for i = 2:9)\n",
    "end\n",
    "function objfun(xq::Coupled)\n",
    "    return objfun(xq[1])\n",
    "end\n",
    "\n",
    "function Energy_Graph(u0)\n",
    "    output = zeros(length(Re))\n",
    "    for i in 1:length(Re)\n",
    "        u0_local = copy(u0)\n",
    "        f = NineModeSystem(Re[i])\n",
    "        ϕ = flow(couple(f,objfun),RK4(couple(zeros(9),zeros(1))), TimeStepConstant(timestepdifference))\n",
    "        I0 = Float64[0.0]\n",
    "        ϕ(couple(u0_local, I0), extrema(timearray))\n",
    "        output[i] = I0[1]/T\n",
    "    end\n",
    "#     magnitude = norm(u0)\n",
    "#     plot(Re, output)\n",
    "#     xlabel(L\"Re\")\n",
    "#     ylabel(L\"Objectivefunction\")\n",
    "#     legend([\"u0 = $(magnitude)\"])\n",
    "    return output\n",
    "end\n",
    "\n",
    "function Energy_Graph_3D(I)\n",
    "    output = zeros(length(Re))\n",
    "    for i in 1:length((I[1,:]))\n",
    "        LengthRe_output = Energy_Graph(I[:,i])\n",
    "        output = hcat(output,LengthRe_output)\n",
    "    end\n",
    "    output = output[:,2:end]\n",
    "    return output\n",
    "end"
   ]
  },
  {
   "cell_type": "code",
   "execution_count": null,
   "metadata": {},
   "outputs": [],
   "source": [
    "I = E_Range(E_range)\n",
    "Energy_Graph_3D(I)"
   ]
  },
  {
   "cell_type": "code",
   "execution_count": 7,
   "metadata": {},
   "outputs": [
    {
     "data": {
      "text/plain": [
       "0.5:0.01:5.0"
      ]
     },
     "execution_count": 7,
     "metadata": {},
     "output_type": "execute_result"
    }
   ],
   "source": []
  },
  {
   "cell_type": "code",
   "execution_count": null,
   "metadata": {},
   "outputs": [],
   "source": []
  }
 ],
 "metadata": {
  "kernelspec": {
   "display_name": "Julia 1.2.0",
   "language": "julia",
   "name": "julia-1.2"
  },
  "language_info": {
   "file_extension": ".jl",
   "mimetype": "application/julia",
   "name": "julia",
   "version": "1.2.0"
  }
 },
 "nbformat": 4,
 "nbformat_minor": 4
}
