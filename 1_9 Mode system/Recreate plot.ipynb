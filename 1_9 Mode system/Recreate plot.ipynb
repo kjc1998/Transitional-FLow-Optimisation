{
 "cells": [
  {
   "cell_type": "code",
   "execution_count": 1,
   "metadata": {},
   "outputs": [
    {
     "name": "stderr",
     "output_type": "stream",
     "text": [
      "┌ Info: Recompiling stale cache file C:\\Users\\Kaijie\\.julia\\compiled\\v1.2\\ToySystems\\chsON.ji for ToySystems [53c88820-6eff-5a8c-9a74-badd815e7be1]\n",
      "└ @ Base loading.jl:1240\n",
      "┌ Warning: Package ToySystems does not have Flows in its dependencies:\n",
      "│ - If you have ToySystems checked out for development and have\n",
      "│   added Flows as a dependency but haven't updated your primary\n",
      "│   environment's manifest file, try `Pkg.resolve()`.\n",
      "│ - Otherwise you may need to report an issue with ToySystems\n",
      "└ Loading Flows into ToySystems from project dependency, future warnings for ToySystems are suppressed.\n"
     ]
    },
    {
     "data": {
      "text/html": [
       "<script>\n",
       "// Immediately-invoked-function-expression to avoid global variables.\n",
       "(function() {\n",
       "    var warning_div = document.getElementById(\"webio-warning-9402709221904198101\");\n",
       "    var hide = function () {\n",
       "        var script = document.getElementById(\"webio-setup-8280806037216622786\");\n",
       "        var parent = script && script.parentElement;\n",
       "        var grandparent = parent && parent.parentElement;\n",
       "        if (grandparent) {\n",
       "            grandparent.style.display = \"none\";\n",
       "        }\n",
       "        warning_div.style.display = \"none\";\n",
       "    };\n",
       "    if (typeof Jupyter !== \"undefined\") {\n",
       "        console.log(\"WebIO detected Jupyter notebook environment.\");\n",
       "        // Jupyter notebook.\n",
       "        var extensions = (\n",
       "            Jupyter\n",
       "            && Jupyter.notebook.config.data\n",
       "            && Jupyter.notebook.config.data.load_extensions\n",
       "        );\n",
       "        if (extensions && extensions[\"webio-jupyter-notebook\"]) {\n",
       "            // Extension already loaded.\n",
       "            console.log(\"Jupyter WebIO nbextension detected; not loading ad-hoc.\");\n",
       "            hide();\n",
       "            return;\n",
       "        }\n",
       "    } else if (window.location.pathname.includes(\"/lab\")) {\n",
       "        // Guessing JupyterLa\n",
       "        console.log(\"Jupyter Lab detected; make sure the @webio/jupyter-lab-provider labextension is installed.\");\n",
       "        hide();\n",
       "        return;\n",
       "    }\n",
       "})();\n",
       "\n",
       "</script>\n",
       "<p\n",
       "    id=\"webio-warning-9402709221904198101\"\n",
       "    class=\"output_text output_stderr\"\n",
       "    style=\"padding: 1em; font-weight: bold;\"\n",
       ">\n",
       "    Unable to load WebIO. Please make sure WebIO works for your Jupyter client.\n",
       "    For troubleshooting, please see <a href=\"https://juliagizmos.github.io/WebIO.jl/latest/providers/ijulia/\">\n",
       "    the WebIO/IJulia documentation</a>.\n",
       "    <!-- TODO: link to installation docs. -->\n",
       "</p>\n"
      ],
      "text/plain": [
       "HTML{String}(\"<script>\\n// Immediately-invoked-function-expression to avoid global variables.\\n(function() {\\n    var warning_div = document.getElementById(\\\"webio-warning-9402709221904198101\\\");\\n    var hide = function () {\\n        var script = document.getElementById(\\\"webio-setup-8280806037216622786\\\");\\n        var parent = script && script.parentElement;\\n        var grandparent = parent && parent.parentElement;\\n        if (grandparent) {\\n            grandparent.style.display = \\\"none\\\";\\n        }\\n        warning_div.style.display = \\\"none\\\";\\n    };\\n    if (typeof Jupyter !== \\\"undefined\\\") {\\n        console.log(\\\"WebIO detected Jupyter notebook environment.\\\");\\n        // Jupyter notebook.\\n        var extensions = (\\n            Jupyter\\n            && Jupyter.notebook.config.data\\n            && Jupyter.notebook.config.data.load_extensions\\n        );\\n        if (extensions && extensions[\\\"webio-jupyter-notebook\\\"]) {\\n            // Extension already loaded.\\n            console.log(\\\"Jupyter WebIO nbextension detected; not loading ad-hoc.\\\");\\n            hide();\\n            return;\\n        }\\n    } else if (window.location.pathname.includes(\\\"/lab\\\")) {\\n        // Guessing JupyterLa\\n        console.log(\\\"Jupyter Lab detected; make sure the @webio/jupyter-lab-provider labextension is installed.\\\");\\n        hide();\\n        return;\\n    }\\n})();\\n\\n</script>\\n<p\\n    id=\\\"webio-warning-9402709221904198101\\\"\\n    class=\\\"output_text output_stderr\\\"\\n    style=\\\"padding: 1em; font-weight: bold;\\\"\\n>\\n    Unable to load WebIO. Please make sure WebIO works for your Jupyter client.\\n    For troubleshooting, please see <a href=\\\"https://juliagizmos.github.io/WebIO.jl/latest/providers/ijulia/\\\">\\n    the WebIO/IJulia documentation</a>.\\n    <!-- TODO: link to installation docs. -->\\n</p>\\n\")"
      ]
     },
     "metadata": {},
     "output_type": "display_data"
    }
   ],
   "source": [
    "using Flows\n",
    "using ToySystems\n",
    "using ToySystems.NineModeSystemEq\n",
    "using Optim\n",
    "using PyPlot; pygui(true)\n",
    "include(\"9msctrl.jl\")\n",
    "include(\"Initial condition variation.jl\")\n",
    "include(\"Perturbation time.jl\")\n",
    "include(\"Contour Plots.jl\")\n",
    "import LinearAlgebra: norm\n",
    "using Plotly"
   ]
  },
  {
   "cell_type": "code",
   "execution_count": 2,
   "metadata": {},
   "outputs": [
    {
     "data": {
      "text/plain": [
       "0.5"
      ]
     },
     "execution_count": 2,
     "metadata": {},
     "output_type": "execute_result"
    }
   ],
   "source": [
    "Re_min = 50\n",
    "Re_step = 2\n",
    "Re_max = 300\n",
    "T     = 10000 #or 1000\n",
    "timestepdifference = 0.5"
   ]
  },
  {
   "cell_type": "code",
   "execution_count": 3,
   "metadata": {},
   "outputs": [],
   "source": [
    "Re = Re_min:Re_step:Re_max\n",
    "dadt = zeros(9)\n",
    "q    = zeros(9)\n",
    "dqdt = zeros(9)\n",
    "timearray = timestepdifference:timestepdifference:T\n",
    "store = RAMStorage(zeros(9))\n",
    "B = [0,0,0,0,1,0,0,0,0];"
   ]
  },
  {
   "cell_type": "code",
   "execution_count": 4,
   "metadata": {},
   "outputs": [
    {
     "data": {
      "text/plain": [
       "Array_time (generic function with 1 method)"
      ]
     },
     "execution_count": 4,
     "metadata": {},
     "output_type": "execute_result"
    }
   ],
   "source": [
    "function Array_time(Re::AbstractVector, IE::AbstractVector)\n",
    "    Ini_Matrix = E_Range(IE)\n",
    "    Output_Mat = zeros(length(Re),length(IE))\n",
    "    for i in 1:length(Re)\n",
    "        Reynolds = Re[i]\n",
    "        for j in 1:length(Ini_Matrix[1,:])\n",
    "            Initial = Ini_Matrix[:,j]\n",
    "            Output_Mat[i,j] = P(Initial,Reynolds)\n",
    "        end\n",
    "    end\n",
    "    return Output_Mat\n",
    "end"
   ]
  },
  {
   "cell_type": "code",
   "execution_count": 5,
   "metadata": {},
   "outputs": [
    {
     "data": {
      "text/plain": [
       "126×81 Array{Float64,2}:\n",
       "  47.0    54.0    56.0     58.5    62.5  …    77.5    77.5     77.5    77.5\n",
       "  49.0    56.5    58.0     62.5    67.0       80.5    80.5     80.5    80.5\n",
       "  50.5    58.5    61.0     67.5    71.0       85.0    85.5     86.0    86.5\n",
       "  52.5    60.5    64.0     72.0    74.5       96.0    96.0     95.0    94.5\n",
       "  54.5    63.0    67.5     76.5    78.0       96.0    95.0     94.5    94.5\n",
       "  56.0    65.0    72.0     80.5    81.0  …    97.5    98.0     99.0   101.0\n",
       "  58.0    67.0    76.5     84.5    84.0      104.0   106.5    109.0   112.0\n",
       "  60.0    69.0    81.0     88.5    86.5      112.5   115.0    118.0   120.5\n",
       "  62.0    71.0    85.5     92.0    88.5      118.0   120.0    122.5   125.5\n",
       "  63.5    73.0    90.5     95.5    91.0      121.0   123.5    128.0   132.0\n",
       "  65.5    75.0    95.5     98.5    92.5  …   126.0   132.0    138.0   140.0\n",
       "  67.5    77.5   100.5    101.0    94.5      140.0   142.5    138.5   130.0\n",
       "  69.5    80.5   105.0    103.0    96.5      139.5   129.5    120.0   109.5\n",
       "   ⋮                                     ⋱                              ⋮  \n",
       " 259.5   366.5  2779.5   5689.5  2645.0      766.0  2910.5   1407.0  4268.5\n",
       " 261.5   372.5  3380.5    965.0  5733.5  …   905.0  2096.0    972.5   974.5\n",
       " 263.5   378.0   950.0    908.5   600.5     1668.0   748.5   6340.0  4991.5\n",
       " 265.5   383.5  4811.0   1297.5  2693.5      375.5  2629.0   3290.0  1769.5\n",
       " 267.0   400.5  2231.0   1031.0   648.0      730.0   907.0   3412.5  3149.5\n",
       " 269.0   421.5  3289.5   1528.5  5030.5     6722.0  4969.5    796.0   762.0\n",
       " 271.0  2784.5  7748.0   1504.5  2081.5  …  1173.5  1445.0    456.5  8236.5\n",
       " 272.5  1234.5  6547.0    789.0   994.5     3873.5  4136.0    558.0   721.0\n",
       " 274.5  5997.0  3164.5   1580.5   903.5     5855.5  3404.5    507.5   513.0\n",
       " 276.5   813.5  6937.0   2804.0  2314.5     2508.5  2425.5  10000.0  9538.0\n",
       " 278.5   457.5  4853.5  10000.0  4400.5     1585.0   740.0    722.0  2670.0\n",
       " 280.0  3819.0   739.5   1890.0  7777.0  …  2703.0   554.5   5682.0  2146.5"
      ]
     },
     "execution_count": 5,
     "metadata": {},
     "output_type": "execute_result"
    }
   ],
   "source": [
    "Z = Array_time(Re, E_range)"
   ]
  },
  {
   "cell_type": "code",
   "execution_count": 6,
   "metadata": {},
   "outputs": [
    {
     "data": {
      "text/plain": [
       "126×81 Array{Float64,2}:\n",
       "  47.0    54.0    56.0     58.5    62.5  …    77.5    77.5     77.5    77.5\n",
       "  49.0    56.5    58.0     62.5    67.0       80.5    80.5     80.5    80.5\n",
       "  50.5    58.5    61.0     67.5    71.0       85.0    85.5     86.0    86.5\n",
       "  52.5    60.5    64.0     72.0    74.5       96.0    96.0     95.0    94.5\n",
       "  54.5    63.0    67.5     76.5    78.0       96.0    95.0     94.5    94.5\n",
       "  56.0    65.0    72.0     80.5    81.0  …    97.5    98.0     99.0   101.0\n",
       "  58.0    67.0    76.5     84.5    84.0      104.0   106.5    109.0   112.0\n",
       "  60.0    69.0    81.0     88.5    86.5      112.5   115.0    118.0   120.5\n",
       "  62.0    71.0    85.5     92.0    88.5      118.0   120.0    122.5   125.5\n",
       "  63.5    73.0    90.5     95.5    91.0      121.0   123.5    128.0   132.0\n",
       "  65.5    75.0    95.5     98.5    92.5  …   126.0   132.0    138.0   140.0\n",
       "  67.5    77.5   100.5    101.0    94.5      140.0   142.5    138.5   130.0\n",
       "  69.5    80.5   105.0    103.0    96.5      139.5   129.5    120.0   109.5\n",
       "   ⋮                                     ⋱                              ⋮  \n",
       " 259.5   366.5  2779.5   5689.5  2645.0      766.0  2910.5   1407.0  4268.5\n",
       " 261.5   372.5  3380.5    965.0  5733.5  …   905.0  2096.0    972.5   974.5\n",
       " 263.5   378.0   950.0    908.5   600.5     1668.0   748.5   6340.0  4991.5\n",
       " 265.5   383.5  4811.0   1297.5  2693.5      375.5  2629.0   3290.0  1769.5\n",
       " 267.0   400.5  2231.0   1031.0   648.0      730.0   907.0   3412.5  3149.5\n",
       " 269.0   421.5  3289.5   1528.5  5030.5     6722.0  4969.5    796.0   762.0\n",
       " 271.0  2784.5  7748.0   1504.5  2081.5  …  1173.5  1445.0    456.5  8236.5\n",
       " 272.5  1234.5  6547.0    789.0   994.5     3873.5  4136.0    558.0   721.0\n",
       " 274.5  5997.0  3164.5   1580.5   903.5     5855.5  3404.5    507.5   513.0\n",
       " 276.5   813.5  6937.0   2804.0  2314.5     2508.5  2425.5  10000.0  9538.0\n",
       " 278.5   457.5  4853.5  10000.0  4400.5     1585.0   740.0    722.0  2670.0\n",
       " 280.0  3819.0   739.5   1890.0  7777.0  …  2703.0   554.5   5682.0  2146.5"
      ]
     },
     "execution_count": 6,
     "metadata": {},
     "output_type": "execute_result"
    }
   ],
   "source": [
    "Z_output = Z"
   ]
  },
  {
   "cell_type": "code",
   "execution_count": 7,
   "metadata": {},
   "outputs": [
    {
     "data": {
      "text/plain": [
       "PyObject <module 'matplotlib.pyplot' from 'C:\\\\Users\\\\Kaijie\\\\.julia\\\\conda\\\\3\\\\lib\\\\site-packages\\\\matplotlib\\\\pyplot.py'>"
      ]
     },
     "execution_count": 7,
     "metadata": {},
     "output_type": "execute_result"
    }
   ],
   "source": [
    "using PyPlot; pygui(true)\n",
    "using PyCall\n",
    "\n",
    "np = pyimport(\"numpy\")\n",
    "sc = pyimport(\"scipy\")\n",
    "plt = pyimport(\"matplotlib.pyplot\")"
   ]
  },
  {
   "cell_type": "code",
   "execution_count": 8,
   "metadata": {},
   "outputs": [
    {
     "data": {
      "text/plain": [
       "PyObject <module 'matplotlib.cm' from 'C:\\\\Users\\\\Kaijie\\\\.julia\\\\conda\\\\3\\\\lib\\\\site-packages\\\\matplotlib\\\\cm.py'>"
      ]
     },
     "execution_count": 8,
     "metadata": {},
     "output_type": "execute_result"
    }
   ],
   "source": [
    "ma = pyimport(\"numpy.ma\")\n",
    "ticker = pyimport(\"matplotlib.ticker\")\n",
    "cm = pyimport(\"matplotlib.cm\")"
   ]
  },
  {
   "cell_type": "code",
   "execution_count": 9,
   "metadata": {},
   "outputs": [],
   "source": [
    "# N = 100\n",
    "# x = np.linspace(-3.0, 3.0, N)\n",
    "# y = np.linspace(-2.0, 2.0, N)\n",
    "\n",
    "# X, Y = np.meshgrid(x, y)\n",
    "\n",
    "# Z1 = np.exp(-(X)^2 - (Y)^2)\n",
    "# Z2 = np.exp(-(X * 10)^2 - (Y * 10)^2)\n",
    "# z = Z1 + 50 * Z2\n",
    "\n",
    "# fig, ax = plt.subplots()\n",
    "# cs = ax.contourf(X, Y, z)\n",
    "# cbar = fig.colorbar(cs)\n",
    "# plt.show()\n",
    "\n",
    "X, Y = np.meshgrid(E_range, Re)\n",
    "\n",
    "Xmin,Xmax = extrema(X)\n",
    "Ymin,Ymax = extrema(Y)\n",
    "min,max = extrema(Z_output)\n",
    "clev = np.arange(0,max,500)\n",
    "# lev_exp = np.arange(np.floor(np.log10(min)-1),np.ceil(np.log10(max)+1))\n",
    "# levs = np.power(2, lev_exp)\n",
    "fig, ax = plt.subplots()\n",
    "cs = plt.contourf(X, Y, Z, clev, cmap=plt.cm.coolwarm)\n",
    "cbar = fig.colorbar(cs)\n",
    "plt.show()"
   ]
  },
  {
   "cell_type": "code",
   "execution_count": null,
   "metadata": {},
   "outputs": [],
   "source": [
    "X, Y = np.meshgrid(E_range, Re)\n",
    "\n",
    "Xmin,Xmax = extrema(X)\n",
    "Ymin,Ymax = extrema(Y)\n",
    "min,max = extrema(Z_output)\n",
    "clev = np.arange(min,max,0.1)\n",
    "# lev_exp = np.arange(np.floor(np.log10(min)-1),np.ceil(np.log10(max)+1))\n",
    "# levs = np.power(2, lev_exp)\n",
    "fig, ax = plt.subplots()\n",
    "cs = plt.contourf(X, Y, Z, clev, cmap=plt.cm.coolwarm)\n",
    "cbar = fig.colorbar(cs)\n",
    "plt.show()"
   ]
  },
  {
   "cell_type": "code",
   "execution_count": 10,
   "metadata": {},
   "outputs": [],
   "source": [
    "plt.imshow(Z_output, cmap=plt.cm.coolwarm, origin=\"lower\")\n",
    "plt.show()"
   ]
  },
  {
   "cell_type": "code",
   "execution_count": null,
   "metadata": {},
   "outputs": [],
   "source": []
  }
 ],
 "metadata": {
  "kernelspec": {
   "display_name": "Julia 1.2.0",
   "language": "julia",
   "name": "julia-1.2"
  },
  "language_info": {
   "file_extension": ".jl",
   "mimetype": "application/julia",
   "name": "julia",
   "version": "1.2.0"
  }
 },
 "nbformat": 4,
 "nbformat_minor": 4
}
