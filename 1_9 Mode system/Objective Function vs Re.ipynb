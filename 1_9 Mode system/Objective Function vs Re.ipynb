{
 "cells": [
  {
   "cell_type": "code",
   "execution_count": 1,
   "metadata": {},
   "outputs": [
    {
     "name": "stderr",
     "output_type": "stream",
     "text": [
      "┌ Info: Recompiling stale cache file C:\\Users\\User\\.julia\\compiled\\v1.2\\ToySystems\\chsON.ji for ToySystems [53c88820-6eff-5a8c-9a74-badd815e7be1]\n",
      "└ @ Base loading.jl:1240\n",
      "┌ Warning: Package ToySystems does not have Flows in its dependencies:\n",
      "│ - If you have ToySystems checked out for development and have\n",
      "│   added Flows as a dependency but haven't updated your primary\n",
      "│   environment's manifest file, try `Pkg.resolve()`.\n",
      "│ - Otherwise you may need to report an issue with ToySystems\n",
      "└ Loading Flows into ToySystems from project dependency, future warnings for ToySystems are suppressed.\n"
     ]
    }
   ],
   "source": [
    "using Flows\n",
    "using ToySystems\n",
    "using ToySystems.NineModeSystemEq\n",
    "using Optim\n",
    "using PyPlot; pygui(true)\n",
    "include(\"9msctrl.jl\")\n",
    "include(\"Initial condition variation.jl\")\n",
    "include(\"Perturbation time.jl\")\n",
    "import LinearAlgebra: norm\n",
    "using PyCall\n",
    "plt = pyimport(\"matplotlib.pyplot\");"
   ]
  },
  {
   "cell_type": "code",
   "execution_count": 2,
   "metadata": {},
   "outputs": [
    {
     "data": {
      "text/plain": [
       "PlotobjRe (generic function with 1 method)"
      ]
     },
     "execution_count": 2,
     "metadata": {},
     "output_type": "execute_result"
    }
   ],
   "source": [
    "timestepdifference = 0.5\n",
    "T = 10000\n",
    "\n",
    "objfun(u::AbstractVector) = (u[1] - 1)^2 + sum(u[i]^2 for i = 2:9)\n",
    "function objfun(t, u, dudt, I, dIdt)\n",
    "    return dIdt[1] = (u[1] - 1)^2 + sum(u[i]^2 for i = 2:9)\n",
    "end\n",
    "function objfun(xq::Coupled)\n",
    "    return objfun(xq[1])\n",
    "end\n",
    "\n",
    "function PlotobjRe(u0::AbstractVector,Re::AbstractVector)\n",
    "    output = zeros(length(Re))\n",
    "    for i in 1:length(Re)\n",
    "        u0_local = copy(u0)\n",
    "        I0 = Float64[0.0]\n",
    "        Reynolds = Re[i]\n",
    "        \n",
    "        f  = NineModeSystem(Reynolds)\n",
    "        ϕ = flow(couple(f, objfun), RK4(couple(zeros(9), zeros(1))), TimeStepConstant(timestepdifference))\n",
    "        mon = Monitor(couple(zeros(9), zeros(1)), objfun)\n",
    "        ϕ(couple(u0_local, I0), (0, T), reset!(mon))\n",
    "        \n",
    "        output[i] = I0[1]/T\n",
    "    end\n",
    "#     PyPlot.plot(Re,output)\n",
    "#     xlabel(L\"Re\")\n",
    "#     ylabel(L\"J(t)\")\n",
    "    return output\n",
    "end"
   ]
  },
  {
   "cell_type": "code",
   "execution_count": 3,
   "metadata": {},
   "outputs": [
    {
     "data": {
      "text/plain": [
       "1-element Array{PyObject,1}:\n",
       " PyObject <matplotlib.lines.Line2D object at 0x0000000047A1FD08>"
      ]
     },
     "execution_count": 3,
     "metadata": {},
     "output_type": "execute_result"
    }
   ],
   "source": [
    "num = 50\n",
    "Re_range = 10:10:900\n",
    "Real_output = []\n",
    "fig,ax = plt.subplots()\n",
    "for i in 1:num\n",
    "    u0 = rand(9)\n",
    "    y_output = PlotobjRe(u0, Re_range)\n",
    "    Real_output = push!(Real_output, y_output)\n",
    "    ax.plot(Re_range, y_output, color = \"grey\", linestyle=\"dashed\",linewidth = 0.05)\n",
    "end\n",
    "Averaged_output = sum(Real_output)./length(Real_output)\n",
    "ax.plot(Re_range, Averaged_output, color = \"black\", linewidth = 0.5)"
   ]
  },
  {
   "cell_type": "code",
   "execution_count": 4,
   "metadata": {},
   "outputs": [
    {
     "data": {
      "text/plain": [
       "PyObject Text(42.722222222222214, 0.5, '$J(Re)$')"
      ]
     },
     "execution_count": 4,
     "metadata": {},
     "output_type": "execute_result"
    }
   ],
   "source": [
    "xlabel(L\"Re\")\n",
    "ylabel(L\"J(Re)\")"
   ]
  },
  {
   "cell_type": "code",
   "execution_count": null,
   "metadata": {},
   "outputs": [],
   "source": []
  }
 ],
 "metadata": {
  "kernelspec": {
   "display_name": "Julia 1.2.0",
   "language": "julia",
   "name": "julia-1.2"
  },
  "language_info": {
   "file_extension": ".jl",
   "mimetype": "application/julia",
   "name": "julia",
   "version": "1.2.0"
  }
 },
 "nbformat": 4,
 "nbformat_minor": 4
}
