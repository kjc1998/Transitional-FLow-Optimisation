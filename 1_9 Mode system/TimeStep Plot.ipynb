{
 "cells": [
  {
   "cell_type": "code",
   "execution_count": 1,
   "metadata": {},
   "outputs": [],
   "source": [
    "using PyPlot; pygui(true)\n",
    "using PyCall"
   ]
  },
  {
   "cell_type": "code",
   "execution_count": 2,
   "metadata": {},
   "outputs": [
    {
     "data": {
      "text/plain": [
       "PyObject <module 'matplotlib.pyplot' from 'C:\\\\Users\\\\Kaijie\\\\.julia\\\\conda\\\\3\\\\lib\\\\site-packages\\\\matplotlib\\\\pyplot.py'>"
      ]
     },
     "execution_count": 2,
     "metadata": {},
     "output_type": "execute_result"
    }
   ],
   "source": [
    "np = pyimport(\"numpy\")\n",
    "sc = pyimport(\"scipy\")\n",
    "plt = pyimport(\"matplotlib.pyplot\")"
   ]
  },
  {
   "cell_type": "code",
   "execution_count": 3,
   "metadata": {},
   "outputs": [],
   "source": [
    "# x = np.arange(0, 5, 0.1);\n",
    "# y = np.sin(x)\n",
    "# plt.plot(x, y)\n",
    "\n",
    "x = np.arange(0.1, 4, 0.5)\n",
    "y = np.exp(-x)\n",
    "\n",
    "fig, ax = plt.subplots()\n",
    "ax.errorbar(x, y)\n",
    "plt.show()"
   ]
  },
  {
   "cell_type": "code",
   "execution_count": 4,
   "metadata": {},
   "outputs": [
    {
     "name": "stderr",
     "output_type": "stream",
     "text": [
      "┌ Info: Recompiling stale cache file C:\\Users\\Kaijie\\.julia\\compiled\\v1.2\\ToySystems\\chsON.ji for ToySystems [53c88820-6eff-5a8c-9a74-badd815e7be1]\n",
      "└ @ Base loading.jl:1240\n",
      "┌ Warning: Package ToySystems does not have Flows in its dependencies:\n",
      "│ - If you have ToySystems checked out for development and have\n",
      "│   added Flows as a dependency but haven't updated your primary\n",
      "│   environment's manifest file, try `Pkg.resolve()`.\n",
      "│ - Otherwise you may need to report an issue with ToySystems\n",
      "└ Loading Flows into ToySystems from project dependency, future warnings for ToySystems are suppressed.\n"
     ]
    },
    {
     "ename": "ErrorException",
     "evalue": "could not open file C:\\Users\\Kaijie\\9msctrl.jl",
     "output_type": "error",
     "traceback": [
      "could not open file C:\\Users\\Kaijie\\9msctrl.jl",
      "",
      "Stacktrace:",
      " [1] include at .\\boot.jl:328 [inlined]",
      " [2] include_relative(::Module, ::String) at .\\loading.jl:1094",
      " [3] include(::Module, ::String) at .\\Base.jl:31",
      " [4] include(::String) at .\\client.jl:431",
      " [5] top-level scope at In[4]:7"
     ]
    }
   ],
   "source": [
    "## time example\n",
    "using Flows\n",
    "using ToySystems\n",
    "using ToySystems.NineModeSystemEq\n",
    "using Optim\n",
    "using PyPlot; pygui(true)\n",
    "include(\"9msctrl.jl\")\n",
    "import LinearAlgebra: norm"
   ]
  },
  {
   "cell_type": "code",
   "execution_count": 5,
   "metadata": {},
   "outputs": [
    {
     "ename": "ErrorException",
     "evalue": "could not open file C:\\Users\\Kaijie\\Magnitude Rand.jl",
     "output_type": "error",
     "traceback": [
      "could not open file C:\\Users\\Kaijie\\Magnitude Rand.jl",
      "",
      "Stacktrace:",
      " [1] include at .\\boot.jl:328 [inlined]",
      " [2] include_relative(::Module, ::String) at .\\loading.jl:1094",
      " [3] include(::Module, ::String) at .\\Base.jl:31",
      " [4] include(::String) at .\\client.jl:431",
      " [5] top-level scope at In[5]:1"
     ]
    }
   ],
   "source": [
    "include(\"Magnitude Rand.jl\")\n",
    "\n",
    "Re_step = 10\n",
    "Re_max = 500\n",
    "T     = 10000\n",
    "timestepdifference = 0.01\n",
    "\n",
    "Re = 1:Re_step:Re_max\n",
    "dadt = zeros(9)\n",
    "q    = zeros(9)\n",
    "dqdt = zeros(9)\n",
    "ts = timestepdifference:timestepdifference:2\n",
    "store = RAMStorage(zeros(9))\n",
    "B = [0,0,0,0,1,0,0,0,0];"
   ]
  },
  {
   "cell_type": "code",
   "execution_count": 6,
   "metadata": {},
   "outputs": [
    {
     "data": {
      "text/plain": [
       "Objective_fun_CTRL (generic function with 1 method)"
      ]
     },
     "execution_count": 6,
     "metadata": {},
     "output_type": "execute_result"
    }
   ],
   "source": [
    "objfun(u::AbstractVector) = (u[1] - 1)^2 + sum(u[i]^2 for i = 2:9)\n",
    "function objfun(t, u, dudt, I, dIdt)\n",
    "    return dIdt[1] = (u[1] - 1)^2 + sum(u[i]^2 for i = 2:9)\n",
    "end\n",
    "function objfun(xq::Coupled)\n",
    "    return objfun(xq[1])\n",
    "end\n",
    "\n",
    "function Objective_fun_CTRL(Re::Real, ts::AbstractVector)\n",
    "    f = NineModeSystem(Re)\n",
    "    output = zeros(length(ts))\n",
    "    u0 = rand(9)\n",
    "    j = 1\n",
    "    for i in ts\n",
    "        if round(T/i)*i != T\n",
    "            ts = setdiff(ts, i)\n",
    "            output = deleteat!(output, length(output))\n",
    "#             println(output)\n",
    "        else\n",
    "            ti = 0:i:T\n",
    "            ϕ = flow(couple(f,objfun),RK4(couple(zeros(9),zeros(1))), TimeStepConstant(i))\n",
    "            I0 = Float64[0.0]\n",
    "            u0_local = copy(u0)\n",
    "            ϕ(couple(u0_local, I0), extrema(ti))\n",
    "            output[j] = I0[1]/T\n",
    "            j += 1\n",
    "        end\n",
    "    end\n",
    "#     z = zeros(length(ts))\n",
    "#     u0_local = copy(u0)\n",
    "#     value = norm(u0_local)\n",
    "#     z = fill!(z,value)\n",
    "    scatter(ts, output)\n",
    "    plt.plot(np.unique(ts), np.poly1d(np.polyfit(ts, output, 2))(np.unique(ts)))\n",
    "    xlabel(L\"Timestep\")\n",
    "    ylabel(L\"Objectivefunction\")\n",
    "    return output\n",
    "end"
   ]
  },
  {
   "cell_type": "code",
   "execution_count": 7,
   "metadata": {},
   "outputs": [
    {
     "ename": "UndefVarError",
     "evalue": "UndefVarError: ts not defined",
     "output_type": "error",
     "traceback": [
      "UndefVarError: ts not defined",
      "",
      "Stacktrace:",
      " [1] top-level scope at In[7]:1"
     ]
    }
   ],
   "source": [
    "z = Objective_fun_CTRL(500, ts)\n",
    "# for i in out\n",
    "#    scatter(i[0],i[1])\n",
    "#    xlabel('X')\n",
    "#    ylabel('Y')\n",
    "#    title(\"My Title\")\n",
    "# end\n",
    "# x = rand(9)\n",
    "# y = rand(9)\n",
    "# scatter(x,y)\n",
    "# plt.plot(np.unique(x), np.poly1d(np.polyfit(x, y, 4))(np.unique(x)))"
   ]
  },
  {
   "cell_type": "code",
   "execution_count": null,
   "metadata": {},
   "outputs": [],
   "source": []
  }
 ],
 "metadata": {
  "kernelspec": {
   "display_name": "Julia 1.2.0",
   "language": "julia",
   "name": "julia-1.2"
  },
  "language_info": {
   "file_extension": ".jl",
   "mimetype": "application/julia",
   "name": "julia",
   "version": "1.2.0"
  }
 },
 "nbformat": 4,
 "nbformat_minor": 4
}
